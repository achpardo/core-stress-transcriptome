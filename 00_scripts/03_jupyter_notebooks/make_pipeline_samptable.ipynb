{
 "cells": [
  {
   "cell_type": "markdown",
   "id": "4400b4f5",
   "metadata": {},
   "source": [
    "Purpose: To make sample tables to input to Jeremy's RNA-seq processing pipeline (https://github.com/pardojer23/RNAseqV2) for the core stress transcriptomic response project.<br>\n",
    "Author: Anna Pardo<br>\n",
    "Date initiated: March 24, 2023"
   ]
  },
  {
   "cell_type": "code",
   "execution_count": 1,
   "id": "fc40583c",
   "metadata": {},
   "outputs": [],
   "source": [
    "# import modules\n",
    "import pandas as pd\n",
    "import numpy as np"
   ]
  },
  {
   "cell_type": "code",
   "execution_count": 2,
   "id": "24997b96",
   "metadata": {},
   "outputs": [
    {
     "data": {
      "text/html": [
       "<div>\n",
       "<style scoped>\n",
       "    .dataframe tbody tr th:only-of-type {\n",
       "        vertical-align: middle;\n",
       "    }\n",
       "\n",
       "    .dataframe tbody tr th {\n",
       "        vertical-align: top;\n",
       "    }\n",
       "\n",
       "    .dataframe thead th {\n",
       "        text-align: right;\n",
       "    }\n",
       "</style>\n",
       "<table border=\"1\" class=\"dataframe\">\n",
       "  <thead>\n",
       "    <tr style=\"text-align: right;\">\n",
       "      <th></th>\n",
       "      <th>SRA_number</th>\n",
       "    </tr>\n",
       "  </thead>\n",
       "  <tbody>\n",
       "    <tr>\n",
       "      <th>0</th>\n",
       "      <td>SRR2106180</td>\n",
       "    </tr>\n",
       "    <tr>\n",
       "      <th>1</th>\n",
       "      <td>SRR2106182</td>\n",
       "    </tr>\n",
       "    <tr>\n",
       "      <th>2</th>\n",
       "      <td>SRR2106184</td>\n",
       "    </tr>\n",
       "    <tr>\n",
       "      <th>3</th>\n",
       "      <td>SRR2106186</td>\n",
       "    </tr>\n",
       "    <tr>\n",
       "      <th>4</th>\n",
       "      <td>SRR2106196</td>\n",
       "    </tr>\n",
       "  </tbody>\n",
       "</table>\n",
       "</div>"
      ],
      "text/plain": [
       "   SRA_number\n",
       "0  SRR2106180\n",
       "1  SRR2106182\n",
       "2  SRR2106184\n",
       "3  SRR2106186\n",
       "4  SRR2106196"
      ]
     },
     "execution_count": 2,
     "metadata": {},
     "output_type": "execute_result"
    }
   ],
   "source": [
    "# key considerations: the pipeline can only handle batches of 50-100 samples at a time, and all reads must be in the same directory.\n",
    "## I have 126 samples to start and will run them in 2 batches of 63 samples each.\n",
    "\n",
    "# load sample names\n",
    "srr = pd.read_csv(\"heat_salt_B73.txt\",sep=\"\\t\",header=None)\n",
    "srr.rename(columns={0:\"SRA_number\"},inplace=True)\n",
    "srr.head()"
   ]
  },
  {
   "cell_type": "code",
   "execution_count": 3,
   "id": "8cde424b",
   "metadata": {},
   "outputs": [],
   "source": [
    "# on Bob's suggestion I am going to leave the SRR number as the sample name and go back into the metadata later (this is how \n",
    "## he's been doing things lately)\n",
    "\n",
    "path_to_dir = \"/mnt/scratch/haberan2/Core_Stress_Response/00_data/00_B73_Heat_Salt/\""
   ]
  },
  {
   "cell_type": "code",
   "execution_count": 4,
   "id": "f6fc8bcd",
   "metadata": {},
   "outputs": [
    {
     "data": {
      "text/html": [
       "<div>\n",
       "<style scoped>\n",
       "    .dataframe tbody tr th:only-of-type {\n",
       "        vertical-align: middle;\n",
       "    }\n",
       "\n",
       "    .dataframe tbody tr th {\n",
       "        vertical-align: top;\n",
       "    }\n",
       "\n",
       "    .dataframe thead th {\n",
       "        text-align: right;\n",
       "    }\n",
       "</style>\n",
       "<table border=\"1\" class=\"dataframe\">\n",
       "  <thead>\n",
       "    <tr style=\"text-align: right;\">\n",
       "      <th></th>\n",
       "      <th>SRA_number</th>\n",
       "      <th>Library_layout</th>\n",
       "    </tr>\n",
       "  </thead>\n",
       "  <tbody>\n",
       "    <tr>\n",
       "      <th>0</th>\n",
       "      <td>SRR5344453</td>\n",
       "      <td>PAIRED</td>\n",
       "    </tr>\n",
       "    <tr>\n",
       "      <th>1</th>\n",
       "      <td>SRR5344560</td>\n",
       "      <td>PAIRED</td>\n",
       "    </tr>\n",
       "    <tr>\n",
       "      <th>2</th>\n",
       "      <td>SRR5344568</td>\n",
       "      <td>PAIRED</td>\n",
       "    </tr>\n",
       "    <tr>\n",
       "      <th>3</th>\n",
       "      <td>SRR5344570</td>\n",
       "      <td>PAIRED</td>\n",
       "    </tr>\n",
       "    <tr>\n",
       "      <th>4</th>\n",
       "      <td>SRR5344571</td>\n",
       "      <td>PAIRED</td>\n",
       "    </tr>\n",
       "  </tbody>\n",
       "</table>\n",
       "</div>"
      ],
      "text/plain": [
       "   SRA_number Library_layout\n",
       "0  SRR5344453         PAIRED\n",
       "1  SRR5344560         PAIRED\n",
       "2  SRR5344568         PAIRED\n",
       "3  SRR5344570         PAIRED\n",
       "4  SRR5344571         PAIRED"
      ]
     },
     "execution_count": 4,
     "metadata": {},
     "output_type": "execute_result"
    }
   ],
   "source": [
    "# load metadata\n",
    "md = pd.read_csv(\"srr_numbers_with_metadata_27-Mar-2023.tsv\",sep=\"\\t\",header=\"infer\",usecols=[\"SRA_number\",\"Library_layout\"])\n",
    "md.head()"
   ]
  },
  {
   "cell_type": "code",
   "execution_count": 5,
   "id": "6e5de2db",
   "metadata": {},
   "outputs": [
    {
     "data": {
      "text/html": [
       "<div>\n",
       "<style scoped>\n",
       "    .dataframe tbody tr th:only-of-type {\n",
       "        vertical-align: middle;\n",
       "    }\n",
       "\n",
       "    .dataframe tbody tr th {\n",
       "        vertical-align: top;\n",
       "    }\n",
       "\n",
       "    .dataframe thead th {\n",
       "        text-align: right;\n",
       "    }\n",
       "</style>\n",
       "<table border=\"1\" class=\"dataframe\">\n",
       "  <thead>\n",
       "    <tr style=\"text-align: right;\">\n",
       "      <th></th>\n",
       "      <th>SRA_number</th>\n",
       "      <th>Library_layout</th>\n",
       "    </tr>\n",
       "  </thead>\n",
       "  <tbody>\n",
       "    <tr>\n",
       "      <th>0</th>\n",
       "      <td>SRR15241117</td>\n",
       "      <td>PAIRED</td>\n",
       "    </tr>\n",
       "    <tr>\n",
       "      <th>1</th>\n",
       "      <td>SRR15241201</td>\n",
       "      <td>PAIRED</td>\n",
       "    </tr>\n",
       "    <tr>\n",
       "      <th>2</th>\n",
       "      <td>SRR15241212</td>\n",
       "      <td>PAIRED</td>\n",
       "    </tr>\n",
       "    <tr>\n",
       "      <th>3</th>\n",
       "      <td>SRR15241285</td>\n",
       "      <td>PAIRED</td>\n",
       "    </tr>\n",
       "    <tr>\n",
       "      <th>4</th>\n",
       "      <td>SRR15241116</td>\n",
       "      <td>PAIRED</td>\n",
       "    </tr>\n",
       "  </tbody>\n",
       "</table>\n",
       "</div>"
      ],
      "text/plain": [
       "    SRA_number Library_layout\n",
       "0  SRR15241117         PAIRED\n",
       "1  SRR15241201         PAIRED\n",
       "2  SRR15241212         PAIRED\n",
       "3  SRR15241285         PAIRED\n",
       "4  SRR15241116         PAIRED"
      ]
     },
     "execution_count": 5,
     "metadata": {},
     "output_type": "execute_result"
    }
   ],
   "source": [
    "# subset the metadata\n",
    "mdsub = md.merge(srr,how=\"inner\")\n",
    "mdsub.head()"
   ]
  },
  {
   "cell_type": "code",
   "execution_count": 6,
   "id": "fbe06101",
   "metadata": {},
   "outputs": [],
   "source": [
    "# generate the read1 and read2 list\n",
    "r1 = []\n",
    "r2 = []\n",
    "for i in range(len(mdsub.index)):\n",
    "    if mdsub.iloc[i,1]==\"SINGLE\":\n",
    "        r2.append(np.nan)\n",
    "        r1.append(path_to_dir+mdsub.iloc[i,0]+\".fastq\")\n",
    "    else:\n",
    "        r1.append(path_to_dir+mdsub.iloc[i,0]+\"_1.fastq\")\n",
    "        r2.append(path_to_dir+mdsub.iloc[i,0]+\"_2.fastq\")"
   ]
  },
  {
   "cell_type": "code",
   "execution_count": 7,
   "id": "283ce984",
   "metadata": {},
   "outputs": [],
   "source": [
    "# generate lists of NAs for the rest of the columns\n",
    "r = [np.nan]*126\n",
    "tis = [np.nan]*126\n",
    "tim = [np.nan]*126\n",
    "d = [np.nan]*126\n",
    "con =[np.nan]*126\n",
    "col =[np.nan]*126\n",
    "l = [np.nan]*126\n",
    "p = [np.nan]*126\n",
    "gt = [np.nan]*126"
   ]
  },
  {
   "cell_type": "code",
   "execution_count": 8,
   "id": "4865f501",
   "metadata": {},
   "outputs": [],
   "source": [
    "# bind into a df\n",
    "samptable = pd.DataFrame(data={\"Read1\":r1,\"Read2\":r2,\"Replicate\":r,\"Tissue\":tis,\n",
    "                              \"Time\":tim,\"Date\":d,\"Genotype\":gt,\"Condition\":list(mdsub[\"SRA_number\"]),\"Collector\":col,\n",
    "                              \"Location\":l,\"Platform\":p})"
   ]
  },
  {
   "cell_type": "code",
   "execution_count": 9,
   "id": "9cbd12cd",
   "metadata": {},
   "outputs": [
    {
     "data": {
      "text/html": [
       "<div>\n",
       "<style scoped>\n",
       "    .dataframe tbody tr th:only-of-type {\n",
       "        vertical-align: middle;\n",
       "    }\n",
       "\n",
       "    .dataframe tbody tr th {\n",
       "        vertical-align: top;\n",
       "    }\n",
       "\n",
       "    .dataframe thead th {\n",
       "        text-align: right;\n",
       "    }\n",
       "</style>\n",
       "<table border=\"1\" class=\"dataframe\">\n",
       "  <thead>\n",
       "    <tr style=\"text-align: right;\">\n",
       "      <th></th>\n",
       "      <th>Read1</th>\n",
       "      <th>Read2</th>\n",
       "      <th>Replicate</th>\n",
       "      <th>Tissue</th>\n",
       "      <th>Time</th>\n",
       "      <th>Date</th>\n",
       "      <th>Genotype</th>\n",
       "      <th>Condition</th>\n",
       "      <th>Collector</th>\n",
       "      <th>Location</th>\n",
       "      <th>Platform</th>\n",
       "    </tr>\n",
       "  </thead>\n",
       "  <tbody>\n",
       "    <tr>\n",
       "      <th>121</th>\n",
       "      <td>/mnt/scratch/haberan2/Core_Stress_Response/00_...</td>\n",
       "      <td>NaN</td>\n",
       "      <td>NaN</td>\n",
       "      <td>NaN</td>\n",
       "      <td>NaN</td>\n",
       "      <td>NaN</td>\n",
       "      <td>NaN</td>\n",
       "      <td>SRR2106186</td>\n",
       "      <td>NaN</td>\n",
       "      <td>NaN</td>\n",
       "      <td>NaN</td>\n",
       "    </tr>\n",
       "    <tr>\n",
       "      <th>122</th>\n",
       "      <td>/mnt/scratch/haberan2/Core_Stress_Response/00_...</td>\n",
       "      <td>NaN</td>\n",
       "      <td>NaN</td>\n",
       "      <td>NaN</td>\n",
       "      <td>NaN</td>\n",
       "      <td>NaN</td>\n",
       "      <td>NaN</td>\n",
       "      <td>SRR2106196</td>\n",
       "      <td>NaN</td>\n",
       "      <td>NaN</td>\n",
       "      <td>NaN</td>\n",
       "    </tr>\n",
       "    <tr>\n",
       "      <th>123</th>\n",
       "      <td>/mnt/scratch/haberan2/Core_Stress_Response/00_...</td>\n",
       "      <td>NaN</td>\n",
       "      <td>NaN</td>\n",
       "      <td>NaN</td>\n",
       "      <td>NaN</td>\n",
       "      <td>NaN</td>\n",
       "      <td>NaN</td>\n",
       "      <td>SRR2106198</td>\n",
       "      <td>NaN</td>\n",
       "      <td>NaN</td>\n",
       "      <td>NaN</td>\n",
       "    </tr>\n",
       "    <tr>\n",
       "      <th>124</th>\n",
       "      <td>/mnt/scratch/haberan2/Core_Stress_Response/00_...</td>\n",
       "      <td>NaN</td>\n",
       "      <td>NaN</td>\n",
       "      <td>NaN</td>\n",
       "      <td>NaN</td>\n",
       "      <td>NaN</td>\n",
       "      <td>NaN</td>\n",
       "      <td>SRR2106200</td>\n",
       "      <td>NaN</td>\n",
       "      <td>NaN</td>\n",
       "      <td>NaN</td>\n",
       "    </tr>\n",
       "    <tr>\n",
       "      <th>125</th>\n",
       "      <td>/mnt/scratch/haberan2/Core_Stress_Response/00_...</td>\n",
       "      <td>NaN</td>\n",
       "      <td>NaN</td>\n",
       "      <td>NaN</td>\n",
       "      <td>NaN</td>\n",
       "      <td>NaN</td>\n",
       "      <td>NaN</td>\n",
       "      <td>SRR2106202</td>\n",
       "      <td>NaN</td>\n",
       "      <td>NaN</td>\n",
       "      <td>NaN</td>\n",
       "    </tr>\n",
       "  </tbody>\n",
       "</table>\n",
       "</div>"
      ],
      "text/plain": [
       "                                                 Read1 Read2  Replicate  \\\n",
       "121  /mnt/scratch/haberan2/Core_Stress_Response/00_...   NaN        NaN   \n",
       "122  /mnt/scratch/haberan2/Core_Stress_Response/00_...   NaN        NaN   \n",
       "123  /mnt/scratch/haberan2/Core_Stress_Response/00_...   NaN        NaN   \n",
       "124  /mnt/scratch/haberan2/Core_Stress_Response/00_...   NaN        NaN   \n",
       "125  /mnt/scratch/haberan2/Core_Stress_Response/00_...   NaN        NaN   \n",
       "\n",
       "     Tissue  Time  Date  Genotype   Condition  Collector  Location  Platform  \n",
       "121     NaN   NaN   NaN       NaN  SRR2106186        NaN       NaN       NaN  \n",
       "122     NaN   NaN   NaN       NaN  SRR2106196        NaN       NaN       NaN  \n",
       "123     NaN   NaN   NaN       NaN  SRR2106198        NaN       NaN       NaN  \n",
       "124     NaN   NaN   NaN       NaN  SRR2106200        NaN       NaN       NaN  \n",
       "125     NaN   NaN   NaN       NaN  SRR2106202        NaN       NaN       NaN  "
      ]
     },
     "execution_count": 9,
     "metadata": {},
     "output_type": "execute_result"
    }
   ],
   "source": [
    "samptable.tail()"
   ]
  },
  {
   "cell_type": "code",
   "execution_count": 10,
   "id": "c11a65fa",
   "metadata": {},
   "outputs": [],
   "source": [
    "# save the table\n",
    "samptable.to_csv(\"B73HS_SampTable_27-Mar-2023.csv\",sep=\",\",header=True,index=False)"
   ]
  },
  {
   "cell_type": "markdown",
   "id": "c014a639",
   "metadata": {},
   "source": [
    "Work on March 28th: I forgot to split the table into two so the pipeline would actually work...split into two tables of 63 samples each."
   ]
  },
  {
   "cell_type": "code",
   "execution_count": 11,
   "id": "2639824e",
   "metadata": {},
   "outputs": [],
   "source": [
    "st1 = samptable.iloc[:63]\n",
    "st2 = samptable.iloc[63:]"
   ]
  },
  {
   "cell_type": "code",
   "execution_count": 12,
   "id": "4a7bb4c8",
   "metadata": {},
   "outputs": [],
   "source": [
    "# save the 2 tables\n",
    "st1.to_csv(\"B73HS_SampTable1_28-Mar-2023.csv\",sep=\",\",header=True,index=False)\n",
    "st2.to_csv(\"B73HS_SampTable2_28-Mar-2023.csv\",sep=\",\",header=True,index=False)"
   ]
  },
  {
   "cell_type": "code",
   "execution_count": 13,
   "id": "7040bb06",
   "metadata": {},
   "outputs": [],
   "source": [
    "# make 3 tables of 50ish samples each\n",
    "t1 = samptable.iloc[:50]\n",
    "t2 = samptable.iloc[50:100]\n",
    "t3 = samptable.iloc[100:]"
   ]
  },
  {
   "cell_type": "code",
   "execution_count": 14,
   "id": "de3ac387",
   "metadata": {},
   "outputs": [],
   "source": [
    "t1.to_csv(\"B73HS_SampTable1_28-Mar-2023.csv\",sep=\",\",header=True,index=False)\n",
    "t2.to_csv(\"B73HS_SampTable2_28-Mar-2023.csv\",sep=\",\",header=True,index=False)\n",
    "t3.to_csv(\"B73HS_SampTable3_28-Mar-2023.csv\",sep=\",\",header=True,index=False)"
   ]
  },
  {
   "cell_type": "code",
   "execution_count": 15,
   "id": "664dca88",
   "metadata": {},
   "outputs": [],
   "source": [
    "# split t1 and t2 into batches of 25\n",
    "t1a = samptable.iloc[:25]\n",
    "t1b = samptable.iloc[25:50]\n",
    "t2a = samptable.iloc[50:75]\n",
    "t2b = samptable.iloc[75:100]"
   ]
  },
  {
   "cell_type": "code",
   "execution_count": 16,
   "id": "d062c650",
   "metadata": {},
   "outputs": [],
   "source": [
    "t1a.to_csv(\"B73HS_SampTable1A_28-Mar-2023.csv\",sep=\",\",header=True,index=False)\n",
    "t1b.to_csv(\"B73HS_SampTable1B_28-Mar-2023.csv\",sep=\",\",header=True,index=False)"
   ]
  },
  {
   "cell_type": "code",
   "execution_count": 17,
   "id": "ac02af50",
   "metadata": {},
   "outputs": [],
   "source": [
    "t2a.to_csv(\"B73HS_SampTable2A_28-Mar-2023.csv\",sep=\",\",header=True,index=False)\n",
    "t2b.to_csv(\"B73HS_SampTable2B_28-Mar-2023.csv\",sep=\",\",header=True,index=False)"
   ]
  }
 ],
 "metadata": {
  "kernelspec": {
   "display_name": "Python 3 (ipykernel)",
   "language": "python",
   "name": "python3"
  },
  "language_info": {
   "codemirror_mode": {
    "name": "ipython",
    "version": 3
   },
   "file_extension": ".py",
   "mimetype": "text/x-python",
   "name": "python",
   "nbconvert_exporter": "python",
   "pygments_lexer": "ipython3",
   "version": "3.8.10"
  }
 },
 "nbformat": 4,
 "nbformat_minor": 5
}
