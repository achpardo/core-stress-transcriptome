{
 "cells": [
  {
   "cell_type": "markdown",
   "id": "14942f08",
   "metadata": {},
   "source": [
    "Purpose: I ran the RNAseq pipeline (Jeremy's) and at least one sample has a mapping rate in the 50% range. I want to find out exactly which samples are low mapping here.<br>\n",
    "Author: Anna Pardo<br>\n",
    "Date initiated: March 29, 2023"
   ]
  },
  {
   "cell_type": "code",
   "execution_count": 1,
   "id": "526179f1",
   "metadata": {},
   "outputs": [],
   "source": [
    "# import modules\n",
    "import pandas as pd"
   ]
  },
  {
   "cell_type": "code",
   "execution_count": 2,
   "id": "d74684fe",
   "metadata": {},
   "outputs": [
    {
     "data": {
      "text/html": [
       "<div>\n",
       "<style scoped>\n",
       "    .dataframe tbody tr th:only-of-type {\n",
       "        vertical-align: middle;\n",
       "    }\n",
       "\n",
       "    .dataframe tbody tr th {\n",
       "        vertical-align: top;\n",
       "    }\n",
       "\n",
       "    .dataframe thead th {\n",
       "        text-align: right;\n",
       "    }\n",
       "</style>\n",
       "<table border=\"1\" class=\"dataframe\">\n",
       "  <thead>\n",
       "    <tr style=\"text-align: right;\">\n",
       "      <th></th>\n",
       "      <th>File</th>\n",
       "      <th>Sample</th>\n",
       "      <th>Percent_Mapped</th>\n",
       "    </tr>\n",
       "  </thead>\n",
       "  <tbody>\n",
       "    <tr>\n",
       "      <th>0</th>\n",
       "      <td>/mnt/scratch/haberan2/Core_Stress_Response/01_...</td>\n",
       "      <td>SRR8857768</td>\n",
       "      <td>85.072476</td>\n",
       "    </tr>\n",
       "    <tr>\n",
       "      <th>1</th>\n",
       "      <td>/mnt/scratch/haberan2/Core_Stress_Response/01_...</td>\n",
       "      <td>SRR15241296</td>\n",
       "      <td>91.151922</td>\n",
       "    </tr>\n",
       "    <tr>\n",
       "      <th>2</th>\n",
       "      <td>/mnt/scratch/haberan2/Core_Stress_Response/01_...</td>\n",
       "      <td>SRR8857796</td>\n",
       "      <td>87.484671</td>\n",
       "    </tr>\n",
       "    <tr>\n",
       "      <th>3</th>\n",
       "      <td>/mnt/scratch/haberan2/Core_Stress_Response/01_...</td>\n",
       "      <td>SRR8857829</td>\n",
       "      <td>85.557031</td>\n",
       "    </tr>\n",
       "    <tr>\n",
       "      <th>4</th>\n",
       "      <td>/mnt/scratch/haberan2/Core_Stress_Response/01_...</td>\n",
       "      <td>SRR15241111</td>\n",
       "      <td>87.258095</td>\n",
       "    </tr>\n",
       "  </tbody>\n",
       "</table>\n",
       "</div>"
      ],
      "text/plain": [
       "                                                File       Sample  \\\n",
       "0  /mnt/scratch/haberan2/Core_Stress_Response/01_...   SRR8857768   \n",
       "1  /mnt/scratch/haberan2/Core_Stress_Response/01_...  SRR15241296   \n",
       "2  /mnt/scratch/haberan2/Core_Stress_Response/01_...   SRR8857796   \n",
       "3  /mnt/scratch/haberan2/Core_Stress_Response/01_...   SRR8857829   \n",
       "4  /mnt/scratch/haberan2/Core_Stress_Response/01_...  SRR15241111   \n",
       "\n",
       "   Percent_Mapped  \n",
       "0       85.072476  \n",
       "1       91.151922  \n",
       "2       87.484671  \n",
       "3       85.557031  \n",
       "4       87.258095  "
      ]
     },
     "execution_count": 2,
     "metadata": {},
     "output_type": "execute_result"
    }
   ],
   "source": [
    "# load mapping rate data\n",
    "mr = pd.read_csv(\"B73HS_salmonmap.csv\",sep=\",\",header=\"infer\")\n",
    "mr.head()"
   ]
  },
  {
   "cell_type": "code",
   "execution_count": 5,
   "id": "c5b3b04d",
   "metadata": {},
   "outputs": [
    {
     "data": {
      "text/html": [
       "<div>\n",
       "<style scoped>\n",
       "    .dataframe tbody tr th:only-of-type {\n",
       "        vertical-align: middle;\n",
       "    }\n",
       "\n",
       "    .dataframe tbody tr th {\n",
       "        vertical-align: top;\n",
       "    }\n",
       "\n",
       "    .dataframe thead th {\n",
       "        text-align: right;\n",
       "    }\n",
       "</style>\n",
       "<table border=\"1\" class=\"dataframe\">\n",
       "  <thead>\n",
       "    <tr style=\"text-align: right;\">\n",
       "      <th></th>\n",
       "      <th>BioProject</th>\n",
       "      <th>SRA_number</th>\n",
       "      <th>Replicate_num</th>\n",
       "      <th>Genotype</th>\n",
       "      <th>Treatment</th>\n",
       "      <th>Time_after_treatment</th>\n",
       "      <th>Concentration</th>\n",
       "      <th>Developmental Stage</th>\n",
       "      <th>Tissue</th>\n",
       "    </tr>\n",
       "  </thead>\n",
       "  <tbody>\n",
       "    <tr>\n",
       "      <th>0</th>\n",
       "      <td>PRJNA378714</td>\n",
       "      <td>SRR5344453</td>\n",
       "      <td>1.0</td>\n",
       "      <td>B73</td>\n",
       "      <td>Control</td>\n",
       "      <td>3 days</td>\n",
       "      <td>NaN</td>\n",
       "      <td>V3</td>\n",
       "      <td>Shoot</td>\n",
       "    </tr>\n",
       "    <tr>\n",
       "      <th>1</th>\n",
       "      <td>PRJNA378714</td>\n",
       "      <td>SRR5344560</td>\n",
       "      <td>2.0</td>\n",
       "      <td>B73</td>\n",
       "      <td>Control</td>\n",
       "      <td>3 days</td>\n",
       "      <td>NaN</td>\n",
       "      <td>V3</td>\n",
       "      <td>Shoot</td>\n",
       "    </tr>\n",
       "    <tr>\n",
       "      <th>2</th>\n",
       "      <td>PRJNA378714</td>\n",
       "      <td>SRR5344568</td>\n",
       "      <td>3.0</td>\n",
       "      <td>B73</td>\n",
       "      <td>Control</td>\n",
       "      <td>3 days</td>\n",
       "      <td>NaN</td>\n",
       "      <td>V3</td>\n",
       "      <td>Shoot</td>\n",
       "    </tr>\n",
       "    <tr>\n",
       "      <th>3</th>\n",
       "      <td>PRJNA378714</td>\n",
       "      <td>SRR5344570</td>\n",
       "      <td>1.0</td>\n",
       "      <td>B73</td>\n",
       "      <td>Drought</td>\n",
       "      <td>3 days</td>\n",
       "      <td>NaN</td>\n",
       "      <td>V3</td>\n",
       "      <td>Shoot</td>\n",
       "    </tr>\n",
       "    <tr>\n",
       "      <th>4</th>\n",
       "      <td>PRJNA378714</td>\n",
       "      <td>SRR5344571</td>\n",
       "      <td>3.0</td>\n",
       "      <td>B73</td>\n",
       "      <td>Drought</td>\n",
       "      <td>3 days</td>\n",
       "      <td>NaN</td>\n",
       "      <td>V3</td>\n",
       "      <td>Shoot</td>\n",
       "    </tr>\n",
       "  </tbody>\n",
       "</table>\n",
       "</div>"
      ],
      "text/plain": [
       "    BioProject  SRA_number  Replicate_num Genotype Treatment  \\\n",
       "0  PRJNA378714  SRR5344453            1.0      B73   Control   \n",
       "1  PRJNA378714  SRR5344560            2.0      B73   Control   \n",
       "2  PRJNA378714  SRR5344568            3.0      B73   Control   \n",
       "3  PRJNA378714  SRR5344570            1.0      B73   Drought   \n",
       "4  PRJNA378714  SRR5344571            3.0      B73   Drought   \n",
       "\n",
       "  Time_after_treatment Concentration Developmental Stage Tissue  \n",
       "0               3 days           NaN                  V3  Shoot  \n",
       "1               3 days           NaN                  V3  Shoot  \n",
       "2               3 days           NaN                  V3  Shoot  \n",
       "3               3 days           NaN                  V3  Shoot  \n",
       "4               3 days           NaN                  V3  Shoot  "
      ]
     },
     "execution_count": 5,
     "metadata": {},
     "output_type": "execute_result"
    }
   ],
   "source": [
    "# load SRR metadata\n",
    "md = pd.read_csv(\"srr_numbers_with_metadata_27-Mar-2023.tsv\",sep=\"\\t\",header=\"infer\",usecols=[\"BioProject\",\"SRA_number\",\n",
    "                                                                                             \"Replicate_num\",\"Genotype\",\n",
    "                                                                                             \"Treatment\",\"Time_after_treatment\",\n",
    "                                                                                             \"Concentration\",\"Developmental Stage\",\n",
    "                                                                                             \"Tissue\"])\n",
    "md.head()"
   ]
  },
  {
   "cell_type": "code",
   "execution_count": 6,
   "id": "6461d945",
   "metadata": {},
   "outputs": [
    {
     "data": {
      "text/html": [
       "<div>\n",
       "<style scoped>\n",
       "    .dataframe tbody tr th:only-of-type {\n",
       "        vertical-align: middle;\n",
       "    }\n",
       "\n",
       "    .dataframe tbody tr th {\n",
       "        vertical-align: top;\n",
       "    }\n",
       "\n",
       "    .dataframe thead th {\n",
       "        text-align: right;\n",
       "    }\n",
       "</style>\n",
       "<table border=\"1\" class=\"dataframe\">\n",
       "  <thead>\n",
       "    <tr style=\"text-align: right;\">\n",
       "      <th></th>\n",
       "      <th>BioProject</th>\n",
       "      <th>Sample</th>\n",
       "      <th>Replicate_num</th>\n",
       "      <th>Genotype</th>\n",
       "      <th>Treatment</th>\n",
       "      <th>Time_after_treatment</th>\n",
       "      <th>Concentration</th>\n",
       "      <th>Developmental Stage</th>\n",
       "      <th>Tissue</th>\n",
       "    </tr>\n",
       "  </thead>\n",
       "  <tbody>\n",
       "    <tr>\n",
       "      <th>0</th>\n",
       "      <td>PRJNA378714</td>\n",
       "      <td>SRR5344453</td>\n",
       "      <td>1.0</td>\n",
       "      <td>B73</td>\n",
       "      <td>Control</td>\n",
       "      <td>3 days</td>\n",
       "      <td>NaN</td>\n",
       "      <td>V3</td>\n",
       "      <td>Shoot</td>\n",
       "    </tr>\n",
       "    <tr>\n",
       "      <th>1</th>\n",
       "      <td>PRJNA378714</td>\n",
       "      <td>SRR5344560</td>\n",
       "      <td>2.0</td>\n",
       "      <td>B73</td>\n",
       "      <td>Control</td>\n",
       "      <td>3 days</td>\n",
       "      <td>NaN</td>\n",
       "      <td>V3</td>\n",
       "      <td>Shoot</td>\n",
       "    </tr>\n",
       "    <tr>\n",
       "      <th>2</th>\n",
       "      <td>PRJNA378714</td>\n",
       "      <td>SRR5344568</td>\n",
       "      <td>3.0</td>\n",
       "      <td>B73</td>\n",
       "      <td>Control</td>\n",
       "      <td>3 days</td>\n",
       "      <td>NaN</td>\n",
       "      <td>V3</td>\n",
       "      <td>Shoot</td>\n",
       "    </tr>\n",
       "    <tr>\n",
       "      <th>3</th>\n",
       "      <td>PRJNA378714</td>\n",
       "      <td>SRR5344570</td>\n",
       "      <td>1.0</td>\n",
       "      <td>B73</td>\n",
       "      <td>Drought</td>\n",
       "      <td>3 days</td>\n",
       "      <td>NaN</td>\n",
       "      <td>V3</td>\n",
       "      <td>Shoot</td>\n",
       "    </tr>\n",
       "    <tr>\n",
       "      <th>4</th>\n",
       "      <td>PRJNA378714</td>\n",
       "      <td>SRR5344571</td>\n",
       "      <td>3.0</td>\n",
       "      <td>B73</td>\n",
       "      <td>Drought</td>\n",
       "      <td>3 days</td>\n",
       "      <td>NaN</td>\n",
       "      <td>V3</td>\n",
       "      <td>Shoot</td>\n",
       "    </tr>\n",
       "  </tbody>\n",
       "</table>\n",
       "</div>"
      ],
      "text/plain": [
       "    BioProject      Sample  Replicate_num Genotype Treatment  \\\n",
       "0  PRJNA378714  SRR5344453            1.0      B73   Control   \n",
       "1  PRJNA378714  SRR5344560            2.0      B73   Control   \n",
       "2  PRJNA378714  SRR5344568            3.0      B73   Control   \n",
       "3  PRJNA378714  SRR5344570            1.0      B73   Drought   \n",
       "4  PRJNA378714  SRR5344571            3.0      B73   Drought   \n",
       "\n",
       "  Time_after_treatment Concentration Developmental Stage Tissue  \n",
       "0               3 days           NaN                  V3  Shoot  \n",
       "1               3 days           NaN                  V3  Shoot  \n",
       "2               3 days           NaN                  V3  Shoot  \n",
       "3               3 days           NaN                  V3  Shoot  \n",
       "4               3 days           NaN                  V3  Shoot  "
      ]
     },
     "execution_count": 6,
     "metadata": {},
     "output_type": "execute_result"
    }
   ],
   "source": [
    "md.rename(columns={\"SRA_number\":\"Sample\"},inplace=True)\n",
    "md.head()"
   ]
  },
  {
   "cell_type": "code",
   "execution_count": 7,
   "id": "5520d7c6",
   "metadata": {},
   "outputs": [
    {
     "data": {
      "text/html": [
       "<div>\n",
       "<style scoped>\n",
       "    .dataframe tbody tr th:only-of-type {\n",
       "        vertical-align: middle;\n",
       "    }\n",
       "\n",
       "    .dataframe tbody tr th {\n",
       "        vertical-align: top;\n",
       "    }\n",
       "\n",
       "    .dataframe thead th {\n",
       "        text-align: right;\n",
       "    }\n",
       "</style>\n",
       "<table border=\"1\" class=\"dataframe\">\n",
       "  <thead>\n",
       "    <tr style=\"text-align: right;\">\n",
       "      <th></th>\n",
       "      <th>File</th>\n",
       "      <th>Sample</th>\n",
       "      <th>Percent_Mapped</th>\n",
       "      <th>BioProject</th>\n",
       "      <th>Replicate_num</th>\n",
       "      <th>Genotype</th>\n",
       "      <th>Treatment</th>\n",
       "      <th>Time_after_treatment</th>\n",
       "      <th>Concentration</th>\n",
       "      <th>Developmental Stage</th>\n",
       "      <th>Tissue</th>\n",
       "    </tr>\n",
       "  </thead>\n",
       "  <tbody>\n",
       "    <tr>\n",
       "      <th>0</th>\n",
       "      <td>/mnt/scratch/haberan2/Core_Stress_Response/01_...</td>\n",
       "      <td>SRR8857768</td>\n",
       "      <td>85.072476</td>\n",
       "      <td>PRJNA520822</td>\n",
       "      <td>3.0</td>\n",
       "      <td>B73</td>\n",
       "      <td>Heat</td>\n",
       "      <td>2 hours</td>\n",
       "      <td>NaN</td>\n",
       "      <td>V3</td>\n",
       "      <td>Leaf</td>\n",
       "    </tr>\n",
       "    <tr>\n",
       "      <th>1</th>\n",
       "      <td>/mnt/scratch/haberan2/Core_Stress_Response/01_...</td>\n",
       "      <td>SRR15241296</td>\n",
       "      <td>91.151922</td>\n",
       "      <td>PRJNA747925</td>\n",
       "      <td>5.0</td>\n",
       "      <td>B73</td>\n",
       "      <td>Control</td>\n",
       "      <td>1 hour</td>\n",
       "      <td>NaN</td>\n",
       "      <td>V2/V3</td>\n",
       "      <td>Leaf</td>\n",
       "    </tr>\n",
       "    <tr>\n",
       "      <th>2</th>\n",
       "      <td>/mnt/scratch/haberan2/Core_Stress_Response/01_...</td>\n",
       "      <td>SRR8857796</td>\n",
       "      <td>87.484671</td>\n",
       "      <td>PRJNA520822</td>\n",
       "      <td>3.0</td>\n",
       "      <td>B73</td>\n",
       "      <td>Control</td>\n",
       "      <td>0 hour</td>\n",
       "      <td>NaN</td>\n",
       "      <td>V3</td>\n",
       "      <td>Stalk</td>\n",
       "    </tr>\n",
       "    <tr>\n",
       "      <th>3</th>\n",
       "      <td>/mnt/scratch/haberan2/Core_Stress_Response/01_...</td>\n",
       "      <td>SRR8857829</td>\n",
       "      <td>85.557031</td>\n",
       "      <td>PRJNA520822</td>\n",
       "      <td>1.0</td>\n",
       "      <td>B73</td>\n",
       "      <td>Heat</td>\n",
       "      <td>48 hours</td>\n",
       "      <td>NaN</td>\n",
       "      <td>V3</td>\n",
       "      <td>Root</td>\n",
       "    </tr>\n",
       "    <tr>\n",
       "      <th>4</th>\n",
       "      <td>/mnt/scratch/haberan2/Core_Stress_Response/01_...</td>\n",
       "      <td>SRR15241111</td>\n",
       "      <td>87.258095</td>\n",
       "      <td>PRJNA747925</td>\n",
       "      <td>1.0</td>\n",
       "      <td>B73</td>\n",
       "      <td>Control</td>\n",
       "      <td>4 hours</td>\n",
       "      <td>NaN</td>\n",
       "      <td>V2/V3</td>\n",
       "      <td>Leaf</td>\n",
       "    </tr>\n",
       "  </tbody>\n",
       "</table>\n",
       "</div>"
      ],
      "text/plain": [
       "                                                File       Sample  \\\n",
       "0  /mnt/scratch/haberan2/Core_Stress_Response/01_...   SRR8857768   \n",
       "1  /mnt/scratch/haberan2/Core_Stress_Response/01_...  SRR15241296   \n",
       "2  /mnt/scratch/haberan2/Core_Stress_Response/01_...   SRR8857796   \n",
       "3  /mnt/scratch/haberan2/Core_Stress_Response/01_...   SRR8857829   \n",
       "4  /mnt/scratch/haberan2/Core_Stress_Response/01_...  SRR15241111   \n",
       "\n",
       "   Percent_Mapped   BioProject  Replicate_num Genotype Treatment  \\\n",
       "0       85.072476  PRJNA520822            3.0      B73      Heat   \n",
       "1       91.151922  PRJNA747925            5.0      B73   Control   \n",
       "2       87.484671  PRJNA520822            3.0      B73   Control   \n",
       "3       85.557031  PRJNA520822            1.0      B73      Heat   \n",
       "4       87.258095  PRJNA747925            1.0      B73   Control   \n",
       "\n",
       "  Time_after_treatment Concentration Developmental Stage Tissue  \n",
       "0              2 hours           NaN                  V3   Leaf  \n",
       "1               1 hour           NaN               V2/V3   Leaf  \n",
       "2               0 hour           NaN                  V3  Stalk  \n",
       "3             48 hours           NaN                  V3   Root  \n",
       "4              4 hours           NaN               V2/V3   Leaf  "
      ]
     },
     "execution_count": 7,
     "metadata": {},
     "output_type": "execute_result"
    }
   ],
   "source": [
    "# and merge with mr\n",
    "mrd = mr.merge(md,how=\"inner\")\n",
    "mrd.head()"
   ]
  },
  {
   "cell_type": "code",
   "execution_count": 8,
   "id": "94b4ac5c",
   "metadata": {},
   "outputs": [],
   "source": [
    "# plot mapping rate by BioProject\n",
    "# load plotting modules\n",
    "from matplotlib import pyplot as plt\n",
    "import seaborn as sns"
   ]
  },
  {
   "cell_type": "code",
   "execution_count": 14,
   "id": "a7771ca1",
   "metadata": {},
   "outputs": [
    {
     "data": {
      "text/plain": [
       "<AxesSubplot: xlabel='Percent_Mapped', ylabel='BioProject'>"
      ]
     },
     "execution_count": 14,
     "metadata": {},
     "output_type": "execute_result"
    },
    {
     "data": {
      "image/png": "[encoded data removed]",
      "text/plain": [
       "<Figure size 432x288 with 1 Axes>"
      ]
     },
     "metadata": {
      "needs_background": "light"
     },
     "output_type": "display_data"
    }
   ],
   "source": [
    "sns.violinplot(data=mrd,y=\"BioProject\",x=\"Percent_Mapped\")"
   ]
  },
  {
   "cell_type": "code",
   "execution_count": 12,
   "id": "43699600",
   "metadata": {},
   "outputs": [
    {
     "data": {
      "text/plain": [
       "<AxesSubplot: xlabel='Treatment', ylabel='Percent_Mapped'>"
      ]
     },
     "execution_count": 12,
     "metadata": {},
     "output_type": "execute_result"
    },
    {
     "data": {
      "image/png": "[encoded data removed]",
      "text/plain": [
       "<Figure size 432x288 with 1 Axes>"
      ]
     },
     "metadata": {
      "needs_background": "light"
     },
     "output_type": "display_data"
    }
   ],
   "source": [
    "sns.violinplot(data=mrd,x=\"Treatment\",y=\"Percent_Mapped\")"
   ]
  },
  {
   "cell_type": "code",
   "execution_count": 15,
   "id": "16bd7592",
   "metadata": {},
   "outputs": [
    {
     "data": {
      "text/plain": [
       "<AxesSubplot: xlabel='Percent_Mapped', ylabel='Developmental Stage'>"
      ]
     },
     "execution_count": 15,
     "metadata": {},
     "output_type": "execute_result"
    },
    {
     "data": {
      "image/png": "[encoded data removed]",
      "text/plain": [
       "<Figure size 432x288 with 1 Axes>"
      ]
     },
     "metadata": {
      "needs_background": "light"
     },
     "output_type": "display_data"
    }
   ],
   "source": [
    "sns.violinplot(data=mrd,y=\"Developmental Stage\",x=\"Percent_Mapped\")"
   ]
  },
  {
   "cell_type": "code",
   "execution_count": 16,
   "id": "b7774565",
   "metadata": {},
   "outputs": [],
   "source": [
    "# subset to PRJNA290180 only and check out the mapping rates there\n",
    "prj = mrd[mrd[\"BioProject\"]==\"PRJNA290180\"]"
   ]
  },
  {
   "cell_type": "code",
   "execution_count": 17,
   "id": "d905f1ae",
   "metadata": {},
   "outputs": [
    {
     "data": {
      "text/plain": [
       "<AxesSubplot: xlabel='BioProject', ylabel='Percent_Mapped'>"
      ]
     },
     "execution_count": 17,
     "metadata": {},
     "output_type": "execute_result"
    },
    {
     "data": {
      "image/png": "[encoded data removed]",
      "text/plain": [
       "<Figure size 432x288 with 1 Axes>"
      ]
     },
     "metadata": {
      "needs_background": "light"
     },
     "output_type": "display_data"
    }
   ],
   "source": [
    "sns.violinplot(data=prj,y=\"Percent_Mapped\",x=\"BioProject\")"
   ]
  },
  {
   "cell_type": "code",
   "execution_count": 18,
   "id": "575eb085",
   "metadata": {},
   "outputs": [
    {
     "data": {
      "text/plain": [
       "<AxesSubplot: xlabel='Treatment', ylabel='Percent_Mapped'>"
      ]
     },
     "execution_count": 18,
     "metadata": {},
     "output_type": "execute_result"
    },
    {
     "data": {
      "image/png": "[encoded data removed]",
      "text/plain": [
       "<Figure size 432x288 with 1 Axes>"
      ]
     },
     "metadata": {
      "needs_background": "light"
     },
     "output_type": "display_data"
    }
   ],
   "source": [
    "sns.violinplot(data=prj,y=\"Percent_Mapped\",x=\"Treatment\")"
   ]
  },
  {
   "cell_type": "markdown",
   "id": "59013a77",
   "metadata": {},
   "source": [
    "Aside from the control samples having a much tighter mapping rate distribution, there's not a ton of bias within the BioProject. The whole thing just has a lower mean. Let's find out how many samples were on the low end."
   ]
  },
  {
   "cell_type": "code",
   "execution_count": 19,
   "id": "a379b8c7",
   "metadata": {},
   "outputs": [
    {
     "data": {
      "text/html": [
       "<div>\n",
       "<style scoped>\n",
       "    .dataframe tbody tr th:only-of-type {\n",
       "        vertical-align: middle;\n",
       "    }\n",
       "\n",
       "    .dataframe tbody tr th {\n",
       "        vertical-align: top;\n",
       "    }\n",
       "\n",
       "    .dataframe thead th {\n",
       "        text-align: right;\n",
       "    }\n",
       "</style>\n",
       "<table border=\"1\" class=\"dataframe\">\n",
       "  <thead>\n",
       "    <tr style=\"text-align: right;\">\n",
       "      <th></th>\n",
       "      <th>File</th>\n",
       "      <th>Sample</th>\n",
       "      <th>Percent_Mapped</th>\n",
       "      <th>BioProject</th>\n",
       "      <th>Replicate_num</th>\n",
       "      <th>Genotype</th>\n",
       "      <th>Treatment</th>\n",
       "      <th>Time_after_treatment</th>\n",
       "      <th>Concentration</th>\n",
       "      <th>Developmental Stage</th>\n",
       "      <th>Tissue</th>\n",
       "    </tr>\n",
       "  </thead>\n",
       "  <tbody>\n",
       "    <tr>\n",
       "      <th>11</th>\n",
       "      <td>/mnt/scratch/haberan2/Core_Stress_Response/01_...</td>\n",
       "      <td>SRR2106202</td>\n",
       "      <td>65.014588</td>\n",
       "      <td>PRJNA290180</td>\n",
       "      <td>2.0</td>\n",
       "      <td>B73</td>\n",
       "      <td>SaltRec</td>\n",
       "      <td>7 days</td>\n",
       "      <td>NaN</td>\n",
       "      <td>V5/V6</td>\n",
       "      <td>Leaf</td>\n",
       "    </tr>\n",
       "    <tr>\n",
       "      <th>17</th>\n",
       "      <td>/mnt/scratch/haberan2/Core_Stress_Response/01_...</td>\n",
       "      <td>SRR2106180</td>\n",
       "      <td>63.678444</td>\n",
       "      <td>PRJNA290180</td>\n",
       "      <td>1.0</td>\n",
       "      <td>B73</td>\n",
       "      <td>Control</td>\n",
       "      <td>10 days</td>\n",
       "      <td>0.1 dS/m</td>\n",
       "      <td>V5/V6</td>\n",
       "      <td>Leaf</td>\n",
       "    </tr>\n",
       "    <tr>\n",
       "      <th>43</th>\n",
       "      <td>/mnt/scratch/haberan2/Core_Stress_Response/01_...</td>\n",
       "      <td>SRR2106200</td>\n",
       "      <td>60.797304</td>\n",
       "      <td>PRJNA290180</td>\n",
       "      <td>2.0</td>\n",
       "      <td>B73</td>\n",
       "      <td>ControlRec</td>\n",
       "      <td>7 days</td>\n",
       "      <td>NaN</td>\n",
       "      <td>V5/V6</td>\n",
       "      <td>Leaf</td>\n",
       "    </tr>\n",
       "    <tr>\n",
       "      <th>53</th>\n",
       "      <td>/mnt/scratch/haberan2/Core_Stress_Response/01_...</td>\n",
       "      <td>SRR2106182</td>\n",
       "      <td>53.691677</td>\n",
       "      <td>PRJNA290180</td>\n",
       "      <td>1.0</td>\n",
       "      <td>B73</td>\n",
       "      <td>Salt</td>\n",
       "      <td>10 days</td>\n",
       "      <td>15 dS/m</td>\n",
       "      <td>V5/V6</td>\n",
       "      <td>Leaf</td>\n",
       "    </tr>\n",
       "    <tr>\n",
       "      <th>68</th>\n",
       "      <td>/mnt/scratch/haberan2/Core_Stress_Response/01_...</td>\n",
       "      <td>SRR2106196</td>\n",
       "      <td>62.307768</td>\n",
       "      <td>PRJNA290180</td>\n",
       "      <td>2.0</td>\n",
       "      <td>B73</td>\n",
       "      <td>Control</td>\n",
       "      <td>10 days</td>\n",
       "      <td>0.1 dS/m</td>\n",
       "      <td>V5/V6</td>\n",
       "      <td>Leaf</td>\n",
       "    </tr>\n",
       "    <tr>\n",
       "      <th>77</th>\n",
       "      <td>/mnt/scratch/haberan2/Core_Stress_Response/01_...</td>\n",
       "      <td>SRR2106184</td>\n",
       "      <td>52.848761</td>\n",
       "      <td>PRJNA290180</td>\n",
       "      <td>1.0</td>\n",
       "      <td>B73</td>\n",
       "      <td>ControlRec</td>\n",
       "      <td>7 days</td>\n",
       "      <td>NaN</td>\n",
       "      <td>V5/V6</td>\n",
       "      <td>Leaf</td>\n",
       "    </tr>\n",
       "    <tr>\n",
       "      <th>98</th>\n",
       "      <td>/mnt/scratch/haberan2/Core_Stress_Response/01_...</td>\n",
       "      <td>SRR2106186</td>\n",
       "      <td>52.803283</td>\n",
       "      <td>PRJNA290180</td>\n",
       "      <td>1.0</td>\n",
       "      <td>B73</td>\n",
       "      <td>SaltRec</td>\n",
       "      <td>7 days</td>\n",
       "      <td>NaN</td>\n",
       "      <td>V5/V6</td>\n",
       "      <td>Leaf</td>\n",
       "    </tr>\n",
       "    <tr>\n",
       "      <th>100</th>\n",
       "      <td>/mnt/scratch/haberan2/Core_Stress_Response/01_...</td>\n",
       "      <td>SRR2106198</td>\n",
       "      <td>62.485135</td>\n",
       "      <td>PRJNA290180</td>\n",
       "      <td>2.0</td>\n",
       "      <td>B73</td>\n",
       "      <td>Salt</td>\n",
       "      <td>10 days</td>\n",
       "      <td>15 dS/m</td>\n",
       "      <td>V5/V6</td>\n",
       "      <td>Leaf</td>\n",
       "    </tr>\n",
       "  </tbody>\n",
       "</table>\n",
       "</div>"
      ],
      "text/plain": [
       "                                                  File      Sample  \\\n",
       "11   /mnt/scratch/haberan2/Core_Stress_Response/01_...  SRR2106202   \n",
       "17   /mnt/scratch/haberan2/Core_Stress_Response/01_...  SRR2106180   \n",
       "43   /mnt/scratch/haberan2/Core_Stress_Response/01_...  SRR2106200   \n",
       "53   /mnt/scratch/haberan2/Core_Stress_Response/01_...  SRR2106182   \n",
       "68   /mnt/scratch/haberan2/Core_Stress_Response/01_...  SRR2106196   \n",
       "77   /mnt/scratch/haberan2/Core_Stress_Response/01_...  SRR2106184   \n",
       "98   /mnt/scratch/haberan2/Core_Stress_Response/01_...  SRR2106186   \n",
       "100  /mnt/scratch/haberan2/Core_Stress_Response/01_...  SRR2106198   \n",
       "\n",
       "     Percent_Mapped   BioProject  Replicate_num Genotype   Treatment  \\\n",
       "11        65.014588  PRJNA290180            2.0      B73     SaltRec   \n",
       "17        63.678444  PRJNA290180            1.0      B73     Control   \n",
       "43        60.797304  PRJNA290180            2.0      B73  ControlRec   \n",
       "53        53.691677  PRJNA290180            1.0      B73        Salt   \n",
       "68        62.307768  PRJNA290180            2.0      B73     Control   \n",
       "77        52.848761  PRJNA290180            1.0      B73  ControlRec   \n",
       "98        52.803283  PRJNA290180            1.0      B73     SaltRec   \n",
       "100       62.485135  PRJNA290180            2.0      B73        Salt   \n",
       "\n",
       "    Time_after_treatment Concentration Developmental Stage Tissue  \n",
       "11                7 days           NaN               V5/V6   Leaf  \n",
       "17               10 days      0.1 dS/m               V5/V6   Leaf  \n",
       "43                7 days           NaN               V5/V6   Leaf  \n",
       "53               10 days       15 dS/m               V5/V6   Leaf  \n",
       "68               10 days      0.1 dS/m               V5/V6   Leaf  \n",
       "77                7 days           NaN               V5/V6   Leaf  \n",
       "98                7 days           NaN               V5/V6   Leaf  \n",
       "100              10 days       15 dS/m               V5/V6   Leaf  "
      ]
     },
     "execution_count": 19,
     "metadata": {},
     "output_type": "execute_result"
    }
   ],
   "source": [
    "prj"
   ]
  },
  {
   "cell_type": "markdown",
   "id": "daa6e6e2",
   "metadata": {},
   "source": [
    "There are 3 low-mapping (between 50-55%) samples in this BioProject, but none of them are reps of each other. I would guess this is probably okay."
   ]
  },
  {
   "cell_type": "code",
   "execution_count": null,
   "id": "e6c1aba9",
   "metadata": {},
   "outputs": [],
   "source": []
  }
 ],
 "metadata": {
  "kernelspec": {
   "display_name": "Python 3 (ipykernel)",
   "language": "python",
   "name": "python3"
  },
  "language_info": {
   "codemirror_mode": {
    "name": "ipython",
    "version": 3
   },
   "file_extension": ".py",
   "mimetype": "text/x-python",
   "name": "python",
   "nbconvert_exporter": "python",
   "pygments_lexer": "ipython3",
   "version": "3.8.10"
  }
 },
 "nbformat": 4,
 "nbformat_minor": 5
}
