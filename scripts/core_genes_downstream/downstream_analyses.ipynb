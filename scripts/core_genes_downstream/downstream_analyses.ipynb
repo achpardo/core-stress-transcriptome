{
 "cells": [
  {
   "cell_type": "markdown",
   "id": "5c18c3f7",
   "metadata": {},
   "source": [
    "Purpose: To run various downstream analyses on the core stress gene sets, including core genes from set operations, core genes from random forest, and the union of both sets.<br>\n",
    "Author: Anna Pardo<br>\n",
    "Date initiated: Aug. 23, 2023"
   ]
  },
  {
   "cell_type": "code",
   "execution_count": 1,
   "id": "1d2555ef",
   "metadata": {},
   "outputs": [],
   "source": [
    "# import modules\n",
    "import pandas as pd\n",
    "import matplotlib.pyplot as plt\n",
    "import seaborn as sns\n",
    "import os\n",
    "import statistics\n",
    "import scipy.stats as stats\n",
    "import numpy as np\n",
    "from statsmodels.stats.multitest import fdrcorrection\n",
    "from venn import venn\n",
    "from matplotlib.patches import Patch"
   ]
  },
  {
   "cell_type": "markdown",
   "id": "4fe1b711",
   "metadata": {},
   "source": [
    "## Parse random forest core gene list into upregulated & downregulated"
   ]
  },
  {
   "cell_type": "code",
   "execution_count": 2,
   "id": "786ef684",
   "metadata": {},
   "outputs": [
    {
     "data": {
      "text/html": [
       "<div>\n",
       "<style scoped>\n",
       "    .dataframe tbody tr th:only-of-type {\n",
       "        vertical-align: middle;\n",
       "    }\n",
       "\n",
       "    .dataframe tbody tr th {\n",
       "        vertical-align: top;\n",
       "    }\n",
       "\n",
       "    .dataframe thead th {\n",
       "        text-align: right;\n",
       "    }\n",
       "</style>\n",
       "<table border=\"1\" class=\"dataframe\">\n",
       "  <thead>\n",
       "    <tr style=\"text-align: right;\">\n",
       "      <th></th>\n",
       "      <th>0</th>\n",
       "    </tr>\n",
       "  </thead>\n",
       "  <tbody>\n",
       "    <tr>\n",
       "      <th>0</th>\n",
       "      <td>Zm00001eb225440</td>\n",
       "    </tr>\n",
       "    <tr>\n",
       "      <th>1</th>\n",
       "      <td>Zm00001eb322670</td>\n",
       "    </tr>\n",
       "    <tr>\n",
       "      <th>2</th>\n",
       "      <td>Zm00001eb089800</td>\n",
       "    </tr>\n",
       "    <tr>\n",
       "      <th>3</th>\n",
       "      <td>Zm00001eb279710</td>\n",
       "    </tr>\n",
       "    <tr>\n",
       "      <th>4</th>\n",
       "      <td>Zm00001eb310450</td>\n",
       "    </tr>\n",
       "  </tbody>\n",
       "</table>\n",
       "</div>"
      ],
      "text/plain": [
       "                 0\n",
       "0  Zm00001eb225440\n",
       "1  Zm00001eb322670\n",
       "2  Zm00001eb089800\n",
       "3  Zm00001eb279710\n",
       "4  Zm00001eb310450"
      ]
     },
     "execution_count": 2,
     "metadata": {},
     "output_type": "execute_result"
    }
   ],
   "source": [
    "# load gene list from random forest\n",
    "cgrf = pd.read_csv(\"../../data/core_genes_from_rf.txt\",sep=\"\\t\",header=None)\n",
    "cgrf.head()"
   ]
  },
  {
   "cell_type": "code",
   "execution_count": 3,
   "id": "c2c345a9",
   "metadata": {},
   "outputs": [],
   "source": [
    "# load a dictionary of TN-ratios by experiment\n",
    "## these are the data that were used to generate the set operations core stress gene lists\n",
    "directory = \"../../data/tn_by_experiment_dfs/\"\n",
    "dfdict = {}\n",
    "for f in os.listdir(directory):\n",
    "    k = f.strip().split(\".\")[0]\n",
    "    dfdict[k] = pd.read_csv(directory+f,sep=\"\\t\",header=\"infer\")"
   ]
  },
  {
   "cell_type": "code",
   "execution_count": 4,
   "id": "03da812c",
   "metadata": {},
   "outputs": [
    {
     "data": {
      "text/plain": [
       "dict_keys(['PRJNA172724', 'PRJNA548548', 'Brandon_Webster', 'PRJNA747925', 'PRJNA576545', 'PRJNA339768', 'PRJNA791560', 'PRJNA646054', 'PRJNA545969', 'PRJNA587226', 'PRJNA606824', 'PRJNA379712', 'PRJNA759701', 'PRJNA689935', 'PRJNA520822', 'PRJNA378714', 'PRJNA267717', 'PRJNA647980', 'PRJNA349117', 'PRJNA906711', 'PRJNA687609', 'PRJNA304223', 'PRJNA291919', 'PRJNA436973', 'PRJNA686250', 'PRJNA506720', 'PRJNA244661', 'PRJNA637522', 'PRJNA210356', 'PRJNA611589', 'PRJNA877073', 'PRJNA420600', 'PRJNA414300', 'PRJNA300830', 'PRJNA290180', 'PRJNA556806', 'PRJNA291064', 'PRJNA913846', 'PRJNA794297'])"
      ]
     },
     "execution_count": 4,
     "metadata": {},
     "output_type": "execute_result"
    }
   ],
   "source": [
    "dfdict.keys()"
   ]
  },
  {
   "cell_type": "code",
   "execution_count": 5,
   "id": "65f9b85d",
   "metadata": {},
   "outputs": [
    {
     "data": {
      "text/html": [
       "<div>\n",
       "<style scoped>\n",
       "    .dataframe tbody tr th:only-of-type {\n",
       "        vertical-align: middle;\n",
       "    }\n",
       "\n",
       "    .dataframe tbody tr th {\n",
       "        vertical-align: top;\n",
       "    }\n",
       "\n",
       "    .dataframe thead th {\n",
       "        text-align: right;\n",
       "    }\n",
       "</style>\n",
       "<table border=\"1\" class=\"dataframe\">\n",
       "  <thead>\n",
       "    <tr style=\"text-align: right;\">\n",
       "      <th></th>\n",
       "      <th>GeneID</th>\n",
       "      <th>Control</th>\n",
       "      <th>Drought</th>\n",
       "      <th>Salt</th>\n",
       "      <th>Drought_TN</th>\n",
       "      <th>Salt_TN</th>\n",
       "      <th>BioProject</th>\n",
       "    </tr>\n",
       "  </thead>\n",
       "  <tbody>\n",
       "    <tr>\n",
       "      <th>0</th>\n",
       "      <td>Zm00001eb000010</td>\n",
       "      <td>5.416275</td>\n",
       "      <td>4.223263</td>\n",
       "      <td>4.541462</td>\n",
       "      <td>0.814065</td>\n",
       "      <td>0.863657</td>\n",
       "      <td>PRJNA290180</td>\n",
       "    </tr>\n",
       "    <tr>\n",
       "      <th>1</th>\n",
       "      <td>Zm00001eb000020</td>\n",
       "      <td>14.511873</td>\n",
       "      <td>5.629578</td>\n",
       "      <td>9.488565</td>\n",
       "      <td>0.427387</td>\n",
       "      <td>0.676164</td>\n",
       "      <td>PRJNA290180</td>\n",
       "    </tr>\n",
       "    <tr>\n",
       "      <th>2</th>\n",
       "      <td>Zm00001eb000050</td>\n",
       "      <td>0.015598</td>\n",
       "      <td>0.050461</td>\n",
       "      <td>0.020881</td>\n",
       "      <td>1.034328</td>\n",
       "      <td>1.005201</td>\n",
       "      <td>PRJNA290180</td>\n",
       "    </tr>\n",
       "    <tr>\n",
       "      <th>3</th>\n",
       "      <td>Zm00001eb000060</td>\n",
       "      <td>5.382669</td>\n",
       "      <td>4.759840</td>\n",
       "      <td>4.656663</td>\n",
       "      <td>0.902419</td>\n",
       "      <td>0.886254</td>\n",
       "      <td>PRJNA290180</td>\n",
       "    </tr>\n",
       "    <tr>\n",
       "      <th>4</th>\n",
       "      <td>Zm00001eb000070</td>\n",
       "      <td>1.532741</td>\n",
       "      <td>1.167229</td>\n",
       "      <td>1.410107</td>\n",
       "      <td>0.855685</td>\n",
       "      <td>0.951581</td>\n",
       "      <td>PRJNA290180</td>\n",
       "    </tr>\n",
       "  </tbody>\n",
       "</table>\n",
       "</div>"
      ],
      "text/plain": [
       "            GeneID    Control   Drought      Salt  Drought_TN   Salt_TN  \\\n",
       "0  Zm00001eb000010   5.416275  4.223263  4.541462    0.814065  0.863657   \n",
       "1  Zm00001eb000020  14.511873  5.629578  9.488565    0.427387  0.676164   \n",
       "2  Zm00001eb000050   0.015598  0.050461  0.020881    1.034328  1.005201   \n",
       "3  Zm00001eb000060   5.382669  4.759840  4.656663    0.902419  0.886254   \n",
       "4  Zm00001eb000070   1.532741  1.167229  1.410107    0.855685  0.951581   \n",
       "\n",
       "    BioProject  \n",
       "0  PRJNA290180  \n",
       "1  PRJNA290180  \n",
       "2  PRJNA290180  \n",
       "3  PRJNA290180  \n",
       "4  PRJNA290180  "
      ]
     },
     "execution_count": 5,
     "metadata": {},
     "output_type": "execute_result"
    }
   ],
   "source": [
    "dfdict[\"PRJNA290180\"].head()"
   ]
  },
  {
   "cell_type": "code",
   "execution_count": 6,
   "id": "78a4b3f3",
   "metadata": {},
   "outputs": [
    {
     "data": {
      "text/html": [
       "<div>\n",
       "<style scoped>\n",
       "    .dataframe tbody tr th:only-of-type {\n",
       "        vertical-align: middle;\n",
       "    }\n",
       "\n",
       "    .dataframe tbody tr th {\n",
       "        vertical-align: top;\n",
       "    }\n",
       "\n",
       "    .dataframe thead th {\n",
       "        text-align: right;\n",
       "    }\n",
       "</style>\n",
       "<table border=\"1\" class=\"dataframe\">\n",
       "  <thead>\n",
       "    <tr style=\"text-align: right;\">\n",
       "      <th></th>\n",
       "      <th>GeneID</th>\n",
       "    </tr>\n",
       "  </thead>\n",
       "  <tbody>\n",
       "    <tr>\n",
       "      <th>0</th>\n",
       "      <td>Zm00001eb225440</td>\n",
       "    </tr>\n",
       "    <tr>\n",
       "      <th>1</th>\n",
       "      <td>Zm00001eb322670</td>\n",
       "    </tr>\n",
       "    <tr>\n",
       "      <th>2</th>\n",
       "      <td>Zm00001eb089800</td>\n",
       "    </tr>\n",
       "    <tr>\n",
       "      <th>3</th>\n",
       "      <td>Zm00001eb279710</td>\n",
       "    </tr>\n",
       "    <tr>\n",
       "      <th>4</th>\n",
       "      <td>Zm00001eb310450</td>\n",
       "    </tr>\n",
       "  </tbody>\n",
       "</table>\n",
       "</div>"
      ],
      "text/plain": [
       "            GeneID\n",
       "0  Zm00001eb225440\n",
       "1  Zm00001eb322670\n",
       "2  Zm00001eb089800\n",
       "3  Zm00001eb279710\n",
       "4  Zm00001eb310450"
      ]
     },
     "execution_count": 6,
     "metadata": {},
     "output_type": "execute_result"
    }
   ],
   "source": [
    "# rename cgrf column\n",
    "cgrf = cgrf.rename(columns={0:\"GeneID\"})\n",
    "cgrf.head()"
   ]
  },
  {
   "cell_type": "code",
   "execution_count": 7,
   "id": "bb114f6b",
   "metadata": {},
   "outputs": [],
   "source": [
    "# for each dataframe in dfdict, add the BioProject to the name of the stressor_TN column\n",
    "for k in dfdict.keys():\n",
    "    df = dfdict[k]\n",
    "    for c in df.columns:\n",
    "        if c.endswith(\"_TN\"):\n",
    "            x = c+\"_\"+k\n",
    "            df = df.rename(columns={c:x})\n",
    "    dfdict[k] = df"
   ]
  },
  {
   "cell_type": "code",
   "execution_count": 8,
   "id": "f88cd174",
   "metadata": {},
   "outputs": [
    {
     "data": {
      "text/plain": [
       "39004"
      ]
     },
     "execution_count": 8,
     "metadata": {},
     "output_type": "execute_result"
    }
   ],
   "source": [
    "len(dfdict[\"PRJNA290180\"].index)"
   ]
  },
  {
   "cell_type": "code",
   "execution_count": 9,
   "id": "2168a452",
   "metadata": {},
   "outputs": [],
   "source": [
    "# merge the core gene set with each dataframe\n",
    "coredfs = {}\n",
    "for k in dfdict.keys():\n",
    "    df = dfdict[k]\n",
    "    cdf = cgrf.merge(df)\n",
    "    coredfs[k] = cdf"
   ]
  },
  {
   "cell_type": "code",
   "execution_count": 10,
   "id": "c590d2c0",
   "metadata": {},
   "outputs": [
    {
     "data": {
      "text/plain": [
       "402"
      ]
     },
     "execution_count": 10,
     "metadata": {},
     "output_type": "execute_result"
    }
   ],
   "source": [
    "len(coredfs[\"PRJNA290180\"].index)"
   ]
  },
  {
   "cell_type": "code",
   "execution_count": 11,
   "id": "b58ff4c8",
   "metadata": {},
   "outputs": [],
   "source": [
    "# for each dataframe: subset to the up- (TN>2) and downregulated (TN<0.5) genes\n",
    "upcore = {}\n",
    "downcore = {}\n",
    "for k in coredfs.keys():\n",
    "    df = coredfs[k]\n",
    "    for c in df.columns:\n",
    "        if \"TN\" in c:\n",
    "            d = df[[\"GeneID\",c]]\n",
    "            dup = d[d[c]>=2]\n",
    "            ddn = d[d[c]<=0.5]\n",
    "            upcore[c] = dup\n",
    "            downcore[c] = ddn"
   ]
  },
  {
   "cell_type": "code",
   "execution_count": 12,
   "id": "964ab803",
   "metadata": {},
   "outputs": [],
   "source": [
    "# for upcore and downcore, pull out all the genes involved as a list, then make that list into a set\n",
    "## this will give us the upregulated and downregulated core genes from random forest\n",
    "upcgrf = []\n",
    "for k in upcore.keys():\n",
    "    df = upcore[k]\n",
    "    for g in list(df[\"GeneID\"]):\n",
    "        upcgrf.append(g)\n",
    "        \n",
    "cgrfup = set(upcgrf)"
   ]
  },
  {
   "cell_type": "code",
   "execution_count": 13,
   "id": "df1b0fd2",
   "metadata": {},
   "outputs": [
    {
     "data": {
      "text/plain": [
       "381"
      ]
     },
     "execution_count": 13,
     "metadata": {},
     "output_type": "execute_result"
    }
   ],
   "source": [
    "len(cgrfup)"
   ]
  },
  {
   "cell_type": "code",
   "execution_count": 14,
   "id": "29db5bff",
   "metadata": {},
   "outputs": [],
   "source": [
    "dncgrf = []\n",
    "for k in downcore.keys():\n",
    "    df = downcore[k]\n",
    "    for g in list(df[\"GeneID\"]):\n",
    "        dncgrf.append(g)\n",
    "        \n",
    "cgrfdn = set(dncgrf)"
   ]
  },
  {
   "cell_type": "code",
   "execution_count": 15,
   "id": "a6b7f0b4",
   "metadata": {},
   "outputs": [
    {
     "data": {
      "text/plain": [
       "361"
      ]
     },
     "execution_count": 15,
     "metadata": {},
     "output_type": "execute_result"
    }
   ],
   "source": [
    "len(cgrfdn)"
   ]
  },
  {
   "cell_type": "code",
   "execution_count": 16,
   "id": "3d07f61d",
   "metadata": {},
   "outputs": [
    {
     "data": {
      "text/plain": [
       "398"
      ]
     },
     "execution_count": 16,
     "metadata": {},
     "output_type": "execute_result"
    }
   ],
   "source": [
    "len(cgrfup.union(cgrfdn))"
   ]
  },
  {
   "cell_type": "markdown",
   "id": "51261621",
   "metadata": {},
   "source": [
    "The above indicates that there exist 4 core stress-important genes from the random forest results which are not \"differentially expressed\" in any experiment. This could be interesting to follow up on."
   ]
  },
  {
   "cell_type": "code",
   "execution_count": 17,
   "id": "69c9c860",
   "metadata": {},
   "outputs": [],
   "source": [
    "# save gene lists\n",
    "with open(\"../../data/core_genes_fromRF_upreg.txt\",\"w+\") as outfile:\n",
    "    for i in cgrfup:\n",
    "        outfile.write(i+\"\\n\")"
   ]
  },
  {
   "cell_type": "code",
   "execution_count": 18,
   "id": "e54f7f22",
   "metadata": {},
   "outputs": [],
   "source": [
    "with open(\"../../data/core_genes_fromRF_downreg.txt\",\"w+\") as outfile:\n",
    "    for i in cgrfdn:\n",
    "        outfile.write(i+\"\\n\")"
   ]
  },
  {
   "cell_type": "markdown",
   "id": "a989707c",
   "metadata": {},
   "source": [
    "## Transcription factor enrichment tests"
   ]
  },
  {
   "cell_type": "code",
   "execution_count": 19,
   "id": "27b911cf",
   "metadata": {},
   "outputs": [],
   "source": [
    "# load core stress genes from set operations, and total list of core stress genes (amalgamation of up- and downregulated, and\n",
    "## non-DE)\n",
    "upcgso = list(pd.read_csv(\"../../data/core_upgenes_fromsets.txt\",sep=\"\\t\",header=None)[0])\n",
    "dncgso = list(pd.read_csv(\"../../data/core_downgenes_fromsets.txt\",sep=\"\\t\",header=None)[0])\n",
    "cgall = list(pd.read_csv(\"../../data/union_core_stress_genes.txt\",sep=\"\\t\",header=None)[0])"
   ]
  },
  {
   "cell_type": "code",
   "execution_count": 20,
   "id": "31ed24e3",
   "metadata": {},
   "outputs": [],
   "source": [
    "allcgso = list(set(upcgso).union(set(dncgso)))"
   ]
  },
  {
   "cell_type": "code",
   "execution_count": 21,
   "id": "f47d1ab3",
   "metadata": {},
   "outputs": [],
   "source": [
    "# save allcgso\n",
    "with open(\"../../data/core_genes_all_from_setops.txt\",\"w+\") as outfile:\n",
    "    for i in allcgso:\n",
    "        outfile.write(i+\"\\n\")"
   ]
  },
  {
   "cell_type": "code",
   "execution_count": 22,
   "id": "21b9637f",
   "metadata": {},
   "outputs": [],
   "source": [
    "allcgrf = list(cgrf[\"GeneID\"])"
   ]
  },
  {
   "cell_type": "code",
   "execution_count": 23,
   "id": "d928b70e",
   "metadata": {},
   "outputs": [],
   "source": [
    "upcgrf = list(pd.read_csv(\"../../data/core_genes_fromRF_upreg.txt\",sep=\"\\t\",header=None)[0])\n",
    "dncgrf = list(pd.read_csv(\"../../data/core_genes_fromRF_downreg.txt\",sep=\"\\t\",header=None)[0])"
   ]
  },
  {
   "cell_type": "code",
   "execution_count": 24,
   "id": "0a95024d",
   "metadata": {},
   "outputs": [],
   "source": [
    "upcgrf = list(cgrfup)\n",
    "dncgrf = list(cgrfdn)"
   ]
  },
  {
   "cell_type": "code",
   "execution_count": 25,
   "id": "bb6ee6b9",
   "metadata": {},
   "outputs": [
    {
     "data": {
      "text/html": [
       "<div>\n",
       "<style scoped>\n",
       "    .dataframe tbody tr th:only-of-type {\n",
       "        vertical-align: middle;\n",
       "    }\n",
       "\n",
       "    .dataframe tbody tr th {\n",
       "        vertical-align: top;\n",
       "    }\n",
       "\n",
       "    .dataframe thead th {\n",
       "        text-align: right;\n",
       "    }\n",
       "</style>\n",
       "<table border=\"1\" class=\"dataframe\">\n",
       "  <thead>\n",
       "    <tr style=\"text-align: right;\">\n",
       "      <th></th>\n",
       "      <th>number for sorting purposes</th>\n",
       "      <th>protein name</th>\n",
       "      <th>family</th>\n",
       "      <th>gene ID</th>\n",
       "      <th>synonym</th>\n",
       "      <th>clone</th>\n",
       "      <th>all gene IDs</th>\n",
       "      <th>Unnamed: 7</th>\n",
       "    </tr>\n",
       "  </thead>\n",
       "  <tbody>\n",
       "    <tr>\n",
       "      <th>0</th>\n",
       "      <td>1</td>\n",
       "      <td>ZmABI1</td>\n",
       "      <td>ABI3-VP1</td>\n",
       "      <td>Zm00001eb143690</td>\n",
       "      <td>VP1</td>\n",
       "      <td>pUT3351</td>\n",
       "      <td>Zm00001eb143690 Zm00001d042396 GRMZM2G133398</td>\n",
       "      <td>NaN</td>\n",
       "    </tr>\n",
       "    <tr>\n",
       "      <th>1</th>\n",
       "      <td>2</td>\n",
       "      <td>ZmABI2</td>\n",
       "      <td>ABI3-VP1</td>\n",
       "      <td>Zm00001eb427970</td>\n",
       "      <td>ABI2</td>\n",
       "      <td>pUT3663</td>\n",
       "      <td>Zm00001d026005 Zm00001eb427970 GRMZM2G018485</td>\n",
       "      <td>NaN</td>\n",
       "    </tr>\n",
       "    <tr>\n",
       "      <th>2</th>\n",
       "      <td>3</td>\n",
       "      <td>ZmABI3</td>\n",
       "      <td>ABI3-VP1</td>\n",
       "      <td>Zm00001eb066270</td>\n",
       "      <td>ABI3</td>\n",
       "      <td>pUT3236</td>\n",
       "      <td>Zm00001eb066270 Zm00001d001838 GRMZM2G149940</td>\n",
       "      <td>NaN</td>\n",
       "    </tr>\n",
       "    <tr>\n",
       "      <th>3</th>\n",
       "      <td>4</td>\n",
       "      <td>ZmABI4</td>\n",
       "      <td>ABI3-VP1</td>\n",
       "      <td>Zm00001eb051330</td>\n",
       "      <td>ABI4</td>\n",
       "      <td>pUT4675</td>\n",
       "      <td>Zm00001d033313 GRMZM2G098063 Zm00001eb051330</td>\n",
       "      <td>NaN</td>\n",
       "    </tr>\n",
       "    <tr>\n",
       "      <th>4</th>\n",
       "      <td>5</td>\n",
       "      <td>ZmABI5</td>\n",
       "      <td>ABI3-VP1</td>\n",
       "      <td>Zm00001eb218990</td>\n",
       "      <td>ABI5</td>\n",
       "      <td>pUT4673</td>\n",
       "      <td>Zm00001d013722 Zm00001eb218990 GRMZM2G320754</td>\n",
       "      <td>NaN</td>\n",
       "    </tr>\n",
       "  </tbody>\n",
       "</table>\n",
       "</div>"
      ],
      "text/plain": [
       "   number for sorting purposes protein name    family          gene ID  \\\n",
       "0                            1       ZmABI1  ABI3-VP1  Zm00001eb143690   \n",
       "1                            2       ZmABI2  ABI3-VP1  Zm00001eb427970   \n",
       "2                            3       ZmABI3  ABI3-VP1  Zm00001eb066270   \n",
       "3                            4       ZmABI4  ABI3-VP1  Zm00001eb051330   \n",
       "4                            5       ZmABI5  ABI3-VP1  Zm00001eb218990   \n",
       "\n",
       "  synonym    clone                                  all gene IDs Unnamed: 7  \n",
       "0     VP1  pUT3351  Zm00001eb143690 Zm00001d042396 GRMZM2G133398        NaN  \n",
       "1    ABI2  pUT3663  Zm00001d026005 Zm00001eb427970 GRMZM2G018485        NaN  \n",
       "2    ABI3  pUT3236  Zm00001eb066270 Zm00001d001838 GRMZM2G149940        NaN  \n",
       "3    ABI4  pUT4675  Zm00001d033313 GRMZM2G098063 Zm00001eb051330        NaN  \n",
       "4    ABI5  pUT4673  Zm00001d013722 Zm00001eb218990 GRMZM2G320754        NaN  "
      ]
     },
     "execution_count": 25,
     "metadata": {},
     "output_type": "execute_result"
    }
   ],
   "source": [
    "# load list of transcription factors\n",
    "tf = pd.read_csv(\"../../data/data.csv\",sep=\",\",header=\"infer\")\n",
    "tf.head()"
   ]
  },
  {
   "cell_type": "code",
   "execution_count": 26,
   "id": "4d54365c",
   "metadata": {},
   "outputs": [],
   "source": [
    "# make a list of TF genes\n",
    "tfs = []\n",
    "for i in tf[\"gene ID\"]:\n",
    "    if type(i)==str:\n",
    "        if i.startswith(\"Zm\"):\n",
    "            tfs.append(i.strip())"
   ]
  },
  {
   "cell_type": "code",
   "execution_count": 27,
   "id": "8d9db7a3",
   "metadata": {},
   "outputs": [
    {
     "data": {
      "text/html": [
       "<div>\n",
       "<style scoped>\n",
       "    .dataframe tbody tr th:only-of-type {\n",
       "        vertical-align: middle;\n",
       "    }\n",
       "\n",
       "    .dataframe tbody tr th {\n",
       "        vertical-align: top;\n",
       "    }\n",
       "\n",
       "    .dataframe thead th {\n",
       "        text-align: right;\n",
       "    }\n",
       "</style>\n",
       "<table border=\"1\" class=\"dataframe\">\n",
       "  <thead>\n",
       "    <tr style=\"text-align: right;\">\n",
       "      <th></th>\n",
       "      <th>Sample</th>\n",
       "      <th>BioProject</th>\n",
       "      <th>Treatment</th>\n",
       "      <th>Zm00001eb000010</th>\n",
       "      <th>Zm00001eb000020</th>\n",
       "      <th>Zm00001eb000050</th>\n",
       "      <th>Zm00001eb000060</th>\n",
       "      <th>Zm00001eb000070</th>\n",
       "      <th>Zm00001eb000080</th>\n",
       "      <th>Zm00001eb000100</th>\n",
       "      <th>...</th>\n",
       "      <th>Zm00001eb442810</th>\n",
       "      <th>Zm00001eb442820</th>\n",
       "      <th>Zm00001eb442840</th>\n",
       "      <th>Zm00001eb442850</th>\n",
       "      <th>Zm00001eb442870</th>\n",
       "      <th>Zm00001eb442890</th>\n",
       "      <th>Zm00001eb442910</th>\n",
       "      <th>Zm00001eb442960</th>\n",
       "      <th>Zm00001eb442980</th>\n",
       "      <th>Zm00001eb443030</th>\n",
       "    </tr>\n",
       "  </thead>\n",
       "  <tbody>\n",
       "    <tr>\n",
       "      <th>0</th>\n",
       "      <td>SRR11933261</td>\n",
       "      <td>PRJNA637522</td>\n",
       "      <td>Drought</td>\n",
       "      <td>12.553818</td>\n",
       "      <td>2.321077</td>\n",
       "      <td>0.042520</td>\n",
       "      <td>12.932676</td>\n",
       "      <td>5.253755</td>\n",
       "      <td>11.105837</td>\n",
       "      <td>0.409268</td>\n",
       "      <td>...</td>\n",
       "      <td>0.171184</td>\n",
       "      <td>0.000000</td>\n",
       "      <td>0.0</td>\n",
       "      <td>0.0</td>\n",
       "      <td>0.0</td>\n",
       "      <td>0.309501</td>\n",
       "      <td>0.0</td>\n",
       "      <td>0.000000</td>\n",
       "      <td>0.0</td>\n",
       "      <td>0.000000</td>\n",
       "    </tr>\n",
       "    <tr>\n",
       "      <th>1</th>\n",
       "      <td>SRR11933272</td>\n",
       "      <td>PRJNA637522</td>\n",
       "      <td>Drought</td>\n",
       "      <td>16.255838</td>\n",
       "      <td>3.110372</td>\n",
       "      <td>0.405226</td>\n",
       "      <td>7.214039</td>\n",
       "      <td>1.902461</td>\n",
       "      <td>2.346186</td>\n",
       "      <td>0.170305</td>\n",
       "      <td>...</td>\n",
       "      <td>0.108052</td>\n",
       "      <td>0.127878</td>\n",
       "      <td>0.0</td>\n",
       "      <td>0.0</td>\n",
       "      <td>0.0</td>\n",
       "      <td>6.703281</td>\n",
       "      <td>0.0</td>\n",
       "      <td>0.000000</td>\n",
       "      <td>0.0</td>\n",
       "      <td>0.000000</td>\n",
       "    </tr>\n",
       "    <tr>\n",
       "      <th>2</th>\n",
       "      <td>SRR11933250</td>\n",
       "      <td>PRJNA637522</td>\n",
       "      <td>Drought</td>\n",
       "      <td>9.028815</td>\n",
       "      <td>2.984479</td>\n",
       "      <td>0.000000</td>\n",
       "      <td>3.092442</td>\n",
       "      <td>2.586555</td>\n",
       "      <td>16.186141</td>\n",
       "      <td>0.000000</td>\n",
       "      <td>...</td>\n",
       "      <td>0.000000</td>\n",
       "      <td>0.000000</td>\n",
       "      <td>0.0</td>\n",
       "      <td>0.0</td>\n",
       "      <td>0.0</td>\n",
       "      <td>0.417565</td>\n",
       "      <td>0.0</td>\n",
       "      <td>0.254123</td>\n",
       "      <td>0.0</td>\n",
       "      <td>1.213349</td>\n",
       "    </tr>\n",
       "    <tr>\n",
       "      <th>3</th>\n",
       "      <td>SRR11933029</td>\n",
       "      <td>PRJNA637522</td>\n",
       "      <td>Control</td>\n",
       "      <td>8.201340</td>\n",
       "      <td>2.385748</td>\n",
       "      <td>0.000000</td>\n",
       "      <td>1.726808</td>\n",
       "      <td>1.926412</td>\n",
       "      <td>19.600487</td>\n",
       "      <td>0.000000</td>\n",
       "      <td>...</td>\n",
       "      <td>0.000000</td>\n",
       "      <td>0.000000</td>\n",
       "      <td>0.0</td>\n",
       "      <td>0.0</td>\n",
       "      <td>0.0</td>\n",
       "      <td>0.000000</td>\n",
       "      <td>0.0</td>\n",
       "      <td>0.000000</td>\n",
       "      <td>0.0</td>\n",
       "      <td>1.370075</td>\n",
       "    </tr>\n",
       "    <tr>\n",
       "      <th>4</th>\n",
       "      <td>SRR11933040</td>\n",
       "      <td>PRJNA637522</td>\n",
       "      <td>Drought</td>\n",
       "      <td>10.371251</td>\n",
       "      <td>2.799099</td>\n",
       "      <td>0.000000</td>\n",
       "      <td>1.280629</td>\n",
       "      <td>3.771234</td>\n",
       "      <td>19.717683</td>\n",
       "      <td>0.143764</td>\n",
       "      <td>...</td>\n",
       "      <td>0.178304</td>\n",
       "      <td>0.012158</td>\n",
       "      <td>0.0</td>\n",
       "      <td>0.0</td>\n",
       "      <td>0.0</td>\n",
       "      <td>9.625225</td>\n",
       "      <td>0.0</td>\n",
       "      <td>0.000000</td>\n",
       "      <td>0.0</td>\n",
       "      <td>2.352959</td>\n",
       "    </tr>\n",
       "  </tbody>\n",
       "</table>\n",
       "<p>5 rows × 39007 columns</p>\n",
       "</div>"
      ],
      "text/plain": [
       "        Sample   BioProject Treatment  Zm00001eb000010  Zm00001eb000020  \\\n",
       "0  SRR11933261  PRJNA637522   Drought        12.553818         2.321077   \n",
       "1  SRR11933272  PRJNA637522   Drought        16.255838         3.110372   \n",
       "2  SRR11933250  PRJNA637522   Drought         9.028815         2.984479   \n",
       "3  SRR11933029  PRJNA637522   Control         8.201340         2.385748   \n",
       "4  SRR11933040  PRJNA637522   Drought        10.371251         2.799099   \n",
       "\n",
       "   Zm00001eb000050  Zm00001eb000060  Zm00001eb000070  Zm00001eb000080  \\\n",
       "0         0.042520        12.932676         5.253755        11.105837   \n",
       "1         0.405226         7.214039         1.902461         2.346186   \n",
       "2         0.000000         3.092442         2.586555        16.186141   \n",
       "3         0.000000         1.726808         1.926412        19.600487   \n",
       "4         0.000000         1.280629         3.771234        19.717683   \n",
       "\n",
       "   Zm00001eb000100  ...  Zm00001eb442810  Zm00001eb442820  Zm00001eb442840  \\\n",
       "0         0.409268  ...         0.171184         0.000000              0.0   \n",
       "1         0.170305  ...         0.108052         0.127878              0.0   \n",
       "2         0.000000  ...         0.000000         0.000000              0.0   \n",
       "3         0.000000  ...         0.000000         0.000000              0.0   \n",
       "4         0.143764  ...         0.178304         0.012158              0.0   \n",
       "\n",
       "   Zm00001eb442850  Zm00001eb442870  Zm00001eb442890  Zm00001eb442910  \\\n",
       "0              0.0              0.0         0.309501              0.0   \n",
       "1              0.0              0.0         6.703281              0.0   \n",
       "2              0.0              0.0         0.417565              0.0   \n",
       "3              0.0              0.0         0.000000              0.0   \n",
       "4              0.0              0.0         9.625225              0.0   \n",
       "\n",
       "   Zm00001eb442960  Zm00001eb442980  Zm00001eb443030  \n",
       "0         0.000000              0.0         0.000000  \n",
       "1         0.000000              0.0         0.000000  \n",
       "2         0.254123              0.0         1.213349  \n",
       "3         0.000000              0.0         1.370075  \n",
       "4         0.000000              0.0         2.352959  \n",
       "\n",
       "[5 rows x 39007 columns]"
      ]
     },
     "execution_count": 27,
     "metadata": {},
     "output_type": "execute_result"
    }
   ],
   "source": [
    "# load tpm\n",
    "tpm = pd.read_csv(\"../../data/rawtpm_bptreat_noPEG.tsv\",sep=\"\\t\",header=\"infer\")\n",
    "tpm.head()"
   ]
  },
  {
   "cell_type": "code",
   "execution_count": 28,
   "id": "958f4da0",
   "metadata": {},
   "outputs": [
    {
     "data": {
      "text/plain": [
       "array(['Drought', 'Control', 'Heat', 'Cold', 'Salt', 'DroughtRepeat',\n",
       "       'Low_Nitrogen', 'Flooding'], dtype=object)"
      ]
     },
     "execution_count": 28,
     "metadata": {},
     "output_type": "execute_result"
    }
   ],
   "source": [
    "tpm[\"Treatment\"].unique()"
   ]
  },
  {
   "cell_type": "code",
   "execution_count": 29,
   "id": "2bd7356d",
   "metadata": {},
   "outputs": [
    {
     "data": {
      "text/html": [
       "<div>\n",
       "<style scoped>\n",
       "    .dataframe tbody tr th:only-of-type {\n",
       "        vertical-align: middle;\n",
       "    }\n",
       "\n",
       "    .dataframe tbody tr th {\n",
       "        vertical-align: top;\n",
       "    }\n",
       "\n",
       "    .dataframe thead th {\n",
       "        text-align: right;\n",
       "    }\n",
       "</style>\n",
       "<table border=\"1\" class=\"dataframe\">\n",
       "  <thead>\n",
       "    <tr style=\"text-align: right;\">\n",
       "      <th>Sample</th>\n",
       "      <th>GeneID</th>\n",
       "      <th>SRR11933261</th>\n",
       "      <th>SRR11933272</th>\n",
       "      <th>SRR11933250</th>\n",
       "      <th>SRR11933029</th>\n",
       "      <th>SRR11933040</th>\n",
       "      <th>SRR11932822</th>\n",
       "      <th>SRR11932811</th>\n",
       "      <th>SRR11933230</th>\n",
       "      <th>SRR11932879</th>\n",
       "      <th>...</th>\n",
       "      <th>Ms71D3C</th>\n",
       "      <th>Ki3D1C</th>\n",
       "      <th>CML228D1D</th>\n",
       "      <th>CML333D3D</th>\n",
       "      <th>MO18WD3C</th>\n",
       "      <th>B73D3C</th>\n",
       "      <th>NC358D3C</th>\n",
       "      <th>P39D3D</th>\n",
       "      <th>M162WD3D</th>\n",
       "      <th>M162WD1D</th>\n",
       "    </tr>\n",
       "  </thead>\n",
       "  <tbody>\n",
       "    <tr>\n",
       "      <th>0</th>\n",
       "      <td>Zm00001eb000010</td>\n",
       "      <td>12.553818</td>\n",
       "      <td>16.255838</td>\n",
       "      <td>9.028815</td>\n",
       "      <td>8.201340</td>\n",
       "      <td>10.371251</td>\n",
       "      <td>37.430009</td>\n",
       "      <td>39.925873</td>\n",
       "      <td>30.677016</td>\n",
       "      <td>23.393003</td>\n",
       "      <td>...</td>\n",
       "      <td>1.417104</td>\n",
       "      <td>1.923525</td>\n",
       "      <td>1.427602</td>\n",
       "      <td>9.580153</td>\n",
       "      <td>1.228100</td>\n",
       "      <td>2.966207</td>\n",
       "      <td>1.791556</td>\n",
       "      <td>4.286976</td>\n",
       "      <td>3.435711</td>\n",
       "      <td>3.498243</td>\n",
       "    </tr>\n",
       "    <tr>\n",
       "      <th>1</th>\n",
       "      <td>Zm00001eb000020</td>\n",
       "      <td>2.321077</td>\n",
       "      <td>3.110372</td>\n",
       "      <td>2.984479</td>\n",
       "      <td>2.385748</td>\n",
       "      <td>2.799099</td>\n",
       "      <td>27.508819</td>\n",
       "      <td>22.440680</td>\n",
       "      <td>24.648455</td>\n",
       "      <td>7.595576</td>\n",
       "      <td>...</td>\n",
       "      <td>0.000000</td>\n",
       "      <td>1.799671</td>\n",
       "      <td>0.000000</td>\n",
       "      <td>0.000000</td>\n",
       "      <td>1.925157</td>\n",
       "      <td>0.561768</td>\n",
       "      <td>0.176413</td>\n",
       "      <td>0.781353</td>\n",
       "      <td>0.379497</td>\n",
       "      <td>0.463832</td>\n",
       "    </tr>\n",
       "    <tr>\n",
       "      <th>2</th>\n",
       "      <td>Zm00001eb000050</td>\n",
       "      <td>0.042520</td>\n",
       "      <td>0.405226</td>\n",
       "      <td>0.000000</td>\n",
       "      <td>0.000000</td>\n",
       "      <td>0.000000</td>\n",
       "      <td>0.000000</td>\n",
       "      <td>0.000000</td>\n",
       "      <td>0.000000</td>\n",
       "      <td>0.304751</td>\n",
       "      <td>...</td>\n",
       "      <td>0.000000</td>\n",
       "      <td>0.000000</td>\n",
       "      <td>0.000000</td>\n",
       "      <td>0.000000</td>\n",
       "      <td>0.000000</td>\n",
       "      <td>0.000000</td>\n",
       "      <td>0.000000</td>\n",
       "      <td>0.000000</td>\n",
       "      <td>0.000000</td>\n",
       "      <td>0.000000</td>\n",
       "    </tr>\n",
       "    <tr>\n",
       "      <th>3</th>\n",
       "      <td>Zm00001eb000060</td>\n",
       "      <td>12.932676</td>\n",
       "      <td>7.214039</td>\n",
       "      <td>3.092442</td>\n",
       "      <td>1.726808</td>\n",
       "      <td>1.280629</td>\n",
       "      <td>29.510498</td>\n",
       "      <td>22.148225</td>\n",
       "      <td>22.170584</td>\n",
       "      <td>14.727189</td>\n",
       "      <td>...</td>\n",
       "      <td>0.000000</td>\n",
       "      <td>0.000000</td>\n",
       "      <td>0.000000</td>\n",
       "      <td>0.000000</td>\n",
       "      <td>0.000000</td>\n",
       "      <td>0.000000</td>\n",
       "      <td>0.000000</td>\n",
       "      <td>0.000000</td>\n",
       "      <td>0.000000</td>\n",
       "      <td>0.000000</td>\n",
       "    </tr>\n",
       "    <tr>\n",
       "      <th>4</th>\n",
       "      <td>Zm00001eb000070</td>\n",
       "      <td>5.253755</td>\n",
       "      <td>1.902461</td>\n",
       "      <td>2.586555</td>\n",
       "      <td>1.926412</td>\n",
       "      <td>3.771234</td>\n",
       "      <td>7.005587</td>\n",
       "      <td>7.590336</td>\n",
       "      <td>5.274585</td>\n",
       "      <td>2.177748</td>\n",
       "      <td>...</td>\n",
       "      <td>0.000000</td>\n",
       "      <td>0.451827</td>\n",
       "      <td>0.000000</td>\n",
       "      <td>1.018369</td>\n",
       "      <td>0.000000</td>\n",
       "      <td>0.000000</td>\n",
       "      <td>0.000000</td>\n",
       "      <td>0.000000</td>\n",
       "      <td>1.660372</td>\n",
       "      <td>0.748587</td>\n",
       "    </tr>\n",
       "  </tbody>\n",
       "</table>\n",
       "<p>5 rows × 1982 columns</p>\n",
       "</div>"
      ],
      "text/plain": [
       "Sample           GeneID  SRR11933261  SRR11933272  SRR11933250  SRR11933029  \\\n",
       "0       Zm00001eb000010    12.553818    16.255838     9.028815     8.201340   \n",
       "1       Zm00001eb000020     2.321077     3.110372     2.984479     2.385748   \n",
       "2       Zm00001eb000050     0.042520     0.405226     0.000000     0.000000   \n",
       "3       Zm00001eb000060    12.932676     7.214039     3.092442     1.726808   \n",
       "4       Zm00001eb000070     5.253755     1.902461     2.586555     1.926412   \n",
       "\n",
       "Sample  SRR11933040  SRR11932822  SRR11932811  SRR11933230  SRR11932879  ...  \\\n",
       "0         10.371251    37.430009    39.925873    30.677016    23.393003  ...   \n",
       "1          2.799099    27.508819    22.440680    24.648455     7.595576  ...   \n",
       "2          0.000000     0.000000     0.000000     0.000000     0.304751  ...   \n",
       "3          1.280629    29.510498    22.148225    22.170584    14.727189  ...   \n",
       "4          3.771234     7.005587     7.590336     5.274585     2.177748  ...   \n",
       "\n",
       "Sample   Ms71D3C    Ki3D1C  CML228D1D  CML333D3D  MO18WD3C    B73D3C  \\\n",
       "0       1.417104  1.923525   1.427602   9.580153  1.228100  2.966207   \n",
       "1       0.000000  1.799671   0.000000   0.000000  1.925157  0.561768   \n",
       "2       0.000000  0.000000   0.000000   0.000000  0.000000  0.000000   \n",
       "3       0.000000  0.000000   0.000000   0.000000  0.000000  0.000000   \n",
       "4       0.000000  0.451827   0.000000   1.018369  0.000000  0.000000   \n",
       "\n",
       "Sample  NC358D3C    P39D3D  M162WD3D  M162WD1D  \n",
       "0       1.791556  4.286976  3.435711  3.498243  \n",
       "1       0.176413  0.781353  0.379497  0.463832  \n",
       "2       0.000000  0.000000  0.000000  0.000000  \n",
       "3       0.000000  0.000000  0.000000  0.000000  \n",
       "4       0.000000  0.000000  1.660372  0.748587  \n",
       "\n",
       "[5 rows x 1982 columns]"
      ]
     },
     "execution_count": 29,
     "metadata": {},
     "output_type": "execute_result"
    }
   ],
   "source": [
    "# wrangle tpm data\n",
    "ttpm = tpm.set_index(\"Sample\").drop([\"BioProject\",\"Treatment\"],axis=1).transpose().reset_index().rename(columns={\"index\":\"GeneID\"})\n",
    "ttpm.head()"
   ]
  },
  {
   "cell_type": "code",
   "execution_count": 30,
   "id": "4d3e2bd6",
   "metadata": {},
   "outputs": [
    {
     "data": {
      "text/html": [
       "<div>\n",
       "<style scoped>\n",
       "    .dataframe tbody tr th:only-of-type {\n",
       "        vertical-align: middle;\n",
       "    }\n",
       "\n",
       "    .dataframe tbody tr th {\n",
       "        vertical-align: top;\n",
       "    }\n",
       "\n",
       "    .dataframe thead th {\n",
       "        text-align: right;\n",
       "    }\n",
       "</style>\n",
       "<table border=\"1\" class=\"dataframe\">\n",
       "  <thead>\n",
       "    <tr style=\"text-align: right;\">\n",
       "      <th></th>\n",
       "      <th>GeneID</th>\n",
       "    </tr>\n",
       "  </thead>\n",
       "  <tbody>\n",
       "    <tr>\n",
       "      <th>0</th>\n",
       "      <td>Zm00001eb000010</td>\n",
       "    </tr>\n",
       "    <tr>\n",
       "      <th>1</th>\n",
       "      <td>Zm00001eb000020</td>\n",
       "    </tr>\n",
       "    <tr>\n",
       "      <th>2</th>\n",
       "      <td>Zm00001eb000050</td>\n",
       "    </tr>\n",
       "    <tr>\n",
       "      <th>3</th>\n",
       "      <td>Zm00001eb000060</td>\n",
       "    </tr>\n",
       "    <tr>\n",
       "      <th>4</th>\n",
       "      <td>Zm00001eb000070</td>\n",
       "    </tr>\n",
       "  </tbody>\n",
       "</table>\n",
       "</div>"
      ],
      "text/plain": [
       "            GeneID\n",
       "0  Zm00001eb000010\n",
       "1  Zm00001eb000020\n",
       "2  Zm00001eb000050\n",
       "3  Zm00001eb000060\n",
       "4  Zm00001eb000070"
      ]
     },
     "execution_count": 30,
     "metadata": {},
     "output_type": "execute_result"
    }
   ],
   "source": [
    "# extract just gene IDs\n",
    "gid = pd.DataFrame(ttpm[\"GeneID\"])\n",
    "gid.head()"
   ]
  },
  {
   "cell_type": "code",
   "execution_count": 31,
   "id": "ada87fc6",
   "metadata": {},
   "outputs": [],
   "source": [
    "# set up a column indicating whether the gene ID is a transcription factor or not\n",
    "# also another column indicating whether the gene ID is a core stress gene or not\n",
    "# define a function to do this\n",
    "def data_setup(coregenelist):\n",
    "    coreornot = []\n",
    "    tfornot = []\n",
    "    for g in list(gid[\"GeneID\"]):\n",
    "        if g in list(tf[\"gene ID\"]):\n",
    "            tfornot.append(\"Yes\")\n",
    "        else:\n",
    "            tfornot.append(\"No\")\n",
    "        if g in coregenelist:\n",
    "            coreornot.append(\"Yes\")\n",
    "        else:\n",
    "            coreornot.append(\"No\")\n",
    "    gid[\"isTF\"] = tfornot\n",
    "    gid[\"isCore\"] = coreornot\n",
    "    return gid"
   ]
  },
  {
   "cell_type": "code",
   "execution_count": 32,
   "id": "cb191c43",
   "metadata": {},
   "outputs": [],
   "source": [
    "# define a function to run the whole Fisher's test\n",
    "def run_fisher(coregenelist):\n",
    "    df = data_setup(coregenelist)\n",
    "    # set up the table for Fisher's exact test\n",
    "    data = pd.crosstab(index=df[\"isTF\"],columns=df[\"isCore\"])\n",
    "    # run Fisher's exact test\n",
    "    odds_ratio, p_value = stats.fisher_exact(data)\n",
    "    print('odd ratio is : ' + str(odds_ratio))\n",
    "    print('p_value is : ' + str(p_value))\n",
    "    return (odds_ratio, p_value)"
   ]
  },
  {
   "cell_type": "code",
   "execution_count": 33,
   "id": "c9546dea",
   "metadata": {},
   "outputs": [
    {
     "ename": "NameError",
     "evalue": "name 'allcoreup' is not defined",
     "output_type": "error",
     "traceback": [
      "\u001b[0;31m---------------------------------------------------------------------------\u001b[0m",
      "\u001b[0;31mNameError\u001b[0m                                 Traceback (most recent call last)",
      "Input \u001b[0;32mIn [33]\u001b[0m, in \u001b[0;36m<cell line: 2>\u001b[0;34m()\u001b[0m\n\u001b[1;32m      1\u001b[0m \u001b[38;5;66;03m# list of lists of different sets of core genes\u001b[39;00m\n\u001b[1;32m      2\u001b[0m ld \u001b[38;5;241m=\u001b[39m {\u001b[38;5;124m\"\u001b[39m\u001b[38;5;124mAll\u001b[39m\u001b[38;5;124m\"\u001b[39m:cgall,\u001b[38;5;124m\"\u001b[39m\u001b[38;5;124mAll_SetOps\u001b[39m\u001b[38;5;124m\"\u001b[39m:allcgso,\u001b[38;5;124m\"\u001b[39m\u001b[38;5;124mAll_RF\u001b[39m\u001b[38;5;124m\"\u001b[39m:allcgrf,\u001b[38;5;124m\"\u001b[39m\u001b[38;5;124mUp_SetOps\u001b[39m\u001b[38;5;124m\"\u001b[39m:upcgso,\u001b[38;5;124m\"\u001b[39m\u001b[38;5;124mDown_SetOps\u001b[39m\u001b[38;5;124m\"\u001b[39m:dncgso,\u001b[38;5;124m\"\u001b[39m\u001b[38;5;124mUp_RF\u001b[39m\u001b[38;5;124m\"\u001b[39m:upcgrf,\n\u001b[0;32m----> 3\u001b[0m       \u001b[38;5;124m\"\u001b[39m\u001b[38;5;124mDown_RF\u001b[39m\u001b[38;5;124m\"\u001b[39m:dncgrf,\u001b[38;5;124m\"\u001b[39m\u001b[38;5;124mUp_All\u001b[39m\u001b[38;5;124m\"\u001b[39m:\u001b[43mallcoreup\u001b[49m,\u001b[38;5;124m\"\u001b[39m\u001b[38;5;124mDown_All\u001b[39m\u001b[38;5;124m\"\u001b[39m:allcoredn}\n",
      "\u001b[0;31mNameError\u001b[0m: name 'allcoreup' is not defined"
     ]
    }
   ],
   "source": [
    "# list of lists of different sets of core genes\n",
    "ld = {\"All\":cgall,\"All_SetOps\":allcgso,\"All_RF\":allcgrf,\"Up_SetOps\":upcgso,\"Down_SetOps\":dncgso,\"Up_RF\":upcgrf,\n",
    "      \"Down_RF\":dncgrf,\"Up_All\":allcoreup,\"Down_All\":allcoredn}"
   ]
  },
  {
   "cell_type": "code",
   "execution_count": null,
   "id": "ebc3d934",
   "metadata": {},
   "outputs": [],
   "source": [
    "#loop through core gene sets and test for enrichment of TFs vs other genes\n",
    "p_values = [run_fisher(i)[1] for i in ld.values()]\n",
    "odds_ratios = [run_fisher(i)[0] for i in ld.values()]\n",
    "ids = [i for i in ld.keys()]\n",
    "tf_enrinchment_res = pd.DataFrame({\"Set Name\": ids,\n",
    "                                  \"Odds Ratio\": odds_ratios,\n",
    "                                  \"P-value\": p_values})"
   ]
  },
  {
   "cell_type": "code",
   "execution_count": null,
   "id": "50abacec",
   "metadata": {},
   "outputs": [],
   "source": [
    " tf_enrinchment_res[\"P-value\"]"
   ]
  },
  {
   "cell_type": "code",
   "execution_count": null,
   "id": "a3592181",
   "metadata": {
    "scrolled": true
   },
   "outputs": [],
   "source": [
    "tf_enrinchment_res[\"P-adj\"] = fdrcorrection(tf_enrinchment_res[\"P-value\"])[1]"
   ]
  },
  {
   "cell_type": "code",
   "execution_count": null,
   "id": "439f295a",
   "metadata": {},
   "outputs": [],
   "source": [
    "tf_enrinchment_res"
   ]
  },
  {
   "cell_type": "code",
   "execution_count": null,
   "id": "05693747",
   "metadata": {},
   "outputs": [],
   "source": [
    "run_fisher(cgall)"
   ]
  },
  {
   "cell_type": "code",
   "execution_count": null,
   "id": "d15cb88b",
   "metadata": {},
   "outputs": [],
   "source": [
    "run_fisher(allcgso)"
   ]
  },
  {
   "cell_type": "code",
   "execution_count": null,
   "id": "7fd02547",
   "metadata": {},
   "outputs": [],
   "source": [
    "run_fisher(allcgrf)"
   ]
  },
  {
   "cell_type": "code",
   "execution_count": null,
   "id": "3ff5e486",
   "metadata": {},
   "outputs": [],
   "source": [
    "run_fisher(upcgso)"
   ]
  },
  {
   "cell_type": "code",
   "execution_count": null,
   "id": "3d42f70e",
   "metadata": {},
   "outputs": [],
   "source": [
    "run_fisher(dncgso)"
   ]
  },
  {
   "cell_type": "code",
   "execution_count": null,
   "id": "2f0ce431",
   "metadata": {},
   "outputs": [],
   "source": [
    "run_fisher(upcgrf)"
   ]
  },
  {
   "cell_type": "code",
   "execution_count": null,
   "id": "1a35ff4f",
   "metadata": {},
   "outputs": [],
   "source": [
    "run_fisher(dncgrf)"
   ]
  },
  {
   "cell_type": "code",
   "execution_count": null,
   "id": "38947ca8",
   "metadata": {},
   "outputs": [],
   "source": [
    "allcoreup = list(set(upcgrf).union(set(upcgso)))\n",
    "allcoredn = list(set(dncgrf).union(set(dncgso)))"
   ]
  },
  {
   "cell_type": "code",
   "execution_count": null,
   "id": "2c368ab2",
   "metadata": {},
   "outputs": [],
   "source": [
    "# save allcoreup and allcoredn\n",
    "with open(\"../../data/core_genes_all_upreg.txt\",\"w+\") as outfile:\n",
    "    for i in allcoreup:\n",
    "        outfile.write(i+\"\\n\")"
   ]
  },
  {
   "cell_type": "code",
   "execution_count": null,
   "id": "7e0136ee",
   "metadata": {},
   "outputs": [],
   "source": [
    "with open(\"../../data/core_genes_all_downreg.txt\",\"w+\") as outfile:\n",
    "    for i in allcoredn:\n",
    "        outfile.write(i+\"\\n\")"
   ]
  },
  {
   "cell_type": "code",
   "execution_count": null,
   "id": "0576dbaa",
   "metadata": {},
   "outputs": [],
   "source": [
    "run_fisher(allcoreup)"
   ]
  },
  {
   "cell_type": "code",
   "execution_count": null,
   "id": "542205ed",
   "metadata": {},
   "outputs": [],
   "source": [
    "run_fisher(allcoredn)"
   ]
  },
  {
   "cell_type": "code",
   "execution_count": null,
   "id": "7ccbf110",
   "metadata": {},
   "outputs": [],
   "source": []
  },
  {
   "cell_type": "markdown",
   "id": "d62a2ad3",
   "metadata": {},
   "source": [
    "## Make a heatmap of different core sets under different conditions"
   ]
  },
  {
   "cell_type": "code",
   "execution_count": null,
   "id": "9f7a5a6e",
   "metadata": {},
   "outputs": [],
   "source": [
    "ttpm.head()"
   ]
  },
  {
   "cell_type": "code",
   "execution_count": null,
   "id": "6746bb18",
   "metadata": {},
   "outputs": [],
   "source": [
    "# subset genes to only those in the RF-only core stress genes (e.g. without the 45 that overlap)\n",
    "## set up a list of the 45 that overlap and the unique RF and set ops genes\n",
    "overlap = list(set(allcgrf).intersection(set(allcgso)))\n",
    "rfonly = list(set(allcgrf).difference(set(allcgso)))\n",
    "soonly = list(set(allcgso).difference(set(allcgrf)))"
   ]
  },
  {
   "cell_type": "code",
   "execution_count": null,
   "id": "adae9712",
   "metadata": {},
   "outputs": [],
   "source": [
    "overlaptpm = ttpm[ttpm[\"GeneID\"].isin(overlap)].set_index(\"GeneID\")\n",
    "rfonlytpm = ttpm[ttpm[\"GeneID\"].isin(rfonly)].set_index(\"GeneID\")\n",
    "soonlytpm = ttpm[ttpm[\"GeneID\"].isin(soonly)].set_index(\"GeneID\")"
   ]
  },
  {
   "cell_type": "code",
   "execution_count": null,
   "id": "0e25a9c0",
   "metadata": {},
   "outputs": [],
   "source": [
    "# log transform the tpm matrices\n",
    "overlap_log = overlaptpm.apply(lambda x: np.log2(x+1))\n",
    "rfonly_log = rfonlytpm.apply(lambda x: np.log2(x+1))\n",
    "soonly_log = soonlytpm.apply(lambda x: np.log2(x+1))"
   ]
  },
  {
   "cell_type": "code",
   "execution_count": null,
   "id": "ab8a4935",
   "metadata": {},
   "outputs": [],
   "source": [
    "tpm[[\"Sample\",\"BioProject\",\"Treatment\"]].head()"
   ]
  },
  {
   "cell_type": "code",
   "execution_count": null,
   "id": "43d72fd1",
   "metadata": {},
   "outputs": [],
   "source": [
    "# for overlap_log, merge with the metadata to add treatment and BioProject columns back in\n",
    "## actually just need to merge with the original tpm dataframe\n",
    "overlap_log_t = overlap_log.transpose().reset_index().merge(tpm[[\"Sample\",\"BioProject\",\"Treatment\"]])\n",
    "overlap_log_t.head()"
   ]
  },
  {
   "cell_type": "code",
   "execution_count": null,
   "id": "654d8ea0",
   "metadata": {},
   "outputs": [],
   "source": [
    "overlap_log_td = overlap_log_t.drop(\"Sample\",axis=1)"
   ]
  },
  {
   "cell_type": "code",
   "execution_count": null,
   "id": "20eb36b7",
   "metadata": {},
   "outputs": [],
   "source": [
    "overlap_log = overlap_log.set_index([\"Treatment\",\"BioProject\"])"
   ]
  },
  {
   "cell_type": "code",
   "execution_count": null,
   "id": "84ece2ba",
   "metadata": {},
   "outputs": [],
   "source": [
    "overlap_log_td[\"Treatment\"].mask(overlap_log_td[\"Treatment\"]==\"DroughtRepeat\",\"Drought\",inplace=True)"
   ]
  },
  {
   "cell_type": "code",
   "execution_count": null,
   "id": "e80592f8",
   "metadata": {},
   "outputs": [],
   "source": [
    "# Create a palette based on unique class labels\n",
    "palette = sns.color_palette('tab10', n_colors=overlap_log_td['Treatment'].nunique())"
   ]
  },
  {
   "cell_type": "code",
   "execution_count": null,
   "id": "6baf29e7",
   "metadata": {},
   "outputs": [],
   "source": [
    "td = {\"Flooding\":0,\"Drought\":1,\"Control\":2,\"Salt\":3,\"Cold\":4,\"Low_Nitrogen\":5,\"Heat\":6}"
   ]
  },
  {
   "cell_type": "code",
   "execution_count": null,
   "id": "d1791efe",
   "metadata": {},
   "outputs": [],
   "source": [
    "# Map each class label to a color\n",
    "overlap_log_td.replace({\"Treatment\":td},inplace=True)\n",
    "row_colors = overlap_log_td['Treatment'].map(lambda x: palette[int(x)])"
   ]
  },
  {
   "cell_type": "code",
   "execution_count": null,
   "id": "bf23f7e7",
   "metadata": {},
   "outputs": [],
   "source": [
    "sns.clustermap(\n",
    "    overlap_log_td.drop(columns=['Treatment',\"BioProject\"]),\n",
    "    cmap='viridis',\n",
    "    yticklabels=False,\n",
    "    row_cluster=True,\n",
    "    col_cluster=True,\n",
    "    figsize=(12, 20),  # Adjust size as needed\n",
    "    row_colors=row_colors,\n",
    "    dendrogram_ratio=(.1, .2)\n",
    ")\n",
    "plt.savefig(\"../../figures/core_genes_overlap_RF_setops_heatmap.pdf\",bbox_inches=\"tight\")"
   ]
  },
  {
   "cell_type": "code",
   "execution_count": null,
   "id": "f63bbb4d",
   "metadata": {},
   "outputs": [],
   "source": [
    "# repeat for RF-only genes\n",
    "rfonly_log_t = rfonly_log.transpose().reset_index().merge(tpm[[\"Sample\",\"BioProject\",\"Treatment\"]])\n",
    "rfonly_log_td = rfonly_log_t.drop(\"Sample\",axis=1)\n",
    "rfonly_log_td[\"Treatment\"].mask(rfonly_log_td[\"Treatment\"]==\"DroughtRepeat\",\"Drought\",inplace=True)"
   ]
  },
  {
   "cell_type": "code",
   "execution_count": null,
   "id": "06707480",
   "metadata": {},
   "outputs": [],
   "source": [
    "# Map each class label to a color\n",
    "rfonly_log_td.replace({\"Treatment\":td},inplace=True)\n",
    "row_colors = overlap_log_td['Treatment'].map(lambda x: palette[int(x)])"
   ]
  },
  {
   "cell_type": "code",
   "execution_count": null,
   "id": "199acc82",
   "metadata": {},
   "outputs": [],
   "source": [
    "sns.clustermap(\n",
    "    rfonly_log_td.drop(columns=['Treatment',\"BioProject\"]),\n",
    "    cmap='viridis',\n",
    "    yticklabels=False,\n",
    "    row_cluster=True,\n",
    "    col_cluster=True,\n",
    "    figsize=(12, 20),  # Adjust size as needed\n",
    "    row_colors=row_colors,\n",
    "    dendrogram_ratio=(.1, .2)\n",
    ")\n",
    "plt.savefig(\"../../figures/core_genes_RF_only_heatmap.pdf\",bbox_inches=\"tight\")"
   ]
  },
  {
   "cell_type": "code",
   "execution_count": null,
   "id": "cf37e2c5",
   "metadata": {},
   "outputs": [],
   "source": [
    "# repeat for set ops-only genes\n",
    "soonly_log_t = soonly_log.transpose().reset_index().merge(tpm[[\"Sample\",\"BioProject\",\"Treatment\"]])\n",
    "soonly_log_td = soonly_log_t.drop(\"Sample\",axis=1)\n",
    "soonly_log_td[\"Treatment\"].mask(soonly_log_td[\"Treatment\"]==\"DroughtRepeat\",\"Drought\",inplace=True)"
   ]
  },
  {
   "cell_type": "code",
   "execution_count": null,
   "id": "8710797e",
   "metadata": {},
   "outputs": [],
   "source": [
    "# Map each class label to a color\n",
    "soonly_log_td.replace({\"Treatment\":td},inplace=True)\n",
    "row_colors = soonly_log_td['Treatment'].map(lambda x: palette[int(x)])"
   ]
  },
  {
   "cell_type": "code",
   "execution_count": null,
   "id": "1055ef7b",
   "metadata": {},
   "outputs": [],
   "source": [
    "sns.clustermap(\n",
    "    soonly_log_td.drop(columns=['Treatment',\"BioProject\"]),\n",
    "    cmap='viridis',\n",
    "    yticklabels=False,\n",
    "    row_cluster=True,\n",
    "    col_cluster=True,\n",
    "    figsize=(12, 20),  # Adjust size as needed\n",
    "    row_colors=row_colors,\n",
    "    dendrogram_ratio=(.1, .2)\n",
    ")\n",
    "plt.savefig(\"../../figures/core_genes_setops_only_heatmap.pdf\",bbox_inches=\"tight\")"
   ]
  },
  {
   "cell_type": "code",
   "execution_count": null,
   "id": "1ca3d4d1",
   "metadata": {},
   "outputs": [],
   "source": [
    "### Code from Bob ###\n",
    "\n",
    "# Get the top 100 feature names\n",
    "top_100_features = [feature[0] for feature in sorted_feature_importance[:1000]]\n",
    "# Extract only the top 100 features, along with 'Experiment_Type' and 'Class'\n",
    "selected_columns = top_100_features + ['Experiment_Type', 'Class_Label']\n",
    "sub_df = expr_ML_clean[selected_columns]\n",
    "sub_df[top_100_features] = np.log2(sub_df[top_100_features] + 1)\n",
    "# Drop Experiment_Type for plotting, but keep Class_Label for hue\n",
    "plot_df = sub_df.drop(columns=['Experiment_Type'])\n",
    "# Create a palette based on unique class labels\n",
    "palette = sns.color_palette('tab10', n_colors=plot_df['Class_Label'].nunique())\n",
    "# Map each class label to a color\n",
    "row_colors = plot_df['Class_Label'].map(lambda x: palette[int(x)])\n",
    "# Create the clustermap\n",
    "sns.clustermap(\n",
    "    plot_df.drop(columns='Class_Label'),\n",
    "    cmap='viridis',\n",
    "    yticklabels=False,\n",
    "    row_cluster=True,\n",
    "    col_cluster=True,\n",
    "    figsize=(12, 20),  # Adjust size as needed\n",
    "    row_colors=row_colors,\n",
    "    dendrogram_ratio=(.1, .2)\n",
    ")\n",
    "# Add title\n",
    "plt.suptitle('Clustermap of Top 100 Features with Class Labels')plt.savefig(\"heatmap.pdf\")\n",
    "plt.show()  # If you want to also display the plot"
   ]
  },
  {
   "cell_type": "markdown",
   "id": "d45edf90",
   "metadata": {},
   "source": [
    "## Match up the genes with their names"
   ]
  },
  {
   "cell_type": "code",
   "execution_count": 34,
   "id": "32ef95e1",
   "metadata": {},
   "outputs": [
    {
     "data": {
      "text/html": [
       "<div>\n",
       "<style scoped>\n",
       "    .dataframe tbody tr th:only-of-type {\n",
       "        vertical-align: middle;\n",
       "    }\n",
       "\n",
       "    .dataframe tbody tr th {\n",
       "        vertical-align: top;\n",
       "    }\n",
       "\n",
       "    .dataframe thead th {\n",
       "        text-align: right;\n",
       "    }\n",
       "</style>\n",
       "<table border=\"1\" class=\"dataframe\">\n",
       "  <thead>\n",
       "    <tr style=\"text-align: right;\">\n",
       "      <th></th>\n",
       "      <th>gene_model</th>\n",
       "      <th>assembly_version</th>\n",
       "      <th>annotation_version</th>\n",
       "      <th>transcript_count</th>\n",
       "      <th>canonical_transcript_name</th>\n",
       "      <th>tandem_count</th>\n",
       "      <th>chr</th>\n",
       "      <th>gm_start</th>\n",
       "      <th>gm_end</th>\n",
       "      <th>locus_symbol</th>\n",
       "      <th>locus_name</th>\n",
       "      <th>gene_products</th>\n",
       "      <th>obo_terms</th>\n",
       "      <th>obo_names</th>\n",
       "    </tr>\n",
       "  </thead>\n",
       "  <tbody>\n",
       "    <tr>\n",
       "      <th>0</th>\n",
       "      <td>Zm00001eb000010</td>\n",
       "      <td>Zm-B73-REFERENCE-NAM-5.0</td>\n",
       "      <td>Zm00001eb.1</td>\n",
       "      <td>1</td>\n",
       "      <td>Zm00001eb000010_T001</td>\n",
       "      <td></td>\n",
       "      <td>chr1</td>\n",
       "      <td>34617</td>\n",
       "      <td>40204</td>\n",
       "      <td></td>\n",
       "      <td>...</td>\n",
       "      <td>...</td>\n",
       "      <td>{GO:0006353,GO:0006355,GO:0003690,GO:0006353,G...</td>\n",
       "      <td>{\"DNA-templated transcription, termination \",\"...</td>\n",
       "    </tr>\n",
       "    <tr>\n",
       "      <th>1</th>\n",
       "      <td>Zm00001eb000020</td>\n",
       "      <td>Zm-B73-REFERENCE-NAM-5.0</td>\n",
       "      <td>Zm00001eb.1</td>\n",
       "      <td>4</td>\n",
       "      <td>Zm00001eb000020_T001</td>\n",
       "      <td></td>\n",
       "      <td>chr1</td>\n",
       "      <td>41214</td>\n",
       "      <td>46762</td>\n",
       "      <td>pco082477</td>\n",
       "      <td>...</td>\n",
       "      <td>...</td>\n",
       "      <td>{GO:0016301,GO:0006511,GO:0140014,GO:0005813,G...</td>\n",
       "      <td>{\"kinase activity\",\"ubiquitin-dependent protei...</td>\n",
       "    </tr>\n",
       "    <tr>\n",
       "      <th>2</th>\n",
       "      <td>Zm00001eb000030</td>\n",
       "      <td>Zm-B73-REFERENCE-NAM-5.0</td>\n",
       "      <td>Zm00001eb.1</td>\n",
       "      <td></td>\n",
       "      <td></td>\n",
       "      <td>2</td>\n",
       "      <td>chr1</td>\n",
       "      <td>106148</td>\n",
       "      <td>106620</td>\n",
       "      <td></td>\n",
       "      <td>...</td>\n",
       "      <td>...</td>\n",
       "      <td>...</td>\n",
       "      <td>NaN</td>\n",
       "    </tr>\n",
       "    <tr>\n",
       "      <th>3</th>\n",
       "      <td>Zm00001eb000040</td>\n",
       "      <td>Zm-B73-REFERENCE-NAM-5.0</td>\n",
       "      <td>Zm00001eb.1</td>\n",
       "      <td></td>\n",
       "      <td></td>\n",
       "      <td>2</td>\n",
       "      <td>chr1</td>\n",
       "      <td>107080</td>\n",
       "      <td>108196</td>\n",
       "      <td></td>\n",
       "      <td>...</td>\n",
       "      <td>...</td>\n",
       "      <td>...</td>\n",
       "      <td>NaN</td>\n",
       "    </tr>\n",
       "    <tr>\n",
       "      <th>4</th>\n",
       "      <td>Zm00001eb000050</td>\n",
       "      <td>Zm-B73-REFERENCE-NAM-5.0</td>\n",
       "      <td>Zm00001eb.1</td>\n",
       "      <td>1</td>\n",
       "      <td>Zm00001eb000050_T001</td>\n",
       "      <td></td>\n",
       "      <td>chr1</td>\n",
       "      <td>108554</td>\n",
       "      <td>114382</td>\n",
       "      <td></td>\n",
       "      <td>...</td>\n",
       "      <td>...</td>\n",
       "      <td>{GO:0043047,GO:0005662,GO:0007004,GO:0006268,G...</td>\n",
       "      <td>{\"single-stranded telomeric DNA binding\",\"DNA ...</td>\n",
       "    </tr>\n",
       "  </tbody>\n",
       "</table>\n",
       "</div>"
      ],
      "text/plain": [
       "     gene_model         assembly_version      annotation_version  \\\n",
       "0  Zm00001eb000010  Zm-B73-REFERENCE-NAM-5.0  Zm00001eb.1          \n",
       "1  Zm00001eb000020  Zm-B73-REFERENCE-NAM-5.0  Zm00001eb.1          \n",
       "2  Zm00001eb000030  Zm-B73-REFERENCE-NAM-5.0  Zm00001eb.1          \n",
       "3  Zm00001eb000040  Zm-B73-REFERENCE-NAM-5.0  Zm00001eb.1          \n",
       "4  Zm00001eb000050  Zm-B73-REFERENCE-NAM-5.0  Zm00001eb.1          \n",
       "\n",
       "   transcript_count  canonical_transcript_name  tandem_count    chr     \\\n",
       "0                 1  Zm00001eb000010_T001                     chr1       \n",
       "1                 4  Zm00001eb000020_T001                     chr1       \n",
       "2                                                          2  chr1       \n",
       "3                                                          2  chr1       \n",
       "4                 1  Zm00001eb000050_T001                     chr1       \n",
       "\n",
       "   gm_start   gm_end       locus_symbol     \\\n",
       "0      34617     40204                       \n",
       "1      41214     46762  pco082477            \n",
       "2     106148    106620                       \n",
       "3     107080    108196                       \n",
       "4     108554    114382                       \n",
       "\n",
       "               locus_name                             \\\n",
       "0                                                ...   \n",
       "1                                                ...   \n",
       "2                                                ...   \n",
       "3                                                ...   \n",
       "4                                                ...   \n",
       "\n",
       "  gene_products                                                                          \\\n",
       "0                                                ...                                      \n",
       "1                                                ...                                      \n",
       "2                                                ...                                      \n",
       "3                                                ...                                      \n",
       "4                                                ...                                      \n",
       "\n",
       "  obo_terms                                                                                                                                                                                                                                                                                                                                                                                                                                                                                                                                                                                                                                                                                                                                                                                                                                                                                                                                                                                                                                                                                                                                                                                                                                                                                                                                                                                                                                                                                                                                                                                                                                                                                                \\\n",
       "0  {GO:0006353,GO:0006355,GO:0003690,GO:0006353,G...                                                                                                                                                                                                                                                                                                                                                                                                                                                                                                                                                                                                                                                                                                                                                                                                                                                                                                                                                                                                                                                                                                                                                                                                                                                                                                                                                                                                                                                                                                                                                                                                                                                        \n",
       "1  {GO:0016301,GO:0006511,GO:0140014,GO:0005813,G...                                                                                                                                                                                                                                                                                                                                                                                                                                                                                                                                                                                                                                                                                                                                                                                                                                                                                                                                                                                                                                                                                                                                                                                                                                                                                                                                                                                                                                                                                                                                                                                                                                                        \n",
       "2                                                ...                                                                                                                                                                                                                                                                                                                                                                                                                                                                                                                                                                                                                                                                                                                                                                                                                                                                                                                                                                                                                                                                                                                                                                                                                                                                                                                                                                                                                                                                                                                                                                                                                                                        \n",
       "3                                                ...                                                                                                                                                                                                                                                                                                                                                                                                                                                                                                                                                                                                                                                                                                                                                                                                                                                                                                                                                                                                                                                                                                                                                                                                                                                                                                                                                                                                                                                                                                                                                                                                                                                        \n",
       "4  {GO:0043047,GO:0005662,GO:0007004,GO:0006268,G...                                                                                                                                                                                                                                                                                                                                                                                                                                                                                                                                                                                                                                                                                                                                                                                                                                                                                                                                                                                                                                                                                                                                                                                                                                                                                                                                                                                                                                                                                                                                                                                                                                                        \n",
       "\n",
       "  obo_names                                                                                                                                                                                                                                                                                                                                                                                                                                                                                                                                                                                                                                                                                                                                                                                                                                                                                                                                                                                                                                                                                                                                                                                                                                                                                                                                                                                                                                                                                                                                                                                                                                                                                                                                                                                                                                                                                                                                                                                                                                                                                                                                                                                                                                                                                                                                                                                                                                                                                                                                                                                                                                                                                                                                                                                                                                                                                                                                                                                                                                                                                                                                                                                                                                                                                                                                                                                                                                                                                                                                                                                                                                                                                                                                                                                                                                                                                                                          \n",
       "0  {\"DNA-templated transcription, termination \",\"...                                                                                                                                                                                                                                                                                                                                                                                                                                                                                                                                                                                                                                                                                                                                                                                                                                                                                                                                                                                                                                                                                                                                                                                                                                                                                                                                                                                                                                                                                                                                                                                                                                                                                                                                                                                                                                                                                                                                                                                                                                                                                                                                                                                                                                                                                                                                                                                                                                                                                                                                                                                                                                                                                                                                                                                                                                                                                                                                                                                                                                                                                                                                                                                                                                                                                                                                                                                                                                                                                                                                                                                                                                                                                                                                                                                                                                                                                 \n",
       "1  {\"kinase activity\",\"ubiquitin-dependent protei...                                                                                                                                                                                                                                                                                                                                                                                                                                                                                                                                                                                                                                                                                                                                                                                                                                                                                                                                                                                                                                                                                                                                                                                                                                                                                                                                                                                                                                                                                                                                                                                                                                                                                                                                                                                                                                                                                                                                                                                                                                                                                                                                                                                                                                                                                                                                                                                                                                                                                                                                                                                                                                                                                                                                                                                                                                                                                                                                                                                                                                                                                                                                                                                                                                                                                                                                                                                                                                                                                                                                                                                                                                                                                                                                                                                                                                                                                 \n",
       "2                                                NaN                                                                                                                                                                                                                                                                                                                                                                                                                                                                                                                                                                                                                                                                                                                                                                                                                                                                                                                                                                                                                                                                                                                                                                                                                                                                                                                                                                                                                                                                                                                                                                                                                                                                                                                                                                                                                                                                                                                                                                                                                                                                                                                                                                                                                                                                                                                                                                                                                                                                                                                                                                                                                                                                                                                                                                                                                                                                                                                                                                                                                                                                                                                                                                                                                                                                                                                                                                                                                                                                                                                                                                                                                                                                                                                                                                                                                                                                                 \n",
       "3                                                NaN                                                                                                                                                                                                                                                                                                                                                                                                                                                                                                                                                                                                                                                                                                                                                                                                                                                                                                                                                                                                                                                                                                                                                                                                                                                                                                                                                                                                                                                                                                                                                                                                                                                                                                                                                                                                                                                                                                                                                                                                                                                                                                                                                                                                                                                                                                                                                                                                                                                                                                                                                                                                                                                                                                                                                                                                                                                                                                                                                                                                                                                                                                                                                                                                                                                                                                                                                                                                                                                                                                                                                                                                                                                                                                                                                                                                                                                                                 \n",
       "4  {\"single-stranded telomeric DNA binding\",\"DNA ...                                                                                                                                                                                                                                                                                                                                                                                                                                                                                                                                                                                                                                                                                                                                                                                                                                                                                                                                                                                                                                                                                                                                                                                                                                                                                                                                                                                                                                                                                                                                                                                                                                                                                                                                                                                                                                                                                                                                                                                                                                                                                                                                                                                                                                                                                                                                                                                                                                                                                                                                                                                                                                                                                                                                                                                                                                                                                                                                                                                                                                                                                                                                                                                                                                                                                                                                                                                                                                                                                                                                                                                                                                                                                                                                                                                                                                                                                 "
      ]
     },
     "execution_count": 34,
     "metadata": {},
     "output_type": "execute_result"
    }
   ],
   "source": [
    "# load the metadata\n",
    "zmmd = pd.read_csv(\"../../data/Zm00001eb.1.fulldata_formatted.txt\",sep=\"\\t\",header=\"infer\")\n",
    "zmmd.head()"
   ]
  },
  {
   "cell_type": "code",
   "execution_count": null,
   "id": "21aa65c6",
   "metadata": {},
   "outputs": [],
   "source": [
    "type(zmmd.iloc[0,10].strip())"
   ]
  },
  {
   "cell_type": "code",
   "execution_count": null,
   "id": "507272bc",
   "metadata": {},
   "outputs": [],
   "source": [
    "zmmd.iloc[0,10].strip()"
   ]
  },
  {
   "cell_type": "code",
   "execution_count": null,
   "id": "39f55623",
   "metadata": {},
   "outputs": [],
   "source": [
    "# rename columns to strip extra whitespace from names\n",
    "for c in zmmd.columns:\n",
    "    zmmd.rename(columns={c:c.strip()},inplace=True)"
   ]
  },
  {
   "cell_type": "code",
   "execution_count": null,
   "id": "2479cb53",
   "metadata": {},
   "outputs": [],
   "source": [
    "# merge with overall core stress gene list\n",
    "## load overall core stress gene list\n",
    "allcg = list(pd.read_csv(\"../../data/union_core_stress_genes.txt\",sep=\"\\t\",header=None)[0])"
   ]
  },
  {
   "cell_type": "code",
   "execution_count": null,
   "id": "f0d041d9",
   "metadata": {},
   "outputs": [],
   "source": [
    "zmmd.iloc[0,0]"
   ]
  },
  {
   "cell_type": "code",
   "execution_count": null,
   "id": "a592bee8",
   "metadata": {},
   "outputs": [],
   "source": [
    "cgmd = zmmd[zmmd[\"gene_model\"].isin(allcg)]\n",
    "len(cgmd.index)==len(allcg)"
   ]
  },
  {
   "cell_type": "code",
   "execution_count": null,
   "id": "44c7674d",
   "metadata": {},
   "outputs": [],
   "source": [
    "len(cgmd.index)"
   ]
  },
  {
   "cell_type": "code",
   "execution_count": null,
   "id": "759665a1",
   "metadata": {},
   "outputs": [],
   "source": [
    "len(allcg)"
   ]
  },
  {
   "cell_type": "code",
   "execution_count": null,
   "id": "b4be5b7c",
   "metadata": {},
   "outputs": [],
   "source": [
    "len(cgmd[\"gene_model\"].unique())"
   ]
  },
  {
   "cell_type": "code",
   "execution_count": null,
   "id": "facda88b",
   "metadata": {},
   "outputs": [],
   "source": [
    "# drop any duplicated rows\n",
    "cgmd.drop_duplicates(inplace=True)"
   ]
  },
  {
   "cell_type": "code",
   "execution_count": null,
   "id": "127ce808",
   "metadata": {},
   "outputs": [],
   "source": [
    "len(cgmd.index)"
   ]
  },
  {
   "cell_type": "code",
   "execution_count": null,
   "id": "92214b0f",
   "metadata": {},
   "outputs": [],
   "source": [
    "# there were no duplicated rows, okay then\n",
    "# so I know, what gene IDs are duplicated?\n",
    "v = cgmd[\"gene_model\"].value_counts()"
   ]
  },
  {
   "cell_type": "markdown",
   "id": "374f472e",
   "metadata": {},
   "source": [
    "Genes appearing more than once:\n",
    "- Zm00001eb044840\n",
    "- Zm00001eb079430\n",
    "- Zm00001eb212120\n",
    "- Zm00001eb227310\n",
    "- Zm00001eb325640\n",
    "- Zm00001eb433050<br>\n",
    "\n",
    "These genes appear to each have more than one locus name or locus symbol."
   ]
  },
  {
   "cell_type": "code",
   "execution_count": null,
   "id": "b4793498",
   "metadata": {},
   "outputs": [],
   "source": [
    "cgmd.head()"
   ]
  },
  {
   "cell_type": "code",
   "execution_count": null,
   "id": "4c56b989",
   "metadata": {},
   "outputs": [],
   "source": [
    "cgmd.loc[74,\"gene_model\"]"
   ]
  },
  {
   "cell_type": "code",
   "execution_count": null,
   "id": "028f7a00",
   "metadata": {},
   "outputs": [],
   "source": [
    "# pull out the genes with known names: how many unique genes are there?\n",
    "geneID = []\n",
    "locusname = []\n",
    "for i in cgmd.index:\n",
    "    ln = cgmd.loc[i,\"locus_name\"]\n",
    "    if ln.strip() != \"\":\n",
    "        locusname.append(ln.strip())\n",
    "        geneID.append(cgmd.loc[i,\"gene_model\"])"
   ]
  },
  {
   "cell_type": "code",
   "execution_count": null,
   "id": "575150ff",
   "metadata": {},
   "outputs": [],
   "source": [
    "# make a dataframe of all the core genes with locus names\n",
    "named_cg = pd.DataFrame(list(zip(geneID,locusname)),columns=[\"GeneID\",\"Name\"])\n",
    "len(named_cg[\"GeneID\"].unique())"
   ]
  },
  {
   "cell_type": "code",
   "execution_count": null,
   "id": "13892c56",
   "metadata": {},
   "outputs": [],
   "source": [
    "# Actually, I want to put together a dataframe (later output to a tsv) of the core genes, showing their names if they have any,\n",
    "## what method they were found by, and whether upregulated or downregulated or both (under any stress condition at all)\n",
    "# Before running this I re-ran some cells above to load in all the various core stress gene lists on my file system\n",
    "# relevant lists: allcoreup, allcoredn, allcgso, allcgrf\n",
    "\n",
    "upreg = []\n",
    "downreg = []\n",
    "RF = []\n",
    "setops = []\n",
    "for g in allcg:\n",
    "    if g in allcoreup:\n",
    "        upreg.append(\"Y\")\n",
    "    else:\n",
    "        upreg.append(\"N\")\n",
    "        \n",
    "    if g in allcoredn:\n",
    "        downreg.append(\"Y\")\n",
    "    else:\n",
    "        downreg.append(\"N\")\n",
    "        \n",
    "    if g in allcgso:\n",
    "        setops.append(\"Y\")\n",
    "    else:\n",
    "        setops.append(\"N\")\n",
    "    \n",
    "    if g in allcgrf:\n",
    "        RF.append(\"Y\")\n",
    "    else:\n",
    "        RF.append(\"N\")"
   ]
  },
  {
   "cell_type": "code",
   "execution_count": null,
   "id": "56262ffb",
   "metadata": {},
   "outputs": [],
   "source": [
    "# make a starter dataframe\n",
    "cg_info = pd.DataFrame(list(zip(allcg,upreg,downreg,RF,setops)),columns=[\"gene_model\",\"Upregulated\",\"Downregulated\",\n",
    "                                                                        \"From_RF\",\"From_Set_Ops\"])\n",
    "cg_info.head()"
   ]
  },
  {
   "cell_type": "code",
   "execution_count": null,
   "id": "e7a84008",
   "metadata": {},
   "outputs": [],
   "source": [
    "# merge with a couple columns of the metadata df to get the locus names\n",
    "cg_info2 = cg_info.merge(zmmd[[\"gene_model\",\"locus_name\"]])\n",
    "cg_info2.head()"
   ]
  },
  {
   "cell_type": "code",
   "execution_count": null,
   "id": "94a52eea",
   "metadata": {},
   "outputs": [],
   "source": [
    "# remove excess space from the locus names\n",
    "names = []\n",
    "for n in list(cg_info2[\"locus_name\"]):\n",
    "    names.append(n.strip())\n",
    "cg_info2[\"Name\"] = names\n",
    "cg_info2.head()"
   ]
  },
  {
   "cell_type": "code",
   "execution_count": null,
   "id": "8c49a0a4",
   "metadata": {},
   "outputs": [],
   "source": [
    "cg_info_final = cg_info2[[\"gene_model\",\"Name\",\"Upregulated\",\"Downregulated\",\"From_RF\",\"From_Set_Ops\"]].rename(\n",
    "    columns={\"gene_model\":\"GeneID\"})\n",
    "cg_info_final.head()"
   ]
  },
  {
   "cell_type": "code",
   "execution_count": null,
   "id": "1c449f86",
   "metadata": {},
   "outputs": [],
   "source": [
    "# save as a tsv file\n",
    "cg_info_final.to_csv(\"../../data/CoreGenes_Final_Info.tsv\",sep=\"\\t\",header=True,index=False)"
   ]
  },
  {
   "cell_type": "markdown",
   "id": "89a5fce5",
   "metadata": {},
   "source": [
    "## Enrichments of individual TF families"
   ]
  },
  {
   "cell_type": "code",
   "execution_count": 35,
   "id": "0a135a2b",
   "metadata": {},
   "outputs": [
    {
     "data": {
      "text/html": [
       "<div>\n",
       "<style scoped>\n",
       "    .dataframe tbody tr th:only-of-type {\n",
       "        vertical-align: middle;\n",
       "    }\n",
       "\n",
       "    .dataframe tbody tr th {\n",
       "        vertical-align: top;\n",
       "    }\n",
       "\n",
       "    .dataframe thead th {\n",
       "        text-align: right;\n",
       "    }\n",
       "</style>\n",
       "<table border=\"1\" class=\"dataframe\">\n",
       "  <thead>\n",
       "    <tr style=\"text-align: right;\">\n",
       "      <th></th>\n",
       "      <th>GeneID</th>\n",
       "      <th>Name</th>\n",
       "      <th>Upregulated</th>\n",
       "      <th>Downregulated</th>\n",
       "      <th>From_RF</th>\n",
       "      <th>From_Set_Ops</th>\n",
       "    </tr>\n",
       "  </thead>\n",
       "  <tbody>\n",
       "    <tr>\n",
       "      <th>0</th>\n",
       "      <td>Zm00001eb418060</td>\n",
       "      <td>glutathione S-transferase2</td>\n",
       "      <td>Y</td>\n",
       "      <td>N</td>\n",
       "      <td>N</td>\n",
       "      <td>Y</td>\n",
       "    </tr>\n",
       "    <tr>\n",
       "      <th>1</th>\n",
       "      <td>Zm00001eb225440</td>\n",
       "      <td>NaN</td>\n",
       "      <td>Y</td>\n",
       "      <td>Y</td>\n",
       "      <td>Y</td>\n",
       "      <td>N</td>\n",
       "    </tr>\n",
       "    <tr>\n",
       "      <th>2</th>\n",
       "      <td>Zm00001eb197060</td>\n",
       "      <td>NaN</td>\n",
       "      <td>Y</td>\n",
       "      <td>N</td>\n",
       "      <td>N</td>\n",
       "      <td>Y</td>\n",
       "    </tr>\n",
       "    <tr>\n",
       "      <th>3</th>\n",
       "      <td>Zm00001eb322670</td>\n",
       "      <td>NaN</td>\n",
       "      <td>Y</td>\n",
       "      <td>Y</td>\n",
       "      <td>Y</td>\n",
       "      <td>N</td>\n",
       "    </tr>\n",
       "    <tr>\n",
       "      <th>4</th>\n",
       "      <td>Zm00001eb089800</td>\n",
       "      <td>aconitase8</td>\n",
       "      <td>Y</td>\n",
       "      <td>Y</td>\n",
       "      <td>Y</td>\n",
       "      <td>N</td>\n",
       "    </tr>\n",
       "  </tbody>\n",
       "</table>\n",
       "</div>"
      ],
      "text/plain": [
       "            GeneID                        Name Upregulated Downregulated  \\\n",
       "0  Zm00001eb418060  glutathione S-transferase2           Y             N   \n",
       "1  Zm00001eb225440                         NaN           Y             Y   \n",
       "2  Zm00001eb197060                         NaN           Y             N   \n",
       "3  Zm00001eb322670                         NaN           Y             Y   \n",
       "4  Zm00001eb089800                  aconitase8           Y             Y   \n",
       "\n",
       "  From_RF From_Set_Ops  \n",
       "0       N            Y  \n",
       "1       Y            N  \n",
       "2       N            Y  \n",
       "3       Y            N  \n",
       "4       Y            N  "
      ]
     },
     "execution_count": 35,
     "metadata": {},
     "output_type": "execute_result"
    }
   ],
   "source": [
    "# load the core genes\n",
    "cg = pd.read_csv(\"../../data/CoreGenes_Final_Info.tsv\",sep=\"\\t\",header=\"infer\")\n",
    "cg.head()"
   ]
  },
  {
   "cell_type": "code",
   "execution_count": 36,
   "id": "ad96c2bd",
   "metadata": {},
   "outputs": [
    {
     "ename": "NameError",
     "evalue": "name 'ld' is not defined",
     "output_type": "error",
     "traceback": [
      "\u001b[0;31m---------------------------------------------------------------------------\u001b[0m",
      "\u001b[0;31mNameError\u001b[0m                                 Traceback (most recent call last)",
      "Input \u001b[0;32mIn [36]\u001b[0m, in \u001b[0;36m<cell line: 2>\u001b[0;34m()\u001b[0m\n\u001b[1;32m      1\u001b[0m \u001b[38;5;66;03m# also, recall the dictionary I made before\u001b[39;00m\n\u001b[0;32m----> 2\u001b[0m \u001b[43mld\u001b[49m\n",
      "\u001b[0;31mNameError\u001b[0m: name 'ld' is not defined"
     ]
    }
   ],
   "source": [
    "# also, recall the dictionary I made before\n",
    "ld"
   ]
  },
  {
   "cell_type": "code",
   "execution_count": 37,
   "id": "6c62e736",
   "metadata": {},
   "outputs": [
    {
     "data": {
      "text/html": [
       "<div>\n",
       "<style scoped>\n",
       "    .dataframe tbody tr th:only-of-type {\n",
       "        vertical-align: middle;\n",
       "    }\n",
       "\n",
       "    .dataframe tbody tr th {\n",
       "        vertical-align: top;\n",
       "    }\n",
       "\n",
       "    .dataframe thead th {\n",
       "        text-align: right;\n",
       "    }\n",
       "</style>\n",
       "<table border=\"1\" class=\"dataframe\">\n",
       "  <thead>\n",
       "    <tr style=\"text-align: right;\">\n",
       "      <th></th>\n",
       "      <th>number for sorting purposes</th>\n",
       "      <th>protein name</th>\n",
       "      <th>family</th>\n",
       "      <th>gene ID</th>\n",
       "      <th>synonym</th>\n",
       "      <th>clone</th>\n",
       "      <th>all gene IDs</th>\n",
       "      <th>Unnamed: 7</th>\n",
       "    </tr>\n",
       "  </thead>\n",
       "  <tbody>\n",
       "    <tr>\n",
       "      <th>0</th>\n",
       "      <td>1</td>\n",
       "      <td>ZmABI1</td>\n",
       "      <td>ABI3-VP1</td>\n",
       "      <td>Zm00001eb143690</td>\n",
       "      <td>VP1</td>\n",
       "      <td>pUT3351</td>\n",
       "      <td>Zm00001eb143690 Zm00001d042396 GRMZM2G133398</td>\n",
       "      <td>NaN</td>\n",
       "    </tr>\n",
       "    <tr>\n",
       "      <th>1</th>\n",
       "      <td>2</td>\n",
       "      <td>ZmABI2</td>\n",
       "      <td>ABI3-VP1</td>\n",
       "      <td>Zm00001eb427970</td>\n",
       "      <td>ABI2</td>\n",
       "      <td>pUT3663</td>\n",
       "      <td>Zm00001d026005 Zm00001eb427970 GRMZM2G018485</td>\n",
       "      <td>NaN</td>\n",
       "    </tr>\n",
       "    <tr>\n",
       "      <th>2</th>\n",
       "      <td>3</td>\n",
       "      <td>ZmABI3</td>\n",
       "      <td>ABI3-VP1</td>\n",
       "      <td>Zm00001eb066270</td>\n",
       "      <td>ABI3</td>\n",
       "      <td>pUT3236</td>\n",
       "      <td>Zm00001eb066270 Zm00001d001838 GRMZM2G149940</td>\n",
       "      <td>NaN</td>\n",
       "    </tr>\n",
       "    <tr>\n",
       "      <th>3</th>\n",
       "      <td>4</td>\n",
       "      <td>ZmABI4</td>\n",
       "      <td>ABI3-VP1</td>\n",
       "      <td>Zm00001eb051330</td>\n",
       "      <td>ABI4</td>\n",
       "      <td>pUT4675</td>\n",
       "      <td>Zm00001d033313 GRMZM2G098063 Zm00001eb051330</td>\n",
       "      <td>NaN</td>\n",
       "    </tr>\n",
       "    <tr>\n",
       "      <th>4</th>\n",
       "      <td>5</td>\n",
       "      <td>ZmABI5</td>\n",
       "      <td>ABI3-VP1</td>\n",
       "      <td>Zm00001eb218990</td>\n",
       "      <td>ABI5</td>\n",
       "      <td>pUT4673</td>\n",
       "      <td>Zm00001d013722 Zm00001eb218990 GRMZM2G320754</td>\n",
       "      <td>NaN</td>\n",
       "    </tr>\n",
       "  </tbody>\n",
       "</table>\n",
       "</div>"
      ],
      "text/plain": [
       "   number for sorting purposes protein name    family          gene ID  \\\n",
       "0                            1       ZmABI1  ABI3-VP1  Zm00001eb143690   \n",
       "1                            2       ZmABI2  ABI3-VP1  Zm00001eb427970   \n",
       "2                            3       ZmABI3  ABI3-VP1  Zm00001eb066270   \n",
       "3                            4       ZmABI4  ABI3-VP1  Zm00001eb051330   \n",
       "4                            5       ZmABI5  ABI3-VP1  Zm00001eb218990   \n",
       "\n",
       "  synonym    clone                                  all gene IDs Unnamed: 7  \n",
       "0     VP1  pUT3351  Zm00001eb143690 Zm00001d042396 GRMZM2G133398        NaN  \n",
       "1    ABI2  pUT3663  Zm00001d026005 Zm00001eb427970 GRMZM2G018485        NaN  \n",
       "2    ABI3  pUT3236  Zm00001eb066270 Zm00001d001838 GRMZM2G149940        NaN  \n",
       "3    ABI4  pUT4675  Zm00001d033313 GRMZM2G098063 Zm00001eb051330        NaN  \n",
       "4    ABI5  pUT4673  Zm00001d013722 Zm00001eb218990 GRMZM2G320754        NaN  "
      ]
     },
     "execution_count": 37,
     "metadata": {},
     "output_type": "execute_result"
    }
   ],
   "source": [
    "tf.head()"
   ]
  },
  {
   "cell_type": "code",
   "execution_count": null,
   "id": "aa7a8487",
   "metadata": {},
   "outputs": [],
   "source": [
    "# make a new function for setting up data for Fisher's exact test on a given TF family\n",
    "def tf_family_data_setup(coregenelist,family):\n",
    "    # subset the tf data to just the family\n",
    "    fam = tf[tf[\"family\"]==family]\n",
    "    \n",
    "    gid = pd.DataFrame(ttpm[\"GeneID\"])\n",
    "    coreornot = []\n",
    "    famornot = []\n",
    "    for g in list(gid[\"GeneID\"]):\n",
    "        if g in list(fam[\"gene ID\"]):\n",
    "            famornot.append(\"Yes\")\n",
    "        else:\n",
    "            famornot.append(\"No\")\n",
    "        if g in coregenelist:\n",
    "            coreornot.append(\"Yes\")\n",
    "        else:\n",
    "            coreornot.append(\"No\")\n",
    "    gid[\"inFamily\"] = famornot\n",
    "    gid[\"isCore\"] = coreornot\n",
    "    return gid"
   ]
  },
  {
   "cell_type": "code",
   "execution_count": null,
   "id": "5f19224d",
   "metadata": {},
   "outputs": [],
   "source": [
    "def tf_family_fisher(coregenelist,family):\n",
    "    df = tf_family_data_setup(coregenelist,family)\n",
    "    if len(df[\"inFamily\"].unique())==2:\n",
    "        data = pd.crosstab(index=df[\"inFamily\"],columns=df[\"isCore\"])\n",
    "        odds_ratio,p_value = stats.fisher_exact(data)\n",
    "        return (odds_ratio,p_value)\n",
    "    else:\n",
    "        return (\"NA\",\"NA\")"
   ]
  },
  {
   "cell_type": "code",
   "execution_count": null,
   "id": "fda00df0",
   "metadata": {},
   "outputs": [],
   "source": [
    "# make a list of all TF families\n",
    "type(list(tf[\"family\"].unique()))"
   ]
  },
  {
   "cell_type": "code",
   "execution_count": null,
   "id": "f86d03ab",
   "metadata": {},
   "outputs": [],
   "source": [
    "ld.keys()"
   ]
  },
  {
   "cell_type": "code",
   "execution_count": null,
   "id": "7c61cc76",
   "metadata": {},
   "outputs": [],
   "source": [
    "# for upregulated core genes from all methods: loop through TF families and test for enrichment of each one, then apply FDR\n",
    "## correction\n",
    "ids = [i for i in list(tf[\"family\"].unique())]\n",
    "pvals = [tf_family_fisher(ld[\"Up_All\"],i)[1] for i in list(tf[\"family\"].unique())]\n",
    "odds = [tf_family_fisher(ld[\"Up_All\"],i)[0] for i in list(tf[\"family\"].unique())]"
   ]
  },
  {
   "cell_type": "code",
   "execution_count": null,
   "id": "e24ad0a4",
   "metadata": {},
   "outputs": [],
   "source": [
    "# make results dataframe\n",
    "upres = pd.DataFrame(list(zip(ids,pvals,odds)),columns=[\"TF_Family\",\"p_value\",\"odds_ratio\"])"
   ]
  },
  {
   "cell_type": "code",
   "execution_count": null,
   "id": "6927731d",
   "metadata": {},
   "outputs": [],
   "source": [
    "upres.head()"
   ]
  },
  {
   "cell_type": "code",
   "execution_count": null,
   "id": "b56fd20b",
   "metadata": {},
   "outputs": [],
   "source": [
    "# drop NA rows\n",
    "upres = upres[upres[\"p_value\"]!=\"NA\"]"
   ]
  },
  {
   "cell_type": "code",
   "execution_count": null,
   "id": "0f9552a4",
   "metadata": {},
   "outputs": [],
   "source": [
    "# run FDR on p-values\n",
    "upres[\"p-adj\"] = fdrcorrection(upres[\"p_value\"])[1]\n",
    "upres.head()"
   ]
  },
  {
   "cell_type": "code",
   "execution_count": null,
   "id": "1f5397f6",
   "metadata": {},
   "outputs": [],
   "source": [
    "# what families are significant?\n",
    "upres[upres[\"p-adj\"]<0.1]"
   ]
  },
  {
   "cell_type": "code",
   "execution_count": null,
   "id": "3186200f",
   "metadata": {},
   "outputs": [],
   "source": [
    "# repeat for downregulated core genes\n",
    "ids = [i for i in list(tf[\"family\"].unique())]\n",
    "pvals = [tf_family_fisher(ld[\"Down_All\"],i)[1] for i in list(tf[\"family\"].unique())]\n",
    "odds = [tf_family_fisher(ld[\"Down_All\"],i)[0] for i in list(tf[\"family\"].unique())]"
   ]
  },
  {
   "cell_type": "code",
   "execution_count": null,
   "id": "ad9db68c",
   "metadata": {},
   "outputs": [],
   "source": [
    "dnres = pd.DataFrame(list(zip(ids,pvals,odds)),columns=[\"TF_Family\",\"p_value\",\"odds_ratio\"])"
   ]
  },
  {
   "cell_type": "code",
   "execution_count": null,
   "id": "cf750871",
   "metadata": {},
   "outputs": [],
   "source": [
    "dnres = dnres[dnres[\"p_value\"]!=\"NA\"]\n",
    "dnres[\"p-adj\"] = fdrcorrection(dnres[\"p_value\"])[1]"
   ]
  },
  {
   "cell_type": "code",
   "execution_count": null,
   "id": "e06c83b7",
   "metadata": {},
   "outputs": [],
   "source": [
    "dnres[dnres[\"p-adj\"]<0.1]"
   ]
  },
  {
   "cell_type": "code",
   "execution_count": null,
   "id": "747ffef9",
   "metadata": {},
   "outputs": [],
   "source": [
    "# pull out a list of the HSF genes that are present in the upregulated core set\n",
    "## also the NACs, AP2/ERF-AP2s, AP2/ERF-ERFs, and bZIPs\n",
    "## and the AP2/ERF-AP2s in the downregulated genes\n",
    "## save as a file for tomorrow or whenever\n",
    "cgt = cg.rename(columns={\"GeneID\":\"gene ID\"}).merge(tf[[\"gene ID\",\"family\",\"protein name\"]])\n",
    "len(cgt.index)"
   ]
  },
  {
   "cell_type": "code",
   "execution_count": null,
   "id": "08f6a7bd",
   "metadata": {},
   "outputs": [],
   "source": [
    "cgt.head()"
   ]
  },
  {
   "cell_type": "code",
   "execution_count": null,
   "id": "0bb76d20",
   "metadata": {},
   "outputs": [],
   "source": [
    "families = [\"HSF\",\"AP2/ERF-AP2\",\"AP2/ERF-ERF\",\"bZIP\",\"NAC\"]\n",
    "famofint = cgt[cgt[\"family\"].isin(families)]\n",
    "famofint[\"family\"].unique()"
   ]
  },
  {
   "cell_type": "code",
   "execution_count": null,
   "id": "e4a4ea28",
   "metadata": {},
   "outputs": [],
   "source": [
    "famofint.to_csv(\"../../data/core_genes_TF_fam_of_interest.tsv\",sep=\"\\t\",header=True,index=False)"
   ]
  },
  {
   "cell_type": "markdown",
   "id": "7e4a3610",
   "metadata": {},
   "source": [
    "## Are modules containing upregulated TFs of interest enriched in core genes?"
   ]
  },
  {
   "cell_type": "code",
   "execution_count": 38,
   "id": "167b3774",
   "metadata": {},
   "outputs": [
    {
     "data": {
      "text/html": [
       "<div>\n",
       "<style scoped>\n",
       "    .dataframe tbody tr th:only-of-type {\n",
       "        vertical-align: middle;\n",
       "    }\n",
       "\n",
       "    .dataframe tbody tr th {\n",
       "        vertical-align: top;\n",
       "    }\n",
       "\n",
       "    .dataframe thead th {\n",
       "        text-align: right;\n",
       "    }\n",
       "</style>\n",
       "<table border=\"1\" class=\"dataframe\">\n",
       "  <thead>\n",
       "    <tr style=\"text-align: right;\">\n",
       "      <th></th>\n",
       "      <th>gene ID</th>\n",
       "      <th>Name</th>\n",
       "      <th>Upregulated</th>\n",
       "      <th>Downregulated</th>\n",
       "      <th>From_RF</th>\n",
       "      <th>From_Set_Ops</th>\n",
       "      <th>family</th>\n",
       "      <th>protein name</th>\n",
       "    </tr>\n",
       "  </thead>\n",
       "  <tbody>\n",
       "    <tr>\n",
       "      <th>0</th>\n",
       "      <td>Zm00001eb042240</td>\n",
       "      <td>DRE-binding protein 1</td>\n",
       "      <td>Y</td>\n",
       "      <td>N</td>\n",
       "      <td>Y</td>\n",
       "      <td>N</td>\n",
       "      <td>AP2/ERF-ERF</td>\n",
       "      <td>ZmEREB204</td>\n",
       "    </tr>\n",
       "    <tr>\n",
       "      <th>1</th>\n",
       "      <td>Zm00001eb249290</td>\n",
       "      <td>AP2-EREBP-transcription factor 195</td>\n",
       "      <td>N</td>\n",
       "      <td>Y</td>\n",
       "      <td>N</td>\n",
       "      <td>Y</td>\n",
       "      <td>AP2/ERF-AP2</td>\n",
       "      <td>ZmEREB195</td>\n",
       "    </tr>\n",
       "    <tr>\n",
       "      <th>2</th>\n",
       "      <td>Zm00001eb318890</td>\n",
       "      <td>AP2-EREBP-transcription factor 36</td>\n",
       "      <td>Y</td>\n",
       "      <td>Y</td>\n",
       "      <td>Y</td>\n",
       "      <td>N</td>\n",
       "      <td>AP2/ERF-AP2</td>\n",
       "      <td>ZmEREB36</td>\n",
       "    </tr>\n",
       "    <tr>\n",
       "      <th>3</th>\n",
       "      <td>Zm00001eb296430</td>\n",
       "      <td>AP2-EREBP-transcription factor 34</td>\n",
       "      <td>Y</td>\n",
       "      <td>Y</td>\n",
       "      <td>Y</td>\n",
       "      <td>N</td>\n",
       "      <td>AP2/ERF-AP2</td>\n",
       "      <td>ZmEREB34</td>\n",
       "    </tr>\n",
       "    <tr>\n",
       "      <th>4</th>\n",
       "      <td>Zm00001eb146690</td>\n",
       "      <td>bZIP-transcription factor 95</td>\n",
       "      <td>Y</td>\n",
       "      <td>N</td>\n",
       "      <td>Y</td>\n",
       "      <td>N</td>\n",
       "      <td>bZIP</td>\n",
       "      <td>ZmbZIP95</td>\n",
       "    </tr>\n",
       "  </tbody>\n",
       "</table>\n",
       "</div>"
      ],
      "text/plain": [
       "           gene ID                                Name Upregulated  \\\n",
       "0  Zm00001eb042240               DRE-binding protein 1           Y   \n",
       "1  Zm00001eb249290  AP2-EREBP-transcription factor 195           N   \n",
       "2  Zm00001eb318890   AP2-EREBP-transcription factor 36           Y   \n",
       "3  Zm00001eb296430   AP2-EREBP-transcription factor 34           Y   \n",
       "4  Zm00001eb146690        bZIP-transcription factor 95           Y   \n",
       "\n",
       "  Downregulated From_RF From_Set_Ops       family protein name  \n",
       "0             N       Y            N  AP2/ERF-ERF    ZmEREB204  \n",
       "1             Y       N            Y  AP2/ERF-AP2    ZmEREB195  \n",
       "2             Y       Y            N  AP2/ERF-AP2     ZmEREB36  \n",
       "3             Y       Y            N  AP2/ERF-AP2     ZmEREB34  \n",
       "4             N       Y            N         bZIP     ZmbZIP95  "
      ]
     },
     "execution_count": 38,
     "metadata": {},
     "output_type": "execute_result"
    }
   ],
   "source": [
    "# load core gene TFs of interest\n",
    "cgtf = pd.read_csv(\"../../data/core_genes_TF_fam_of_interest.tsv\",sep=\"\\t\",header=\"infer\")\n",
    "cgtf.head()"
   ]
  },
  {
   "cell_type": "code",
   "execution_count": null,
   "id": "fc3ba33f",
   "metadata": {},
   "outputs": [],
   "source": [
    "# load coexpression module data\n",
    "directory = \"../../data/WGCNA_output/outputs_from_hpcc/\"\n",
    "modgenes = {}\n",
    "for filename in os.listdir(directory):\n",
    "    if filename.endswith(\"_genes.csv\"):\n",
    "        modname = filename.split(\"_\")[0]\n",
    "        df = pd.read_csv(directory+filename,sep=\"\\t\",header=\"infer\")\n",
    "        #print(df.head())\n",
    "        genelist = list(df[\"x\"])\n",
    "        modgenes[modname] = genelist"
   ]
  },
  {
   "cell_type": "code",
   "execution_count": null,
   "id": "8a26c24f",
   "metadata": {},
   "outputs": [],
   "source": [
    "# for each gene in cgtf, find what module(s) it is in and append as a column\n",
    "mods = []\n",
    "for g in list(cgtf[\"gene ID\"]):\n",
    "    for m in modgenes.keys():\n",
    "        l = modgenes[m]\n",
    "        if g in l:\n",
    "            mods.append(m)"
   ]
  },
  {
   "cell_type": "code",
   "execution_count": null,
   "id": "d2564ca4",
   "metadata": {},
   "outputs": [],
   "source": [
    "cgtf[\"Module\"] = mods\n",
    "cgtf.head()"
   ]
  },
  {
   "cell_type": "code",
   "execution_count": null,
   "id": "c70fdd51",
   "metadata": {},
   "outputs": [],
   "source": [
    "# for each module listed in this new column, test if it is enriched in core genes\n",
    "## to do this I need to load all the core genes, and in fact all the genes\n",
    "# load tpm\n",
    "tpm = pd.read_csv(\"../../data/rawtpm_bptreat_noPEG.tsv\",sep=\"\\t\",header=\"infer\")"
   ]
  },
  {
   "cell_type": "code",
   "execution_count": null,
   "id": "579198da",
   "metadata": {},
   "outputs": [],
   "source": [
    "# load the core genes\n",
    "cg = pd.read_csv(\"../../data/CoreGenes_Final_Info.tsv\",sep=\"\\t\",header=\"infer\")"
   ]
  },
  {
   "cell_type": "code",
   "execution_count": null,
   "id": "abb1a9d0",
   "metadata": {},
   "outputs": [],
   "source": [
    "# subset to genes that are not in the set of TFs of interest\n",
    "nontf = cg[~cg[\"GeneID\"].isin(list(cgtf[\"gene ID\"]))]"
   ]
  },
  {
   "cell_type": "code",
   "execution_count": null,
   "id": "d26ab68f",
   "metadata": {},
   "outputs": [],
   "source": [
    "# Fisher table will be set up as isCore, inModule\n",
    "def mod_data_setup(coregeneset,modulegenes):\n",
    "    coreornot = []\n",
    "    modornot = []\n",
    "    for g in list(ttpm[\"GeneID\"].unique()):\n",
    "        if g in modulegenes:\n",
    "            modornot.append(\"Yes\")\n",
    "        else:\n",
    "            modornot.append(\"No\")\n",
    "        if g in coregeneset:\n",
    "            coreornot.append(\"Yes\")\n",
    "        else:\n",
    "            coreornot.append(\"No\")\n",
    "    df = pd.DataFrame(list(zip(list(ttpm[\"GeneID\"].unique()),coreornot,modornot)),columns=[\"GeneID\",\"isCore\",\"inModule\"])\n",
    "    return df"
   ]
  },
  {
   "cell_type": "code",
   "execution_count": null,
   "id": "68fcc30e",
   "metadata": {},
   "outputs": [],
   "source": [
    "def mod_fisher(coregeneset,module):\n",
    "    # get list of genes in module\n",
    "    mg = modgenes[module]\n",
    "    df = mod_data_setup(coregeneset,mg)\n",
    "    data = pd.crosstab(index=df[\"inModule\"],columns=df[\"isCore\"])\n",
    "    odds_ratio, p_value = stats.fisher_exact(data)\n",
    "    return (odds_ratio,p_value)"
   ]
  },
  {
   "cell_type": "code",
   "execution_count": null,
   "id": "2d2ac631",
   "metadata": {},
   "outputs": [],
   "source": [
    "# wrangle tpm data\n",
    "ttpm = tpm.set_index(\"Sample\").drop([\"BioProject\",\"Treatment\"],axis=1).transpose().reset_index().rename(columns={\"index\":\"GeneID\"})\n",
    "ttpm.head()"
   ]
  },
  {
   "cell_type": "code",
   "execution_count": null,
   "id": "f403ef64",
   "metadata": {},
   "outputs": [],
   "source": [
    "# for all core genes\n",
    "pvals = [mod_fisher(list(cg[\"GeneID\"].unique()),i)[1] for i in modgenes.keys()]\n",
    "odds = [mod_fisher(list(cg[\"GeneID\"].unique()),i)[0] for i in modgenes.keys()]\n",
    "ids = [i for i in modgenes.keys()]\n",
    "modres = pd.DataFrame(list(zip(ids,pvals,odds)),columns=[\"Module\",\"P-value\",\"Odds Ratio\"])"
   ]
  },
  {
   "cell_type": "code",
   "execution_count": null,
   "id": "73f71cb1",
   "metadata": {},
   "outputs": [],
   "source": [
    "# for non-TF-families-of-interest core genes\n",
    "pvals = [mod_fisher(list(nontf[\"GeneID\"].unique()),i)[1] for i in modgenes.keys()]\n",
    "odds = [mod_fisher(list(nontf[\"GeneID\"].unique()),i)[0] for i in modgenes.keys()]\n",
    "ids = [i for i in modgenes.keys()]\n",
    "ntmodres = pd.DataFrame(list(zip(ids,pvals,odds)),columns=[\"Module\",\"P-value\",\"Odds Ratio\"])"
   ]
  },
  {
   "cell_type": "code",
   "execution_count": null,
   "id": "68a975ff",
   "metadata": {},
   "outputs": [],
   "source": [
    "modres[\"P-adj\"] = fdrcorrection(modres[\"P-value\"])[1]\n",
    "modres.head()"
   ]
  },
  {
   "cell_type": "code",
   "execution_count": null,
   "id": "f8d9b8ef",
   "metadata": {},
   "outputs": [],
   "source": [
    "ntmodres[\"P-adj\"] = fdrcorrection(ntmodres[\"P-value\"])[1]\n",
    "ntmodres.head()"
   ]
  },
  {
   "cell_type": "code",
   "execution_count": null,
   "id": "f118c180",
   "metadata": {},
   "outputs": [],
   "source": [
    "# subset to the modules containing the genes of interest\n",
    "intmods = list(cgtf[\"Module\"].unique())\n",
    "intmodenrich = modres[modres[\"Module\"].isin(intmods)]\n",
    "intmodenrich"
   ]
  },
  {
   "cell_type": "code",
   "execution_count": null,
   "id": "7ff70a5f",
   "metadata": {},
   "outputs": [],
   "source": [
    "intmods = list(cgtf[\"Module\"].unique())\n",
    "intmodenrich = ntmodres[ntmodres[\"Module\"].isin(intmods)]\n",
    "intmodenrich"
   ]
  },
  {
   "cell_type": "code",
   "execution_count": null,
   "id": "1a38663f",
   "metadata": {},
   "outputs": [],
   "source": [
    "modres[modres[\"P-adj\"]<0.05]"
   ]
  },
  {
   "cell_type": "code",
   "execution_count": null,
   "id": "1d426e40",
   "metadata": {},
   "outputs": [],
   "source": [
    "ntmodres[ntmodres[\"P-adj\"]<0.05]"
   ]
  },
  {
   "cell_type": "markdown",
   "id": "8364a13b",
   "metadata": {},
   "source": [
    "## Look through named non-TF core genes"
   ]
  },
  {
   "cell_type": "code",
   "execution_count": 39,
   "id": "1f97a924",
   "metadata": {},
   "outputs": [
    {
     "data": {
      "text/html": [
       "<div>\n",
       "<style scoped>\n",
       "    .dataframe tbody tr th:only-of-type {\n",
       "        vertical-align: middle;\n",
       "    }\n",
       "\n",
       "    .dataframe tbody tr th {\n",
       "        vertical-align: top;\n",
       "    }\n",
       "\n",
       "    .dataframe thead th {\n",
       "        text-align: right;\n",
       "    }\n",
       "</style>\n",
       "<table border=\"1\" class=\"dataframe\">\n",
       "  <thead>\n",
       "    <tr style=\"text-align: right;\">\n",
       "      <th></th>\n",
       "      <th>GeneID</th>\n",
       "      <th>Name</th>\n",
       "      <th>Upregulated</th>\n",
       "      <th>Downregulated</th>\n",
       "      <th>From_RF</th>\n",
       "      <th>From_Set_Ops</th>\n",
       "    </tr>\n",
       "  </thead>\n",
       "  <tbody>\n",
       "    <tr>\n",
       "      <th>0</th>\n",
       "      <td>Zm00001eb418060</td>\n",
       "      <td>glutathione S-transferase2</td>\n",
       "      <td>Y</td>\n",
       "      <td>N</td>\n",
       "      <td>N</td>\n",
       "      <td>Y</td>\n",
       "    </tr>\n",
       "    <tr>\n",
       "      <th>1</th>\n",
       "      <td>Zm00001eb225440</td>\n",
       "      <td>NaN</td>\n",
       "      <td>Y</td>\n",
       "      <td>Y</td>\n",
       "      <td>Y</td>\n",
       "      <td>N</td>\n",
       "    </tr>\n",
       "    <tr>\n",
       "      <th>2</th>\n",
       "      <td>Zm00001eb197060</td>\n",
       "      <td>NaN</td>\n",
       "      <td>Y</td>\n",
       "      <td>N</td>\n",
       "      <td>N</td>\n",
       "      <td>Y</td>\n",
       "    </tr>\n",
       "    <tr>\n",
       "      <th>3</th>\n",
       "      <td>Zm00001eb322670</td>\n",
       "      <td>NaN</td>\n",
       "      <td>Y</td>\n",
       "      <td>Y</td>\n",
       "      <td>Y</td>\n",
       "      <td>N</td>\n",
       "    </tr>\n",
       "    <tr>\n",
       "      <th>4</th>\n",
       "      <td>Zm00001eb089800</td>\n",
       "      <td>aconitase8</td>\n",
       "      <td>Y</td>\n",
       "      <td>Y</td>\n",
       "      <td>Y</td>\n",
       "      <td>N</td>\n",
       "    </tr>\n",
       "  </tbody>\n",
       "</table>\n",
       "</div>"
      ],
      "text/plain": [
       "            GeneID                        Name Upregulated Downregulated  \\\n",
       "0  Zm00001eb418060  glutathione S-transferase2           Y             N   \n",
       "1  Zm00001eb225440                         NaN           Y             Y   \n",
       "2  Zm00001eb197060                         NaN           Y             N   \n",
       "3  Zm00001eb322670                         NaN           Y             Y   \n",
       "4  Zm00001eb089800                  aconitase8           Y             Y   \n",
       "\n",
       "  From_RF From_Set_Ops  \n",
       "0       N            Y  \n",
       "1       Y            N  \n",
       "2       N            Y  \n",
       "3       Y            N  \n",
       "4       Y            N  "
      ]
     },
     "execution_count": 39,
     "metadata": {},
     "output_type": "execute_result"
    }
   ],
   "source": [
    "# load gene information\n",
    "cginfo = pd.read_csv(\"../../data/CoreGenes_Final_Info.tsv\",sep=\"\\t\",header=\"infer\")\n",
    "cginfo.head()"
   ]
  },
  {
   "cell_type": "code",
   "execution_count": null,
   "id": "55458099",
   "metadata": {},
   "outputs": [],
   "source": [
    "# drop genes with no names\n",
    "named = cginfo.dropna(axis=0)\n",
    "len(named[\"GeneID\"].unique())"
   ]
  },
  {
   "cell_type": "code",
   "execution_count": null,
   "id": "52333fdd",
   "metadata": {},
   "outputs": [],
   "source": [
    "# load list of transcription factors\n",
    "tf = pd.read_csv(\"../../data/data.csv\",sep=\",\",header=\"infer\")\n",
    "tf.head()"
   ]
  },
  {
   "cell_type": "code",
   "execution_count": null,
   "id": "b02cc6a9",
   "metadata": {},
   "outputs": [],
   "source": [
    "# subset to non-TF genes\n",
    "nontf = named[~named[\"GeneID\"].isin(list(tf[\"gene ID\"].unique()))]\n",
    "len(nontf[\"GeneID\"].unique())"
   ]
  },
  {
   "cell_type": "code",
   "execution_count": null,
   "id": "9110c55f",
   "metadata": {},
   "outputs": [],
   "source": [
    "nontf.head()"
   ]
  },
  {
   "cell_type": "code",
   "execution_count": null,
   "id": "04038936",
   "metadata": {},
   "outputs": [],
   "source": [
    "# sort nontf alphabetically by name - this should make it easier to look through manually\n",
    "nontf = nontf.sort_values(by=[\"Name\"])"
   ]
  },
  {
   "cell_type": "code",
   "execution_count": null,
   "id": "945850c7",
   "metadata": {},
   "outputs": [],
   "source": [
    "# save nontf so I can look through it\n",
    "nontf.to_csv(\"../../data/named_coregenes_non_TFs.tsv\",sep=\"\\t\",header=True,index=False)"
   ]
  },
  {
   "cell_type": "markdown",
   "id": "ed1c0e5d",
   "metadata": {},
   "source": [
    "## Test for independence/non-independence of the two methods' core sets"
   ]
  },
  {
   "cell_type": "code",
   "execution_count": null,
   "id": "b7a6b71d",
   "metadata": {},
   "outputs": [],
   "source": [
    "# load tpm\n",
    "tpm = pd.read_csv(\"../../data/rawtpm_bptreat_noPEG.tsv\",sep=\"\\t\",header=\"infer\")\n",
    "# wrangle tpm data\n",
    "ttpm = tpm.set_index(\"Sample\").drop([\"BioProject\",\"Treatment\"],axis=1).transpose().reset_index().rename(columns={\"index\":\"GeneID\"})"
   ]
  },
  {
   "cell_type": "code",
   "execution_count": null,
   "id": "edd30ae1",
   "metadata": {},
   "outputs": [],
   "source": [
    "# load gene information\n",
    "cginfo = pd.read_csv(\"../../data/CoreGenes_Final_Info.tsv\",sep=\"\\t\",header=\"infer\")\n",
    "cginfo.head()"
   ]
  },
  {
   "cell_type": "code",
   "execution_count": null,
   "id": "871e2b46",
   "metadata": {},
   "outputs": [],
   "source": [
    "cginfo[cginfo[\"GeneID\"]==\"Zm00001eb418060\"].iloc[0,5]"
   ]
  },
  {
   "cell_type": "code",
   "execution_count": null,
   "id": "d8bd145c",
   "metadata": {},
   "outputs": [],
   "source": [
    "rfornot = []\n",
    "soornot = []\n",
    "gid = pd.DataFrame(ttpm[\"GeneID\"])\n",
    "for g in list(gid[\"GeneID\"]):\n",
    "    if g in list(cginfo[\"GeneID\"]):\n",
    "        df = cginfo[cginfo[\"GeneID\"]==g]\n",
    "        if df.iloc[0,4]==\"Y\":\n",
    "            rfornot.append(\"Yes\")\n",
    "        else:\n",
    "            rfornot.append(\"No\")\n",
    "        if df.iloc[0,5]==\"Y\":\n",
    "            soornot.append(\"Yes\")\n",
    "        else:\n",
    "            soornot.append(\"No\")\n",
    "    else:\n",
    "        rfornot.append(\"No\")\n",
    "        soornot.append(\"No\")\n",
    "gid[\"fromRF\"] = rfornot\n",
    "gid[\"fromSetOps\"] = soornot"
   ]
  },
  {
   "cell_type": "code",
   "execution_count": null,
   "id": "38971037",
   "metadata": {},
   "outputs": [],
   "source": [
    "data = pd.crosstab(index=gid[\"fromRF\"],columns=gid[\"fromSetOps\"])\n",
    "data"
   ]
  },
  {
   "cell_type": "code",
   "execution_count": null,
   "id": "f9e285da",
   "metadata": {},
   "outputs": [],
   "source": [
    "odds_ratio,p_value = stats.fisher_exact(data)\n",
    "print(\"odds ratio is:\"+str(odds_ratio))\n",
    "print(\"p value is:\"+str(p_value))"
   ]
  },
  {
   "cell_type": "markdown",
   "id": "dcf930d8",
   "metadata": {},
   "source": [
    "## Make basic Venn diagrams of core gene sets from different methods"
   ]
  },
  {
   "cell_type": "code",
   "execution_count": 2,
   "id": "188382a8",
   "metadata": {},
   "outputs": [
    {
     "data": {
      "text/html": [
       "<div>\n",
       "<style scoped>\n",
       "    .dataframe tbody tr th:only-of-type {\n",
       "        vertical-align: middle;\n",
       "    }\n",
       "\n",
       "    .dataframe tbody tr th {\n",
       "        vertical-align: top;\n",
       "    }\n",
       "\n",
       "    .dataframe thead th {\n",
       "        text-align: right;\n",
       "    }\n",
       "</style>\n",
       "<table border=\"1\" class=\"dataframe\">\n",
       "  <thead>\n",
       "    <tr style=\"text-align: right;\">\n",
       "      <th></th>\n",
       "      <th>GeneID</th>\n",
       "      <th>Name</th>\n",
       "      <th>Upregulated</th>\n",
       "      <th>Downregulated</th>\n",
       "      <th>From_RF</th>\n",
       "      <th>From_Set_Ops</th>\n",
       "    </tr>\n",
       "  </thead>\n",
       "  <tbody>\n",
       "    <tr>\n",
       "      <th>0</th>\n",
       "      <td>Zm00001eb418060</td>\n",
       "      <td>glutathione S-transferase2</td>\n",
       "      <td>Y</td>\n",
       "      <td>N</td>\n",
       "      <td>N</td>\n",
       "      <td>Y</td>\n",
       "    </tr>\n",
       "    <tr>\n",
       "      <th>1</th>\n",
       "      <td>Zm00001eb225440</td>\n",
       "      <td>NaN</td>\n",
       "      <td>Y</td>\n",
       "      <td>Y</td>\n",
       "      <td>Y</td>\n",
       "      <td>N</td>\n",
       "    </tr>\n",
       "    <tr>\n",
       "      <th>2</th>\n",
       "      <td>Zm00001eb197060</td>\n",
       "      <td>NaN</td>\n",
       "      <td>Y</td>\n",
       "      <td>N</td>\n",
       "      <td>N</td>\n",
       "      <td>Y</td>\n",
       "    </tr>\n",
       "    <tr>\n",
       "      <th>3</th>\n",
       "      <td>Zm00001eb322670</td>\n",
       "      <td>NaN</td>\n",
       "      <td>Y</td>\n",
       "      <td>Y</td>\n",
       "      <td>Y</td>\n",
       "      <td>N</td>\n",
       "    </tr>\n",
       "    <tr>\n",
       "      <th>4</th>\n",
       "      <td>Zm00001eb089800</td>\n",
       "      <td>aconitase8</td>\n",
       "      <td>Y</td>\n",
       "      <td>Y</td>\n",
       "      <td>Y</td>\n",
       "      <td>N</td>\n",
       "    </tr>\n",
       "  </tbody>\n",
       "</table>\n",
       "</div>"
      ],
      "text/plain": [
       "            GeneID                        Name Upregulated Downregulated  \\\n",
       "0  Zm00001eb418060  glutathione S-transferase2           Y             N   \n",
       "1  Zm00001eb225440                         NaN           Y             Y   \n",
       "2  Zm00001eb197060                         NaN           Y             N   \n",
       "3  Zm00001eb322670                         NaN           Y             Y   \n",
       "4  Zm00001eb089800                  aconitase8           Y             Y   \n",
       "\n",
       "  From_RF From_Set_Ops  \n",
       "0       N            Y  \n",
       "1       Y            N  \n",
       "2       N            Y  \n",
       "3       Y            N  \n",
       "4       Y            N  "
      ]
     },
     "execution_count": 2,
     "metadata": {},
     "output_type": "execute_result"
    }
   ],
   "source": [
    "# load gene information\n",
    "cginfo = pd.read_csv(\"../../data/CoreGenes_Final_Info.tsv\",sep=\"\\t\",header=\"infer\")\n",
    "cginfo.head()"
   ]
  },
  {
   "cell_type": "code",
   "execution_count": 3,
   "id": "31314dbb",
   "metadata": {},
   "outputs": [],
   "source": [
    "# need to make a dictionary of sets of gene IDs - 2 sets: from RF & from set ops\n",
    "fromrf = cginfo[cginfo[\"From_RF\"]==\"Y\"]\n",
    "fromso = cginfo[cginfo[\"From_Set_Ops\"]==\"Y\"]"
   ]
  },
  {
   "cell_type": "code",
   "execution_count": 8,
   "id": "151a83dc",
   "metadata": {},
   "outputs": [
    {
     "data": {
      "text/html": [
       "<div>\n",
       "<style scoped>\n",
       "    .dataframe tbody tr th:only-of-type {\n",
       "        vertical-align: middle;\n",
       "    }\n",
       "\n",
       "    .dataframe tbody tr th {\n",
       "        vertical-align: top;\n",
       "    }\n",
       "\n",
       "    .dataframe thead th {\n",
       "        text-align: right;\n",
       "    }\n",
       "</style>\n",
       "<table border=\"1\" class=\"dataframe\">\n",
       "  <thead>\n",
       "    <tr style=\"text-align: right;\">\n",
       "      <th></th>\n",
       "      <th>0</th>\n",
       "    </tr>\n",
       "  </thead>\n",
       "  <tbody>\n",
       "    <tr>\n",
       "      <th>0</th>\n",
       "      <td>Zm00001eb125810</td>\n",
       "    </tr>\n",
       "    <tr>\n",
       "      <th>1</th>\n",
       "      <td>Zm00001eb001160</td>\n",
       "    </tr>\n",
       "    <tr>\n",
       "      <th>2</th>\n",
       "      <td>Zm00001eb117740</td>\n",
       "    </tr>\n",
       "    <tr>\n",
       "      <th>3</th>\n",
       "      <td>Zm00001eb013920</td>\n",
       "    </tr>\n",
       "    <tr>\n",
       "      <th>4</th>\n",
       "      <td>Zm00001eb429410</td>\n",
       "    </tr>\n",
       "  </tbody>\n",
       "</table>\n",
       "</div>"
      ],
      "text/plain": [
       "                 0\n",
       "0  Zm00001eb125810\n",
       "1  Zm00001eb001160\n",
       "2  Zm00001eb117740\n",
       "3  Zm00001eb013920\n",
       "4  Zm00001eb429410"
      ]
     },
     "execution_count": 8,
     "metadata": {},
     "output_type": "execute_result"
    }
   ],
   "source": [
    "# load \"core gene\" list from single stressor RFs\n",
    "cgssrf = pd.read_csv(\"../../data/coregenes_single_stress_RF.txt\",sep=\"\\t\",header=None)\n",
    "cgssrf.head()"
   ]
  },
  {
   "cell_type": "code",
   "execution_count": 9,
   "id": "0ce6f85d",
   "metadata": {},
   "outputs": [],
   "source": [
    "forvenn = {\"From Random Forest\":set(list(fromrf[\"GeneID\"])),\"From Set Operations\":set(list(fromso[\"GeneID\"])),\n",
    "           \"From Single-Stressor RF\":set(list(cgssrf[0]))}"
   ]
  },
  {
   "cell_type": "code",
   "execution_count": 10,
   "id": "4356571c",
   "metadata": {},
   "outputs": [
    {
     "data": {
      "text/plain": [
       "Text(0.5, 1.0, 'Core Genes from Different Methods')"
      ]
     },
     "execution_count": 10,
     "metadata": {},
     "output_type": "execute_result"
    },
    {
     "data": {
      "image/png": "[encoded data removed]",
      "text/plain": [
       "<Figure size 576x576 with 1 Axes>"
      ]
     },
     "metadata": {},
     "output_type": "display_data"
    }
   ],
   "source": [
    "venn(forvenn)\n",
    "plt.title(\"Core Genes from Different Methods\",fontsize=20)\n",
    "#plt.savefig(\"../../figures/core_genes_from_methods_venn.svg\")"
   ]
  },
  {
   "cell_type": "code",
   "execution_count": null,
   "id": "1dfafcd2",
   "metadata": {},
   "outputs": [],
   "source": [
    "# repeat for upregulated genes and downregulated genes\n",
    "upcg = cginfo[cginfo[\"Upregulated\"]==\"Y\"]\n",
    "dncg = cginfo[cginfo[\"Downregulated\"]==\"Y\"]"
   ]
  },
  {
   "cell_type": "code",
   "execution_count": null,
   "id": "bd806157",
   "metadata": {},
   "outputs": [],
   "source": [
    "upcgrf = upcg[upcg[\"From_RF\"]==\"Y\"]\n",
    "dncgrf = dncg[dncg[\"From_RF\"]==\"Y\"]\n",
    "upcgso = upcg[upcg[\"From_Set_Ops\"]==\"Y\"]\n",
    "dncgso = dncg[dncg[\"From_Set_Ops\"]==\"Y\"]"
   ]
  },
  {
   "cell_type": "code",
   "execution_count": null,
   "id": "f2983329",
   "metadata": {},
   "outputs": [],
   "source": [
    "vdup = {\"From Random Forest\":set(list(upcgrf[\"GeneID\"])),\"From Set Operations\":set(list(upcgso[\"GeneID\"]))}\n",
    "vddn = {\"From Random Forest\":set(list(dncgrf[\"GeneID\"])),\"From Set Operations\":set(list(dncgso[\"GeneID\"]))}"
   ]
  },
  {
   "cell_type": "code",
   "execution_count": null,
   "id": "4282faad",
   "metadata": {},
   "outputs": [],
   "source": [
    "venn(vdup)\n",
    "plt.title(\"Upregulated Core Genes from Each Method\",fontsize=16)"
   ]
  },
  {
   "cell_type": "code",
   "execution_count": null,
   "id": "2f58ef30",
   "metadata": {},
   "outputs": [],
   "source": [
    "venn(vddn)\n",
    "plt.title(\"Downregulated Core Genes from Each Method\",fontsize=16)"
   ]
  },
  {
   "cell_type": "markdown",
   "id": "e4d0d4ff",
   "metadata": {},
   "source": [
    "## Make heatmaps of gene groups of interest\n",
    "\n",
    "In particular, heat shock proteins."
   ]
  },
  {
   "cell_type": "code",
   "execution_count": null,
   "id": "3550493e",
   "metadata": {},
   "outputs": [],
   "source": [
    "# load gene information\n",
    "cginfo = pd.read_csv(\"../../data/CoreGenes_Final_Info.tsv\",sep=\"\\t\",header=\"infer\")\n",
    "cginfo.head()"
   ]
  },
  {
   "cell_type": "code",
   "execution_count": null,
   "id": "9e42e0ef",
   "metadata": {},
   "outputs": [],
   "source": [
    "nonas = cginfo.dropna(axis=0)\n",
    "nonas.head()"
   ]
  },
  {
   "cell_type": "code",
   "execution_count": null,
   "id": "8d41ca51",
   "metadata": {},
   "outputs": [],
   "source": [
    "# select all genes with \"heat\" or \"Heat\" in their names\n",
    "geneids = []\n",
    "for i in range(len(nonas)):\n",
    "    n = nonas.iloc[i,1]\n",
    "    if \"heat\" in n:\n",
    "        geneids.append(nonas.iloc[i,0])\n",
    "    elif \"Heat\" in n:\n",
    "        geneids.append(nonas.iloc[i,0])"
   ]
  },
  {
   "cell_type": "code",
   "execution_count": null,
   "id": "c0b2cbb0",
   "metadata": {},
   "outputs": [],
   "source": [
    "len(geneids)"
   ]
  },
  {
   "cell_type": "code",
   "execution_count": null,
   "id": "8e04a711",
   "metadata": {},
   "outputs": [],
   "source": [
    "heat = nonas[nonas[\"GeneID\"].isin(geneids)]\n",
    "heat"
   ]
  },
  {
   "cell_type": "code",
   "execution_count": null,
   "id": "30b3ef94",
   "metadata": {},
   "outputs": [],
   "source": [
    "# load tpm\n",
    "tpm = pd.read_csv(\"../../data/rawtpm_bptreat_noPEG.tsv\",sep=\"\\t\",header=\"infer\")\n",
    "tpm.head()"
   ]
  },
  {
   "cell_type": "code",
   "execution_count": null,
   "id": "c1d590a7",
   "metadata": {},
   "outputs": [],
   "source": [
    "# wrangle tpm data\n",
    "ttpm = tpm.set_index(\"Sample\").drop([\"BioProject\",\"Treatment\"],axis=1).transpose().reset_index().rename(columns={\"index\":\"GeneID\"})\n",
    "ttpm.head()"
   ]
  },
  {
   "cell_type": "code",
   "execution_count": null,
   "id": "189e8634",
   "metadata": {},
   "outputs": [],
   "source": [
    "hsptpm = ttpm[ttpm[\"GeneID\"].isin(geneids)].set_index(\"GeneID\")\n",
    "hsptpm.head()"
   ]
  },
  {
   "cell_type": "code",
   "execution_count": null,
   "id": "508743df",
   "metadata": {},
   "outputs": [],
   "source": [
    "# log transform tpm\n",
    "hsplog = hsptpm.apply(lambda x: np.log2(x+1))"
   ]
  },
  {
   "cell_type": "code",
   "execution_count": null,
   "id": "80ad864b",
   "metadata": {},
   "outputs": [],
   "source": [
    "hsplog.head()"
   ]
  },
  {
   "cell_type": "code",
   "execution_count": null,
   "id": "47ae64e3",
   "metadata": {},
   "outputs": [],
   "source": [
    "# need to add the names of the genes back in, not simply gene IDs\n",
    "hsplog.reset_index(inplace=True)\n",
    "hsplog = heat[[\"GeneID\",\"Name\"]].merge(hsplog)\n",
    "hsplog.head()"
   ]
  },
  {
   "cell_type": "code",
   "execution_count": null,
   "id": "8087a6be",
   "metadata": {},
   "outputs": [],
   "source": [
    "hsplog = hsplog.set_index(\"Name\")\n",
    "hsplog.head()"
   ]
  },
  {
   "cell_type": "code",
   "execution_count": null,
   "id": "e9143d19",
   "metadata": {},
   "outputs": [],
   "source": [
    "hsplog = hsplog.drop(\"GeneID\",axis=1)\n",
    "hsplog.head()"
   ]
  },
  {
   "cell_type": "code",
   "execution_count": null,
   "id": "cb472de4",
   "metadata": {},
   "outputs": [],
   "source": [
    "hsplog.transpose().reset_index()"
   ]
  },
  {
   "cell_type": "code",
   "execution_count": null,
   "id": "866ab8cb",
   "metadata": {},
   "outputs": [],
   "source": [
    "# merge with metadata to add Treatment and BioProject columns\n",
    "hsplogt = hsplog.transpose().reset_index().rename(columns={\"index\":\"Sample\"}).merge(tpm[[\"Sample\",\"BioProject\",\"Treatment\"]])\n",
    "hsplogt.head()"
   ]
  },
  {
   "cell_type": "code",
   "execution_count": null,
   "id": "7b85794b",
   "metadata": {},
   "outputs": [],
   "source": [
    "# replace Drought with DroughtRepeat\n",
    "hsplogt[\"Treatment\"].mask(hsplogt[\"Treatment\"]==\"DroughtRepeat\",\"Drought\",inplace=True)"
   ]
  },
  {
   "cell_type": "code",
   "execution_count": null,
   "id": "98f77110",
   "metadata": {},
   "outputs": [],
   "source": [
    "# Create a palette based on unique class labels\n",
    "palette = sns.color_palette('tab10', n_colors=hsplogt['Treatment'].nunique())"
   ]
  },
  {
   "cell_type": "code",
   "execution_count": null,
   "id": "1403fc71",
   "metadata": {},
   "outputs": [],
   "source": [
    "palette"
   ]
  },
  {
   "cell_type": "code",
   "execution_count": null,
   "id": "b4f3a7bf",
   "metadata": {},
   "outputs": [],
   "source": [
    "td = {\"Flooding\":0,\"Drought\":1,\"Control\":2,\"Salt\":3,\"Cold\":4,\"Low_Nitrogen\":5,\"Heat\":6}"
   ]
  },
  {
   "cell_type": "code",
   "execution_count": null,
   "id": "020a7fa3",
   "metadata": {},
   "outputs": [],
   "source": [
    "# Map each class label to a color\n",
    "hsplogt.replace({\"Treatment\":td},inplace=True)\n",
    "row_colors = hsplogt['Treatment'].map(lambda x: palette[int(x)])"
   ]
  },
  {
   "cell_type": "code",
   "execution_count": null,
   "id": "e692bc79",
   "metadata": {},
   "outputs": [],
   "source": [
    "# sort dataframe by Treatment\n",
    "hsplogt = hsplogt.sort_values(\"Treatment\")"
   ]
  },
  {
   "cell_type": "code",
   "execution_count": null,
   "id": "a545ac56",
   "metadata": {},
   "outputs": [],
   "source": [
    "# set up custom legend\n",
    "leg = {}\n",
    "for k in td.keys():\n",
    "    i = td[k]\n",
    "    leg[k] = palette[int(i)]\n",
    "handles = [Patch(facecolor=leg[name]) for name in leg]"
   ]
  },
  {
   "cell_type": "code",
   "execution_count": null,
   "id": "f3ed0a30",
   "metadata": {},
   "outputs": [],
   "source": [
    "sns.clustermap(\n",
    "    hsplogt.drop(columns=['Treatment',\"BioProject\",\"Sample\"]),\n",
    "    cmap='viridis',\n",
    "    yticklabels=False,\n",
    "    row_cluster=False,\n",
    "    col_cluster=True,\n",
    "    figsize=(12, 20),  # Adjust size as needed\n",
    "    row_colors=row_colors,\n",
    "    dendrogram_ratio=(.1, .2)\n",
    ")\n",
    "plt.legend(handles, leg, title=\"Treatment\",bbox_to_anchor=(1,1),\n",
    "           bbox_transform=plt.gcf().transFigure,loc=\"upper right\")\n",
    "plt.savefig(\"../../figures/heatmap_coreHSP_expression.pdf\")"
   ]
  },
  {
   "cell_type": "markdown",
   "id": "f60059a6",
   "metadata": {},
   "source": [
    "## What AP2/ERF TFs are upregulated & downregulated in core gene set?"
   ]
  },
  {
   "cell_type": "markdown",
   "id": "ff524134",
   "metadata": {},
   "source": [
    "October 2, 2023"
   ]
  },
  {
   "cell_type": "code",
   "execution_count": null,
   "id": "a8e979c2",
   "metadata": {},
   "outputs": [],
   "source": [
    "# load list of transcription factors\n",
    "tf = pd.read_csv(\"../../data/data.csv\",sep=\",\",header=\"infer\")\n",
    "tf.head()"
   ]
  },
  {
   "cell_type": "code",
   "execution_count": null,
   "id": "80ac54d7",
   "metadata": {},
   "outputs": [],
   "source": [
    "## load overall core stress gene list\n",
    "allcg = list(pd.read_csv(\"../../data/union_core_stress_genes.txt\",sep=\"\\t\",header=None)[0])"
   ]
  },
  {
   "cell_type": "code",
   "execution_count": null,
   "id": "cc902713",
   "metadata": {},
   "outputs": [],
   "source": [
    "# subset tf dataframe to the core gene TFs that are in AP2/ERF-AP2 or AP2/ERF-ERF families\n",
    "ctf = tf[tf[\"gene ID\"].isin(allcg)]\n",
    "aectf = ctf[ctf[\"family\"].isin([\"AP2/ERF-AP2\",\"AP2/ERF-ERF\"])]"
   ]
  },
  {
   "cell_type": "code",
   "execution_count": null,
   "id": "4ee2fdba",
   "metadata": {},
   "outputs": [],
   "source": [
    "aectf"
   ]
  },
  {
   "cell_type": "markdown",
   "id": "19a29e64",
   "metadata": {},
   "source": [
    "Noted by https://www.mdpi.com/1422-0067/24/6/5416 as involved in abiotic stress, and also in core set:<br>\n",
    "- EREB113"
   ]
  },
  {
   "cell_type": "markdown",
   "id": "9b44b977",
   "metadata": {},
   "source": [
    "## Make a TF family barplot figure"
   ]
  },
  {
   "cell_type": "code",
   "execution_count": 2,
   "id": "21a1a826",
   "metadata": {},
   "outputs": [
    {
     "data": {
      "text/html": [
       "<div>\n",
       "<style scoped>\n",
       "    .dataframe tbody tr th:only-of-type {\n",
       "        vertical-align: middle;\n",
       "    }\n",
       "\n",
       "    .dataframe tbody tr th {\n",
       "        vertical-align: top;\n",
       "    }\n",
       "\n",
       "    .dataframe thead th {\n",
       "        text-align: right;\n",
       "    }\n",
       "</style>\n",
       "<table border=\"1\" class=\"dataframe\">\n",
       "  <thead>\n",
       "    <tr style=\"text-align: right;\">\n",
       "      <th></th>\n",
       "      <th>number for sorting purposes</th>\n",
       "      <th>protein name</th>\n",
       "      <th>family</th>\n",
       "      <th>gene ID</th>\n",
       "      <th>synonym</th>\n",
       "      <th>clone</th>\n",
       "      <th>all gene IDs</th>\n",
       "      <th>Unnamed: 7</th>\n",
       "    </tr>\n",
       "  </thead>\n",
       "  <tbody>\n",
       "    <tr>\n",
       "      <th>0</th>\n",
       "      <td>1</td>\n",
       "      <td>ZmABI1</td>\n",
       "      <td>ABI3-VP1</td>\n",
       "      <td>Zm00001eb143690</td>\n",
       "      <td>VP1</td>\n",
       "      <td>pUT3351</td>\n",
       "      <td>Zm00001eb143690 Zm00001d042396 GRMZM2G133398</td>\n",
       "      <td>NaN</td>\n",
       "    </tr>\n",
       "    <tr>\n",
       "      <th>1</th>\n",
       "      <td>2</td>\n",
       "      <td>ZmABI2</td>\n",
       "      <td>ABI3-VP1</td>\n",
       "      <td>Zm00001eb427970</td>\n",
       "      <td>ABI2</td>\n",
       "      <td>pUT3663</td>\n",
       "      <td>Zm00001d026005 Zm00001eb427970 GRMZM2G018485</td>\n",
       "      <td>NaN</td>\n",
       "    </tr>\n",
       "    <tr>\n",
       "      <th>2</th>\n",
       "      <td>3</td>\n",
       "      <td>ZmABI3</td>\n",
       "      <td>ABI3-VP1</td>\n",
       "      <td>Zm00001eb066270</td>\n",
       "      <td>ABI3</td>\n",
       "      <td>pUT3236</td>\n",
       "      <td>Zm00001eb066270 Zm00001d001838 GRMZM2G149940</td>\n",
       "      <td>NaN</td>\n",
       "    </tr>\n",
       "    <tr>\n",
       "      <th>3</th>\n",
       "      <td>4</td>\n",
       "      <td>ZmABI4</td>\n",
       "      <td>ABI3-VP1</td>\n",
       "      <td>Zm00001eb051330</td>\n",
       "      <td>ABI4</td>\n",
       "      <td>pUT4675</td>\n",
       "      <td>Zm00001d033313 GRMZM2G098063 Zm00001eb051330</td>\n",
       "      <td>NaN</td>\n",
       "    </tr>\n",
       "    <tr>\n",
       "      <th>4</th>\n",
       "      <td>5</td>\n",
       "      <td>ZmABI5</td>\n",
       "      <td>ABI3-VP1</td>\n",
       "      <td>Zm00001eb218990</td>\n",
       "      <td>ABI5</td>\n",
       "      <td>pUT4673</td>\n",
       "      <td>Zm00001d013722 Zm00001eb218990 GRMZM2G320754</td>\n",
       "      <td>NaN</td>\n",
       "    </tr>\n",
       "  </tbody>\n",
       "</table>\n",
       "</div>"
      ],
      "text/plain": [
       "   number for sorting purposes protein name    family          gene ID  \\\n",
       "0                            1       ZmABI1  ABI3-VP1  Zm00001eb143690   \n",
       "1                            2       ZmABI2  ABI3-VP1  Zm00001eb427970   \n",
       "2                            3       ZmABI3  ABI3-VP1  Zm00001eb066270   \n",
       "3                            4       ZmABI4  ABI3-VP1  Zm00001eb051330   \n",
       "4                            5       ZmABI5  ABI3-VP1  Zm00001eb218990   \n",
       "\n",
       "  synonym    clone                                  all gene IDs Unnamed: 7  \n",
       "0     VP1  pUT3351  Zm00001eb143690 Zm00001d042396 GRMZM2G133398        NaN  \n",
       "1    ABI2  pUT3663  Zm00001d026005 Zm00001eb427970 GRMZM2G018485        NaN  \n",
       "2    ABI3  pUT3236  Zm00001eb066270 Zm00001d001838 GRMZM2G149940        NaN  \n",
       "3    ABI4  pUT4675  Zm00001d033313 GRMZM2G098063 Zm00001eb051330        NaN  \n",
       "4    ABI5  pUT4673  Zm00001d013722 Zm00001eb218990 GRMZM2G320754        NaN  "
      ]
     },
     "execution_count": 2,
     "metadata": {},
     "output_type": "execute_result"
    }
   ],
   "source": [
    "# load list of transcription factors\n",
    "tf = pd.read_csv(\"../../data/data.csv\",sep=\",\",header=\"infer\")\n",
    "tf.head()"
   ]
  },
  {
   "cell_type": "code",
   "execution_count": 3,
   "id": "94db9db0",
   "metadata": {},
   "outputs": [],
   "source": [
    "## load overall core stress gene list\n",
    "allcg = list(pd.read_csv(\"../../data/union_core_stress_genes.txt\",sep=\"\\t\",header=None)[0])"
   ]
  },
  {
   "cell_type": "code",
   "execution_count": 4,
   "id": "cd4ae804",
   "metadata": {},
   "outputs": [],
   "source": [
    "ctf = tf[tf[\"gene ID\"].isin(allcg)]"
   ]
  },
  {
   "cell_type": "code",
   "execution_count": 44,
   "id": "70d9130d",
   "metadata": {},
   "outputs": [
    {
     "data": {
      "text/html": [
       "<div>\n",
       "<style scoped>\n",
       "    .dataframe tbody tr th:only-of-type {\n",
       "        vertical-align: middle;\n",
       "    }\n",
       "\n",
       "    .dataframe tbody tr th {\n",
       "        vertical-align: top;\n",
       "    }\n",
       "\n",
       "    .dataframe thead th {\n",
       "        text-align: right;\n",
       "    }\n",
       "</style>\n",
       "<table border=\"1\" class=\"dataframe\">\n",
       "  <thead>\n",
       "    <tr style=\"text-align: right;\">\n",
       "      <th></th>\n",
       "      <th>number for sorting purposes</th>\n",
       "      <th>protein name</th>\n",
       "      <th>family</th>\n",
       "      <th>gene ID</th>\n",
       "      <th>synonym</th>\n",
       "      <th>clone</th>\n",
       "      <th>all gene IDs</th>\n",
       "      <th>Unnamed: 7</th>\n",
       "    </tr>\n",
       "  </thead>\n",
       "  <tbody>\n",
       "    <tr>\n",
       "      <th>77</th>\n",
       "      <td>10093</td>\n",
       "      <td>ZmEREB34</td>\n",
       "      <td>AP2/ERF-AP2</td>\n",
       "      <td>Zm00001eb296430</td>\n",
       "      <td>ZmERFAP2_79</td>\n",
       "      <td>pUT5361</td>\n",
       "      <td>Zm00001eb296430 GRMZM5G846057 Zm00001d039077</td>\n",
       "      <td>NaN</td>\n",
       "    </tr>\n",
       "    <tr>\n",
       "      <th>79</th>\n",
       "      <td>10095</td>\n",
       "      <td>ZmEREB36</td>\n",
       "      <td>AP2/ERF-AP2</td>\n",
       "      <td>Zm00001eb318890</td>\n",
       "      <td>ZmERFAP2_46</td>\n",
       "      <td>pUT5414</td>\n",
       "      <td>Zm00001eb318890 GRMZM2G069082 Zm00001d021205</td>\n",
       "      <td>NaN</td>\n",
       "    </tr>\n",
       "    <tr>\n",
       "      <th>95</th>\n",
       "      <td>10142</td>\n",
       "      <td>ZmEREB83</td>\n",
       "      <td>AP2/ERF-AP2</td>\n",
       "      <td>Zm00001eb369560</td>\n",
       "      <td>ZmERFAP2_75</td>\n",
       "      <td>pUT6789</td>\n",
       "      <td>Zm00001eb369560 Zm00001d012585 GRMZM2G132185</td>\n",
       "      <td>NaN</td>\n",
       "    </tr>\n",
       "    <tr>\n",
       "      <th>96</th>\n",
       "      <td>10151</td>\n",
       "      <td>ZmEREB92</td>\n",
       "      <td>AP2/ERF-AP2</td>\n",
       "      <td>Zm00001eb352580</td>\n",
       "      <td>ZmERFAP2_2</td>\n",
       "      <td>pUT6815</td>\n",
       "      <td>GRMZM2G174347 Zm00001eb352580 Zm00001d000339</td>\n",
       "      <td>NaN</td>\n",
       "    </tr>\n",
       "    <tr>\n",
       "      <th>115</th>\n",
       "      <td>10206</td>\n",
       "      <td>ZmEREB147</td>\n",
       "      <td>AP2/ERF-AP2</td>\n",
       "      <td>Zm00001eb150840</td>\n",
       "      <td>ZmERFAP2_54</td>\n",
       "      <td>pUT4161</td>\n",
       "      <td>Zm00001eb150840 GRMZM2G310368 Zm00001d043205</td>\n",
       "      <td>NaN</td>\n",
       "    </tr>\n",
       "  </tbody>\n",
       "</table>\n",
       "</div>"
      ],
      "text/plain": [
       "     number for sorting purposes protein name       family          gene ID  \\\n",
       "77                         10093     ZmEREB34  AP2/ERF-AP2  Zm00001eb296430   \n",
       "79                         10095     ZmEREB36  AP2/ERF-AP2  Zm00001eb318890   \n",
       "95                         10142     ZmEREB83  AP2/ERF-AP2  Zm00001eb369560   \n",
       "96                         10151     ZmEREB92  AP2/ERF-AP2  Zm00001eb352580   \n",
       "115                        10206    ZmEREB147  AP2/ERF-AP2  Zm00001eb150840   \n",
       "\n",
       "         synonym    clone                                  all gene IDs  \\\n",
       "77   ZmERFAP2_79  pUT5361  Zm00001eb296430 GRMZM5G846057 Zm00001d039077   \n",
       "79   ZmERFAP2_46  pUT5414  Zm00001eb318890 GRMZM2G069082 Zm00001d021205   \n",
       "95   ZmERFAP2_75  pUT6789  Zm00001eb369560 Zm00001d012585 GRMZM2G132185   \n",
       "96    ZmERFAP2_2  pUT6815  GRMZM2G174347 Zm00001eb352580 Zm00001d000339   \n",
       "115  ZmERFAP2_54  pUT4161  Zm00001eb150840 GRMZM2G310368 Zm00001d043205   \n",
       "\n",
       "    Unnamed: 7  \n",
       "77         NaN  \n",
       "79         NaN  \n",
       "95         NaN  \n",
       "96         NaN  \n",
       "115        NaN  "
      ]
     },
     "execution_count": 44,
     "metadata": {},
     "output_type": "execute_result"
    }
   ],
   "source": [
    "ctf.head()"
   ]
  },
  {
   "cell_type": "code",
   "execution_count": 5,
   "id": "c45d84a5",
   "metadata": {},
   "outputs": [],
   "source": [
    "# make a dataframe with counts of TF families\n",
    "familycounts = pd.DataFrame(ctf[\"family\"].value_counts()).rename(columns={\"family\":\"Count\"})"
   ]
  },
  {
   "cell_type": "code",
   "execution_count": 6,
   "id": "dfc27fe2",
   "metadata": {},
   "outputs": [
    {
     "data": {
      "text/html": [
       "<div>\n",
       "<style scoped>\n",
       "    .dataframe tbody tr th:only-of-type {\n",
       "        vertical-align: middle;\n",
       "    }\n",
       "\n",
       "    .dataframe tbody tr th {\n",
       "        vertical-align: top;\n",
       "    }\n",
       "\n",
       "    .dataframe thead th {\n",
       "        text-align: right;\n",
       "    }\n",
       "</style>\n",
       "<table border=\"1\" class=\"dataframe\">\n",
       "  <thead>\n",
       "    <tr style=\"text-align: right;\">\n",
       "      <th></th>\n",
       "      <th>GeneID</th>\n",
       "      <th>Name</th>\n",
       "      <th>Upregulated</th>\n",
       "      <th>Downregulated</th>\n",
       "      <th>From_RF</th>\n",
       "      <th>From_Set_Ops</th>\n",
       "    </tr>\n",
       "  </thead>\n",
       "  <tbody>\n",
       "    <tr>\n",
       "      <th>0</th>\n",
       "      <td>Zm00001eb418060</td>\n",
       "      <td>glutathione S-transferase2</td>\n",
       "      <td>Y</td>\n",
       "      <td>N</td>\n",
       "      <td>N</td>\n",
       "      <td>Y</td>\n",
       "    </tr>\n",
       "    <tr>\n",
       "      <th>1</th>\n",
       "      <td>Zm00001eb225440</td>\n",
       "      <td>NaN</td>\n",
       "      <td>Y</td>\n",
       "      <td>Y</td>\n",
       "      <td>Y</td>\n",
       "      <td>N</td>\n",
       "    </tr>\n",
       "    <tr>\n",
       "      <th>2</th>\n",
       "      <td>Zm00001eb197060</td>\n",
       "      <td>NaN</td>\n",
       "      <td>Y</td>\n",
       "      <td>N</td>\n",
       "      <td>N</td>\n",
       "      <td>Y</td>\n",
       "    </tr>\n",
       "    <tr>\n",
       "      <th>3</th>\n",
       "      <td>Zm00001eb322670</td>\n",
       "      <td>NaN</td>\n",
       "      <td>Y</td>\n",
       "      <td>Y</td>\n",
       "      <td>Y</td>\n",
       "      <td>N</td>\n",
       "    </tr>\n",
       "    <tr>\n",
       "      <th>4</th>\n",
       "      <td>Zm00001eb089800</td>\n",
       "      <td>aconitase8</td>\n",
       "      <td>Y</td>\n",
       "      <td>Y</td>\n",
       "      <td>Y</td>\n",
       "      <td>N</td>\n",
       "    </tr>\n",
       "  </tbody>\n",
       "</table>\n",
       "</div>"
      ],
      "text/plain": [
       "            GeneID                        Name Upregulated Downregulated  \\\n",
       "0  Zm00001eb418060  glutathione S-transferase2           Y             N   \n",
       "1  Zm00001eb225440                         NaN           Y             Y   \n",
       "2  Zm00001eb197060                         NaN           Y             N   \n",
       "3  Zm00001eb322670                         NaN           Y             Y   \n",
       "4  Zm00001eb089800                  aconitase8           Y             Y   \n",
       "\n",
       "  From_RF From_Set_Ops  \n",
       "0       N            Y  \n",
       "1       Y            N  \n",
       "2       N            Y  \n",
       "3       Y            N  \n",
       "4       Y            N  "
      ]
     },
     "execution_count": 6,
     "metadata": {},
     "output_type": "execute_result"
    }
   ],
   "source": [
    "# add columns for counts of upregulated and downregulated TFs\n",
    "# load gene information\n",
    "cginfo = pd.read_csv(\"../../data/CoreGenes_Final_Info.tsv\",sep=\"\\t\",header=\"infer\")\n",
    "cginfo.head()"
   ]
  },
  {
   "cell_type": "code",
   "execution_count": 7,
   "id": "7ff802fe",
   "metadata": {},
   "outputs": [],
   "source": [
    "# rename gene ID column in ctf dataframe\n",
    "ctf = ctf.rename(columns={\"gene ID\":\"GeneID\"})"
   ]
  },
  {
   "cell_type": "code",
   "execution_count": 8,
   "id": "ea69b379",
   "metadata": {},
   "outputs": [],
   "source": [
    "ctf_info = cginfo[[\"GeneID\",\"Upregulated\",\"Downregulated\"]].merge(ctf[[\"GeneID\",\"protein name\",\"family\"]])"
   ]
  },
  {
   "cell_type": "code",
   "execution_count": 11,
   "id": "79e0bf84",
   "metadata": {},
   "outputs": [
    {
     "data": {
      "text/plain": [
       "True"
      ]
     },
     "execution_count": 11,
     "metadata": {},
     "output_type": "execute_result"
    }
   ],
   "source": [
    "len(ctf_info[\"GeneID\"]) == len(ctf_info[\"GeneID\"].unique())"
   ]
  },
  {
   "cell_type": "code",
   "execution_count": 10,
   "id": "1b2c6f1a",
   "metadata": {},
   "outputs": [],
   "source": [
    "ctf_info = ctf_info.drop_duplicates()"
   ]
  },
  {
   "cell_type": "code",
   "execution_count": 12,
   "id": "60d79ef9",
   "metadata": {},
   "outputs": [],
   "source": [
    "# separate into upregulated and downregulated\n",
    "upinf = ctf_info[ctf_info[\"Upregulated\"]==\"Y\"]\n",
    "dninf = ctf_info[ctf_info[\"Downregulated\"]==\"Y\"]"
   ]
  },
  {
   "cell_type": "code",
   "execution_count": 13,
   "id": "d8eb2c57",
   "metadata": {},
   "outputs": [
    {
     "data": {
      "text/html": [
       "<div>\n",
       "<style scoped>\n",
       "    .dataframe tbody tr th:only-of-type {\n",
       "        vertical-align: middle;\n",
       "    }\n",
       "\n",
       "    .dataframe tbody tr th {\n",
       "        vertical-align: top;\n",
       "    }\n",
       "\n",
       "    .dataframe thead th {\n",
       "        text-align: right;\n",
       "    }\n",
       "</style>\n",
       "<table border=\"1\" class=\"dataframe\">\n",
       "  <thead>\n",
       "    <tr style=\"text-align: right;\">\n",
       "      <th></th>\n",
       "      <th>Count</th>\n",
       "      <th>Upregulated_Count</th>\n",
       "    </tr>\n",
       "  </thead>\n",
       "  <tbody>\n",
       "    <tr>\n",
       "      <th>Orphans</th>\n",
       "      <td>15</td>\n",
       "      <td>14</td>\n",
       "    </tr>\n",
       "    <tr>\n",
       "      <th>AP2/ERF-ERF</th>\n",
       "      <td>9</td>\n",
       "      <td>8</td>\n",
       "    </tr>\n",
       "    <tr>\n",
       "      <th>NAC</th>\n",
       "      <td>9</td>\n",
       "      <td>9</td>\n",
       "    </tr>\n",
       "    <tr>\n",
       "      <th>AP2/ERF-AP2</th>\n",
       "      <td>8</td>\n",
       "      <td>7</td>\n",
       "    </tr>\n",
       "    <tr>\n",
       "      <th>bZIP</th>\n",
       "      <td>8</td>\n",
       "      <td>8</td>\n",
       "    </tr>\n",
       "  </tbody>\n",
       "</table>\n",
       "</div>"
      ],
      "text/plain": [
       "             Count  Upregulated_Count\n",
       "Orphans         15                 14\n",
       "AP2/ERF-ERF      9                  8\n",
       "NAC              9                  9\n",
       "AP2/ERF-AP2      8                  7\n",
       "bZIP             8                  8"
      ]
     },
     "execution_count": 13,
     "metadata": {},
     "output_type": "execute_result"
    }
   ],
   "source": [
    "# add counts of upregulated genes\n",
    "upcounts = pd.DataFrame(upinf[\"family\"].value_counts()).rename(columns={\"family\":\"Upregulated_Count\"})\n",
    "familycounts[\"Upregulated_Count\"] = upcounts[\"Upregulated_Count\"]\n",
    "familycounts.head()"
   ]
  },
  {
   "cell_type": "code",
   "execution_count": 14,
   "id": "cf1216f5",
   "metadata": {},
   "outputs": [
    {
     "data": {
      "text/html": [
       "<div>\n",
       "<style scoped>\n",
       "    .dataframe tbody tr th:only-of-type {\n",
       "        vertical-align: middle;\n",
       "    }\n",
       "\n",
       "    .dataframe tbody tr th {\n",
       "        vertical-align: top;\n",
       "    }\n",
       "\n",
       "    .dataframe thead th {\n",
       "        text-align: right;\n",
       "    }\n",
       "</style>\n",
       "<table border=\"1\" class=\"dataframe\">\n",
       "  <thead>\n",
       "    <tr style=\"text-align: right;\">\n",
       "      <th></th>\n",
       "      <th>Count</th>\n",
       "      <th>Upregulated_Count</th>\n",
       "      <th>Downregulated_Count</th>\n",
       "    </tr>\n",
       "  </thead>\n",
       "  <tbody>\n",
       "    <tr>\n",
       "      <th>Orphans</th>\n",
       "      <td>15</td>\n",
       "      <td>14</td>\n",
       "      <td>9.0</td>\n",
       "    </tr>\n",
       "    <tr>\n",
       "      <th>AP2/ERF-ERF</th>\n",
       "      <td>9</td>\n",
       "      <td>8</td>\n",
       "      <td>3.0</td>\n",
       "    </tr>\n",
       "    <tr>\n",
       "      <th>NAC</th>\n",
       "      <td>9</td>\n",
       "      <td>9</td>\n",
       "      <td>3.0</td>\n",
       "    </tr>\n",
       "    <tr>\n",
       "      <th>AP2/ERF-AP2</th>\n",
       "      <td>8</td>\n",
       "      <td>7</td>\n",
       "      <td>7.0</td>\n",
       "    </tr>\n",
       "    <tr>\n",
       "      <th>bZIP</th>\n",
       "      <td>8</td>\n",
       "      <td>8</td>\n",
       "      <td>5.0</td>\n",
       "    </tr>\n",
       "  </tbody>\n",
       "</table>\n",
       "</div>"
      ],
      "text/plain": [
       "             Count  Upregulated_Count  Downregulated_Count\n",
       "Orphans         15                 14                  9.0\n",
       "AP2/ERF-ERF      9                  8                  3.0\n",
       "NAC              9                  9                  3.0\n",
       "AP2/ERF-AP2      8                  7                  7.0\n",
       "bZIP             8                  8                  5.0"
      ]
     },
     "execution_count": 14,
     "metadata": {},
     "output_type": "execute_result"
    }
   ],
   "source": [
    "# add counts of downregulated genes\n",
    "familycounts[\"Downregulated_Count\"] = pd.DataFrame(dninf[\"family\"].value_counts()).rename(columns={\"family\":\"Downregulated_Count\"})[\"Downregulated_Count\"]\n",
    "familycounts.head()"
   ]
  },
  {
   "cell_type": "code",
   "execution_count": 78,
   "id": "89ebb9b0",
   "metadata": {},
   "outputs": [
    {
     "data": {
      "image/png": "[encoded data removed]",
      "text/plain": [
       "<Figure size 720x720 with 1 Axes>"
      ]
     },
     "metadata": {
      "needs_background": "light"
     },
     "output_type": "display_data"
    }
   ],
   "source": [
    "# now we can make a graph\n",
    "## first, because it's just easier, make an overall graph of Count\n",
    "plt.figure(figsize=(10,10))\n",
    "plt.barh(familycounts.index,familycounts[\"Count\"])\n",
    "plt.title(\"Number of TFs of each family found in core gene set\",fontsize=14)\n",
    "plt.savefig(\"../../figures/barplot_TF_families_core_overall.pdf\",bbox_inches=\"tight\")"
   ]
  },
  {
   "cell_type": "code",
   "execution_count": 15,
   "id": "80809ba2",
   "metadata": {},
   "outputs": [],
   "source": [
    "import seaborn as sns"
   ]
  },
  {
   "cell_type": "code",
   "execution_count": 80,
   "id": "2a446821",
   "metadata": {},
   "outputs": [
    {
     "data": {
      "text/html": [
       "<div>\n",
       "<style scoped>\n",
       "    .dataframe tbody tr th:only-of-type {\n",
       "        vertical-align: middle;\n",
       "    }\n",
       "\n",
       "    .dataframe tbody tr th {\n",
       "        vertical-align: top;\n",
       "    }\n",
       "\n",
       "    .dataframe thead th {\n",
       "        text-align: right;\n",
       "    }\n",
       "</style>\n",
       "<table border=\"1\" class=\"dataframe\">\n",
       "  <thead>\n",
       "    <tr style=\"text-align: right;\">\n",
       "      <th></th>\n",
       "      <th>number for sorting purposes</th>\n",
       "      <th>protein name</th>\n",
       "      <th>family</th>\n",
       "      <th>gene ID</th>\n",
       "      <th>synonym</th>\n",
       "      <th>clone</th>\n",
       "      <th>all gene IDs</th>\n",
       "      <th>Unnamed: 7</th>\n",
       "    </tr>\n",
       "  </thead>\n",
       "  <tbody>\n",
       "    <tr>\n",
       "      <th>0</th>\n",
       "      <td>1</td>\n",
       "      <td>ZmABI1</td>\n",
       "      <td>ABI3-VP1</td>\n",
       "      <td>Zm00001eb143690</td>\n",
       "      <td>VP1</td>\n",
       "      <td>pUT3351</td>\n",
       "      <td>Zm00001eb143690 Zm00001d042396 GRMZM2G133398</td>\n",
       "      <td>NaN</td>\n",
       "    </tr>\n",
       "    <tr>\n",
       "      <th>1</th>\n",
       "      <td>2</td>\n",
       "      <td>ZmABI2</td>\n",
       "      <td>ABI3-VP1</td>\n",
       "      <td>Zm00001eb427970</td>\n",
       "      <td>ABI2</td>\n",
       "      <td>pUT3663</td>\n",
       "      <td>Zm00001d026005 Zm00001eb427970 GRMZM2G018485</td>\n",
       "      <td>NaN</td>\n",
       "    </tr>\n",
       "    <tr>\n",
       "      <th>2</th>\n",
       "      <td>3</td>\n",
       "      <td>ZmABI3</td>\n",
       "      <td>ABI3-VP1</td>\n",
       "      <td>Zm00001eb066270</td>\n",
       "      <td>ABI3</td>\n",
       "      <td>pUT3236</td>\n",
       "      <td>Zm00001eb066270 Zm00001d001838 GRMZM2G149940</td>\n",
       "      <td>NaN</td>\n",
       "    </tr>\n",
       "    <tr>\n",
       "      <th>3</th>\n",
       "      <td>4</td>\n",
       "      <td>ZmABI4</td>\n",
       "      <td>ABI3-VP1</td>\n",
       "      <td>Zm00001eb051330</td>\n",
       "      <td>ABI4</td>\n",
       "      <td>pUT4675</td>\n",
       "      <td>Zm00001d033313 GRMZM2G098063 Zm00001eb051330</td>\n",
       "      <td>NaN</td>\n",
       "    </tr>\n",
       "    <tr>\n",
       "      <th>4</th>\n",
       "      <td>5</td>\n",
       "      <td>ZmABI5</td>\n",
       "      <td>ABI3-VP1</td>\n",
       "      <td>Zm00001eb218990</td>\n",
       "      <td>ABI5</td>\n",
       "      <td>pUT4673</td>\n",
       "      <td>Zm00001d013722 Zm00001eb218990 GRMZM2G320754</td>\n",
       "      <td>NaN</td>\n",
       "    </tr>\n",
       "  </tbody>\n",
       "</table>\n",
       "</div>"
      ],
      "text/plain": [
       "   number for sorting purposes protein name    family          gene ID  \\\n",
       "0                            1       ZmABI1  ABI3-VP1  Zm00001eb143690   \n",
       "1                            2       ZmABI2  ABI3-VP1  Zm00001eb427970   \n",
       "2                            3       ZmABI3  ABI3-VP1  Zm00001eb066270   \n",
       "3                            4       ZmABI4  ABI3-VP1  Zm00001eb051330   \n",
       "4                            5       ZmABI5  ABI3-VP1  Zm00001eb218990   \n",
       "\n",
       "  synonym    clone                                  all gene IDs Unnamed: 7  \n",
       "0     VP1  pUT3351  Zm00001eb143690 Zm00001d042396 GRMZM2G133398        NaN  \n",
       "1    ABI2  pUT3663  Zm00001d026005 Zm00001eb427970 GRMZM2G018485        NaN  \n",
       "2    ABI3  pUT3236  Zm00001eb066270 Zm00001d001838 GRMZM2G149940        NaN  \n",
       "3    ABI4  pUT4675  Zm00001d033313 GRMZM2G098063 Zm00001eb051330        NaN  \n",
       "4    ABI5  pUT4673  Zm00001d013722 Zm00001eb218990 GRMZM2G320754        NaN  "
      ]
     },
     "execution_count": 80,
     "metadata": {},
     "output_type": "execute_result"
    }
   ],
   "source": [
    "tf.head()"
   ]
  },
  {
   "cell_type": "code",
   "execution_count": 16,
   "id": "dec244bc",
   "metadata": {},
   "outputs": [],
   "source": [
    "tfsub = tf[[\"gene ID\",\"family\"]]\n",
    "tfsub = tfsub.drop_duplicates()"
   ]
  },
  {
   "cell_type": "code",
   "execution_count": 17,
   "id": "80bcac8f",
   "metadata": {},
   "outputs": [
    {
     "data": {
      "text/html": [
       "<div>\n",
       "<style scoped>\n",
       "    .dataframe tbody tr th:only-of-type {\n",
       "        vertical-align: middle;\n",
       "    }\n",
       "\n",
       "    .dataframe tbody tr th {\n",
       "        vertical-align: top;\n",
       "    }\n",
       "\n",
       "    .dataframe thead th {\n",
       "        text-align: right;\n",
       "    }\n",
       "</style>\n",
       "<table border=\"1\" class=\"dataframe\">\n",
       "  <thead>\n",
       "    <tr style=\"text-align: right;\">\n",
       "      <th></th>\n",
       "      <th>Count</th>\n",
       "      <th>Upregulated_Count</th>\n",
       "      <th>Downregulated_Count</th>\n",
       "      <th>Annotated_Count</th>\n",
       "    </tr>\n",
       "  </thead>\n",
       "  <tbody>\n",
       "    <tr>\n",
       "      <th>Orphans</th>\n",
       "      <td>15</td>\n",
       "      <td>14</td>\n",
       "      <td>9.0</td>\n",
       "      <td>300</td>\n",
       "    </tr>\n",
       "    <tr>\n",
       "      <th>AP2/ERF-ERF</th>\n",
       "      <td>9</td>\n",
       "      <td>8</td>\n",
       "      <td>3.0</td>\n",
       "      <td>143</td>\n",
       "    </tr>\n",
       "    <tr>\n",
       "      <th>NAC</th>\n",
       "      <td>9</td>\n",
       "      <td>9</td>\n",
       "      <td>3.0</td>\n",
       "      <td>172</td>\n",
       "    </tr>\n",
       "    <tr>\n",
       "      <th>AP2/ERF-AP2</th>\n",
       "      <td>8</td>\n",
       "      <td>7</td>\n",
       "      <td>7.0</td>\n",
       "      <td>91</td>\n",
       "    </tr>\n",
       "    <tr>\n",
       "      <th>bZIP</th>\n",
       "      <td>8</td>\n",
       "      <td>8</td>\n",
       "      <td>5.0</td>\n",
       "      <td>136</td>\n",
       "    </tr>\n",
       "  </tbody>\n",
       "</table>\n",
       "</div>"
      ],
      "text/plain": [
       "             Count  Upregulated_Count  Downregulated_Count  Annotated_Count\n",
       "Orphans         15                 14                  9.0              300\n",
       "AP2/ERF-ERF      9                  8                  3.0              143\n",
       "NAC              9                  9                  3.0              172\n",
       "AP2/ERF-AP2      8                  7                  7.0               91\n",
       "bZIP             8                  8                  5.0              136"
      ]
     },
     "execution_count": 17,
     "metadata": {},
     "output_type": "execute_result"
    }
   ],
   "source": [
    "# make a figure showing the number of TFs of each family in the core set vs. number of TFs annotated in that family\n",
    "## overlapping bar plots\n",
    "\n",
    "# add the counts of overall annotated TFs\n",
    "familycounts[\"Annotated_Count\"] = pd.DataFrame(tfsub[\"family\"].value_counts())[\"family\"]\n",
    "familycounts.head()"
   ]
  },
  {
   "cell_type": "code",
   "execution_count": 93,
   "id": "c210e3e1",
   "metadata": {},
   "outputs": [
    {
     "data": {
      "image/png": "[encoded data removed]",
      "text/plain": [
       "<Figure size 720x720 with 1 Axes>"
      ]
     },
     "metadata": {
      "needs_background": "light"
     },
     "output_type": "display_data"
    }
   ],
   "source": [
    "# make overlapping bar plots\n",
    "ax = plt.subplots(figsize=(10,10))\n",
    "ax = sns.barplot(y=familycounts.index, x=familycounts[\"Annotated_Count\"],color=\"grey\")\n",
    "ax = sns.barplot(y=familycounts.index, x=familycounts[\"Count\"],color=\"b\")"
   ]
  },
  {
   "cell_type": "code",
   "execution_count": 95,
   "id": "7fe74d28",
   "metadata": {},
   "outputs": [
    {
     "data": {
      "text/html": [
       "<div>\n",
       "<style scoped>\n",
       "    .dataframe tbody tr th:only-of-type {\n",
       "        vertical-align: middle;\n",
       "    }\n",
       "\n",
       "    .dataframe tbody tr th {\n",
       "        vertical-align: top;\n",
       "    }\n",
       "\n",
       "    .dataframe thead th {\n",
       "        text-align: right;\n",
       "    }\n",
       "</style>\n",
       "<table border=\"1\" class=\"dataframe\">\n",
       "  <thead>\n",
       "    <tr style=\"text-align: right;\">\n",
       "      <th></th>\n",
       "      <th>Count</th>\n",
       "      <th>Upregulated_Count</th>\n",
       "      <th>Downregulated_Count</th>\n",
       "      <th>Annotated_Count</th>\n",
       "    </tr>\n",
       "  </thead>\n",
       "  <tbody>\n",
       "    <tr>\n",
       "      <th>Orphans</th>\n",
       "      <td>15</td>\n",
       "      <td>14</td>\n",
       "      <td>9.0</td>\n",
       "      <td>300</td>\n",
       "    </tr>\n",
       "    <tr>\n",
       "      <th>AP2/ERF-ERF</th>\n",
       "      <td>9</td>\n",
       "      <td>8</td>\n",
       "      <td>3.0</td>\n",
       "      <td>143</td>\n",
       "    </tr>\n",
       "    <tr>\n",
       "      <th>NAC</th>\n",
       "      <td>9</td>\n",
       "      <td>9</td>\n",
       "      <td>3.0</td>\n",
       "      <td>172</td>\n",
       "    </tr>\n",
       "    <tr>\n",
       "      <th>AP2/ERF-AP2</th>\n",
       "      <td>8</td>\n",
       "      <td>7</td>\n",
       "      <td>7.0</td>\n",
       "      <td>91</td>\n",
       "    </tr>\n",
       "    <tr>\n",
       "      <th>bZIP</th>\n",
       "      <td>8</td>\n",
       "      <td>8</td>\n",
       "      <td>5.0</td>\n",
       "      <td>136</td>\n",
       "    </tr>\n",
       "  </tbody>\n",
       "</table>\n",
       "</div>"
      ],
      "text/plain": [
       "             Count  Upregulated_Count  Downregulated_Count  Annotated_Count\n",
       "Orphans         15                 14                  9.0              300\n",
       "AP2/ERF-ERF      9                  8                  3.0              143\n",
       "NAC              9                  9                  3.0              172\n",
       "AP2/ERF-AP2      8                  7                  7.0               91\n",
       "bZIP             8                  8                  5.0              136"
      ]
     },
     "execution_count": 95,
     "metadata": {},
     "output_type": "execute_result"
    }
   ],
   "source": [
    "familycounts.head()"
   ]
  },
  {
   "cell_type": "code",
   "execution_count": 94,
   "id": "464a641f",
   "metadata": {},
   "outputs": [
    {
     "data": {
      "text/plain": [
       "14"
      ]
     },
     "execution_count": 94,
     "metadata": {},
     "output_type": "execute_result"
    }
   ],
   "source": [
    "familycounts.iloc[0,1]"
   ]
  },
  {
   "cell_type": "code",
   "execution_count": 18,
   "id": "b9e8d9ef",
   "metadata": {},
   "outputs": [
    {
     "data": {
      "text/html": [
       "<div>\n",
       "<style scoped>\n",
       "    .dataframe tbody tr th:only-of-type {\n",
       "        vertical-align: middle;\n",
       "    }\n",
       "\n",
       "    .dataframe tbody tr th {\n",
       "        vertical-align: top;\n",
       "    }\n",
       "\n",
       "    .dataframe thead th {\n",
       "        text-align: right;\n",
       "    }\n",
       "</style>\n",
       "<table border=\"1\" class=\"dataframe\">\n",
       "  <thead>\n",
       "    <tr style=\"text-align: right;\">\n",
       "      <th></th>\n",
       "      <th>Count</th>\n",
       "      <th>Upregulated_Count</th>\n",
       "      <th>Downregulated_Count</th>\n",
       "      <th>Annotated_Count</th>\n",
       "      <th>Percent_in_Core</th>\n",
       "    </tr>\n",
       "  </thead>\n",
       "  <tbody>\n",
       "    <tr>\n",
       "      <th>Orphans</th>\n",
       "      <td>15</td>\n",
       "      <td>14</td>\n",
       "      <td>9.0</td>\n",
       "      <td>300</td>\n",
       "      <td>5.000000</td>\n",
       "    </tr>\n",
       "    <tr>\n",
       "      <th>AP2/ERF-ERF</th>\n",
       "      <td>9</td>\n",
       "      <td>8</td>\n",
       "      <td>3.0</td>\n",
       "      <td>143</td>\n",
       "      <td>6.293706</td>\n",
       "    </tr>\n",
       "    <tr>\n",
       "      <th>NAC</th>\n",
       "      <td>9</td>\n",
       "      <td>9</td>\n",
       "      <td>3.0</td>\n",
       "      <td>172</td>\n",
       "      <td>5.232558</td>\n",
       "    </tr>\n",
       "    <tr>\n",
       "      <th>AP2/ERF-AP2</th>\n",
       "      <td>8</td>\n",
       "      <td>7</td>\n",
       "      <td>7.0</td>\n",
       "      <td>91</td>\n",
       "      <td>8.791209</td>\n",
       "    </tr>\n",
       "    <tr>\n",
       "      <th>bZIP</th>\n",
       "      <td>8</td>\n",
       "      <td>8</td>\n",
       "      <td>5.0</td>\n",
       "      <td>136</td>\n",
       "      <td>5.882353</td>\n",
       "    </tr>\n",
       "  </tbody>\n",
       "</table>\n",
       "</div>"
      ],
      "text/plain": [
       "             Count  Upregulated_Count  Downregulated_Count  Annotated_Count  \\\n",
       "Orphans         15                 14                  9.0              300   \n",
       "AP2/ERF-ERF      9                  8                  3.0              143   \n",
       "NAC              9                  9                  3.0              172   \n",
       "AP2/ERF-AP2      8                  7                  7.0               91   \n",
       "bZIP             8                  8                  5.0              136   \n",
       "\n",
       "             Percent_in_Core  \n",
       "Orphans             5.000000  \n",
       "AP2/ERF-ERF         6.293706  \n",
       "NAC                 5.232558  \n",
       "AP2/ERF-AP2         8.791209  \n",
       "bZIP                5.882353  "
      ]
     },
     "execution_count": 18,
     "metadata": {},
     "output_type": "execute_result"
    }
   ],
   "source": [
    "# not super informative...let's do it by percent instead\n",
    "## calculate percentages\n",
    "pct = []\n",
    "for i in range(len(familycounts.index)):\n",
    "    num = familycounts.iloc[i,0]\n",
    "    dem = familycounts.iloc[i,3]\n",
    "    p = num/dem\n",
    "    pct.append(p*100)\n",
    "familycounts[\"Percent_in_Core\"] = pct\n",
    "familycounts.head()"
   ]
  },
  {
   "cell_type": "code",
   "execution_count": 22,
   "id": "853d4830",
   "metadata": {},
   "outputs": [
    {
     "data": {
      "image/png": "[encoded data removed]",
      "text/plain": [
       "<Figure size 720x720 with 1 Axes>"
      ]
     },
     "metadata": {
      "needs_background": "light"
     },
     "output_type": "display_data"
    }
   ],
   "source": [
    "# make percentage barplot\n",
    "ax = plt.subplots(figsize=(10,10))\n",
    "ax = sns.barplot(y=familycounts.index,x=familycounts[\"Percent_in_Core\"],color=\"b\")\n",
    "plt.title(\"Percent of each TF family found in core stress gene set\",fontsize=20)\n",
    "plt.ylabel(\"Transcription Factor Family\",fontsize=16)\n",
    "plt.xlabel(\"Percentage in Core Set\",fontsize=16)\n",
    "plt.xticks(fontsize=16)\n",
    "plt.savefig(\"../../figures/TF_families_percent_core_barplot.svg\",bbox_inches=\"tight\")"
   ]
  },
  {
   "cell_type": "code",
   "execution_count": null,
   "id": "dc4fce59",
   "metadata": {},
   "outputs": [],
   "source": []
  }
 ],
 "metadata": {
  "kernelspec": {
   "display_name": "Python 3 (ipykernel)",
   "language": "python",
   "name": "python3"
  },
  "language_info": {
   "codemirror_mode": {
    "name": "ipython",
    "version": 3
   },
   "file_extension": ".py",
   "mimetype": "text/x-python",
   "name": "python",
   "nbconvert_exporter": "python",
   "pygments_lexer": "ipython3",
   "version": "3.8.10"
  }
 },
 "nbformat": 4,
 "nbformat_minor": 5
}
