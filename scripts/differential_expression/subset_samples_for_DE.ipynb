{
 "cells": [
  {
   "cell_type": "markdown",
   "id": "3565797e",
   "metadata": {},
   "source": [
    "Purpose: Subset the samples in the core stress project to a list of only those suitable for differential expression.<br>\n",
    "Author: Anna Pardo<br>\n",
    "Date initiated: June 5, 2023"
   ]
  },
  {
   "cell_type": "code",
   "execution_count": 1,
   "id": "4d306f08",
   "metadata": {},
   "outputs": [],
   "source": [
    "# load modules\n",
    "import pandas as pd"
   ]
  },
  {
   "cell_type": "code",
   "execution_count": 2,
   "id": "74b777b0",
   "metadata": {},
   "outputs": [
    {
     "data": {
      "text/html": [
       "<div>\n",
       "<style scoped>\n",
       "    .dataframe tbody tr th:only-of-type {\n",
       "        vertical-align: middle;\n",
       "    }\n",
       "\n",
       "    .dataframe tbody tr th {\n",
       "        vertical-align: top;\n",
       "    }\n",
       "\n",
       "    .dataframe thead th {\n",
       "        text-align: right;\n",
       "    }\n",
       "</style>\n",
       "<table border=\"1\" class=\"dataframe\">\n",
       "  <thead>\n",
       "    <tr style=\"text-align: right;\">\n",
       "      <th></th>\n",
       "      <th>BioProject</th>\n",
       "      <th>Sample</th>\n",
       "      <th>sample_name</th>\n",
       "      <th>Replicate_num</th>\n",
       "      <th>Genotype</th>\n",
       "      <th>Technology</th>\n",
       "      <th>Library_layout</th>\n",
       "      <th>Treatment</th>\n",
       "      <th>Duration_hours</th>\n",
       "      <th>Time_after_treatment</th>\n",
       "      <th>...</th>\n",
       "      <th>Developmental_stage</th>\n",
       "      <th>Tissue</th>\n",
       "      <th>Day_length_hours</th>\n",
       "      <th>Day_temp_C</th>\n",
       "      <th>Night_temp_C</th>\n",
       "      <th>Relative humidity (%)</th>\n",
       "      <th>Light (umol/m2/s)</th>\n",
       "      <th>Growth Env.</th>\n",
       "      <th>Media</th>\n",
       "      <th>Notes</th>\n",
       "    </tr>\n",
       "  </thead>\n",
       "  <tbody>\n",
       "    <tr>\n",
       "      <th>0</th>\n",
       "      <td>PRJNA637522</td>\n",
       "      <td>SRR11933261</td>\n",
       "      <td>238_WS2</td>\n",
       "      <td>NaN</td>\n",
       "      <td>238</td>\n",
       "      <td>Illumina HiSeq 2500</td>\n",
       "      <td>PAIRED</td>\n",
       "      <td>Drought</td>\n",
       "      <td>312.0</td>\n",
       "      <td>13 days</td>\n",
       "      <td>...</td>\n",
       "      <td>V3</td>\n",
       "      <td>Leaf</td>\n",
       "      <td>16.0</td>\n",
       "      <td>25.0</td>\n",
       "      <td>NaN</td>\n",
       "      <td>NaN</td>\n",
       "      <td>NaN</td>\n",
       "      <td>Greenhouse</td>\n",
       "      <td>NaN</td>\n",
       "      <td>NaN</td>\n",
       "    </tr>\n",
       "    <tr>\n",
       "      <th>1</th>\n",
       "      <td>PRJNA637522</td>\n",
       "      <td>SRR11933272</td>\n",
       "      <td>238_WS1</td>\n",
       "      <td>NaN</td>\n",
       "      <td>238</td>\n",
       "      <td>Illumina HiSeq 2500</td>\n",
       "      <td>PAIRED</td>\n",
       "      <td>Drought</td>\n",
       "      <td>216.0</td>\n",
       "      <td>9 days</td>\n",
       "      <td>...</td>\n",
       "      <td>V3</td>\n",
       "      <td>Leaf</td>\n",
       "      <td>16.0</td>\n",
       "      <td>25.0</td>\n",
       "      <td>NaN</td>\n",
       "      <td>NaN</td>\n",
       "      <td>NaN</td>\n",
       "      <td>Greenhouse</td>\n",
       "      <td>NaN</td>\n",
       "      <td>NaN</td>\n",
       "    </tr>\n",
       "    <tr>\n",
       "      <th>2</th>\n",
       "      <td>PRJNA637522</td>\n",
       "      <td>SRR11933250</td>\n",
       "      <td>268_WS1</td>\n",
       "      <td>NaN</td>\n",
       "      <td>268</td>\n",
       "      <td>Illumina HiSeq 2500</td>\n",
       "      <td>PAIRED</td>\n",
       "      <td>Drought</td>\n",
       "      <td>216.0</td>\n",
       "      <td>9 days</td>\n",
       "      <td>...</td>\n",
       "      <td>V3</td>\n",
       "      <td>Leaf</td>\n",
       "      <td>16.0</td>\n",
       "      <td>25.0</td>\n",
       "      <td>NaN</td>\n",
       "      <td>NaN</td>\n",
       "      <td>NaN</td>\n",
       "      <td>Greenhouse</td>\n",
       "      <td>NaN</td>\n",
       "      <td>NaN</td>\n",
       "    </tr>\n",
       "    <tr>\n",
       "      <th>3</th>\n",
       "      <td>PRJNA637522</td>\n",
       "      <td>SRR11933029</td>\n",
       "      <td>268_WW</td>\n",
       "      <td>NaN</td>\n",
       "      <td>268</td>\n",
       "      <td>Illumina HiSeq 2500</td>\n",
       "      <td>PAIRED</td>\n",
       "      <td>Control</td>\n",
       "      <td>216.0</td>\n",
       "      <td>9 days</td>\n",
       "      <td>...</td>\n",
       "      <td>V3</td>\n",
       "      <td>Leaf</td>\n",
       "      <td>16.0</td>\n",
       "      <td>25.0</td>\n",
       "      <td>NaN</td>\n",
       "      <td>NaN</td>\n",
       "      <td>NaN</td>\n",
       "      <td>Greenhouse</td>\n",
       "      <td>NaN</td>\n",
       "      <td>NaN</td>\n",
       "    </tr>\n",
       "    <tr>\n",
       "      <th>4</th>\n",
       "      <td>PRJNA637522</td>\n",
       "      <td>SRR11933040</td>\n",
       "      <td>268_WS2</td>\n",
       "      <td>NaN</td>\n",
       "      <td>268</td>\n",
       "      <td>Illumina HiSeq 2500</td>\n",
       "      <td>PAIRED</td>\n",
       "      <td>Drought</td>\n",
       "      <td>312.0</td>\n",
       "      <td>13 days</td>\n",
       "      <td>...</td>\n",
       "      <td>V3</td>\n",
       "      <td>Leaf</td>\n",
       "      <td>16.0</td>\n",
       "      <td>25.0</td>\n",
       "      <td>NaN</td>\n",
       "      <td>NaN</td>\n",
       "      <td>NaN</td>\n",
       "      <td>Greenhouse</td>\n",
       "      <td>NaN</td>\n",
       "      <td>NaN</td>\n",
       "    </tr>\n",
       "  </tbody>\n",
       "</table>\n",
       "<p>5 rows × 22 columns</p>\n",
       "</div>"
      ],
      "text/plain": [
       "    BioProject       Sample sample_name  Replicate_num Genotype  \\\n",
       "0  PRJNA637522  SRR11933261     238_WS2            NaN      238   \n",
       "1  PRJNA637522  SRR11933272     238_WS1            NaN      238   \n",
       "2  PRJNA637522  SRR11933250     268_WS1            NaN      268   \n",
       "3  PRJNA637522  SRR11933029      268_WW            NaN      268   \n",
       "4  PRJNA637522  SRR11933040     268_WS2            NaN      268   \n",
       "\n",
       "            Technology Library_layout Treatment  Duration_hours  \\\n",
       "0  Illumina HiSeq 2500         PAIRED   Drought           312.0   \n",
       "1  Illumina HiSeq 2500         PAIRED   Drought           216.0   \n",
       "2  Illumina HiSeq 2500         PAIRED   Drought           216.0   \n",
       "3  Illumina HiSeq 2500         PAIRED   Control           216.0   \n",
       "4  Illumina HiSeq 2500         PAIRED   Drought           312.0   \n",
       "\n",
       "  Time_after_treatment  ...  Developmental_stage Tissue Day_length_hours  \\\n",
       "0              13 days  ...                   V3   Leaf             16.0   \n",
       "1               9 days  ...                   V3   Leaf             16.0   \n",
       "2               9 days  ...                   V3   Leaf             16.0   \n",
       "3               9 days  ...                   V3   Leaf             16.0   \n",
       "4              13 days  ...                   V3   Leaf             16.0   \n",
       "\n",
       "  Day_temp_C  Night_temp_C  Relative humidity (%)  Light (umol/m2/s)  \\\n",
       "0       25.0           NaN                    NaN                NaN   \n",
       "1       25.0           NaN                    NaN                NaN   \n",
       "2       25.0           NaN                    NaN                NaN   \n",
       "3       25.0           NaN                    NaN                NaN   \n",
       "4       25.0           NaN                    NaN                NaN   \n",
       "\n",
       "  Growth Env. Media Notes  \n",
       "0  Greenhouse   NaN   NaN  \n",
       "1  Greenhouse   NaN   NaN  \n",
       "2  Greenhouse   NaN   NaN  \n",
       "3  Greenhouse   NaN   NaN  \n",
       "4  Greenhouse   NaN   NaN  \n",
       "\n",
       "[5 rows x 22 columns]"
      ]
     },
     "execution_count": 2,
     "metadata": {},
     "output_type": "execute_result"
    }
   ],
   "source": [
    "# load sample metadata sheet\n",
    "md = pd.read_csv(\"../../data/srr_numbers_with_metadata_12-May-2023.csv\",sep=\",\",header=\"infer\")\n",
    "md.head()"
   ]
  },
  {
   "cell_type": "code",
   "execution_count": 4,
   "id": "49a8c237",
   "metadata": {},
   "outputs": [],
   "source": [
    "# generate a list of BioProjects NOT to be included (all samples are not suitable for DE)\n",
    "# Brandon_Webster is included because it did not pass through tximport with the other samples and must be studied separately\n",
    "bpremove = [\n",
    "    \"PRJNA172724\",\n",
    "    \"PRJNA210356\",\n",
    "    \"PRJNA255755\",\n",
    "    \"PRJNA290180\",\n",
    "    \"PRJNA291064\",\n",
    "    \"PRJNA300830\",\n",
    "    \"PRJNA304223\",\n",
    "    \"PRJNA349117\",\n",
    "    \"PRJNA378609\",\n",
    "    \"PRJNA379712\",\n",
    "    \"PRJNA436973\",\n",
    "    \"PRJNA545969\",\n",
    "    \"PRJNA646054\",\n",
    "    \"PRJNA647980\",\n",
    "    \"PRJNA689935\",\n",
    "    \"PRJNA906711\",\n",
    "    \"Brandon_Webster\"\n",
    "]"
   ]
  },
  {
   "cell_type": "code",
   "execution_count": 5,
   "id": "4cfeed79",
   "metadata": {},
   "outputs": [
    {
     "name": "stdout",
     "output_type": "stream",
     "text": [
      "PRJNA172724 : check!\n",
      "PRJNA210356 : check!\n",
      "PRJNA255755 : check!\n",
      "PRJNA290180 : check!\n",
      "PRJNA291064 : check!\n",
      "PRJNA300830 : check!\n",
      "PRJNA304223 : check!\n",
      "PRJNA349117 : check!\n",
      "PRJNA378609 : check!\n",
      "PRJNA379712 : check!\n",
      "PRJNA436973 : check!\n",
      "PRJNA545969 : check!\n",
      "PRJNA646054 : check!\n",
      "PRJNA647980 : check!\n",
      "PRJNA689935 : check!\n",
      "PRJNA906711 : check!\n",
      "Brandon_Webster : check!\n"
     ]
    }
   ],
   "source": [
    "# since the list is hard-coded from a handwritten list: double-check that all these BioProjects are present in md\n",
    "for b in bpremove:\n",
    "    if b in md[\"BioProject\"].unique():\n",
    "        print(b,\": check!\")\n",
    "    else:\n",
    "        print(b,\": not present\")"
   ]
  },
  {
   "cell_type": "code",
   "execution_count": 6,
   "id": "1cf761c7",
   "metadata": {},
   "outputs": [],
   "source": [
    "# remove from md all BioProjects in this list\n",
    "mdb = md[~md[\"BioProject\"].isin(bpremove)]"
   ]
  },
  {
   "cell_type": "code",
   "execution_count": 7,
   "id": "b9fa8e1f",
   "metadata": {},
   "outputs": [
    {
     "name": "stderr",
     "output_type": "stream",
     "text": [
      "/tmp/ipykernel_27172/2462060087.py:14: SettingWithCopyWarning: \n",
      "A value is trying to be set on a copy of a slice from a DataFrame.\n",
      "Try using .loc[row_indexer,col_indexer] = value instead\n",
      "\n",
      "See the caveats in the documentation: https://pandas.pydata.org/pandas-docs/stable/user_guide/indexing.html#returning-a-view-versus-a-copy\n",
      "  df[\"proxy\"] = df[\"Developmental_stage\"]+\"_\"+str(df[\"Duration_hours\"])+\"_\"+df[\"Tissue\"]\n"
     ]
    }
   ],
   "source": [
    "# the dataframe mdb now contains only BioProjects with at least some samples suitable for differential expression\n",
    "# certain samples need to be removed; this will require a long if/else statement\n",
    "\n",
    "dflist = []\n",
    "for i in mdb[\"BioProject\"].unique():\n",
    "    df = mdb[mdb[\"BioProject\"]==i]\n",
    "    if i==\"PRJNA244661\":\n",
    "        df = df[~df[\"Treatment\"].isin([\"Salt\",\"UV\"])]\n",
    "    elif i==\"PRJNA267717\":\n",
    "        df = df[df[\"Duration_hours\"]!=72]\n",
    "    elif i==\"PRJNA378714\":\n",
    "        df = df[df[\"Duration_hours\"]==72]\n",
    "    elif i==\"PRJNA520822\":\n",
    "        df[\"proxy\"] = df[\"Developmental_stage\"]+\"_\"+str(df[\"Duration_hours\"])+\"_\"+df[\"Tissue\"]\n",
    "        df = df[df[\"proxy\"]!=\"R1_2_Ear\"]\n",
    "        df = df[df[\"proxy\"]!=\"V3_48_Stalk\"]\n",
    "        df.drop(\"proxy\",axis=1,inplace=True)\n",
    "    elif i==\"PRJNA747925\":\n",
    "        l = [\"B73\",\"Mo17\",\"W22\",\"B73xMo17\",\"W22xB73\",\"W22xMo17\"]\n",
    "        df = df[df[\"Genotype\"].isin(l)]\n",
    "        df = df[df[\"Duration_hours\"].isin([1,25])]\n",
    "    elif i==\"PRJNA877073\":\n",
    "        df = df[df[\"Duration_hours\"]!=0]\n",
    "    dflist.append(df)"
   ]
  },
  {
   "cell_type": "code",
   "execution_count": 8,
   "id": "cb4528a0",
   "metadata": {},
   "outputs": [],
   "source": [
    "mdsub = pd.concat(dflist)"
   ]
  },
  {
   "cell_type": "code",
   "execution_count": 9,
   "id": "4dff88a7",
   "metadata": {},
   "outputs": [],
   "source": [
    "# extract a list of the samples from mdsub\n",
    "samples = list(mdsub[\"Sample\"].unique())"
   ]
  },
  {
   "cell_type": "code",
   "execution_count": 28,
   "id": "269b48be",
   "metadata": {},
   "outputs": [],
   "source": [
    "# save the subsetted metadata as a csv file\n",
    "mdsub.to_csv(\"../data/metadata_for_DESeq_samples.csv\",sep=\",\",header=True,index=False)"
   ]
  },
  {
   "cell_type": "code",
   "execution_count": 18,
   "id": "4fc03098",
   "metadata": {},
   "outputs": [],
   "source": [
    "# save the list of samples to a file\n",
    "with open(\"../../data/samples_for_de.txt\",\"w+\") as outfile:\n",
    "    for i in samples:\n",
    "        outfile.write(i+\"\\n\")"
   ]
  },
  {
   "cell_type": "code",
   "execution_count": 10,
   "id": "8bb452ee",
   "metadata": {},
   "outputs": [
    {
     "data": {
      "text/html": [
       "<div>\n",
       "<style scoped>\n",
       "    .dataframe tbody tr th:only-of-type {\n",
       "        vertical-align: middle;\n",
       "    }\n",
       "\n",
       "    .dataframe tbody tr th {\n",
       "        vertical-align: top;\n",
       "    }\n",
       "\n",
       "    .dataframe thead th {\n",
       "        text-align: right;\n",
       "    }\n",
       "</style>\n",
       "<table border=\"1\" class=\"dataframe\">\n",
       "  <thead>\n",
       "    <tr style=\"text-align: right;\">\n",
       "      <th></th>\n",
       "      <th>File</th>\n",
       "      <th>Sample</th>\n",
       "      <th>Percent_Mapped</th>\n",
       "    </tr>\n",
       "  </thead>\n",
       "  <tbody>\n",
       "    <tr>\n",
       "      <th>0</th>\n",
       "      <td>/mnt/scratch/haberan2/Core_Stress_Response/01_...</td>\n",
       "      <td>SRR8857799</td>\n",
       "      <td>86.555924</td>\n",
       "    </tr>\n",
       "    <tr>\n",
       "      <th>1</th>\n",
       "      <td>/mnt/scratch/haberan2/Core_Stress_Response/01_...</td>\n",
       "      <td>SRR8857793</td>\n",
       "      <td>86.877209</td>\n",
       "    </tr>\n",
       "    <tr>\n",
       "      <th>2</th>\n",
       "      <td>/mnt/scratch/haberan2/Core_Stress_Response/01_...</td>\n",
       "      <td>SRR15241108</td>\n",
       "      <td>87.659877</td>\n",
       "    </tr>\n",
       "    <tr>\n",
       "      <th>3</th>\n",
       "      <td>/mnt/scratch/haberan2/Core_Stress_Response/01_...</td>\n",
       "      <td>SRR15241156</td>\n",
       "      <td>89.027615</td>\n",
       "    </tr>\n",
       "    <tr>\n",
       "      <th>4</th>\n",
       "      <td>/mnt/scratch/haberan2/Core_Stress_Response/01_...</td>\n",
       "      <td>SRR8857749</td>\n",
       "      <td>84.932979</td>\n",
       "    </tr>\n",
       "  </tbody>\n",
       "</table>\n",
       "</div>"
      ],
      "text/plain": [
       "                                                File       Sample  \\\n",
       "0  /mnt/scratch/haberan2/Core_Stress_Response/01_...   SRR8857799   \n",
       "1  /mnt/scratch/haberan2/Core_Stress_Response/01_...   SRR8857793   \n",
       "2  /mnt/scratch/haberan2/Core_Stress_Response/01_...  SRR15241108   \n",
       "3  /mnt/scratch/haberan2/Core_Stress_Response/01_...  SRR15241156   \n",
       "4  /mnt/scratch/haberan2/Core_Stress_Response/01_...   SRR8857749   \n",
       "\n",
       "   Percent_Mapped  \n",
       "0       86.555924  \n",
       "1       86.877209  \n",
       "2       87.659877  \n",
       "3       89.027615  \n",
       "4       84.932979  "
      ]
     },
     "execution_count": 10,
     "metadata": {},
     "output_type": "execute_result"
    }
   ],
   "source": [
    "# subset the master tximport table input file to only the samples in the list\n",
    "## load master tximport table\n",
    "t = pd.read_csv(\"../../data/master_tximport_table.csv\",sep=\",\",header=\"infer\")\n",
    "t.head()"
   ]
  },
  {
   "cell_type": "code",
   "execution_count": 12,
   "id": "c997c03e",
   "metadata": {},
   "outputs": [
    {
     "data": {
      "text/plain": [
       "1823"
      ]
     },
     "execution_count": 12,
     "metadata": {},
     "output_type": "execute_result"
    }
   ],
   "source": [
    "len(t.index)"
   ]
  },
  {
   "cell_type": "code",
   "execution_count": 11,
   "id": "2d50d9d9",
   "metadata": {},
   "outputs": [
    {
     "data": {
      "text/plain": [
       "1451"
      ]
     },
     "execution_count": 11,
     "metadata": {},
     "output_type": "execute_result"
    }
   ],
   "source": [
    "# subset the table\n",
    "ts = t[t[\"Sample\"].isin(samples)]\n",
    "len(ts.index)"
   ]
  },
  {
   "cell_type": "code",
   "execution_count": 13,
   "id": "87694b52",
   "metadata": {},
   "outputs": [],
   "source": [
    "# output the new table\n",
    "ts.to_csv(\"../../data/master_tximport_table_subsetted.csv\",sep=\",\",header=True,index=False)"
   ]
  }
 ],
 "metadata": {
  "kernelspec": {
   "display_name": "Python 3 (ipykernel)",
   "language": "python",
   "name": "python3"
  },
  "language_info": {
   "codemirror_mode": {
    "name": "ipython",
    "version": 3
   },
   "file_extension": ".py",
   "mimetype": "text/x-python",
   "name": "python",
   "nbconvert_exporter": "python",
   "pygments_lexer": "ipython3",
   "version": "3.8.10"
  }
 },
 "nbformat": 4,
 "nbformat_minor": 5
}
