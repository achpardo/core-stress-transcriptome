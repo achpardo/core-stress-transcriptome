{
 "cells": [
  {
   "cell_type": "markdown",
   "id": "6cdf3702",
   "metadata": {},
   "source": [
    "Purpose: Investigate expression of modules under different variables (time point, stressor, tissue, etc.).<br>\n",
    "Author: Anna Pardo<br>\n",
    "Date initiated: Apr. 10, 2024"
   ]
  },
  {
   "cell_type": "code",
   "execution_count": 1,
   "id": "b9963717",
   "metadata": {},
   "outputs": [],
   "source": [
    "import pandas as pd\n",
    "import json\n",
    "import os\n",
    "import matplotlib.pyplot as plt\n",
    "import seaborn as sns\n",
    "import numpy as np"
   ]
  },
  {
   "cell_type": "code",
   "execution_count": 2,
   "id": "8e3258b7",
   "metadata": {},
   "outputs": [
    {
     "data": {
      "text/html": [
       "<div>\n",
       "<style scoped>\n",
       "    .dataframe tbody tr th:only-of-type {\n",
       "        vertical-align: middle;\n",
       "    }\n",
       "\n",
       "    .dataframe tbody tr th {\n",
       "        vertical-align: top;\n",
       "    }\n",
       "\n",
       "    .dataframe thead th {\n",
       "        text-align: right;\n",
       "    }\n",
       "</style>\n",
       "<table border=\"1\" class=\"dataframe\">\n",
       "  <thead>\n",
       "    <tr style=\"text-align: right;\">\n",
       "      <th></th>\n",
       "      <th>Unnamed: 0</th>\n",
       "      <th>MElightcyan</th>\n",
       "      <th>MElightyellow</th>\n",
       "      <th>MEcyan</th>\n",
       "      <th>MEgrey60</th>\n",
       "      <th>MEwhite</th>\n",
       "      <th>MEdarkturquoise</th>\n",
       "      <th>MEblack</th>\n",
       "      <th>MEpurple</th>\n",
       "      <th>MEdarkorange</th>\n",
       "      <th>...</th>\n",
       "      <th>MEdarkgrey</th>\n",
       "      <th>MEyellow</th>\n",
       "      <th>MEblue</th>\n",
       "      <th>MEturquoise</th>\n",
       "      <th>MEdarkgreen</th>\n",
       "      <th>MEgreenyellow</th>\n",
       "      <th>MEmagenta</th>\n",
       "      <th>MEpink</th>\n",
       "      <th>MEgreen</th>\n",
       "      <th>MEorange</th>\n",
       "    </tr>\n",
       "  </thead>\n",
       "  <tbody>\n",
       "    <tr>\n",
       "      <th>0</th>\n",
       "      <td>SRR11933261</td>\n",
       "      <td>-0.003489</td>\n",
       "      <td>-0.001360</td>\n",
       "      <td>0.005780</td>\n",
       "      <td>-0.010454</td>\n",
       "      <td>-0.004039</td>\n",
       "      <td>-0.001540</td>\n",
       "      <td>-0.004225</td>\n",
       "      <td>-0.003518</td>\n",
       "      <td>0.001276</td>\n",
       "      <td>...</td>\n",
       "      <td>0.006868</td>\n",
       "      <td>-0.006926</td>\n",
       "      <td>0.016846</td>\n",
       "      <td>0.009834</td>\n",
       "      <td>-0.005548</td>\n",
       "      <td>-0.005612</td>\n",
       "      <td>0.001916</td>\n",
       "      <td>0.002388</td>\n",
       "      <td>0.036065</td>\n",
       "      <td>0.006541</td>\n",
       "    </tr>\n",
       "    <tr>\n",
       "      <th>1</th>\n",
       "      <td>SRR11933272</td>\n",
       "      <td>0.003296</td>\n",
       "      <td>0.004404</td>\n",
       "      <td>0.025950</td>\n",
       "      <td>-0.001061</td>\n",
       "      <td>-0.003462</td>\n",
       "      <td>-0.001576</td>\n",
       "      <td>-0.006519</td>\n",
       "      <td>-0.005641</td>\n",
       "      <td>-0.002900</td>\n",
       "      <td>...</td>\n",
       "      <td>-0.001909</td>\n",
       "      <td>-0.010158</td>\n",
       "      <td>-0.001831</td>\n",
       "      <td>-0.006328</td>\n",
       "      <td>-0.005873</td>\n",
       "      <td>-0.008587</td>\n",
       "      <td>-0.009985</td>\n",
       "      <td>-0.012145</td>\n",
       "      <td>-0.000152</td>\n",
       "      <td>-0.000493</td>\n",
       "    </tr>\n",
       "    <tr>\n",
       "      <th>2</th>\n",
       "      <td>SRR11933250</td>\n",
       "      <td>-0.001542</td>\n",
       "      <td>0.003345</td>\n",
       "      <td>0.011615</td>\n",
       "      <td>-0.002805</td>\n",
       "      <td>-0.003565</td>\n",
       "      <td>-0.001540</td>\n",
       "      <td>-0.004919</td>\n",
       "      <td>-0.004374</td>\n",
       "      <td>-0.002502</td>\n",
       "      <td>...</td>\n",
       "      <td>0.005282</td>\n",
       "      <td>-0.006815</td>\n",
       "      <td>0.008395</td>\n",
       "      <td>0.010623</td>\n",
       "      <td>-0.004685</td>\n",
       "      <td>-0.000344</td>\n",
       "      <td>-0.003889</td>\n",
       "      <td>-0.004960</td>\n",
       "      <td>0.016068</td>\n",
       "      <td>0.006095</td>\n",
       "    </tr>\n",
       "    <tr>\n",
       "      <th>3</th>\n",
       "      <td>SRR11933029</td>\n",
       "      <td>-0.001068</td>\n",
       "      <td>0.003255</td>\n",
       "      <td>0.011365</td>\n",
       "      <td>-0.001558</td>\n",
       "      <td>-0.003674</td>\n",
       "      <td>-0.001572</td>\n",
       "      <td>-0.006291</td>\n",
       "      <td>-0.004321</td>\n",
       "      <td>-0.002627</td>\n",
       "      <td>...</td>\n",
       "      <td>0.001454</td>\n",
       "      <td>-0.010985</td>\n",
       "      <td>-0.005630</td>\n",
       "      <td>-0.001272</td>\n",
       "      <td>-0.004717</td>\n",
       "      <td>-0.007283</td>\n",
       "      <td>-0.004969</td>\n",
       "      <td>-0.003434</td>\n",
       "      <td>0.012716</td>\n",
       "      <td>0.001396</td>\n",
       "    </tr>\n",
       "    <tr>\n",
       "      <th>4</th>\n",
       "      <td>SRR11933040</td>\n",
       "      <td>-0.003114</td>\n",
       "      <td>-0.000867</td>\n",
       "      <td>0.002536</td>\n",
       "      <td>-0.013253</td>\n",
       "      <td>-0.001516</td>\n",
       "      <td>-0.001576</td>\n",
       "      <td>-0.006442</td>\n",
       "      <td>-0.005292</td>\n",
       "      <td>-0.002995</td>\n",
       "      <td>...</td>\n",
       "      <td>0.000688</td>\n",
       "      <td>-0.009798</td>\n",
       "      <td>-0.000316</td>\n",
       "      <td>0.004508</td>\n",
       "      <td>-0.004153</td>\n",
       "      <td>-0.008399</td>\n",
       "      <td>-0.008164</td>\n",
       "      <td>-0.009733</td>\n",
       "      <td>0.016587</td>\n",
       "      <td>-0.001352</td>\n",
       "    </tr>\n",
       "  </tbody>\n",
       "</table>\n",
       "<p>5 rows × 24 columns</p>\n",
       "</div>"
      ],
      "text/plain": [
       "    Unnamed: 0  MElightcyan  MElightyellow    MEcyan  MEgrey60   MEwhite  \\\n",
       "0  SRR11933261    -0.003489      -0.001360  0.005780 -0.010454 -0.004039   \n",
       "1  SRR11933272     0.003296       0.004404  0.025950 -0.001061 -0.003462   \n",
       "2  SRR11933250    -0.001542       0.003345  0.011615 -0.002805 -0.003565   \n",
       "3  SRR11933029    -0.001068       0.003255  0.011365 -0.001558 -0.003674   \n",
       "4  SRR11933040    -0.003114      -0.000867  0.002536 -0.013253 -0.001516   \n",
       "\n",
       "   MEdarkturquoise   MEblack  MEpurple  MEdarkorange  ...  MEdarkgrey  \\\n",
       "0        -0.001540 -0.004225 -0.003518      0.001276  ...    0.006868   \n",
       "1        -0.001576 -0.006519 -0.005641     -0.002900  ...   -0.001909   \n",
       "2        -0.001540 -0.004919 -0.004374     -0.002502  ...    0.005282   \n",
       "3        -0.001572 -0.006291 -0.004321     -0.002627  ...    0.001454   \n",
       "4        -0.001576 -0.006442 -0.005292     -0.002995  ...    0.000688   \n",
       "\n",
       "   MEyellow    MEblue  MEturquoise  MEdarkgreen  MEgreenyellow  MEmagenta  \\\n",
       "0 -0.006926  0.016846     0.009834    -0.005548      -0.005612   0.001916   \n",
       "1 -0.010158 -0.001831    -0.006328    -0.005873      -0.008587  -0.009985   \n",
       "2 -0.006815  0.008395     0.010623    -0.004685      -0.000344  -0.003889   \n",
       "3 -0.010985 -0.005630    -0.001272    -0.004717      -0.007283  -0.004969   \n",
       "4 -0.009798 -0.000316     0.004508    -0.004153      -0.008399  -0.008164   \n",
       "\n",
       "     MEpink   MEgreen  MEorange  \n",
       "0  0.002388  0.036065  0.006541  \n",
       "1 -0.012145 -0.000152 -0.000493  \n",
       "2 -0.004960  0.016068  0.006095  \n",
       "3 -0.003434  0.012716  0.001396  \n",
       "4 -0.009733  0.016587 -0.001352  \n",
       "\n",
       "[5 rows x 24 columns]"
      ]
     },
     "execution_count": 2,
     "metadata": {},
     "output_type": "execute_result"
    }
   ],
   "source": [
    "# load module eigengenes\n",
    "me = pd.read_csv(\"../../data/WGCNA_Apr2024/module_eigengenes.csv\",sep=\",\",header=\"infer\")\n",
    "me.head()"
   ]
  },
  {
   "cell_type": "code",
   "execution_count": 3,
   "id": "8f52ed94",
   "metadata": {},
   "outputs": [],
   "source": [
    "me.rename(columns={\"Unnamed: 0\":\"Sample\"},inplace=True)"
   ]
  },
  {
   "cell_type": "code",
   "execution_count": 4,
   "id": "3de83f1a",
   "metadata": {},
   "outputs": [
    {
     "data": {
      "text/html": [
       "<div>\n",
       "<style scoped>\n",
       "    .dataframe tbody tr th:only-of-type {\n",
       "        vertical-align: middle;\n",
       "    }\n",
       "\n",
       "    .dataframe tbody tr th {\n",
       "        vertical-align: top;\n",
       "    }\n",
       "\n",
       "    .dataframe thead th {\n",
       "        text-align: right;\n",
       "    }\n",
       "</style>\n",
       "<table border=\"1\" class=\"dataframe\">\n",
       "  <thead>\n",
       "    <tr style=\"text-align: right;\">\n",
       "      <th></th>\n",
       "      <th>Sample</th>\n",
       "      <th>MElightcyan</th>\n",
       "      <th>MElightyellow</th>\n",
       "      <th>MEcyan</th>\n",
       "      <th>MEgrey60</th>\n",
       "      <th>MEwhite</th>\n",
       "      <th>MEdarkturquoise</th>\n",
       "      <th>MEblack</th>\n",
       "      <th>MEpurple</th>\n",
       "      <th>MEdarkorange</th>\n",
       "      <th>...</th>\n",
       "      <th>MEdarkgrey</th>\n",
       "      <th>MEyellow</th>\n",
       "      <th>MEblue</th>\n",
       "      <th>MEturquoise</th>\n",
       "      <th>MEdarkgreen</th>\n",
       "      <th>MEgreenyellow</th>\n",
       "      <th>MEmagenta</th>\n",
       "      <th>MEpink</th>\n",
       "      <th>MEgreen</th>\n",
       "      <th>MEorange</th>\n",
       "    </tr>\n",
       "  </thead>\n",
       "  <tbody>\n",
       "    <tr>\n",
       "      <th>0</th>\n",
       "      <td>SRR11933261</td>\n",
       "      <td>-0.003489</td>\n",
       "      <td>-0.001360</td>\n",
       "      <td>0.005780</td>\n",
       "      <td>-0.010454</td>\n",
       "      <td>-0.004039</td>\n",
       "      <td>-0.001540</td>\n",
       "      <td>-0.004225</td>\n",
       "      <td>-0.003518</td>\n",
       "      <td>0.001276</td>\n",
       "      <td>...</td>\n",
       "      <td>0.006868</td>\n",
       "      <td>-0.006926</td>\n",
       "      <td>0.016846</td>\n",
       "      <td>0.009834</td>\n",
       "      <td>-0.005548</td>\n",
       "      <td>-0.005612</td>\n",
       "      <td>0.001916</td>\n",
       "      <td>0.002388</td>\n",
       "      <td>0.036065</td>\n",
       "      <td>0.006541</td>\n",
       "    </tr>\n",
       "    <tr>\n",
       "      <th>1</th>\n",
       "      <td>SRR11933272</td>\n",
       "      <td>0.003296</td>\n",
       "      <td>0.004404</td>\n",
       "      <td>0.025950</td>\n",
       "      <td>-0.001061</td>\n",
       "      <td>-0.003462</td>\n",
       "      <td>-0.001576</td>\n",
       "      <td>-0.006519</td>\n",
       "      <td>-0.005641</td>\n",
       "      <td>-0.002900</td>\n",
       "      <td>...</td>\n",
       "      <td>-0.001909</td>\n",
       "      <td>-0.010158</td>\n",
       "      <td>-0.001831</td>\n",
       "      <td>-0.006328</td>\n",
       "      <td>-0.005873</td>\n",
       "      <td>-0.008587</td>\n",
       "      <td>-0.009985</td>\n",
       "      <td>-0.012145</td>\n",
       "      <td>-0.000152</td>\n",
       "      <td>-0.000493</td>\n",
       "    </tr>\n",
       "    <tr>\n",
       "      <th>2</th>\n",
       "      <td>SRR11933250</td>\n",
       "      <td>-0.001542</td>\n",
       "      <td>0.003345</td>\n",
       "      <td>0.011615</td>\n",
       "      <td>-0.002805</td>\n",
       "      <td>-0.003565</td>\n",
       "      <td>-0.001540</td>\n",
       "      <td>-0.004919</td>\n",
       "      <td>-0.004374</td>\n",
       "      <td>-0.002502</td>\n",
       "      <td>...</td>\n",
       "      <td>0.005282</td>\n",
       "      <td>-0.006815</td>\n",
       "      <td>0.008395</td>\n",
       "      <td>0.010623</td>\n",
       "      <td>-0.004685</td>\n",
       "      <td>-0.000344</td>\n",
       "      <td>-0.003889</td>\n",
       "      <td>-0.004960</td>\n",
       "      <td>0.016068</td>\n",
       "      <td>0.006095</td>\n",
       "    </tr>\n",
       "    <tr>\n",
       "      <th>3</th>\n",
       "      <td>SRR11933029</td>\n",
       "      <td>-0.001068</td>\n",
       "      <td>0.003255</td>\n",
       "      <td>0.011365</td>\n",
       "      <td>-0.001558</td>\n",
       "      <td>-0.003674</td>\n",
       "      <td>-0.001572</td>\n",
       "      <td>-0.006291</td>\n",
       "      <td>-0.004321</td>\n",
       "      <td>-0.002627</td>\n",
       "      <td>...</td>\n",
       "      <td>0.001454</td>\n",
       "      <td>-0.010985</td>\n",
       "      <td>-0.005630</td>\n",
       "      <td>-0.001272</td>\n",
       "      <td>-0.004717</td>\n",
       "      <td>-0.007283</td>\n",
       "      <td>-0.004969</td>\n",
       "      <td>-0.003434</td>\n",
       "      <td>0.012716</td>\n",
       "      <td>0.001396</td>\n",
       "    </tr>\n",
       "    <tr>\n",
       "      <th>4</th>\n",
       "      <td>SRR11933040</td>\n",
       "      <td>-0.003114</td>\n",
       "      <td>-0.000867</td>\n",
       "      <td>0.002536</td>\n",
       "      <td>-0.013253</td>\n",
       "      <td>-0.001516</td>\n",
       "      <td>-0.001576</td>\n",
       "      <td>-0.006442</td>\n",
       "      <td>-0.005292</td>\n",
       "      <td>-0.002995</td>\n",
       "      <td>...</td>\n",
       "      <td>0.000688</td>\n",
       "      <td>-0.009798</td>\n",
       "      <td>-0.000316</td>\n",
       "      <td>0.004508</td>\n",
       "      <td>-0.004153</td>\n",
       "      <td>-0.008399</td>\n",
       "      <td>-0.008164</td>\n",
       "      <td>-0.009733</td>\n",
       "      <td>0.016587</td>\n",
       "      <td>-0.001352</td>\n",
       "    </tr>\n",
       "  </tbody>\n",
       "</table>\n",
       "<p>5 rows × 24 columns</p>\n",
       "</div>"
      ],
      "text/plain": [
       "        Sample  MElightcyan  MElightyellow    MEcyan  MEgrey60   MEwhite  \\\n",
       "0  SRR11933261    -0.003489      -0.001360  0.005780 -0.010454 -0.004039   \n",
       "1  SRR11933272     0.003296       0.004404  0.025950 -0.001061 -0.003462   \n",
       "2  SRR11933250    -0.001542       0.003345  0.011615 -0.002805 -0.003565   \n",
       "3  SRR11933029    -0.001068       0.003255  0.011365 -0.001558 -0.003674   \n",
       "4  SRR11933040    -0.003114      -0.000867  0.002536 -0.013253 -0.001516   \n",
       "\n",
       "   MEdarkturquoise   MEblack  MEpurple  MEdarkorange  ...  MEdarkgrey  \\\n",
       "0        -0.001540 -0.004225 -0.003518      0.001276  ...    0.006868   \n",
       "1        -0.001576 -0.006519 -0.005641     -0.002900  ...   -0.001909   \n",
       "2        -0.001540 -0.004919 -0.004374     -0.002502  ...    0.005282   \n",
       "3        -0.001572 -0.006291 -0.004321     -0.002627  ...    0.001454   \n",
       "4        -0.001576 -0.006442 -0.005292     -0.002995  ...    0.000688   \n",
       "\n",
       "   MEyellow    MEblue  MEturquoise  MEdarkgreen  MEgreenyellow  MEmagenta  \\\n",
       "0 -0.006926  0.016846     0.009834    -0.005548      -0.005612   0.001916   \n",
       "1 -0.010158 -0.001831    -0.006328    -0.005873      -0.008587  -0.009985   \n",
       "2 -0.006815  0.008395     0.010623    -0.004685      -0.000344  -0.003889   \n",
       "3 -0.010985 -0.005630    -0.001272    -0.004717      -0.007283  -0.004969   \n",
       "4 -0.009798 -0.000316     0.004508    -0.004153      -0.008399  -0.008164   \n",
       "\n",
       "     MEpink   MEgreen  MEorange  \n",
       "0  0.002388  0.036065  0.006541  \n",
       "1 -0.012145 -0.000152 -0.000493  \n",
       "2 -0.004960  0.016068  0.006095  \n",
       "3 -0.003434  0.012716  0.001396  \n",
       "4 -0.009733  0.016587 -0.001352  \n",
       "\n",
       "[5 rows x 24 columns]"
      ]
     },
     "execution_count": 4,
     "metadata": {},
     "output_type": "execute_result"
    }
   ],
   "source": [
    "me.head()"
   ]
  },
  {
   "cell_type": "code",
   "execution_count": 5,
   "id": "7aebf24a",
   "metadata": {},
   "outputs": [],
   "source": [
    "# load metadata\n",
    "md = pd.read_csv(\"../../data/metadata_corrected_14-Feb-2024.csv\",sep=\",\",header=\"infer\")"
   ]
  },
  {
   "cell_type": "code",
   "execution_count": 6,
   "id": "992053fd",
   "metadata": {},
   "outputs": [
    {
     "data": {
      "text/plain": [
       "Index(['Unnamed: 0', 'BioProject', 'Sample', 'sample_name', 'Replicate_num',\n",
       "       'Genotype', 'Technology', 'Library_layout', 'Treatment',\n",
       "       'Duration_hours', 'Time_after_treatment', 'Concentration_mM',\n",
       "       'Concentration', 'Developmental_stage', 'Tissue', 'Day_length_hours',\n",
       "       'Day_temp_C', 'Night_temp_C', 'Relative humidity (%)',\n",
       "       'Light (umol/m2/s)', 'Growth Env.', 'Media', 'Notes'],\n",
       "      dtype='object')"
      ]
     },
     "execution_count": 6,
     "metadata": {},
     "output_type": "execute_result"
    }
   ],
   "source": [
    "md.columns"
   ]
  },
  {
   "cell_type": "code",
   "execution_count": 7,
   "id": "06b206aa",
   "metadata": {},
   "outputs": [],
   "source": [
    "mdsub = md[[\"Sample\",\"BioProject\",\"Treatment\",\"Duration_hours\",\"Tissue\",\"Developmental_stage\"]]"
   ]
  },
  {
   "cell_type": "code",
   "execution_count": 8,
   "id": "1d282cbf",
   "metadata": {},
   "outputs": [
    {
     "name": "stderr",
     "output_type": "stream",
     "text": [
      "/tmp/ipykernel_126/372681883.py:2: SettingWithCopyWarning: \n",
      "A value is trying to be set on a copy of a slice from a DataFrame\n",
      "\n",
      "See the caveats in the documentation: https://pandas.pydata.org/pandas-docs/stable/user_guide/indexing.html#returning-a-view-versus-a-copy\n",
      "  mdsub[\"Treatment\"].mask(mdsub[\"Treatment\"]==\"DroughtRepeat\",\"Drought\",inplace=True)\n"
     ]
    }
   ],
   "source": [
    "# rename DroughtRepeat to Drought\n",
    "mdsub[\"Treatment\"].mask(mdsub[\"Treatment\"]==\"DroughtRepeat\",\"Drought\",inplace=True)"
   ]
  },
  {
   "cell_type": "code",
   "execution_count": 9,
   "id": "cd4fba5e",
   "metadata": {},
   "outputs": [],
   "source": [
    "# plot histograms of duration_hours for each treatment\n",
    "def plot_hist_duration(stressor):\n",
    "    bps = list(mdsub[mdsub[\"Treatment\"]==stressor][\"BioProject\"].unique())\n",
    "    bpdf = mdsub[mdsub[\"BioProject\"].isin(bps)]\n",
    "    bptreatdf = bpdf[bpdf[\"Treatment\"].isin([\"Control\",stressor])]\n",
    "    plt.hist(bptreatdf[\"Duration_hours\"],bins=100)\n",
    "    plt.title(stressor,fontsize=20)\n",
    "    plt.xlabel(\"Duration_hours\")\n",
    "    \n",
    "    # find 25th, 50th, & 75th percentiles & save to a dictionary\n",
    "    d = {25:bptreatdf[\"Duration_hours\"].quantile(q=0.25),\n",
    "        50:bptreatdf[\"Duration_hours\"].quantile(q=0.5),\n",
    "        75:bptreatdf[\"Duration_hours\"].quantile(q=0.75)}\n",
    "    \n",
    "    print(\"25th percentile:\",bptreatdf[\"Duration_hours\"].quantile(q=0.25))\n",
    "    print(\"50th percentile:\",bptreatdf[\"Duration_hours\"].quantile(q=0.5))\n",
    "    print(\"75th percentile:\",bptreatdf[\"Duration_hours\"].quantile(q=0.75))\n",
    "    \n",
    "    return d"
   ]
  },
  {
   "cell_type": "code",
   "execution_count": 10,
   "id": "2a58c387",
   "metadata": {},
   "outputs": [
    {
     "name": "stdout",
     "output_type": "stream",
     "text": [
      "25th percentile: 840.0\n",
      "50th percentile: 1344.0\n",
      "75th percentile: 1872.0\n"
     ]
    },
    {
     "data": {
      "image/png": "[encoded data removed]",
      "text/plain": [
       "<Figure size 432x288 with 1 Axes>"
      ]
     },
     "metadata": {
      "needs_background": "light"
     },
     "output_type": "display_data"
    }
   ],
   "source": [
    "qd = {}\n",
    "qd[\"Low_Nitrogen\"] = plot_hist_duration(\"Low_Nitrogen\")"
   ]
  },
  {
   "cell_type": "code",
   "execution_count": 11,
   "id": "5aef8dfc",
   "metadata": {},
   "outputs": [
    {
     "name": "stdout",
     "output_type": "stream",
     "text": [
      "25th percentile: 19.0\n",
      "50th percentile: 168.0\n",
      "75th percentile: 168.0\n"
     ]
    },
    {
     "data": {
      "image/png": "[encoded data removed]",
      "text/plain": [
       "<Figure size 432x288 with 1 Axes>"
      ]
     },
     "metadata": {
      "needs_background": "light"
     },
     "output_type": "display_data"
    }
   ],
   "source": [
    "qd[\"Salt\"] = plot_hist_duration(\"Salt\")"
   ]
  },
  {
   "cell_type": "code",
   "execution_count": 12,
   "id": "ecf3b90f",
   "metadata": {},
   "outputs": [
    {
     "name": "stdout",
     "output_type": "stream",
     "text": [
      "25th percentile: 216.0\n",
      "50th percentile: 216.0\n",
      "75th percentile: 312.0\n"
     ]
    },
    {
     "data": {
      "image/png": "[encoded data removed]",
      "text/plain": [
       "<Figure size 432x288 with 1 Axes>"
      ]
     },
     "metadata": {
      "needs_background": "light"
     },
     "output_type": "display_data"
    }
   ],
   "source": [
    "qd[\"Drought\"] = plot_hist_duration(\"Drought\")"
   ]
  },
  {
   "cell_type": "code",
   "execution_count": 13,
   "id": "fc25fd17",
   "metadata": {},
   "outputs": [
    {
     "name": "stdout",
     "output_type": "stream",
     "text": [
      "25th percentile: 1.0\n",
      "50th percentile: 2.0\n",
      "75th percentile: 25.0\n"
     ]
    },
    {
     "data": {
      "image/png": "[encoded data removed]",
      "text/plain": [
       "<Figure size 432x288 with 1 Axes>"
      ]
     },
     "metadata": {
      "needs_background": "light"
     },
     "output_type": "display_data"
    }
   ],
   "source": [
    "qd[\"Cold\"] = plot_hist_duration(\"Cold\")"
   ]
  },
  {
   "cell_type": "code",
   "execution_count": 14,
   "id": "d7fa13c9",
   "metadata": {},
   "outputs": [
    {
     "name": "stdout",
     "output_type": "stream",
     "text": [
      "25th percentile: 1.0\n",
      "50th percentile: 4.0\n",
      "75th percentile: 25.0\n"
     ]
    },
    {
     "data": {
      "image/png": "[encoded data removed]",
      "text/plain": [
       "<Figure size 432x288 with 1 Axes>"
      ]
     },
     "metadata": {
      "needs_background": "light"
     },
     "output_type": "display_data"
    }
   ],
   "source": [
    "qd[\"Heat\"] = plot_hist_duration(\"Heat\")"
   ]
  },
  {
   "cell_type": "code",
   "execution_count": 15,
   "id": "5dafc856",
   "metadata": {},
   "outputs": [
    {
     "name": "stdout",
     "output_type": "stream",
     "text": [
      "25th percentile: 10.0\n",
      "50th percentile: 24.0\n",
      "75th percentile: 72.0\n"
     ]
    },
    {
     "data": {
      "image/png": "[encoded data removed]",
      "text/plain": [
       "<Figure size 432x288 with 1 Axes>"
      ]
     },
     "metadata": {
      "needs_background": "light"
     },
     "output_type": "display_data"
    }
   ],
   "source": [
    "qd[\"Flooding\"] = plot_hist_duration(\"Flooding\")"
   ]
  },
  {
   "cell_type": "code",
   "execution_count": 16,
   "id": "f5a6576d",
   "metadata": {},
   "outputs": [],
   "source": [
    "# merge metadata and module eigengenes\n",
    "memd = mdsub.merge(me)"
   ]
  },
  {
   "cell_type": "code",
   "execution_count": 17,
   "id": "cd87fb00",
   "metadata": {},
   "outputs": [],
   "source": [
    "# generate a dictionary in which the keys are developmental stages from the metadata and values indicate Vegetative or \n",
    "## Reproductive or Germination\n",
    "\n",
    "devstage = {}\n",
    "for d in memd[\"Developmental_stage\"].unique():\n",
    "    if type(d)==str:\n",
    "        if d.startswith(\"V\"):\n",
    "            if d != \"VT\":\n",
    "                devstage[d] = \"Vegetative\"\n",
    "        elif \"poll\" in d:\n",
    "            devstage[d] = \"Reproductive\"\n",
    "        elif d==\"4 days after sowing\":\n",
    "            devstage[d] = \"Germination\"\n",
    "        elif d.startswith(\"R\"):\n",
    "            devstage[d] = \"Reproductive\"\n",
    "        elif \"DAP\" in d:\n",
    "            devstage[d] = \"Reproductive\"\n",
    "        elif d==\"14 days old\":\n",
    "            devstage[d] = \"Vegetative\"\n",
    "        elif d==\"Germination\":\n",
    "            devstage[d] = \"Germination\"\n",
    "        elif d==\"Two weeks old\":\n",
    "            devstage[d] = \"Vegetative\"\n",
    "        elif d==\"Seedling\":\n",
    "            devstage[d] = \"Vegetative\"\n",
    "        elif d==\"5 weeks old\":\n",
    "            devstage[d] = \"Vegetative\"\n",
    "        elif d==\">=V4\":\n",
    "            devstage[d] = \"Vegetative\"\n",
    "        elif d==\"45 days after germination\":\n",
    "            devstage[d] = \"Vegetative\"\n",
    "        elif d==\"Mature Plant\":\n",
    "            devstage[d] = \"Reproductive\"\n",
    "            \n",
    "        if d==\"VT\":\n",
    "            devstage[d] = \"Reproductive\""
   ]
  },
  {
   "cell_type": "code",
   "execution_count": 18,
   "id": "fe836000",
   "metadata": {},
   "outputs": [],
   "source": [
    "# generate a new column for vegetative or reproductive\n",
    "memd[\"DevStage\"] = memd[\"Developmental_stage\"].map(devstage)"
   ]
  },
  {
   "cell_type": "code",
   "execution_count": 19,
   "id": "b71ab87b",
   "metadata": {},
   "outputs": [],
   "source": [
    "# make a similar column for the tissues: reduce to Photosynthetic (i.e. leaf, shoot, leaf meristem), root, stalk, & reproductive\n",
    "tdict = {}\n",
    "for t in list(memd[\"Tissue\"].unique()):\n",
    "    if t in [\"Leaf\",\"Leaf meristem\",\"Shoot\"]:\n",
    "        tdict[t] = \"Photosynthetic tissues\"\n",
    "    elif t==\"Root\":\n",
    "        tdict[t] = t\n",
    "    elif t==\"Stalk\":\n",
    "        tdict[t] = t\n",
    "    else:\n",
    "        tdict[t] = \"Reproductive tissues\""
   ]
  },
  {
   "cell_type": "code",
   "execution_count": 20,
   "id": "b93b56f5",
   "metadata": {},
   "outputs": [],
   "source": [
    "memd[\"TissueType\"] = memd[\"Tissue\"].map(tdict)"
   ]
  },
  {
   "cell_type": "code",
   "execution_count": 21,
   "id": "317fcc34",
   "metadata": {},
   "outputs": [
    {
     "name": "stderr",
     "output_type": "stream",
     "text": [
      "/tmp/ipykernel_126/24193590.py:22: SettingWithCopyWarning: \n",
      "A value is trying to be set on a copy of a slice from a DataFrame.\n",
      "Try using .loc[row_indexer,col_indexer] = value instead\n",
      "\n",
      "See the caveats in the documentation: https://pandas.pydata.org/pandas-docs/stable/user_guide/indexing.html#returning-a-view-versus-a-copy\n",
      "  bptreatdf[\"StressTiming\"] = bptreatdf[\"Duration_hours\"].map(mapdict)\n",
      "/tmp/ipykernel_126/24193590.py:22: SettingWithCopyWarning: \n",
      "A value is trying to be set on a copy of a slice from a DataFrame.\n",
      "Try using .loc[row_indexer,col_indexer] = value instead\n",
      "\n",
      "See the caveats in the documentation: https://pandas.pydata.org/pandas-docs/stable/user_guide/indexing.html#returning-a-view-versus-a-copy\n",
      "  bptreatdf[\"StressTiming\"] = bptreatdf[\"Duration_hours\"].map(mapdict)\n",
      "/tmp/ipykernel_126/24193590.py:22: SettingWithCopyWarning: \n",
      "A value is trying to be set on a copy of a slice from a DataFrame.\n",
      "Try using .loc[row_indexer,col_indexer] = value instead\n",
      "\n",
      "See the caveats in the documentation: https://pandas.pydata.org/pandas-docs/stable/user_guide/indexing.html#returning-a-view-versus-a-copy\n",
      "  bptreatdf[\"StressTiming\"] = bptreatdf[\"Duration_hours\"].map(mapdict)\n",
      "/tmp/ipykernel_126/24193590.py:22: SettingWithCopyWarning: \n",
      "A value is trying to be set on a copy of a slice from a DataFrame.\n",
      "Try using .loc[row_indexer,col_indexer] = value instead\n",
      "\n",
      "See the caveats in the documentation: https://pandas.pydata.org/pandas-docs/stable/user_guide/indexing.html#returning-a-view-versus-a-copy\n",
      "  bptreatdf[\"StressTiming\"] = bptreatdf[\"Duration_hours\"].map(mapdict)\n"
     ]
    }
   ],
   "source": [
    "# add an early or late-stress column to the memd dataframe\n",
    "## early stress = <50th percentile of Duration_hours column for that stressor; late stress = >50th percentile\n",
    "\n",
    "dflist = []\n",
    "for t in list(memd[\"Treatment\"].unique()):\n",
    "    if t != \"Control\":\n",
    "        bps = list(memd[memd[\"Treatment\"]==t][\"BioProject\"].unique())\n",
    "        bpdf = memd[memd[\"BioProject\"].isin(bps)]\n",
    "        bptreatdf = bpdf[bpdf[\"Treatment\"].isin([\"Control\",t])]\n",
    "        \n",
    "        checkval = qd[t][50]\n",
    "        mapdict = {}\n",
    "        for d in list(bptreatdf[\"Duration_hours\"].unique()):\n",
    "            if np.isnan(d)==False:\n",
    "                if d<=checkval:\n",
    "                    mapdict[d] = \"Early\"\n",
    "                else:\n",
    "                    mapdict[d] = \"Late\"\n",
    "            else:\n",
    "                mapdict[d] = np.nan\n",
    "                \n",
    "        bptreatdf[\"StressTiming\"] = bptreatdf[\"Duration_hours\"].map(mapdict)\n",
    "        dflist.append(bptreatdf)"
   ]
  },
  {
   "cell_type": "code",
   "execution_count": 22,
   "id": "08928537",
   "metadata": {},
   "outputs": [],
   "source": [
    "memd2 = pd.concat(dflist)"
   ]
  },
  {
   "cell_type": "code",
   "execution_count": 23,
   "id": "66d7e727",
   "metadata": {},
   "outputs": [],
   "source": [
    "# define a function to plot a given module by treatment, tissue type, developmental stage (broadly), and early or late stress\n",
    "def plot_module(module):\n",
    "    col = \"ME\"+module\n",
    "    if module==\"grey60\":\n",
    "        cset = \"grey\"\n",
    "    else:\n",
    "        cset = module\n",
    "    fig,ax=plt.subplots(nrows=2,ncols=2,figsize=(20,10))\n",
    "    plt.suptitle(module,fontsize=24)\n",
    "    a = sns.violinplot(ax=ax[0,0],x=memd2[\"Treatment\"],y=memd2[col],color=cset)\n",
    "    b = sns.violinplot(ax=ax[0,1],x=memd2[\"TissueType\"],y=memd2[col],color=cset)\n",
    "    c = sns.violinplot(ax=ax[1,0],x=memd2[\"DevStage\"],y=memd2[col],color=cset)\n",
    "    d = sns.violinplot(ax=ax[1,1],x=memd2[\"StressTiming\"],y=memd2[col],color=cset)\n",
    "    a.set_xlabel(\"Treatment\",fontsize=14)\n",
    "    a.set_ylabel(\"Module eigengene\",fontsize=14)\n",
    "    b.set_xlabel(\"Tissue Type\",fontsize=14)\n",
    "    b.set_ylabel(\"Module eigengene\",fontsize=14)\n",
    "    c.set_xlabel(\"Developmental Stage\",fontsize=14)\n",
    "    c.set_ylabel(\"Module eigengene\",fontsize=14)\n",
    "    d.set_xlabel(\"Stress Timing\",fontsize=14)\n",
    "    d.set_ylabel(\"Module eigengene\",fontsize=14)\n",
    "    plt.savefig(\"../../figures/module_eigengene_plots/\"+module+\"_eigengenes.svg\",bbox_inches=\"tight\")\n",
    "    plt.savefig(\"../../figures/module_eigengene_plots/\"+module+\"_eigengenes.pdf\",bbox_inches=\"tight\")"
   ]
  },
  {
   "cell_type": "code",
   "execution_count": 24,
   "id": "e70ad56d",
   "metadata": {},
   "outputs": [],
   "source": [
    "# make list of modules\n",
    "mods = []\n",
    "for c in me.columns:\n",
    "    if c.startswith(\"ME\"):\n",
    "        mods.append(c.split(\"E\")[1])"
   ]
  },
  {
   "cell_type": "code",
   "execution_count": 25,
   "id": "7fb9b9d6",
   "metadata": {},
   "outputs": [
    {
     "name": "stderr",
     "output_type": "stream",
     "text": [
      "/tmp/ipykernel_126/3508734534.py:8: RuntimeWarning: More than 20 figures have been opened. Figures created through the pyplot interface (`matplotlib.pyplot.figure`) are retained until explicitly closed and may consume too much memory. (To control this warning, see the rcParam `figure.max_open_warning`). Consider using `matplotlib.pyplot.close()`.\n",
      "  fig,ax=plt.subplots(nrows=2,ncols=2,figsize=(20,10))\n"
     ]
    },
    {
     "data": {
      "text/plain": [
       "<Figure size 1440x720 with 0 Axes>"
      ]
     },
     "metadata": {},
     "output_type": "display_data"
    },
    {
     "data": {
      "text/plain": [
       "<Figure size 1440x720 with 0 Axes>"
      ]
     },
     "metadata": {},
     "output_type": "display_data"
    },
    {
     "data": {
      "text/plain": [
       "<Figure size 1440x720 with 0 Axes>"
      ]
     },
     "metadata": {},
     "output_type": "display_data"
    },
    {
     "data": {
      "text/plain": [
       "<Figure size 1440x720 with 0 Axes>"
      ]
     },
     "metadata": {},
     "output_type": "display_data"
    },
    {
     "data": {
      "text/plain": [
       "<Figure size 1440x720 with 0 Axes>"
      ]
     },
     "metadata": {},
     "output_type": "display_data"
    },
    {
     "data": {
      "text/plain": [
       "<Figure size 1440x720 with 0 Axes>"
      ]
     },
     "metadata": {},
     "output_type": "display_data"
    },
    {
     "data": {
      "text/plain": [
       "<Figure size 1440x720 with 0 Axes>"
      ]
     },
     "metadata": {},
     "output_type": "display_data"
    },
    {
     "data": {
      "text/plain": [
       "<Figure size 1440x720 with 0 Axes>"
      ]
     },
     "metadata": {},
     "output_type": "display_data"
    },
    {
     "data": {
      "text/plain": [
       "<Figure size 1440x720 with 0 Axes>"
      ]
     },
     "metadata": {},
     "output_type": "display_data"
    },
    {
     "data": {
      "text/plain": [
       "<Figure size 1440x720 with 0 Axes>"
      ]
     },
     "metadata": {},
     "output_type": "display_data"
    },
    {
     "data": {
      "text/plain": [
       "<Figure size 1440x720 with 0 Axes>"
      ]
     },
     "metadata": {},
     "output_type": "display_data"
    },
    {
     "data": {
      "text/plain": [
       "<Figure size 1440x720 with 0 Axes>"
      ]
     },
     "metadata": {},
     "output_type": "display_data"
    },
    {
     "data": {
      "text/plain": [
       "<Figure size 1440x720 with 0 Axes>"
      ]
     },
     "metadata": {},
     "output_type": "display_data"
    },
    {
     "data": {
      "text/plain": [
       "<Figure size 1440x720 with 0 Axes>"
      ]
     },
     "metadata": {},
     "output_type": "display_data"
    },
    {
     "data": {
      "text/plain": [
       "<Figure size 1440x720 with 0 Axes>"
      ]
     },
     "metadata": {},
     "output_type": "display_data"
    },
    {
     "data": {
      "text/plain": [
       "<Figure size 1440x720 with 0 Axes>"
      ]
     },
     "metadata": {},
     "output_type": "display_data"
    },
    {
     "data": {
      "text/plain": [
       "<Figure size 1440x720 with 0 Axes>"
      ]
     },
     "metadata": {},
     "output_type": "display_data"
    },
    {
     "data": {
      "text/plain": [
       "<Figure size 1440x720 with 0 Axes>"
      ]
     },
     "metadata": {},
     "output_type": "display_data"
    },
    {
     "data": {
      "text/plain": [
       "<Figure size 1440x720 with 0 Axes>"
      ]
     },
     "metadata": {},
     "output_type": "display_data"
    },
    {
     "data": {
      "text/plain": [
       "<Figure size 1440x720 with 0 Axes>"
      ]
     },
     "metadata": {},
     "output_type": "display_data"
    },
    {
     "data": {
      "text/plain": [
       "<Figure size 1440x720 with 0 Axes>"
      ]
     },
     "metadata": {},
     "output_type": "display_data"
    },
    {
     "data": {
      "text/plain": [
       "<Figure size 1440x720 with 0 Axes>"
      ]
     },
     "metadata": {},
     "output_type": "display_data"
    },
    {
     "data": {
      "text/plain": [
       "<Figure size 1440x720 with 0 Axes>"
      ]
     },
     "metadata": {},
     "output_type": "display_data"
    }
   ],
   "source": [
    "for m in mods:\n",
    "    plot_module(m)\n",
    "    plt.clf()"
   ]
  },
  {
   "cell_type": "code",
   "execution_count": null,
   "id": "ea46b1b5",
   "metadata": {},
   "outputs": [],
   "source": []
  },
  {
   "cell_type": "code",
   "execution_count": null,
   "id": "a8e592a2",
   "metadata": {},
   "outputs": [],
   "source": []
  },
  {
   "cell_type": "markdown",
   "id": "740da070",
   "metadata": {},
   "source": [
    "### Repeat but with logTPM instead of module eigengenes"
   ]
  },
  {
   "cell_type": "code",
   "execution_count": 26,
   "id": "13f868f9",
   "metadata": {},
   "outputs": [],
   "source": [
    "# we will use the log TPM that have been corrected for BioProject\n",
    "logtpm = pd.read_csv(\"../../data/BPcombat_logTPM_forRF_1-Mar-2024.tsv\",sep=\"\\t\",header=\"infer\")"
   ]
  },
  {
   "cell_type": "code",
   "execution_count": 27,
   "id": "b8d7a328",
   "metadata": {},
   "outputs": [
    {
     "data": {
      "text/plain": [
       "Index(['Sample', 'BioProject', 'Treatment', 'Duration_hours', 'Tissue',\n",
       "       'Developmental_stage', 'MElightcyan', 'MElightyellow', 'MEcyan',\n",
       "       'MEgrey60', 'MEwhite', 'MEdarkturquoise', 'MEblack', 'MEpurple',\n",
       "       'MEdarkorange', 'MElightgreen', 'MEroyalblue', 'MEdarkred', 'MEsalmon',\n",
       "       'MEdarkgrey', 'MEyellow', 'MEblue', 'MEturquoise', 'MEdarkgreen',\n",
       "       'MEgreenyellow', 'MEmagenta', 'MEpink', 'MEgreen', 'MEorange',\n",
       "       'DevStage', 'TissueType', 'StressTiming'],\n",
       "      dtype='object')"
      ]
     },
     "execution_count": 27,
     "metadata": {},
     "output_type": "execute_result"
    }
   ],
   "source": [
    "memd2.columns"
   ]
  },
  {
   "cell_type": "code",
   "execution_count": 28,
   "id": "2ec98126",
   "metadata": {},
   "outputs": [],
   "source": [
    "# pull out the relevant metadata from memd2\n",
    "meta = memd2[[\"Sample\",\"Treatment\",\"DevStage\",\"TissueType\",\"StressTiming\"]]"
   ]
  },
  {
   "cell_type": "code",
   "execution_count": 29,
   "id": "68b05957",
   "metadata": {},
   "outputs": [
    {
     "data": {
      "text/html": [
       "<div>\n",
       "<style scoped>\n",
       "    .dataframe tbody tr th:only-of-type {\n",
       "        vertical-align: middle;\n",
       "    }\n",
       "\n",
       "    .dataframe tbody tr th {\n",
       "        vertical-align: top;\n",
       "    }\n",
       "\n",
       "    .dataframe thead th {\n",
       "        text-align: right;\n",
       "    }\n",
       "</style>\n",
       "<table border=\"1\" class=\"dataframe\">\n",
       "  <thead>\n",
       "    <tr style=\"text-align: right;\">\n",
       "      <th>Sample</th>\n",
       "      <th>SRR11933261</th>\n",
       "      <th>SRR11933272</th>\n",
       "      <th>SRR11933250</th>\n",
       "      <th>SRR11933029</th>\n",
       "      <th>SRR11933040</th>\n",
       "      <th>SRR11932822</th>\n",
       "      <th>SRR11932811</th>\n",
       "      <th>SRR11933230</th>\n",
       "      <th>SRR11932879</th>\n",
       "      <th>SRR11933475</th>\n",
       "      <th>...</th>\n",
       "      <th>Ms71D3C</th>\n",
       "      <th>Ki3D1C</th>\n",
       "      <th>CML228D1D</th>\n",
       "      <th>CML333D3D</th>\n",
       "      <th>MO18WD3C</th>\n",
       "      <th>B73D3C</th>\n",
       "      <th>NC358D3C</th>\n",
       "      <th>P39D3D</th>\n",
       "      <th>M162WD3D</th>\n",
       "      <th>M162WD1D</th>\n",
       "    </tr>\n",
       "  </thead>\n",
       "  <tbody>\n",
       "    <tr>\n",
       "      <th>Zm00001eb000010</th>\n",
       "      <td>3.594095</td>\n",
       "      <td>3.89444</td>\n",
       "      <td>3.219469</td>\n",
       "      <td>3.112365</td>\n",
       "      <td>3.375717</td>\n",
       "      <td>4.8903</td>\n",
       "      <td>4.968562</td>\n",
       "      <td>4.649948</td>\n",
       "      <td>4.324961</td>\n",
       "      <td>3.817649</td>\n",
       "      <td>...</td>\n",
       "      <td>2.775769</td>\n",
       "      <td>2.955871</td>\n",
       "      <td>2.779872</td>\n",
       "      <td>4.173646</td>\n",
       "      <td>2.698679</td>\n",
       "      <td>3.244666</td>\n",
       "      <td>2.912137</td>\n",
       "      <td>3.516813</td>\n",
       "      <td>3.350593</td>\n",
       "      <td>3.363847</td>\n",
       "    </tr>\n",
       "    <tr>\n",
       "      <th>Zm00001eb000020</th>\n",
       "      <td>2.519998</td>\n",
       "      <td>2.732825</td>\n",
       "      <td>2.701776</td>\n",
       "      <td>2.539248</td>\n",
       "      <td>2.654222</td>\n",
       "      <td>4.665918</td>\n",
       "      <td>4.470543</td>\n",
       "      <td>4.560385</td>\n",
       "      <td>3.469186</td>\n",
       "      <td>2.910953</td>\n",
       "      <td>...</td>\n",
       "      <td>2.870872</td>\n",
       "      <td>3.760582</td>\n",
       "      <td>2.870872</td>\n",
       "      <td>2.870872</td>\n",
       "      <td>3.798475</td>\n",
       "      <td>3.256155</td>\n",
       "      <td>3.011281</td>\n",
       "      <td>3.369846</td>\n",
       "      <td>3.148906</td>\n",
       "      <td>3.200188</td>\n",
       "    </tr>\n",
       "    <tr>\n",
       "      <th>Zm00001eb000050</th>\n",
       "      <td>-0.007294</td>\n",
       "      <td>0.381698</td>\n",
       "      <td>-0.061548</td>\n",
       "      <td>-0.061548</td>\n",
       "      <td>-0.061548</td>\n",
       "      <td>-0.061548</td>\n",
       "      <td>-0.061548</td>\n",
       "      <td>-0.061548</td>\n",
       "      <td>0.285041</td>\n",
       "      <td>0.314738</td>\n",
       "      <td>...</td>\n",
       "      <td>0.208096</td>\n",
       "      <td>0.208096</td>\n",
       "      <td>0.208096</td>\n",
       "      <td>0.208096</td>\n",
       "      <td>0.208096</td>\n",
       "      <td>0.208096</td>\n",
       "      <td>0.208096</td>\n",
       "      <td>0.208096</td>\n",
       "      <td>0.208096</td>\n",
       "      <td>0.208096</td>\n",
       "    </tr>\n",
       "    <tr>\n",
       "      <th>Zm00001eb000060</th>\n",
       "      <td>3.905214</td>\n",
       "      <td>3.24937</td>\n",
       "      <td>2.384618</td>\n",
       "      <td>1.880675</td>\n",
       "      <td>1.658896</td>\n",
       "      <td>4.878115</td>\n",
       "      <td>4.535352</td>\n",
       "      <td>4.53655</td>\n",
       "      <td>4.055592</td>\n",
       "      <td>3.989186</td>\n",
       "      <td>...</td>\n",
       "      <td>3.684932</td>\n",
       "      <td>3.684932</td>\n",
       "      <td>3.684932</td>\n",
       "      <td>3.684932</td>\n",
       "      <td>3.684932</td>\n",
       "      <td>3.684932</td>\n",
       "      <td>3.684932</td>\n",
       "      <td>3.684932</td>\n",
       "      <td>3.684932</td>\n",
       "      <td>3.684932</td>\n",
       "    </tr>\n",
       "    <tr>\n",
       "      <th>Zm00001eb000070</th>\n",
       "      <td>1.951832</td>\n",
       "      <td>1.059086</td>\n",
       "      <td>1.305216</td>\n",
       "      <td>1.068644</td>\n",
       "      <td>1.637151</td>\n",
       "      <td>2.239044</td>\n",
       "      <td>2.321033</td>\n",
       "      <td>1.955699</td>\n",
       "      <td>1.16447</td>\n",
       "      <td>1.021845</td>\n",
       "      <td>...</td>\n",
       "      <td>0.543188</td>\n",
       "      <td>1.490756</td>\n",
       "      <td>0.543188</td>\n",
       "      <td>2.328131</td>\n",
       "      <td>0.543188</td>\n",
       "      <td>0.543188</td>\n",
       "      <td>0.543188</td>\n",
       "      <td>0.543188</td>\n",
       "      <td>3.030062</td>\n",
       "      <td>1.963457</td>\n",
       "    </tr>\n",
       "  </tbody>\n",
       "</table>\n",
       "<p>5 rows × 1981 columns</p>\n",
       "</div>"
      ],
      "text/plain": [
       "Sample          SRR11933261 SRR11933272 SRR11933250 SRR11933029 SRR11933040  \\\n",
       "Zm00001eb000010    3.594095     3.89444    3.219469    3.112365    3.375717   \n",
       "Zm00001eb000020    2.519998    2.732825    2.701776    2.539248    2.654222   \n",
       "Zm00001eb000050   -0.007294    0.381698   -0.061548   -0.061548   -0.061548   \n",
       "Zm00001eb000060    3.905214     3.24937    2.384618    1.880675    1.658896   \n",
       "Zm00001eb000070    1.951832    1.059086    1.305216    1.068644    1.637151   \n",
       "\n",
       "Sample          SRR11932822 SRR11932811 SRR11933230 SRR11932879 SRR11933475  \\\n",
       "Zm00001eb000010      4.8903    4.968562    4.649948    4.324961    3.817649   \n",
       "Zm00001eb000020    4.665918    4.470543    4.560385    3.469186    2.910953   \n",
       "Zm00001eb000050   -0.061548   -0.061548   -0.061548    0.285041    0.314738   \n",
       "Zm00001eb000060    4.878115    4.535352     4.53655    4.055592    3.989186   \n",
       "Zm00001eb000070    2.239044    2.321033    1.955699     1.16447    1.021845   \n",
       "\n",
       "Sample           ...   Ms71D3C    Ki3D1C CML228D1D CML333D3D  MO18WD3C  \\\n",
       "Zm00001eb000010  ...  2.775769  2.955871  2.779872  4.173646  2.698679   \n",
       "Zm00001eb000020  ...  2.870872  3.760582  2.870872  2.870872  3.798475   \n",
       "Zm00001eb000050  ...  0.208096  0.208096  0.208096  0.208096  0.208096   \n",
       "Zm00001eb000060  ...  3.684932  3.684932  3.684932  3.684932  3.684932   \n",
       "Zm00001eb000070  ...  0.543188  1.490756  0.543188  2.328131  0.543188   \n",
       "\n",
       "Sample             B73D3C  NC358D3C    P39D3D  M162WD3D  M162WD1D  \n",
       "Zm00001eb000010  3.244666  2.912137  3.516813  3.350593  3.363847  \n",
       "Zm00001eb000020  3.256155  3.011281  3.369846  3.148906  3.200188  \n",
       "Zm00001eb000050  0.208096  0.208096  0.208096  0.208096  0.208096  \n",
       "Zm00001eb000060  3.684932  3.684932  3.684932  3.684932  3.684932  \n",
       "Zm00001eb000070  0.543188  0.543188  0.543188  3.030062  1.963457  \n",
       "\n",
       "[5 rows x 1981 columns]"
      ]
     },
     "execution_count": 29,
     "metadata": {},
     "output_type": "execute_result"
    }
   ],
   "source": [
    "# transpose logtpm\n",
    "ltpmt = logtpm.set_index(\"Sample\").transpose()\n",
    "ltpmt.head()"
   ]
  },
  {
   "cell_type": "code",
   "execution_count": 30,
   "id": "f1d3f081",
   "metadata": {},
   "outputs": [
    {
     "data": {
      "text/html": [
       "<div>\n",
       "<style scoped>\n",
       "    .dataframe tbody tr th:only-of-type {\n",
       "        vertical-align: middle;\n",
       "    }\n",
       "\n",
       "    .dataframe tbody tr th {\n",
       "        vertical-align: top;\n",
       "    }\n",
       "\n",
       "    .dataframe thead th {\n",
       "        text-align: right;\n",
       "    }\n",
       "</style>\n",
       "<table border=\"1\" class=\"dataframe\">\n",
       "  <thead>\n",
       "    <tr style=\"text-align: right;\">\n",
       "      <th>Sample</th>\n",
       "      <th>index</th>\n",
       "      <th>SRR11933261</th>\n",
       "      <th>SRR11933272</th>\n",
       "      <th>SRR11933250</th>\n",
       "      <th>SRR11933029</th>\n",
       "      <th>SRR11933040</th>\n",
       "      <th>SRR11932822</th>\n",
       "      <th>SRR11932811</th>\n",
       "      <th>SRR11933230</th>\n",
       "      <th>SRR11932879</th>\n",
       "      <th>...</th>\n",
       "      <th>Ms71D3C</th>\n",
       "      <th>Ki3D1C</th>\n",
       "      <th>CML228D1D</th>\n",
       "      <th>CML333D3D</th>\n",
       "      <th>MO18WD3C</th>\n",
       "      <th>B73D3C</th>\n",
       "      <th>NC358D3C</th>\n",
       "      <th>P39D3D</th>\n",
       "      <th>M162WD3D</th>\n",
       "      <th>M162WD1D</th>\n",
       "    </tr>\n",
       "  </thead>\n",
       "  <tbody>\n",
       "    <tr>\n",
       "      <th>0</th>\n",
       "      <td>Zm00001eb000010</td>\n",
       "      <td>3.594095</td>\n",
       "      <td>3.89444</td>\n",
       "      <td>3.219469</td>\n",
       "      <td>3.112365</td>\n",
       "      <td>3.375717</td>\n",
       "      <td>4.8903</td>\n",
       "      <td>4.968562</td>\n",
       "      <td>4.649948</td>\n",
       "      <td>4.324961</td>\n",
       "      <td>...</td>\n",
       "      <td>2.775769</td>\n",
       "      <td>2.955871</td>\n",
       "      <td>2.779872</td>\n",
       "      <td>4.173646</td>\n",
       "      <td>2.698679</td>\n",
       "      <td>3.244666</td>\n",
       "      <td>2.912137</td>\n",
       "      <td>3.516813</td>\n",
       "      <td>3.350593</td>\n",
       "      <td>3.363847</td>\n",
       "    </tr>\n",
       "    <tr>\n",
       "      <th>1</th>\n",
       "      <td>Zm00001eb000020</td>\n",
       "      <td>2.519998</td>\n",
       "      <td>2.732825</td>\n",
       "      <td>2.701776</td>\n",
       "      <td>2.539248</td>\n",
       "      <td>2.654222</td>\n",
       "      <td>4.665918</td>\n",
       "      <td>4.470543</td>\n",
       "      <td>4.560385</td>\n",
       "      <td>3.469186</td>\n",
       "      <td>...</td>\n",
       "      <td>2.870872</td>\n",
       "      <td>3.760582</td>\n",
       "      <td>2.870872</td>\n",
       "      <td>2.870872</td>\n",
       "      <td>3.798475</td>\n",
       "      <td>3.256155</td>\n",
       "      <td>3.011281</td>\n",
       "      <td>3.369846</td>\n",
       "      <td>3.148906</td>\n",
       "      <td>3.200188</td>\n",
       "    </tr>\n",
       "    <tr>\n",
       "      <th>2</th>\n",
       "      <td>Zm00001eb000050</td>\n",
       "      <td>-0.007294</td>\n",
       "      <td>0.381698</td>\n",
       "      <td>-0.061548</td>\n",
       "      <td>-0.061548</td>\n",
       "      <td>-0.061548</td>\n",
       "      <td>-0.061548</td>\n",
       "      <td>-0.061548</td>\n",
       "      <td>-0.061548</td>\n",
       "      <td>0.285041</td>\n",
       "      <td>...</td>\n",
       "      <td>0.208096</td>\n",
       "      <td>0.208096</td>\n",
       "      <td>0.208096</td>\n",
       "      <td>0.208096</td>\n",
       "      <td>0.208096</td>\n",
       "      <td>0.208096</td>\n",
       "      <td>0.208096</td>\n",
       "      <td>0.208096</td>\n",
       "      <td>0.208096</td>\n",
       "      <td>0.208096</td>\n",
       "    </tr>\n",
       "    <tr>\n",
       "      <th>3</th>\n",
       "      <td>Zm00001eb000060</td>\n",
       "      <td>3.905214</td>\n",
       "      <td>3.24937</td>\n",
       "      <td>2.384618</td>\n",
       "      <td>1.880675</td>\n",
       "      <td>1.658896</td>\n",
       "      <td>4.878115</td>\n",
       "      <td>4.535352</td>\n",
       "      <td>4.53655</td>\n",
       "      <td>4.055592</td>\n",
       "      <td>...</td>\n",
       "      <td>3.684932</td>\n",
       "      <td>3.684932</td>\n",
       "      <td>3.684932</td>\n",
       "      <td>3.684932</td>\n",
       "      <td>3.684932</td>\n",
       "      <td>3.684932</td>\n",
       "      <td>3.684932</td>\n",
       "      <td>3.684932</td>\n",
       "      <td>3.684932</td>\n",
       "      <td>3.684932</td>\n",
       "    </tr>\n",
       "    <tr>\n",
       "      <th>4</th>\n",
       "      <td>Zm00001eb000070</td>\n",
       "      <td>1.951832</td>\n",
       "      <td>1.059086</td>\n",
       "      <td>1.305216</td>\n",
       "      <td>1.068644</td>\n",
       "      <td>1.637151</td>\n",
       "      <td>2.239044</td>\n",
       "      <td>2.321033</td>\n",
       "      <td>1.955699</td>\n",
       "      <td>1.16447</td>\n",
       "      <td>...</td>\n",
       "      <td>0.543188</td>\n",
       "      <td>1.490756</td>\n",
       "      <td>0.543188</td>\n",
       "      <td>2.328131</td>\n",
       "      <td>0.543188</td>\n",
       "      <td>0.543188</td>\n",
       "      <td>0.543188</td>\n",
       "      <td>0.543188</td>\n",
       "      <td>3.030062</td>\n",
       "      <td>1.963457</td>\n",
       "    </tr>\n",
       "  </tbody>\n",
       "</table>\n",
       "<p>5 rows × 1982 columns</p>\n",
       "</div>"
      ],
      "text/plain": [
       "Sample            index SRR11933261 SRR11933272 SRR11933250 SRR11933029  \\\n",
       "0       Zm00001eb000010    3.594095     3.89444    3.219469    3.112365   \n",
       "1       Zm00001eb000020    2.519998    2.732825    2.701776    2.539248   \n",
       "2       Zm00001eb000050   -0.007294    0.381698   -0.061548   -0.061548   \n",
       "3       Zm00001eb000060    3.905214     3.24937    2.384618    1.880675   \n",
       "4       Zm00001eb000070    1.951832    1.059086    1.305216    1.068644   \n",
       "\n",
       "Sample SRR11933040 SRR11932822 SRR11932811 SRR11933230 SRR11932879  ...  \\\n",
       "0         3.375717      4.8903    4.968562    4.649948    4.324961  ...   \n",
       "1         2.654222    4.665918    4.470543    4.560385    3.469186  ...   \n",
       "2        -0.061548   -0.061548   -0.061548   -0.061548    0.285041  ...   \n",
       "3         1.658896    4.878115    4.535352     4.53655    4.055592  ...   \n",
       "4         1.637151    2.239044    2.321033    1.955699     1.16447  ...   \n",
       "\n",
       "Sample   Ms71D3C    Ki3D1C CML228D1D CML333D3D  MO18WD3C    B73D3C  NC358D3C  \\\n",
       "0       2.775769  2.955871  2.779872  4.173646  2.698679  3.244666  2.912137   \n",
       "1       2.870872  3.760582  2.870872  2.870872  3.798475  3.256155  3.011281   \n",
       "2       0.208096  0.208096  0.208096  0.208096  0.208096  0.208096  0.208096   \n",
       "3       3.684932  3.684932  3.684932  3.684932  3.684932  3.684932  3.684932   \n",
       "4       0.543188  1.490756  0.543188  2.328131  0.543188  0.543188  0.543188   \n",
       "\n",
       "Sample    P39D3D  M162WD3D  M162WD1D  \n",
       "0       3.516813  3.350593  3.363847  \n",
       "1       3.369846  3.148906  3.200188  \n",
       "2       0.208096  0.208096  0.208096  \n",
       "3       3.684932  3.684932  3.684932  \n",
       "4       0.543188  3.030062  1.963457  \n",
       "\n",
       "[5 rows x 1982 columns]"
      ]
     },
     "execution_count": 30,
     "metadata": {},
     "output_type": "execute_result"
    }
   ],
   "source": [
    "ltpmt = ltpmt.reset_index()\n",
    "ltpmt.head()"
   ]
  },
  {
   "cell_type": "code",
   "execution_count": 31,
   "id": "2f4f4b74",
   "metadata": {},
   "outputs": [],
   "source": [
    "ltpmt = ltpmt.rename(columns={\"index\":\"GeneID\"})"
   ]
  },
  {
   "cell_type": "code",
   "execution_count": 32,
   "id": "eaf82a8c",
   "metadata": {},
   "outputs": [],
   "source": [
    "# load modgenes\n",
    "modgenes = json.load(open(\"../../data/WGCNA_Apr2024/genes_in_modules.json\"))"
   ]
  },
  {
   "cell_type": "code",
   "execution_count": null,
   "id": "e2c06419",
   "metadata": {},
   "outputs": [],
   "source": [
    "# create a dictionary where key=module, value=logTPM dataframe with metadata for only genes in that module\n",
    "ltpmdict = {}\n",
    "for m,l in modgenes.items():\n",
    "    df = ltpmt[ltpmt[\"GeneID\"].isin(l)]\n",
    "    df = df.set_index(\"GeneID\").transpose().reset_index()\n",
    "    df = pd.melt(df,id_vars=[\"Sample\"],value_vars=l)\n",
    "    ltpmdict[m] = df.merge(meta, how=\"left\")"
   ]
  },
  {
   "cell_type": "code",
   "execution_count": null,
   "id": "1b0773f4",
   "metadata": {},
   "outputs": [],
   "source": [
    "ltpmdict[\"blue\"].head()"
   ]
  },
  {
   "cell_type": "code",
   "execution_count": null,
   "id": "0ad961a9",
   "metadata": {},
   "outputs": [],
   "source": [
    "# make a new module plotting function\n",
    "def plot_module_tpm(module):\n",
    "    df = \n",
    "    if module==\"grey60\":\n",
    "        cset = \"grey\"\n",
    "    else:\n",
    "        cset = module\n",
    "    fig,ax=plt.subplots(nrows=2,ncols=2,figsize=(20,10),sharey=True)\n",
    "    plt.suptitle(module,fontsize=24)\n",
    "    a = sns.violinplot(ax=ax[0,0],x=memd2[\"Treatment\"],y=memd2[col],color=cset)\n",
    "    b = sns.violinplot(ax=ax[0,1],x=memd2[\"TissueType\"],y=memd2[col],color=cset)\n",
    "    c = sns.violinplot(ax=ax[1,0],x=memd2[\"DevStage\"],y=memd2[col],color=cset)\n",
    "    d = sns.violinplot(ax=ax[1,1],x=memd2[\"StressTiming\"],y=memd2[col],color=cset)\n",
    "    a.set_xlabel(\"Treatment\",fontsize=14)\n",
    "    a.set_ylabel(\"Module eigengene\",fontsize=14)\n",
    "    b.set_xlabel(\"Tissue Type\",fontsize=14)\n",
    "    b.set_ylabel(\"Module eigengene\",fontsize=14)\n",
    "    c.set_xlabel(\"Developmental Stage\",fontsize=14)\n",
    "    c.set_ylabel(\"Module eigengene\",fontsize=14)\n",
    "    d.set_xlabel(\"Stress Timing\",fontsize=14)\n",
    "    d.set_ylabel(\"Module eigengene\",fontsize=14)\n",
    "    plt.savefig(\"../../figures/module_eigengene_plots/\"+module+\"_eigengenes.svg\",bbox_inches=\"tight\")\n",
    "    plt.savefig(\"../../figures/module_eigengene_plots/\"+module+\"_eigengenes.pdf\",bbox_inches=\"tight\")"
   ]
  }
 ],
 "metadata": {
  "kernelspec": {
   "display_name": "Python 3 (ipykernel)",
   "language": "python",
   "name": "python3"
  },
  "language_info": {
   "codemirror_mode": {
    "name": "ipython",
    "version": 3
   },
   "file_extension": ".py",
   "mimetype": "text/x-python",
   "name": "python",
   "nbconvert_exporter": "python",
   "pygments_lexer": "ipython3",
   "version": "3.8.10"
  }
 },
 "nbformat": 4,
 "nbformat_minor": 5
}
