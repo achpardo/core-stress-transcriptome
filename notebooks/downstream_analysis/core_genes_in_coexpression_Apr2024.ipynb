{
 "cells": [
  {
   "cell_type": "markdown",
   "id": "30657701",
   "metadata": {},
   "source": [
    "Purpose: Do analyses related to the new coexpression network generated Apr. 2, 2024.<br>\n",
    "Author: Anna Pardo<br>\n",
    "Date initiated: Apr. 3, 2024"
   ]
  },
  {
   "cell_type": "code",
   "execution_count": 1,
   "id": "fb9838b2",
   "metadata": {},
   "outputs": [],
   "source": [
    "# import modules\n",
    "import pandas as pd\n",
    "import os"
   ]
  },
  {
   "cell_type": "code",
   "execution_count": null,
   "id": "efc639c2",
   "metadata": {},
   "outputs": [],
   "source": [
    "# load coexpression module data\n",
    "directory = \"../../data/WGCNA_Apr2024/modules/\"\n",
    "modgenes = {}\n",
    "for filename in os.listdir(directory):\n",
    "    if filename.endswith(\"_genes.csv\"):\n",
    "        modname = filename.split(\"_\")[0]\n",
    "        df = pd.read_csv(directory+filename,sep=\"\\t\",header=\"infer\")\n",
    "        #print(df.head())\n",
    "        genelist = list(df[\"x\"])\n",
    "        modgenes[modname] = genelist"
   ]
  }
 ],
 "metadata": {
  "kernelspec": {
   "display_name": "Python 3 (ipykernel)",
   "language": "python",
   "name": "python3"
  },
  "language_info": {
   "codemirror_mode": {
    "name": "ipython",
    "version": 3
   },
   "file_extension": ".py",
   "mimetype": "text/x-python",
   "name": "python",
   "nbconvert_exporter": "python",
   "pygments_lexer": "ipython3",
   "version": "3.8.10"
  }
 },
 "nbformat": 4,
 "nbformat_minor": 5
}
