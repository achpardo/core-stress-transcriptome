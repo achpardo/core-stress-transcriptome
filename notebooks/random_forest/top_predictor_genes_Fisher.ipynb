{
 "cells": [
  {
   "cell_type": "markdown",
   "id": "4b17f5e7",
   "metadata": {},
   "source": [
    "Purpose: Extract top predictors (genes) from random forest results and combine into a putative core stress-responsive gene list.<br>\n",
    "Author: Anna Pardo<br>\n",
    "Date initiated: August 9, 2023"
   ]
  },
  {
   "cell_type": "code",
   "execution_count": 7,
   "id": "3948c7d3",
   "metadata": {},
   "outputs": [],
   "source": [
    "# load modules\n",
    "import pandas as pd\n",
    "import statistics\n",
    "import scipy.stats as stats\n",
    "import matplotlib.pyplot as plt\n",
    "import os"
   ]
  },
  {
   "cell_type": "code",
   "execution_count": 34,
   "id": "59add592",
   "metadata": {},
   "outputs": [],
   "source": [
    "# write function(s) for predictor extraction\n",
    "def fc_enrichment(n,fcfidf):\n",
    "    \"\"\"\n",
    "    Args:\n",
    "        n = set size/number of top genes to pull out\n",
    "        fcfidf = dataframe containing both feature importance (descending sorted) and fold change information, including\n",
    "        whether fold change indicates the gene is \"DE\" or not\n",
    "    \"\"\"\n",
    "    # pull out the top n genes\n",
    "    topn = fcfidf.head(n=n)\n",
    "    # set up a variable saying whether each gene is in the top set or not\n",
    "    topset = []\n",
    "    for i in list(fcfidf[\"GeneID\"]):\n",
    "        if i in list(topn[\"GeneID\"]):\n",
    "            topset.append(\"Top\")\n",
    "        else:\n",
    "            topset.append(\"Bottom\")\n",
    "    fcfidf[\"TopBottom\"] = topset\n",
    "    # set up data table for Fisher's exact test\n",
    "    data = pd.crosstab(index=fcfidf[\"DE\"],columns=fcfidf[\"TopBottom\"])\n",
    "    # run Fisher's exact test\n",
    "    odd_ratio, p_value = stats.fisher_exact(data)\n",
    "    return p_value"
   ]
  },
  {
   "cell_type": "code",
   "execution_count": 42,
   "id": "46928310",
   "metadata": {},
   "outputs": [],
   "source": [
    "def extract_top_predictors(setsizes,fcfile,fifile):\n",
    "    \"\"\"\n",
    "    Args:\n",
    "        setsizes = list of set sizes to use\n",
    "        fcfile = full path to file containing fold change information (tab delimited)\n",
    "        fifile = full path to file containing feature importance information, sorted in descending order by importance (tab delimited)\n",
    "    \"\"\"\n",
    "    # load files\n",
    "    fcdf = pd.read_csv(fcfile,sep=\"\\t\",header=\"infer\")\n",
    "    fidf = pd.read_csv(fifile,sep=\"\\t\",header=\"infer\")\n",
    "    # merge dataframes\n",
    "    merged = fidf.merge(fcdf[[\"GeneID\",\"FoldChange\"]])\n",
    "    # set up a variable for whether genes are \"DE\" or not\n",
    "    deornot = []\n",
    "    for i in list(merged[\"FoldChange\"]):\n",
    "        if i >= 2:\n",
    "            deornot.append(\"DE\")\n",
    "        elif i <= 0.5:\n",
    "            deornot.append(\"DE\")\n",
    "        else:\n",
    "            deornot.append(\"Not DE\")\n",
    "    merged[\"DE\"] = deornot\n",
    "    \n",
    "    # iterate through set size options\n",
    "    # for each set size option, save whether or not it is significantly enriched in \"DEGs\", and the p-value from Fisher's\n",
    "    ## exact test\n",
    "    sigenrich = []\n",
    "    pvals = []\n",
    "    for s in setsizes:\n",
    "        p = fc_enrichment(s,merged)\n",
    "        if p<0.05:\n",
    "            sigenrich.append(\"Yes\")\n",
    "        else:\n",
    "            sigenrich.append(\"No\")\n",
    "        pvals.append(p)\n",
    "    # bind into a dataframe\n",
    "    sigdf = pd.DataFrame(list(zip(setsizes,sigenrich,pvals)),columns=[\"SetSize\",\"Significant\",\"p_value\"])\n",
    "    \n",
    "    # subset dataframe to only significant set sizes\n",
    "    if \"Yes\" in list(sigdf[\"Significant\"]):\n",
    "        sigsets = sigdf[sigdf[\"Significant\"]==\"Yes\"]\n",
    "    else:\n",
    "        print(\"Error! No significant set sizes. Try a different set size list.\")\n",
    "    \n",
    "    # find maximum significant set size\n",
    "    minsig = max(list(sigsets[\"SetSize\"]))\n",
    "    \n",
    "    # pull out the list of genes of that set size and return it\n",
    "    top_predictors_df = merged.head(n=minsig)\n",
    "    return list(top_predictors_df[\"GeneID\"])"
   ]
  },
  {
   "cell_type": "code",
   "execution_count": 5,
   "id": "498777f1",
   "metadata": {},
   "outputs": [],
   "source": [
    "# set directory in which to look for input feature importance files\n",
    "directory = \"../../data/rf_outputs/upsample_13-Jul-2023/\""
   ]
  },
  {
   "cell_type": "code",
   "execution_count": 11,
   "id": "aaf28166",
   "metadata": {},
   "outputs": [],
   "source": [
    "# build a list of input FI files\n",
    "fifiles = []\n",
    "for d in os.listdir(directory):\n",
    "    for f in os.listdir(directory+d+\"/\"):\n",
    "        if f.endswith(\"_sorted.tsv\"):\n",
    "            fifiles.append(directory+d+\"/\"+f)"
   ]
  },
  {
   "cell_type": "code",
   "execution_count": 17,
   "id": "dd9d5ded",
   "metadata": {},
   "outputs": [],
   "source": [
    "# build a list of input FC files\n",
    "fcfiles = []\n",
    "for f in os.listdir(\"../../data/\"):\n",
    "    if f.endswith(\"_meanTPM.tsv\"):\n",
    "        if f != \"log2FoldChange_allStress_meanTPM.tsv\":\n",
    "            fcfiles.append(\"../../data/\"+f)"
   ]
  },
  {
   "cell_type": "code",
   "execution_count": 18,
   "id": "37088644",
   "metadata": {},
   "outputs": [
    {
     "data": {
      "text/plain": [
       "['../../data/log2FoldChange_Flooding_meanTPM.tsv',\n",
       " '../../data/log2FoldChange_Drought_meanTPM.tsv',\n",
       " '../../data/log2FoldChange_Salt_meanTPM.tsv',\n",
       " '../../data/log2FoldChange_Heat_meanTPM.tsv',\n",
       " '../../data/log2FoldChange_Low_Nitrogen_meanTPM.tsv',\n",
       " '../../data/log2FoldChange_Cold_meanTPM.tsv']"
      ]
     },
     "execution_count": 18,
     "metadata": {},
     "output_type": "execute_result"
    }
   ],
   "source": [
    "fcfiles"
   ]
  },
  {
   "cell_type": "code",
   "execution_count": 22,
   "id": "306b33ef",
   "metadata": {},
   "outputs": [
    {
     "data": {
      "text/plain": [
       "['../../data/log2FoldChange_Flooding_meanTPM.tsv',\n",
       " '../../data/log2FoldChange_Drought_meanTPM.tsv',\n",
       " '../../data/log2FoldChange_Salt_meanTPM.tsv',\n",
       " '../../data/log2FoldChange_Heat_meanTPM.tsv',\n",
       " '../../data/log2FoldChange_Low_Nitrogen_meanTPM.tsv',\n",
       " '../../data/log2FoldChange_Cold_meanTPM.tsv']"
      ]
     },
     "execution_count": 22,
     "metadata": {},
     "output_type": "execute_result"
    }
   ],
   "source": [
    "fcfiles"
   ]
  },
  {
   "cell_type": "code",
   "execution_count": 19,
   "id": "4962e999",
   "metadata": {},
   "outputs": [],
   "source": [
    "# make a list of stressors\n",
    "stressors = [\"Drought\",\"Salt\",\"Cold\",\"Flooding\",\"Heat\",\"Low_Nitrogen\"]"
   ]
  },
  {
   "cell_type": "code",
   "execution_count": 25,
   "id": "5d0ac9c1",
   "metadata": {},
   "outputs": [],
   "source": [
    "# re-order lists of files and bind into dataframe such that it's aligned with the stressors list\n",
    "fi = []\n",
    "fc = []\n",
    "for i in range(len(stressors)):\n",
    "    s = stressors[i]\n",
    "    for j in fifiles:\n",
    "        xfi = j.strip().split(\"/\")[5].split(\"Test\")[0]\n",
    "        if xfi == s:\n",
    "            fi.append(j)\n",
    "    for k in fcfiles:\n",
    "        yfc = k.strip().split(\"e_\")[1].split(\"_m\")[0]\n",
    "        if yfc == s:\n",
    "            fc.append(k)\n",
    "\n",
    "# make dataframe\n",
    "files = pd.DataFrame(list(zip(stressors,fi,fc)),columns=[\"Stressor\",\"FI_file\",\"FC_file\"])"
   ]
  },
  {
   "cell_type": "code",
   "execution_count": 32,
   "id": "994f72ed",
   "metadata": {},
   "outputs": [
    {
     "data": {
      "text/html": [
       "<div>\n",
       "<style scoped>\n",
       "    .dataframe tbody tr th:only-of-type {\n",
       "        vertical-align: middle;\n",
       "    }\n",
       "\n",
       "    .dataframe tbody tr th {\n",
       "        vertical-align: top;\n",
       "    }\n",
       "\n",
       "    .dataframe thead th {\n",
       "        text-align: right;\n",
       "    }\n",
       "</style>\n",
       "<table border=\"1\" class=\"dataframe\">\n",
       "  <thead>\n",
       "    <tr style=\"text-align: right;\">\n",
       "      <th></th>\n",
       "      <th>Stressor</th>\n",
       "      <th>FI_file</th>\n",
       "      <th>FC_file</th>\n",
       "    </tr>\n",
       "  </thead>\n",
       "  <tbody>\n",
       "    <tr>\n",
       "      <th>0</th>\n",
       "      <td>Drought</td>\n",
       "      <td>../../data/rf_outputs/upsample_13-Jul-2023/Dro...</td>\n",
       "      <td>../../data/log2FoldChange_Drought_meanTPM.tsv</td>\n",
       "    </tr>\n",
       "    <tr>\n",
       "      <th>1</th>\n",
       "      <td>Salt</td>\n",
       "      <td>../../data/rf_outputs/upsample_13-Jul-2023/Sal...</td>\n",
       "      <td>../../data/log2FoldChange_Salt_meanTPM.tsv</td>\n",
       "    </tr>\n",
       "    <tr>\n",
       "      <th>2</th>\n",
       "      <td>Cold</td>\n",
       "      <td>../../data/rf_outputs/upsample_13-Jul-2023/Col...</td>\n",
       "      <td>../../data/log2FoldChange_Cold_meanTPM.tsv</td>\n",
       "    </tr>\n",
       "    <tr>\n",
       "      <th>3</th>\n",
       "      <td>Flooding</td>\n",
       "      <td>../../data/rf_outputs/upsample_13-Jul-2023/Flo...</td>\n",
       "      <td>../../data/log2FoldChange_Flooding_meanTPM.tsv</td>\n",
       "    </tr>\n",
       "    <tr>\n",
       "      <th>4</th>\n",
       "      <td>Heat</td>\n",
       "      <td>../../data/rf_outputs/upsample_13-Jul-2023/Hea...</td>\n",
       "      <td>../../data/log2FoldChange_Heat_meanTPM.tsv</td>\n",
       "    </tr>\n",
       "  </tbody>\n",
       "</table>\n",
       "</div>"
      ],
      "text/plain": [
       "   Stressor                                            FI_file  \\\n",
       "0   Drought  ../../data/rf_outputs/upsample_13-Jul-2023/Dro...   \n",
       "1      Salt  ../../data/rf_outputs/upsample_13-Jul-2023/Sal...   \n",
       "2      Cold  ../../data/rf_outputs/upsample_13-Jul-2023/Col...   \n",
       "3  Flooding  ../../data/rf_outputs/upsample_13-Jul-2023/Flo...   \n",
       "4      Heat  ../../data/rf_outputs/upsample_13-Jul-2023/Hea...   \n",
       "\n",
       "                                          FC_file  \n",
       "0   ../../data/log2FoldChange_Drought_meanTPM.tsv  \n",
       "1      ../../data/log2FoldChange_Salt_meanTPM.tsv  \n",
       "2      ../../data/log2FoldChange_Cold_meanTPM.tsv  \n",
       "3  ../../data/log2FoldChange_Flooding_meanTPM.tsv  \n",
       "4      ../../data/log2FoldChange_Heat_meanTPM.tsv  "
      ]
     },
     "execution_count": 32,
     "metadata": {},
     "output_type": "execute_result"
    }
   ],
   "source": [
    "files.head()"
   ]
  },
  {
   "cell_type": "code",
   "execution_count": 29,
   "id": "b66ba635",
   "metadata": {},
   "outputs": [],
   "source": [
    "# make list of set sizes\n",
    "sets = []\n",
    "for i in range(50,5050,50):\n",
    "    sets.append(i)"
   ]
  },
  {
   "cell_type": "code",
   "execution_count": 43,
   "id": "49443d73",
   "metadata": {},
   "outputs": [],
   "source": [
    "# make a dictionary of the lists of top predictors\n",
    "top_preds = {}\n",
    "for i in range(len(files.index)):\n",
    "    s = files.iloc[i,0]\n",
    "    fcfile = files.iloc[i,2]\n",
    "    fifile = files.iloc[i,1]\n",
    "    top_preds[s] = extract_top_predictors(sets,fcfile,fifile)"
   ]
  },
  {
   "cell_type": "code",
   "execution_count": 44,
   "id": "518a12e6",
   "metadata": {},
   "outputs": [
    {
     "name": "stdout",
     "output_type": "stream",
     "text": [
      "Drought: 5000\n",
      "Salt: 5000\n",
      "Cold: 5000\n",
      "Flooding: 5000\n",
      "Heat: 5000\n",
      "Low_Nitrogen: 5000\n"
     ]
    }
   ],
   "source": [
    "# what are the set sizes for each stressor?\n",
    "for k in top_preds.keys():\n",
    "    ngenes = len(top_preds[k])\n",
    "    print(k+\": \"+str(ngenes))"
   ]
  },
  {
   "cell_type": "code",
   "execution_count": 45,
   "id": "58e5710c",
   "metadata": {},
   "outputs": [],
   "source": [
    "# try taking the intersection of all the gene sets and see how long it is\n",
    "drought = set(top_preds[\"Drought\"])\n",
    "salt = set(top_preds[\"Salt\"])\n",
    "cold = set(top_preds[\"Cold\"])\n",
    "flood = set(top_preds[\"Flooding\"])\n",
    "heat = set(top_preds[\"Heat\"])\n",
    "ln = set(top_preds[\"Low_Nitrogen\"])"
   ]
  },
  {
   "cell_type": "code",
   "execution_count": 46,
   "id": "be9fda73",
   "metadata": {},
   "outputs": [],
   "source": [
    "core = drought.intersection(salt,cold,flood,heat,ln)"
   ]
  },
  {
   "cell_type": "code",
   "execution_count": 47,
   "id": "9de93936",
   "metadata": {},
   "outputs": [
    {
     "data": {
      "text/plain": [
       "174"
      ]
     },
     "execution_count": 47,
     "metadata": {},
     "output_type": "execute_result"
    }
   ],
   "source": [
    "len(core)"
   ]
  },
  {
   "cell_type": "code",
   "execution_count": null,
   "id": "91dd92ec",
   "metadata": {},
   "outputs": [],
   "source": []
  }
 ],
 "metadata": {
  "kernelspec": {
   "display_name": "Python 3 (ipykernel)",
   "language": "python",
   "name": "python3"
  },
  "language_info": {
   "codemirror_mode": {
    "name": "ipython",
    "version": 3
   },
   "file_extension": ".py",
   "mimetype": "text/x-python",
   "name": "python",
   "nbconvert_exporter": "python",
   "pygments_lexer": "ipython3",
   "version": "3.8.10"
  }
 },
 "nbformat": 4,
 "nbformat_minor": 5
}
