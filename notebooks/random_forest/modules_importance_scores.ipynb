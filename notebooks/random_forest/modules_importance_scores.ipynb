{
 "cells": [
  {
   "cell_type": "markdown",
   "id": "138c8c46",
   "metadata": {},
   "source": [
    "Purpose: To examine the feature importance of different WGCNA modules from the dimensional reduction random forest. Also to plot the accuracy and F1 scores.<br>\n",
    "Author: Anna Pardo<br>\n",
    "Date initiated: Aug. 25, 2023"
   ]
  },
  {
   "cell_type": "code",
   "execution_count": 25,
   "id": "49462b8f",
   "metadata": {},
   "outputs": [],
   "source": [
    "# load modules\n",
    "import pandas as pd\n",
    "import matplotlib.pyplot as plt\n",
    "import os\n",
    "import json\n",
    "import seaborn as sns"
   ]
  },
  {
   "cell_type": "markdown",
   "id": "4cd66782",
   "metadata": {},
   "source": [
    "## Make a basic plot of accuracy & F1 scores"
   ]
  },
  {
   "cell_type": "code",
   "execution_count": 2,
   "id": "80b922f7",
   "metadata": {},
   "outputs": [],
   "source": [
    "# load scores data\n",
    "directory = \"../../data/rf_outputs/dimensional_reduction_rf_01-Aug-2023/\""
   ]
  },
  {
   "cell_type": "code",
   "execution_count": 8,
   "id": "eff125d8",
   "metadata": {},
   "outputs": [],
   "source": [
    "# make dictionary of dictionaries of scores for each stressor\n",
    "sdict = {}\n",
    "for subd in os.listdir(directory):\n",
    "    s = subd.split(\"T\")[0]\n",
    "    for f in os.listdir(directory+subd):\n",
    "        if f.endswith(\"_scores.json\"):\n",
    "            sdict[s] = json.load(open(directory+subd+\"/\"+f))"
   ]
  },
  {
   "cell_type": "code",
   "execution_count": 9,
   "id": "da6a4024",
   "metadata": {},
   "outputs": [
    {
     "data": {
      "text/plain": [
       "{'Accuracy': 0.4810126582278481,\n",
       " 'F1_class_0': 0.5138339920948617,\n",
       " 'F1_class_1': 0.4434389140271493,\n",
       " 'Precision_class_0': 0.5058365758754864,\n",
       " 'Precision_class_1': 0.45161290322580644,\n",
       " 'Recall_class_0': 0.5220883534136547,\n",
       " 'Recall_class_1': 0.43555555555555553,\n",
       " 'AUC': 0.4689602855867916,\n",
       " 'Data Balanced': False,\n",
       " 'Sampling': 'Up'}"
      ]
     },
     "execution_count": 9,
     "metadata": {},
     "output_type": "execute_result"
    }
   ],
   "source": [
    "sdict[\"Cold\"]"
   ]
  },
  {
   "cell_type": "code",
   "execution_count": 11,
   "id": "2777fd80",
   "metadata": {},
   "outputs": [
    {
     "data": {
      "text/html": [
       "<div>\n",
       "<style scoped>\n",
       "    .dataframe tbody tr th:only-of-type {\n",
       "        vertical-align: middle;\n",
       "    }\n",
       "\n",
       "    .dataframe tbody tr th {\n",
       "        vertical-align: top;\n",
       "    }\n",
       "\n",
       "    .dataframe thead th {\n",
       "        text-align: right;\n",
       "    }\n",
       "</style>\n",
       "<table border=\"1\" class=\"dataframe\">\n",
       "  <thead>\n",
       "    <tr style=\"text-align: right;\">\n",
       "      <th></th>\n",
       "      <th>Test Set</th>\n",
       "      <th>Accuracy</th>\n",
       "      <th>F1_Control</th>\n",
       "      <th>F1_Stressed</th>\n",
       "    </tr>\n",
       "  </thead>\n",
       "  <tbody>\n",
       "    <tr>\n",
       "      <th>0</th>\n",
       "      <td>Flooding</td>\n",
       "      <td>0.710145</td>\n",
       "      <td>0.600000</td>\n",
       "      <td>0.772727</td>\n",
       "    </tr>\n",
       "    <tr>\n",
       "      <th>1</th>\n",
       "      <td>Low_Nitrogen</td>\n",
       "      <td>0.489933</td>\n",
       "      <td>0.464789</td>\n",
       "      <td>0.512821</td>\n",
       "    </tr>\n",
       "    <tr>\n",
       "      <th>2</th>\n",
       "      <td>Heat</td>\n",
       "      <td>0.564232</td>\n",
       "      <td>0.375451</td>\n",
       "      <td>0.665377</td>\n",
       "    </tr>\n",
       "    <tr>\n",
       "      <th>3</th>\n",
       "      <td>Drought</td>\n",
       "      <td>0.712690</td>\n",
       "      <td>0.613915</td>\n",
       "      <td>0.771221</td>\n",
       "    </tr>\n",
       "    <tr>\n",
       "      <th>4</th>\n",
       "      <td>Cold</td>\n",
       "      <td>0.481013</td>\n",
       "      <td>0.513834</td>\n",
       "      <td>0.443439</td>\n",
       "    </tr>\n",
       "    <tr>\n",
       "      <th>5</th>\n",
       "      <td>Salt</td>\n",
       "      <td>0.517857</td>\n",
       "      <td>0.509091</td>\n",
       "      <td>0.526316</td>\n",
       "    </tr>\n",
       "  </tbody>\n",
       "</table>\n",
       "</div>"
      ],
      "text/plain": [
       "       Test Set  Accuracy  F1_Control  F1_Stressed\n",
       "0      Flooding  0.710145    0.600000     0.772727\n",
       "1  Low_Nitrogen  0.489933    0.464789     0.512821\n",
       "2          Heat  0.564232    0.375451     0.665377\n",
       "3       Drought  0.712690    0.613915     0.771221\n",
       "4          Cold  0.481013    0.513834     0.443439\n",
       "5          Salt  0.517857    0.509091     0.526316"
      ]
     },
     "execution_count": 11,
     "metadata": {},
     "output_type": "execute_result"
    }
   ],
   "source": [
    "# make a dataframe containing: stressor, accuracy, f1 class 0, and f1 class 1\n",
    "stressor = []\n",
    "accuracy = []\n",
    "f10 = []\n",
    "f11 = []\n",
    "for k in sdict:\n",
    "    stressor.append(k)\n",
    "    accuracy.append(sdict[k][\"Accuracy\"])\n",
    "    f10.append(sdict[k][\"F1_class_0\"])\n",
    "    f11.append(sdict[k][\"F1_class_1\"])\n",
    "    \n",
    "scoresdf = pd.DataFrame(list(zip(stressor,accuracy,f10,f11)),columns=[\"Test Set\",\"Accuracy\",\"F1_Control\",\"F1_Stressed\"])\n",
    "scoresdf"
   ]
  },
  {
   "cell_type": "code",
   "execution_count": 17,
   "id": "2d5a11fb",
   "metadata": {},
   "outputs": [
    {
     "data": {
      "text/html": [
       "<div>\n",
       "<style scoped>\n",
       "    .dataframe tbody tr th:only-of-type {\n",
       "        vertical-align: middle;\n",
       "    }\n",
       "\n",
       "    .dataframe tbody tr th {\n",
       "        vertical-align: top;\n",
       "    }\n",
       "\n",
       "    .dataframe thead th {\n",
       "        text-align: right;\n",
       "    }\n",
       "</style>\n",
       "<table border=\"1\" class=\"dataframe\">\n",
       "  <thead>\n",
       "    <tr style=\"text-align: right;\">\n",
       "      <th></th>\n",
       "      <th>Test Set</th>\n",
       "      <th>Accuracy</th>\n",
       "      <th>F1_Control</th>\n",
       "      <th>F1_Stressed</th>\n",
       "      <th>Mean Accuracy</th>\n",
       "      <th>Mean F1_Control</th>\n",
       "      <th>Mean F1_Stressed</th>\n",
       "    </tr>\n",
       "  </thead>\n",
       "  <tbody>\n",
       "    <tr>\n",
       "      <th>0</th>\n",
       "      <td>Flooding</td>\n",
       "      <td>0.710145</td>\n",
       "      <td>0.600000</td>\n",
       "      <td>0.772727</td>\n",
       "      <td>0.579312</td>\n",
       "      <td>0.512847</td>\n",
       "      <td>0.615317</td>\n",
       "    </tr>\n",
       "    <tr>\n",
       "      <th>1</th>\n",
       "      <td>Low_Nitrogen</td>\n",
       "      <td>0.489933</td>\n",
       "      <td>0.464789</td>\n",
       "      <td>0.512821</td>\n",
       "      <td>0.579312</td>\n",
       "      <td>0.512847</td>\n",
       "      <td>0.615317</td>\n",
       "    </tr>\n",
       "    <tr>\n",
       "      <th>2</th>\n",
       "      <td>Heat</td>\n",
       "      <td>0.564232</td>\n",
       "      <td>0.375451</td>\n",
       "      <td>0.665377</td>\n",
       "      <td>0.579312</td>\n",
       "      <td>0.512847</td>\n",
       "      <td>0.615317</td>\n",
       "    </tr>\n",
       "    <tr>\n",
       "      <th>3</th>\n",
       "      <td>Drought</td>\n",
       "      <td>0.712690</td>\n",
       "      <td>0.613915</td>\n",
       "      <td>0.771221</td>\n",
       "      <td>0.579312</td>\n",
       "      <td>0.512847</td>\n",
       "      <td>0.615317</td>\n",
       "    </tr>\n",
       "    <tr>\n",
       "      <th>4</th>\n",
       "      <td>Cold</td>\n",
       "      <td>0.481013</td>\n",
       "      <td>0.513834</td>\n",
       "      <td>0.443439</td>\n",
       "      <td>0.579312</td>\n",
       "      <td>0.512847</td>\n",
       "      <td>0.615317</td>\n",
       "    </tr>\n",
       "    <tr>\n",
       "      <th>5</th>\n",
       "      <td>Salt</td>\n",
       "      <td>0.517857</td>\n",
       "      <td>0.509091</td>\n",
       "      <td>0.526316</td>\n",
       "      <td>0.579312</td>\n",
       "      <td>0.512847</td>\n",
       "      <td>0.615317</td>\n",
       "    </tr>\n",
       "  </tbody>\n",
       "</table>\n",
       "</div>"
      ],
      "text/plain": [
       "       Test Set  Accuracy  F1_Control  F1_Stressed  Mean Accuracy  \\\n",
       "0      Flooding  0.710145    0.600000     0.772727       0.579312   \n",
       "1  Low_Nitrogen  0.489933    0.464789     0.512821       0.579312   \n",
       "2          Heat  0.564232    0.375451     0.665377       0.579312   \n",
       "3       Drought  0.712690    0.613915     0.771221       0.579312   \n",
       "4          Cold  0.481013    0.513834     0.443439       0.579312   \n",
       "5          Salt  0.517857    0.509091     0.526316       0.579312   \n",
       "\n",
       "   Mean F1_Control  Mean F1_Stressed  \n",
       "0         0.512847          0.615317  \n",
       "1         0.512847          0.615317  \n",
       "2         0.512847          0.615317  \n",
       "3         0.512847          0.615317  \n",
       "4         0.512847          0.615317  \n",
       "5         0.512847          0.615317  "
      ]
     },
     "execution_count": 17,
     "metadata": {},
     "output_type": "execute_result"
    }
   ],
   "source": [
    "scoresdf"
   ]
  },
  {
   "cell_type": "code",
   "execution_count": 16,
   "id": "ffc0ca25",
   "metadata": {},
   "outputs": [],
   "source": [
    "# add mean columns\n",
    "for c in scoresdf.columns:\n",
    "    if c != \"Test Set\":\n",
    "        scoresdf[\"Mean \"+c] = scoresdf[c].mean()"
   ]
  },
  {
   "cell_type": "code",
   "execution_count": 20,
   "id": "a68b8370",
   "metadata": {},
   "outputs": [
    {
     "data": {
      "text/plain": [
       "Text(0.5, 1.0, 'Dimensional Reduction Random Forest')"
      ]
     },
     "execution_count": 20,
     "metadata": {},
     "output_type": "execute_result"
    },
    {
     "data": {
      "image/png": "[encoded data removed]",
      "text/plain": [
       "<Figure size 432x288 with 1 Axes>"
      ]
     },
     "metadata": {
      "needs_background": "light"
     },
     "output_type": "display_data"
    }
   ],
   "source": [
    "# make a barplot of accuracy with a mean line\n",
    "plt.bar(scoresdf[\"Test Set\"],scoresdf[\"Accuracy\"],alpha=0.75)\n",
    "plt.plot(scoresdf[\"Mean Accuracy\"],color=\"red\")\n",
    "plt.xlabel(\"Test Set\",fontsize=14)\n",
    "plt.ylabel(\"Prediction Accuracy\",fontsize=14)\n",
    "plt.suptitle(\"Prediction accuracy when testing on each stressor\",fontsize=16)\n",
    "plt.title(\"Dimensional Reduction Random Forest\",fontsize=12)"
   ]
  },
  {
   "cell_type": "code",
   "execution_count": 23,
   "id": "3cb1528b",
   "metadata": {},
   "outputs": [],
   "source": [
    "# plotting function for F1\n",
    "def plot_f1(df):\n",
    "    # reformat data\n",
    "    df = df[[\"Test Set\",\"F1_Control\",\"F1_Stressed\",\"Mean F1_Control\",\"Mean F1_Stressed\"]]\n",
    "    sc = []\n",
    "    t = []\n",
    "    mean = []\n",
    "    f1 = []\n",
    "    for i in range(len(df.index)):\n",
    "        sc.append(\"Stressed\")\n",
    "        t.append(df.iloc[i,0])\n",
    "        mean.append(df.iloc[i,4])\n",
    "        f1.append(df.iloc[i,2])\n",
    "        sc.append(\"Control\")\n",
    "        t.append(df.iloc[i,0])\n",
    "        mean.append(df.iloc[i,3])\n",
    "        f1.append(df.iloc[i,1])\n",
    "    newdf = pd.DataFrame(list(zip(sc,t,f1,mean)),columns=[\"Condition\",\"Test Set\",\"F1\",\"Mean F1\"])\n",
    "    # plot\n",
    "    sns.catplot(data=newdf,kind=\"bar\",x=\"Test Set\",y=\"F1\",hue=\"Condition\")\n",
    "    sns.lineplot(data=newdf,x=\"Test Set\",y=\"Mean F1\",hue=\"Condition\")\n",
    "    plt.title(\"F1\")"
   ]
  },
  {
   "cell_type": "code",
   "execution_count": 26,
   "id": "513fb4df",
   "metadata": {},
   "outputs": [
    {
     "data": {
      "image/png": "[encoded data removed]",
      "text/plain": [
       "<Figure size 439.125x360 with 1 Axes>"
      ]
     },
     "metadata": {
      "needs_background": "light"
     },
     "output_type": "display_data"
    }
   ],
   "source": [
    "# plot the F1 scores\n",
    "plot_f1(scoresdf)"
   ]
  },
  {
   "cell_type": "markdown",
   "id": "02fc2030",
   "metadata": {},
   "source": [
    "## Plot feature importance scores across stressors for each module"
   ]
  },
  {
   "cell_type": "code",
   "execution_count": null,
   "id": "5b20f916",
   "metadata": {},
   "outputs": [],
   "source": []
  }
 ],
 "metadata": {
  "kernelspec": {
   "display_name": "Python 3 (ipykernel)",
   "language": "python",
   "name": "python3"
  },
  "language_info": {
   "codemirror_mode": {
    "name": "ipython",
    "version": 3
   },
   "file_extension": ".py",
   "mimetype": "text/x-python",
   "name": "python",
   "nbconvert_exporter": "python",
   "pygments_lexer": "ipython3",
   "version": "3.8.10"
  }
 },
 "nbformat": 4,
 "nbformat_minor": 5
}
