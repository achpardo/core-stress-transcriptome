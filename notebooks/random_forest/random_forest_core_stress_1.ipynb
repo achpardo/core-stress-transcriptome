{
 "cells": [
  {
   "cell_type": "markdown",
   "id": "a1d08ade",
   "metadata": {},
   "source": [
    "Purpose: Preliminary random forest (no dimensional reduction) to classify stressed vs. control for all stressors.<br>\n",
    "Author: Anna Pardo<br>\n",
    "Date initiated: June 14, 2023"
   ]
  },
  {
   "cell_type": "code",
   "execution_count": 1,
   "id": "3614e5fb",
   "metadata": {},
   "outputs": [],
   "source": [
    "# import modules\n",
    "import numpy as np\n",
    "import pandas as pd\n",
    "import random\n",
    "import matplotlib.pyplot as plt\n",
    "from sklearn.model_selection import train_test_split\n",
    "from sklearn.ensemble import RandomForestClassifier\n",
    "from sklearn.metrics import classification_report, accuracy_score\n",
    "from sklearn.metrics import roc_curve, roc_auc_score\n",
    "from sklearn.metrics import confusion_matrix\n",
    "from sklearn.model_selection import RandomizedSearchCV\n",
    "from imblearn.over_sampling import SMOTE"
   ]
  },
  {
   "cell_type": "code",
   "execution_count": 2,
   "id": "b4a2e284",
   "metadata": {},
   "outputs": [
    {
     "data": {
      "text/plain": [
       "<bound method NDFrame.head of                    Sample  Zm00001eb000010  Zm00001eb000020  Zm00001eb000050  \\\n",
       "0     B73xMO17_HII_1_BRB1         1.638809         2.220060         0.000000   \n",
       "1     B73xMO17_HII_2_BRB3         1.411726         1.015722         0.000000   \n",
       "2      B73xMO17_HI_2_BRB4         1.525312         0.585677         0.000000   \n",
       "3     B73xMO17_HII_3_BRB4         1.856313         1.782950         0.000000   \n",
       "4      B73xMO17_HI_3_BRB6         1.212664         1.257071         0.000000   \n",
       "...                   ...              ...              ...              ...   \n",
       "2033          SRR11933084         4.594970         2.251670         0.999934   \n",
       "2034          SRR11932980         3.527514         0.300106         0.000000   \n",
       "2035           SRR4431530         1.555617         0.000000         0.000000   \n",
       "2036          SRR11933278         2.220928         0.821438         0.106208   \n",
       "2037          SRR11933248         3.721930         1.909847         0.000000   \n",
       "\n",
       "      Zm00001eb000060  Zm00001eb000070  Zm00001eb000080  Zm00001eb000100  \\\n",
       "0            3.608334         0.000000         3.246090         0.000000   \n",
       "1            1.467345         0.000000         2.666771         0.000000   \n",
       "2            1.638883         0.050644         2.615085         0.000000   \n",
       "3            1.282574         0.059865         2.775211         0.000000   \n",
       "4            0.000000         0.000000         2.086426         0.000000   \n",
       "...               ...              ...              ...              ...   \n",
       "2033         4.341245         2.082478         1.132676         0.000000   \n",
       "2034         0.000000         1.942185         4.269788         0.576218   \n",
       "2035         1.172504         0.000000         0.581206         0.000000   \n",
       "2036         2.781865         3.759649         2.950891         0.155688   \n",
       "2037         3.996354         1.994625         4.689524         0.522798   \n",
       "\n",
       "      Zm00001eb000110  Zm00001eb000120  ...  Zm00001eb442810  Zm00001eb442820  \\\n",
       "0            0.000000         0.000000  ...         0.000000         0.000000   \n",
       "1            0.000000         0.496737  ...         0.000000         0.000000   \n",
       "2            0.000000         0.000000  ...         0.000000         0.000000   \n",
       "3            0.000000         1.116139  ...         0.000000         0.000000   \n",
       "4            0.000000         0.640717  ...         0.000000         0.000000   \n",
       "...               ...              ...  ...              ...              ...   \n",
       "2033         0.000000         2.114999  ...         0.644861         0.020216   \n",
       "2034         2.202559         0.496335  ...         0.000000         0.000000   \n",
       "2035         0.000000         0.000000  ...         0.000000         0.000000   \n",
       "2036         0.000000         0.764854  ...         0.237430         0.000000   \n",
       "2037         0.000000         1.928124  ...         0.000000         0.181697   \n",
       "\n",
       "      Zm00001eb442840  Zm00001eb442850  Zm00001eb442870  Zm00001eb442890  \\\n",
       "0                 0.0          0.00000              0.0              0.0   \n",
       "1                 0.0          0.00000              0.0              0.0   \n",
       "2                 0.0          0.00000              0.0              0.0   \n",
       "3                 0.0          0.00000              0.0              0.0   \n",
       "4                 0.0          0.00000              0.0              0.0   \n",
       "...               ...              ...              ...              ...   \n",
       "2033              0.0          0.00000              0.0              0.0   \n",
       "2034              0.0          0.07689              0.0              0.0   \n",
       "2035              0.0          0.00000              0.0              0.0   \n",
       "2036              0.0          0.00000              0.0              0.0   \n",
       "2037              0.0          0.00000              0.0              0.0   \n",
       "\n",
       "      Zm00001eb442910  Zm00001eb442960  Zm00001eb442980  Zm00001eb443030  \n",
       "0                 0.0              0.0              0.0         0.000000  \n",
       "1                 0.0              0.0              0.0         0.000000  \n",
       "2                 0.0              0.0              0.0         0.000000  \n",
       "3                 0.0              0.0              0.0         0.000000  \n",
       "4                 0.0              0.0              0.0         0.000000  \n",
       "...               ...              ...              ...              ...  \n",
       "2033              0.0              0.0              0.0         1.576761  \n",
       "2034              0.0              0.0              0.0         1.549031  \n",
       "2035              0.0              0.0              0.0         0.000000  \n",
       "2036              0.0              0.0              0.0         0.000000  \n",
       "2037              0.0              0.0              0.0         2.303357  \n",
       "\n",
       "[2038 rows x 38999 columns]>"
      ]
     },
     "execution_count": 2,
     "metadata": {},
     "output_type": "execute_result"
    }
   ],
   "source": [
    "# load log TPM matrix (low-variance features already removed with VarianceThreshold)\n",
    "\n",
    "vttpm_log = pd.read_csv(\"../../data/logTPM_allsamples_16-May-2023.txt\",sep=\"\\t\",header=\"infer\")\n",
    "vttpm_log.head"
   ]
  },
  {
   "cell_type": "code",
   "execution_count": 3,
   "id": "8ce219bb",
   "metadata": {},
   "outputs": [
    {
     "data": {
      "text/html": [
       "<div>\n",
       "<style scoped>\n",
       "    .dataframe tbody tr th:only-of-type {\n",
       "        vertical-align: middle;\n",
       "    }\n",
       "\n",
       "    .dataframe tbody tr th {\n",
       "        vertical-align: top;\n",
       "    }\n",
       "\n",
       "    .dataframe thead th {\n",
       "        text-align: right;\n",
       "    }\n",
       "</style>\n",
       "<table border=\"1\" class=\"dataframe\">\n",
       "  <thead>\n",
       "    <tr style=\"text-align: right;\">\n",
       "      <th></th>\n",
       "      <th>BioProject</th>\n",
       "      <th>Sample</th>\n",
       "      <th>Treatment</th>\n",
       "    </tr>\n",
       "  </thead>\n",
       "  <tbody>\n",
       "    <tr>\n",
       "      <th>0</th>\n",
       "      <td>PRJNA637522</td>\n",
       "      <td>SRR11933261</td>\n",
       "      <td>Drought</td>\n",
       "    </tr>\n",
       "    <tr>\n",
       "      <th>1</th>\n",
       "      <td>PRJNA637522</td>\n",
       "      <td>SRR11933272</td>\n",
       "      <td>Drought</td>\n",
       "    </tr>\n",
       "    <tr>\n",
       "      <th>2</th>\n",
       "      <td>PRJNA637522</td>\n",
       "      <td>SRR11933250</td>\n",
       "      <td>Drought</td>\n",
       "    </tr>\n",
       "    <tr>\n",
       "      <th>3</th>\n",
       "      <td>PRJNA637522</td>\n",
       "      <td>SRR11933029</td>\n",
       "      <td>Control</td>\n",
       "    </tr>\n",
       "    <tr>\n",
       "      <th>4</th>\n",
       "      <td>PRJNA637522</td>\n",
       "      <td>SRR11933040</td>\n",
       "      <td>Drought</td>\n",
       "    </tr>\n",
       "  </tbody>\n",
       "</table>\n",
       "</div>"
      ],
      "text/plain": [
       "    BioProject       Sample Treatment\n",
       "0  PRJNA637522  SRR11933261   Drought\n",
       "1  PRJNA637522  SRR11933272   Drought\n",
       "2  PRJNA637522  SRR11933250   Drought\n",
       "3  PRJNA637522  SRR11933029   Control\n",
       "4  PRJNA637522  SRR11933040   Drought"
      ]
     },
     "execution_count": 3,
     "metadata": {},
     "output_type": "execute_result"
    }
   ],
   "source": [
    "# load metadata (only columns Sample, BioProject, and Treatment are required)\n",
    "md = pd.read_csv(\"../../data/srr_numbers_with_metadata_12-May-2023.csv\",sep=\",\",header=\"infer\",usecols=[\"BioProject\",\"Sample\",\"Treatment\"])\n",
    "md.head()"
   ]
  },
  {
   "cell_type": "code",
   "execution_count": 10,
   "id": "5db75992",
   "metadata": {},
   "outputs": [],
   "source": [
    "# from md, remove treatments ending in Rec (recovery samples)\n",
    "# also remove UV samples\n",
    "mds = md[~md[\"Treatment\"].str.contains(\"Rec\")]\n",
    "mds = mds[mds[\"Treatment\"]!=\"UV\"]"
   ]
  },
  {
   "cell_type": "code",
   "execution_count": 12,
   "id": "68aeecea",
   "metadata": {},
   "outputs": [
    {
     "data": {
      "text/plain": [
       "2042"
      ]
     },
     "execution_count": 12,
     "metadata": {},
     "output_type": "execute_result"
    }
   ],
   "source": [
    "len(mds.index)"
   ]
  },
  {
   "cell_type": "code",
   "execution_count": 13,
   "id": "e350bfb0",
   "metadata": {},
   "outputs": [],
   "source": [
    "# remove all BioProjects that only have control samples\n",
    "for b in mds[\"BioProject\"].unique():\n",
    "    df = mds[mds[\"BioProject\"]==b]\n",
    "    if df[\"Treatment\"].unique()[0] == \"Control\":\n",
    "        mds = mds[mds[\"BioProject\"] != b]"
   ]
  },
  {
   "cell_type": "code",
   "execution_count": 14,
   "id": "e4116051",
   "metadata": {},
   "outputs": [
    {
     "data": {
      "text/plain": [
       "1338"
      ]
     },
     "execution_count": 14,
     "metadata": {},
     "output_type": "execute_result"
    }
   ],
   "source": [
    "len(mds.index)"
   ]
  },
  {
   "cell_type": "code",
   "execution_count": 11,
   "id": "60e23fff",
   "metadata": {},
   "outputs": [
    {
     "data": {
      "text/plain": [
       "array(['Drought', 'Control', 'Heat', 'Cold', 'Salt', 'DroughtSalt',\n",
       "       'ColdDrought', 'DroughtRepeat', 'Low_Nitrogen', 'Flooding',\n",
       "       'PEG6000'], dtype=object)"
      ]
     },
     "execution_count": 11,
     "metadata": {},
     "output_type": "execute_result"
    }
   ],
   "source": [
    "mds[\"Treatment\"].unique()"
   ]
  },
  {
   "cell_type": "code",
   "execution_count": null,
   "id": "9dd58333",
   "metadata": {},
   "outputs": [],
   "source": [
    "# set Control to 0 and any stress to 1\n",
    "proxy = []\n",
    "for i in range(len(mddc.index)):\n",
    "    if mddc.iloc[i,2] == \"Control\":\n",
    "        proxy.append(0)\n",
    "    else:\n",
    "        proxy.append(1)\n",
    "mddc[\"Label\"] = proxy"
   ]
  }
 ],
 "metadata": {
  "kernelspec": {
   "display_name": "Python 3 (ipykernel)",
   "language": "python",
   "name": "python3"
  },
  "language_info": {
   "codemirror_mode": {
    "name": "ipython",
    "version": 3
   },
   "file_extension": ".py",
   "mimetype": "text/x-python",
   "name": "python",
   "nbconvert_exporter": "python",
   "pygments_lexer": "ipython3",
   "version": "3.8.10"
  }
 },
 "nbformat": 4,
 "nbformat_minor": 5
}
