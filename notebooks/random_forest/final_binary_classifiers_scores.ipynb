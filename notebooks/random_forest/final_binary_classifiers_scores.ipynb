{
 "cells": [
  {
   "cell_type": "markdown",
   "id": "e7379270",
   "metadata": {},
   "source": [
    "Purpose: Visualize accuracy and F1 scores for the final genes-as-features and dimensional reduction-WGCNA binary classification models.<br>\n",
    "Author: Anna Pardo<br>\n",
    "Date initiated: August 1, 2023"
   ]
  },
  {
   "cell_type": "code",
   "execution_count": 1,
   "id": "f786ac8f",
   "metadata": {},
   "outputs": [],
   "source": [
    "# import modules\n",
    "import json\n",
    "import pandas as pd\n",
    "import matplotlib.pyplot as plt\n",
    "import seaborn as sns\n",
    "import os"
   ]
  },
  {
   "cell_type": "code",
   "execution_count": 2,
   "id": "e59d3a5f",
   "metadata": {},
   "outputs": [],
   "source": [
    "# load data: scores json files for genes-as-features models\n",
    "## set directory\n",
    "directory = \"../../data/rf_outputs/upsample_13-Jul-2023/\""
   ]
  },
  {
   "cell_type": "code",
   "execution_count": 3,
   "id": "df845c78",
   "metadata": {},
   "outputs": [],
   "source": [
    "# iterate through subdirectories, pull out scores, and load them into a dictionary of dictionaries\n",
    "## actually...write a function to do this\n",
    "def load_scores(d):\n",
    "    dictionary = {}\n",
    "    for subd in os.listdir(d):\n",
    "        for f in os.listdir(d+subd):\n",
    "            if f.endswith(\"_scores.json\"):\n",
    "                s = f.strip().split(\"Test\")[0]\n",
    "                dictionary[s] = json.load(open(d+subd+\"/\"+f))\n",
    "    return dictionary"
   ]
  },
  {
   "cell_type": "code",
   "execution_count": 5,
   "id": "10f16c87",
   "metadata": {},
   "outputs": [],
   "source": [
    "gaf = load_scores(directory)"
   ]
  },
  {
   "cell_type": "code",
   "execution_count": 7,
   "id": "398e6680",
   "metadata": {},
   "outputs": [],
   "source": [
    "# set directory for dimensional reduction models' results\n",
    "ddr = \"../../data/rf_outputs/dimensional_reduction_rf_01-Aug-2023/\""
   ]
  },
  {
   "cell_type": "code",
   "execution_count": 8,
   "id": "5f88f9c7",
   "metadata": {},
   "outputs": [],
   "source": [
    "dr = load_scores(ddr)"
   ]
  },
  {
   "cell_type": "code",
   "execution_count": 9,
   "id": "c791f63a",
   "metadata": {},
   "outputs": [
    {
     "data": {
      "text/html": [
       "<div>\n",
       "<style scoped>\n",
       "    .dataframe tbody tr th:only-of-type {\n",
       "        vertical-align: middle;\n",
       "    }\n",
       "\n",
       "    .dataframe tbody tr th {\n",
       "        vertical-align: top;\n",
       "    }\n",
       "\n",
       "    .dataframe thead th {\n",
       "        text-align: right;\n",
       "    }\n",
       "</style>\n",
       "<table border=\"1\" class=\"dataframe\">\n",
       "  <thead>\n",
       "    <tr style=\"text-align: right;\">\n",
       "      <th></th>\n",
       "      <th>Flooding</th>\n",
       "      <th>Low_Nitrogen</th>\n",
       "      <th>Heat</th>\n",
       "      <th>Drought</th>\n",
       "      <th>Cold</th>\n",
       "      <th>Salt</th>\n",
       "    </tr>\n",
       "  </thead>\n",
       "  <tbody>\n",
       "    <tr>\n",
       "      <th>Accuracy</th>\n",
       "      <td>0.710145</td>\n",
       "      <td>0.489933</td>\n",
       "      <td>0.564232</td>\n",
       "      <td>0.71269</td>\n",
       "      <td>0.481013</td>\n",
       "      <td>0.517857</td>\n",
       "    </tr>\n",
       "    <tr>\n",
       "      <th>F1_class_0</th>\n",
       "      <td>0.6</td>\n",
       "      <td>0.464789</td>\n",
       "      <td>0.375451</td>\n",
       "      <td>0.613915</td>\n",
       "      <td>0.513834</td>\n",
       "      <td>0.509091</td>\n",
       "    </tr>\n",
       "    <tr>\n",
       "      <th>F1_class_1</th>\n",
       "      <td>0.772727</td>\n",
       "      <td>0.512821</td>\n",
       "      <td>0.665377</td>\n",
       "      <td>0.771221</td>\n",
       "      <td>0.443439</td>\n",
       "      <td>0.526316</td>\n",
       "    </tr>\n",
       "    <tr>\n",
       "      <th>Precision_class_0</th>\n",
       "      <td>0.517241</td>\n",
       "      <td>0.478261</td>\n",
       "      <td>0.776119</td>\n",
       "      <td>0.632022</td>\n",
       "      <td>0.505837</td>\n",
       "      <td>0.5</td>\n",
       "    </tr>\n",
       "    <tr>\n",
       "      <th>Precision_class_1</th>\n",
       "      <td>0.85</td>\n",
       "      <td>0.5</td>\n",
       "      <td>0.521212</td>\n",
       "      <td>0.758347</td>\n",
       "      <td>0.451613</td>\n",
       "      <td>0.535714</td>\n",
       "    </tr>\n",
       "    <tr>\n",
       "      <th>Recall_class_0</th>\n",
       "      <td>0.714286</td>\n",
       "      <td>0.452055</td>\n",
       "      <td>0.247619</td>\n",
       "      <td>0.596817</td>\n",
       "      <td>0.522088</td>\n",
       "      <td>0.518519</td>\n",
       "    </tr>\n",
       "    <tr>\n",
       "      <th>Recall_class_1</th>\n",
       "      <td>0.708333</td>\n",
       "      <td>0.526316</td>\n",
       "      <td>0.919786</td>\n",
       "      <td>0.784539</td>\n",
       "      <td>0.435556</td>\n",
       "      <td>0.517241</td>\n",
       "    </tr>\n",
       "    <tr>\n",
       "      <th>AUC</th>\n",
       "      <td>0.784226</td>\n",
       "      <td>0.5438</td>\n",
       "      <td>0.778266</td>\n",
       "      <td>0.765219</td>\n",
       "      <td>0.46896</td>\n",
       "      <td>0.489144</td>\n",
       "    </tr>\n",
       "    <tr>\n",
       "      <th>Data Balanced</th>\n",
       "      <td>False</td>\n",
       "      <td>False</td>\n",
       "      <td>False</td>\n",
       "      <td>False</td>\n",
       "      <td>False</td>\n",
       "      <td>False</td>\n",
       "    </tr>\n",
       "    <tr>\n",
       "      <th>Sampling</th>\n",
       "      <td>Up</td>\n",
       "      <td>Up</td>\n",
       "      <td>Up</td>\n",
       "      <td>Up</td>\n",
       "      <td>Up</td>\n",
       "      <td>Up</td>\n",
       "    </tr>\n",
       "  </tbody>\n",
       "</table>\n",
       "</div>"
      ],
      "text/plain": [
       "                   Flooding Low_Nitrogen      Heat   Drought      Cold  \\\n",
       "Accuracy           0.710145     0.489933  0.564232   0.71269  0.481013   \n",
       "F1_class_0              0.6     0.464789  0.375451  0.613915  0.513834   \n",
       "F1_class_1         0.772727     0.512821  0.665377  0.771221  0.443439   \n",
       "Precision_class_0  0.517241     0.478261  0.776119  0.632022  0.505837   \n",
       "Precision_class_1      0.85          0.5  0.521212  0.758347  0.451613   \n",
       "Recall_class_0     0.714286     0.452055  0.247619  0.596817  0.522088   \n",
       "Recall_class_1     0.708333     0.526316  0.919786  0.784539  0.435556   \n",
       "AUC                0.784226       0.5438  0.778266  0.765219   0.46896   \n",
       "Data Balanced         False        False     False     False     False   \n",
       "Sampling                 Up           Up        Up        Up        Up   \n",
       "\n",
       "                       Salt  \n",
       "Accuracy           0.517857  \n",
       "F1_class_0         0.509091  \n",
       "F1_class_1         0.526316  \n",
       "Precision_class_0       0.5  \n",
       "Precision_class_1  0.535714  \n",
       "Recall_class_0     0.518519  \n",
       "Recall_class_1     0.517241  \n",
       "AUC                0.489144  \n",
       "Data Balanced         False  \n",
       "Sampling                 Up  "
      ]
     },
     "execution_count": 9,
     "metadata": {},
     "output_type": "execute_result"
    }
   ],
   "source": [
    "pd.DataFrame(dr)"
   ]
  },
  {
   "cell_type": "code",
   "execution_count": 10,
   "id": "8ae9a746",
   "metadata": {},
   "outputs": [],
   "source": [
    "# convert the dictionaries to dataframes\n",
    "drdf = pd.DataFrame(dr).transpose().reset_index().rename(columns={\"index\":\"Test_Set\"})\n",
    "gafdf = pd.DataFrame(gaf).transpose().reset_index().rename(columns={\"index\":\"Test_Set\"})"
   ]
  },
  {
   "cell_type": "code",
   "execution_count": 12,
   "id": "c8f5e07d",
   "metadata": {},
   "outputs": [
    {
     "data": {
      "text/html": [
       "<div>\n",
       "<style scoped>\n",
       "    .dataframe tbody tr th:only-of-type {\n",
       "        vertical-align: middle;\n",
       "    }\n",
       "\n",
       "    .dataframe tbody tr th {\n",
       "        vertical-align: top;\n",
       "    }\n",
       "\n",
       "    .dataframe thead th {\n",
       "        text-align: right;\n",
       "    }\n",
       "</style>\n",
       "<table border=\"1\" class=\"dataframe\">\n",
       "  <thead>\n",
       "    <tr style=\"text-align: right;\">\n",
       "      <th></th>\n",
       "      <th>Test_Set</th>\n",
       "      <th>Accuracy</th>\n",
       "      <th>F1_class_0</th>\n",
       "      <th>F1_class_1</th>\n",
       "      <th>Precision_class_0</th>\n",
       "      <th>Precision_class_1</th>\n",
       "      <th>Recall_class_0</th>\n",
       "      <th>Recall_class_1</th>\n",
       "      <th>AUC</th>\n",
       "      <th>Data Balanced</th>\n",
       "      <th>Sampling</th>\n",
       "    </tr>\n",
       "  </thead>\n",
       "  <tbody>\n",
       "    <tr>\n",
       "      <th>0</th>\n",
       "      <td>Flooding</td>\n",
       "      <td>0.594203</td>\n",
       "      <td>0.3</td>\n",
       "      <td>0.714286</td>\n",
       "      <td>0.315789</td>\n",
       "      <td>0.7</td>\n",
       "      <td>0.285714</td>\n",
       "      <td>0.729167</td>\n",
       "      <td>0.485119</td>\n",
       "      <td>False</td>\n",
       "      <td>Up</td>\n",
       "    </tr>\n",
       "    <tr>\n",
       "      <th>1</th>\n",
       "      <td>Low_Nitrogen</td>\n",
       "      <td>0.543624</td>\n",
       "      <td>0.521127</td>\n",
       "      <td>0.564103</td>\n",
       "      <td>0.536232</td>\n",
       "      <td>0.55</td>\n",
       "      <td>0.506849</td>\n",
       "      <td>0.578947</td>\n",
       "      <td>0.613735</td>\n",
       "      <td>False</td>\n",
       "      <td>Up</td>\n",
       "    </tr>\n",
       "    <tr>\n",
       "      <th>2</th>\n",
       "      <td>Heat</td>\n",
       "      <td>0.586902</td>\n",
       "      <td>0.561497</td>\n",
       "      <td>0.609524</td>\n",
       "      <td>0.640244</td>\n",
       "      <td>0.549356</td>\n",
       "      <td>0.5</td>\n",
       "      <td>0.684492</td>\n",
       "      <td>0.631487</td>\n",
       "      <td>False</td>\n",
       "      <td>Up</td>\n",
       "    </tr>\n",
       "    <tr>\n",
       "      <th>3</th>\n",
       "      <td>Drought</td>\n",
       "      <td>0.809766</td>\n",
       "      <td>0.76537</td>\n",
       "      <td>0.840034</td>\n",
       "      <td>0.72619</td>\n",
       "      <td>0.872114</td>\n",
       "      <td>0.809019</td>\n",
       "      <td>0.810231</td>\n",
       "      <td>0.845922</td>\n",
       "      <td>False</td>\n",
       "      <td>Up</td>\n",
       "    </tr>\n",
       "    <tr>\n",
       "      <th>4</th>\n",
       "      <td>Cold</td>\n",
       "      <td>0.647679</td>\n",
       "      <td>0.595642</td>\n",
       "      <td>0.68785</td>\n",
       "      <td>0.75</td>\n",
       "      <td>0.593548</td>\n",
       "      <td>0.493976</td>\n",
       "      <td>0.817778</td>\n",
       "      <td>0.670219</td>\n",
       "      <td>False</td>\n",
       "      <td>Up</td>\n",
       "    </tr>\n",
       "    <tr>\n",
       "      <th>5</th>\n",
       "      <td>Salt</td>\n",
       "      <td>0.839286</td>\n",
       "      <td>0.8</td>\n",
       "      <td>0.865672</td>\n",
       "      <td>1.0</td>\n",
       "      <td>0.763158</td>\n",
       "      <td>0.666667</td>\n",
       "      <td>1.0</td>\n",
       "      <td>0.965517</td>\n",
       "      <td>False</td>\n",
       "      <td>Up</td>\n",
       "    </tr>\n",
       "  </tbody>\n",
       "</table>\n",
       "</div>"
      ],
      "text/plain": [
       "       Test_Set  Accuracy F1_class_0 F1_class_1 Precision_class_0  \\\n",
       "0      Flooding  0.594203        0.3   0.714286          0.315789   \n",
       "1  Low_Nitrogen  0.543624   0.521127   0.564103          0.536232   \n",
       "2          Heat  0.586902   0.561497   0.609524          0.640244   \n",
       "3       Drought  0.809766    0.76537   0.840034           0.72619   \n",
       "4          Cold  0.647679   0.595642    0.68785              0.75   \n",
       "5          Salt  0.839286        0.8   0.865672               1.0   \n",
       "\n",
       "  Precision_class_1 Recall_class_0 Recall_class_1       AUC Data Balanced  \\\n",
       "0               0.7       0.285714       0.729167  0.485119         False   \n",
       "1              0.55       0.506849       0.578947  0.613735         False   \n",
       "2          0.549356            0.5       0.684492  0.631487         False   \n",
       "3          0.872114       0.809019       0.810231  0.845922         False   \n",
       "4          0.593548       0.493976       0.817778  0.670219         False   \n",
       "5          0.763158       0.666667            1.0  0.965517         False   \n",
       "\n",
       "  Sampling  \n",
       "0       Up  \n",
       "1       Up  \n",
       "2       Up  \n",
       "3       Up  \n",
       "4       Up  \n",
       "5       Up  "
      ]
     },
     "execution_count": 12,
     "metadata": {},
     "output_type": "execute_result"
    }
   ],
   "source": [
    "gafdf"
   ]
  },
  {
   "cell_type": "code",
   "execution_count": 13,
   "id": "7e0f614c",
   "metadata": {},
   "outputs": [
    {
     "data": {
      "text/plain": [
       "<AxesSubplot: xlabel='Test_Set', ylabel='Accuracy'>"
      ]
     },
     "execution_count": 13,
     "metadata": {},
     "output_type": "execute_result"
    },
    {
     "data": {
      "image/png": "[encoded data removed]",
      "text/plain": [
       "<Figure size 432x288 with 1 Axes>"
      ]
     },
     "metadata": {
      "needs_background": "light"
     },
     "output_type": "display_data"
    }
   ],
   "source": [
    "sns.barplot(data=gafdf,x=\"Test_Set\",y=\"Accuracy\")"
   ]
  },
  {
   "cell_type": "code",
   "execution_count": 20,
   "id": "69c58910",
   "metadata": {},
   "outputs": [],
   "source": [
    "# write a plotting function for accuracy\n",
    "def plot_accuracy(df):\n",
    "    # for later, calculate mean accuracy and append as a column\n",
    "    df[\"Mean Accuracy\"] = sum(df[\"Accuracy\"])/len(df[\"Accuracy\"])\n",
    "    # plot the bar plot\n",
    "    sns.barplot(data=df,x=\"Test_Set\",y=\"Accuracy\",color=\"steelblue\")\n",
    "    # plot the mean line\n",
    "    sns.lineplot(data=df,x=\"Test_Set\",y=\"Mean Accuracy\",color=\"green\")\n",
    "    plt.title(\"Accuracy\")"
   ]
  },
  {
   "cell_type": "code",
   "execution_count": 21,
   "id": "120318be",
   "metadata": {},
   "outputs": [
    {
     "data": {
      "image/png": "[encoded data removed]",
      "text/plain": [
       "<Figure size 432x288 with 1 Axes>"
      ]
     },
     "metadata": {
      "needs_background": "light"
     },
     "output_type": "display_data"
    }
   ],
   "source": [
    "plot_accuracy(gafdf)"
   ]
  },
  {
   "cell_type": "code",
   "execution_count": 22,
   "id": "22aed182",
   "metadata": {},
   "outputs": [
    {
     "data": {
      "image/png": "[encoded data removed]",
      "text/plain": [
       "<Figure size 432x288 with 1 Axes>"
      ]
     },
     "metadata": {
      "needs_background": "light"
     },
     "output_type": "display_data"
    }
   ],
   "source": [
    "plot_accuracy(drdf)"
   ]
  },
  {
   "cell_type": "code",
   "execution_count": 24,
   "id": "c864bd38",
   "metadata": {},
   "outputs": [
    {
     "data": {
      "text/plain": [
       "'Low_Nitrogen'"
      ]
     },
     "execution_count": 24,
     "metadata": {},
     "output_type": "execute_result"
    }
   ],
   "source": [
    "gafdf.iloc[1,0]"
   ]
  },
  {
   "cell_type": "code",
   "execution_count": 27,
   "id": "2f6aca55",
   "metadata": {},
   "outputs": [],
   "source": [
    "# plotting function for F1\n",
    "def plot_f1(df):\n",
    "    # calculate means\n",
    "    df[\"Mean F1 control\"] = sum(df[\"F1_class_0\"])/len(df[\"F1_class_0\"])\n",
    "    df[\"Mean F1 stressed\"] = sum(df[\"F1_class_1\"])/len(df[\"F1_class_1\"])\n",
    "    # reformat data\n",
    "    df = df[[\"Test_Set\",\"F1_class_0\",\"F1_class_1\",\"Mean F1 control\",\"Mean F1 stressed\"]]\n",
    "    sc = []\n",
    "    t = []\n",
    "    mean = []\n",
    "    f1 = []\n",
    "    for i in range(len(df.index)):\n",
    "        sc.append(\"Stressed\")\n",
    "        t.append(df.iloc[i,0])\n",
    "        mean.append(df.iloc[i,4])\n",
    "        f1.append(df.iloc[i,2])\n",
    "        sc.append(\"Control\")\n",
    "        t.append(df.iloc[i,0])\n",
    "        mean.append(df.iloc[i,3])\n",
    "        f1.append(df.iloc[i,1])\n",
    "    newdf = pd.DataFrame(list(zip(sc,t,f1,mean)),columns=[\"Condition\",\"Test Set\",\"F1\",\"Mean F1\"])\n",
    "    # plot\n",
    "    sns.catplot(data=newdf,kind=\"bar\",x=\"Test Set\",y=\"F1\",hue=\"Condition\")\n",
    "    sns.lineplot(data=newdf,x=\"Test Set\",y=\"Mean F1\",hue=\"Condition\")\n",
    "    plt.title(\"F1\")"
   ]
  },
  {
   "cell_type": "code",
   "execution_count": 28,
   "id": "303f1ea6",
   "metadata": {},
   "outputs": [
    {
     "data": {
      "image/png": "[encoded data removed]",
      "text/plain": [
       "<Figure size 439.125x360 with 1 Axes>"
      ]
     },
     "metadata": {
      "needs_background": "light"
     },
     "output_type": "display_data"
    }
   ],
   "source": [
    "plot_f1(gafdf)"
   ]
  },
  {
   "cell_type": "code",
   "execution_count": 29,
   "id": "8883331d",
   "metadata": {},
   "outputs": [
    {
     "data": {
      "image/png": "[encoded data removed]",
      "text/plain": [
       "<Figure size 439.125x360 with 1 Axes>"
      ]
     },
     "metadata": {
      "needs_background": "light"
     },
     "output_type": "display_data"
    }
   ],
   "source": [
    "plot_f1(drdf)"
   ]
  },
  {
   "cell_type": "code",
   "execution_count": null,
   "id": "4b5afbb3",
   "metadata": {},
   "outputs": [],
   "source": []
  }
 ],
 "metadata": {
  "kernelspec": {
   "display_name": "Python 3 (ipykernel)",
   "language": "python",
   "name": "python3"
  },
  "language_info": {
   "codemirror_mode": {
    "name": "ipython",
    "version": 3
   },
   "file_extension": ".py",
   "mimetype": "text/x-python",
   "name": "python",
   "nbconvert_exporter": "python",
   "pygments_lexer": "ipython3",
   "version": "3.8.10"
  }
 },
 "nbformat": 4,
 "nbformat_minor": 5
}
