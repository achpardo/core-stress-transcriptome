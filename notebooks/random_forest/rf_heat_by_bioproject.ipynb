{
 "cells": [
  {
   "cell_type": "markdown",
   "id": "bfff1610",
   "metadata": {},
   "source": [
    "Purpose: Run random forest on heat and associated control data only, holding out one BioProject at a time for the test set.<br>\n",
    "Author: Anna Pardo<br>\n",
    "Date initiated: August 10, 2023"
   ]
  },
  {
   "cell_type": "code",
   "execution_count": 1,
   "id": "e5a1abb8",
   "metadata": {},
   "outputs": [],
   "source": [
    "# load modules\n",
    "import pandas as pd\n",
    "import statistics\n",
    "import scipy.stats as stats\n",
    "import matplotlib.pyplot as plt\n",
    "import os\n",
    "from sklearn.ensemble import RandomForestClassifier\n",
    "import numpy as np\n",
    "from sklearn.metrics import classification_report, accuracy_score\n",
    "from sklearn.metrics import roc_curve, roc_auc_score\n",
    "from sklearn.metrics import confusion_matrix\n",
    "from imblearn.over_sampling import SMOTE\n",
    "from sklearn.feature_selection import VarianceThreshold\n",
    "from sklearn.preprocessing import normalize\n",
    "from sklearn.model_selection import cross_val_score\n",
    "from sklearn.model_selection import ShuffleSplit\n",
    "from sklearn.preprocessing import StandardScaler\n",
    "import json\n",
    "from sklearn.metrics import f1_score"
   ]
  },
  {
   "cell_type": "code",
   "execution_count": 2,
   "id": "048f276e",
   "metadata": {},
   "outputs": [],
   "source": [
    "# define functions\n",
    "def load_clean_data(path_to_tpm,single_stress=\"none\"):\n",
    "    \"\"\"\n",
    "    Args:\n",
    "        path_to_tpm = full path to file containing raw TPM, columns for Sample, BioProject, & Treatment\n",
    "        single_stress = a single stressor to which the data must be subsetted, or \"none\" (default)\n",
    "    \"\"\"\n",
    "    # load the TPM data\n",
    "    raw_tpm = pd.read_csv(path_to_tpm,sep=\"\\t\",header=\"infer\")\n",
    "    # if there is a single stress to subset to, subset to that stress\n",
    "    if single_stress != \"none\":\n",
    "        if single_stress == \"Drought\":\n",
    "            raw_tpm = raw_tpm[raw_tpm[\"Treatment\"].isin([\"Drought\",\"DroughtRepeat\",\"Control\"])]\n",
    "        else:\n",
    "            raw_tpm = raw_tpm[raw_tpm[\"Treatment\"].isin([single_stress,\"Control\"])]\n",
    "        # remove BioProjects that only have control samples left\n",
    "        testdf = raw_tpm[[\"Sample\",\"BioProject\",\"Treatment\"]]\n",
    "        for b in testdf[\"BioProject\"].unique():\n",
    "            df = testdf[testdf[\"BioProject\"]==b]\n",
    "            if len(df[\"Treatment\"].unique())==1:\n",
    "                testdf = testdf[testdf[\"BioProject\"]!=b]\n",
    "        raw_tpm = raw_tpm.merge(testdf)\n",
    "    # labeling: set Control to 0 and any stress to 1\n",
    "    proxy = []\n",
    "    for i in range(len(raw_tpm.index)):\n",
    "        if raw_tpm.iloc[i,raw_tpm.columns.get_loc(\"Treatment\")] == \"Control\":\n",
    "            proxy.append(0)\n",
    "        else:\n",
    "            proxy.append(1)\n",
    "    raw_tpm[\"Label\"] = proxy\n",
    "    # return the dataframe\n",
    "    return raw_tpm"
   ]
  },
  {
   "cell_type": "code",
   "execution_count": 3,
   "id": "f8c8ec99",
   "metadata": {},
   "outputs": [],
   "source": [
    "def variance_threshold_selector(data):\n",
    "    selector = VarianceThreshold()\n",
    "    selector.fit(data)\n",
    "    return data[data.columns[selector.get_support(indices=True)]]\n",
    "\n",
    "def check_if_balanced(labeled_tpm):\n",
    "    \"\"\"\n",
    "    Args:\n",
    "        labeled_tpm = raw TPM with columns for Sample, BioProject, Label, Treatment\n",
    "    \"\"\"\n",
    "    if labeled_tpm[\"Label\"].value_counts()[0] == labeled_tpm[\"Label\"].value_counts()[1]:\n",
    "        return True\n",
    "    else:\n",
    "        return False\n",
    "\n",
    "def downsample(dataframe):\n",
    "    \"\"\"\n",
    "    Args:\n",
    "        dataframe = a log TPM dataframe with a Label column and Sample set as the index\n",
    "    \"\"\"\n",
    "    # generate a variable of value counts\n",
    "    vc = dataframe[\"Label\"].value_counts()\n",
    "\n",
    "    # subset data to only samples labeled 1\n",
    "    ones_only = dataframe[dataframe[\"Label\"]==1]\n",
    "\n",
    "    # downsample from the subsetted dataframe\n",
    "    ds = ones_only.sample(n=vc[1],random_state=42)\n",
    "\n",
    "    # subset original data to control samples\n",
    "    zeroes = dataframe[dataframe[\"Label\"]==0]\n",
    "\n",
    "    # concatenate controls and downsampled stress samples\n",
    "    downsampled = pd.concat([ds,zeroes])\n",
    "    # return dataframe\n",
    "    return downsampled"
   ]
  },
  {
   "cell_type": "code",
   "execution_count": 4,
   "id": "d2c4cac5",
   "metadata": {},
   "outputs": [],
   "source": [
    "def pre_split_transform(raw_tpm,balanced,downsample=False):\n",
    "    \"\"\"\n",
    "    Args:\n",
    "        raw_tpm = dataframe containing raw TPM values, columns for Sample, BioProject, Treatment, Label\n",
    "        balanced = Boolean variable, True or False (result of check_if_balanced())\n",
    "        downsample = Boolean variable, True or False, default False (set manually outside function)\n",
    "    \"\"\"\n",
    "    # if data have treatment column, drop it\n",
    "    if \"Treatment\" in dataframe.columns:\n",
    "        dataframe = dataframe.drop(\"Treatment\",axis=1)\n",
    "    # temporarily, set index to Sample and drop BioProject, Label, & Treatment columns\n",
    "    blt = raw_tpm[[\"Sample\",\"BioProject\",\"Treatment\",\"Label\"]]\n",
    "    tpmi = raw_tpm.set_index(\"Sample\").drop([\"BioProject\",\"Treatment\",\"Label\"],axis=1)\n",
    "    # remove zero-variance genes\n",
    "    vttpm = variance_threshold_selector(tpmi)\n",
    "    # log-transform TPM\n",
    "    vttpm_log = vttpm.apply(lambda x: np.log2(x+1))\n",
    "    # downsample data if needed\n",
    "    if balanced==True:\n",
    "        if downsample==True:\n",
    "            # add back labels\n",
    "            vttpm_log = blt[[\"Sample\",\"Label\"]].merge(vttpm_log.reset_index().rename(columns={\"index\":\"Sample\"}))\n",
    "            # set Sample as index\n",
    "            vttpm_log = vttpm_log.set_index(\"Sample\")\n",
    "            # downsample the data\n",
    "            vttpm_log = downsample(vttpm_log)\n",
    "    # add treatment, labels, and BioProject back in, set Sample as the index again\n",
    "    labeled = blt.merge(vttpm_log.reset_index().rename(columns={\"index\":\"Sample\"}))\n",
    "    labeled.set_index(\"Sample\",inplace=True)\n",
    "    # return dataframe\n",
    "    return labeled"
   ]
  },
  {
   "cell_type": "code",
   "execution_count": 5,
   "id": "0bedead0",
   "metadata": {},
   "outputs": [],
   "source": [
    "def split_prep_bioproject(bioproject,dataframe,balance=\"Up\"):\n",
    "    \"\"\"\n",
    "    Args:\n",
    "        bioproject = BioProject to hold out for testing (PRJNAXXXXXX)\n",
    "        dataframe = starting dataframe of log TPM with labels\n",
    "        balance = str: \"none\",\"up\" (downsampling will be done before splitting, outside of this function)\n",
    "    \"\"\"\n",
    "    # split training and testing sets\n",
    "    test = dataframe[dataframe[\"BioProject\"]==bioproject]\n",
    "    train = dataframe[dataframe[\"BioProject\"]!=bioproject]\n",
    "    # drop BioProject column from both sets\n",
    "    test = test.drop(\"BioProject\",axis=1)\n",
    "    train = train.drop(\"BioProject\",axis=1)\n",
    "    # generate X_train, X_test, y_train, and y_test\n",
    "    ## where X = gene expression values and y = class labels\n",
    "    train_X = train.drop(\"Label\",axis=1)\n",
    "    y_train = train[\"Label\"]\n",
    "    test_X = test.drop(\"Label\",axis=1)\n",
    "    y_test = test[\"Label\"]\n",
    "    # if upsampling: do the upsampling using SMOTE\n",
    "    if balance==\"Up\":\n",
    "        sm = SMOTE(random_state=42)\n",
    "        train_X, y_train = sm.fit_resample(train_X,y_train)\n",
    "    # for X_train and X_test: scale data to a z-score\n",
    "    scalar = StandardScaler()\n",
    "    X_train = scalar.fit_transform(train_X)\n",
    "    X_test = scalar.fit_transform(test_X)\n",
    "    # return training and test data\n",
    "    return X_train, y_train, X_test, y_test"
   ]
  },
  {
   "cell_type": "code",
   "execution_count": 3,
   "id": "c259ef78",
   "metadata": {},
   "outputs": [
    {
     "data": {
      "text/plain": [
       "array(['Control', 'Heat'], dtype=object)"
      ]
     },
     "execution_count": 3,
     "metadata": {},
     "output_type": "execute_result"
    }
   ],
   "source": [
    "# print list of BioProjects in heat stress\n",
    "heattpm = load_clean_data(\"../../data/rawtpm_bptreat_noPEG.tsv\",single_stress=\"Heat\")\n",
    "heattpm[\"Treatment\"].unique()"
   ]
  },
  {
   "cell_type": "code",
   "execution_count": 4,
   "id": "704e98b2",
   "metadata": {},
   "outputs": [
    {
     "data": {
      "text/plain": [
       "array(['PRJNA506720', 'PRJNA244661', 'PRJNA747925', 'PRJNA520822',\n",
       "       'PRJNA548548', 'PRJNA791560', 'PRJNA349117', 'PRJNA646054'],\n",
       "      dtype=object)"
      ]
     },
     "execution_count": 4,
     "metadata": {},
     "output_type": "execute_result"
    }
   ],
   "source": [
    "heattpm[\"BioProject\"].unique()"
   ]
  },
  {
   "cell_type": "code",
   "execution_count": 8,
   "id": "d064e37f",
   "metadata": {},
   "outputs": [],
   "source": [
    "with open(\"../../data/bioprojects_heat.tsv\",\"w+\") as outfile:\n",
    "    for b in list(heattpm[\"BioProject\"].unique()):\n",
    "        outfile.write(b+\"\\n\")"
   ]
  },
  {
   "cell_type": "code",
   "execution_count": 3,
   "id": "0ef946c4",
   "metadata": {},
   "outputs": [],
   "source": [
    "# Oct. 13, 2023\n",
    "# make BioProject files for each of the other stressors\n",
    "\n",
    "# write a function to do this since I'm doing it 5 times\n",
    "def write_bp_file(tpmfile,stressor,bpfile):\n",
    "    # load TPM for the single stressor listed\n",
    "    tpm = load_clean_data(tpmfile,single_stress=stressor)\n",
    "    # write BioProject file\n",
    "    with open(bpfile,\"w+\") as outfile:\n",
    "        for b in list(tpm[\"BioProject\"].unique()):\n",
    "            outfile.write(b+\"\\n\")"
   ]
  },
  {
   "cell_type": "code",
   "execution_count": 5,
   "id": "6f782577",
   "metadata": {},
   "outputs": [],
   "source": [
    "write_bp_file(\"../../data/rawtpm_bptreat_noPEG.tsv\",\"Drought\",\"../../data/bioprojects_drought.tsv\")"
   ]
  },
  {
   "cell_type": "code",
   "execution_count": 6,
   "id": "777401f1",
   "metadata": {},
   "outputs": [],
   "source": [
    "write_bp_file(\"../../data/rawtpm_bptreat_noPEG.tsv\",\"Cold\",\"../../data/bioprojects_cold.tsv\")"
   ]
  },
  {
   "cell_type": "code",
   "execution_count": 7,
   "id": "1afa5e9d",
   "metadata": {},
   "outputs": [],
   "source": [
    "write_bp_file(\"../../data/rawtpm_bptreat_noPEG.tsv\",\"Salt\",\"../../data/bioprojects_salt.tsv\")"
   ]
  },
  {
   "cell_type": "code",
   "execution_count": 8,
   "id": "1c074f15",
   "metadata": {},
   "outputs": [],
   "source": [
    "write_bp_file(\"../../data/rawtpm_bptreat_noPEG.tsv\",\"Flooding\",\"../../data/bioprojects_flooding.tsv\")"
   ]
  },
  {
   "cell_type": "code",
   "execution_count": 9,
   "id": "3b0d6b4e",
   "metadata": {},
   "outputs": [],
   "source": [
    "write_bp_file(\"../../data/rawtpm_bptreat_noPEG.tsv\",\"Low_Nitrogen\",\"../../data/bioprojects_low_nitrogen.tsv\")"
   ]
  },
  {
   "cell_type": "code",
   "execution_count": 3,
   "id": "52b43a5f",
   "metadata": {},
   "outputs": [],
   "source": [
    "salt = load_clean_data(\"../../data/rawtpm_bptreat_noPEG.tsv\",\"Salt\")"
   ]
  },
  {
   "cell_type": "code",
   "execution_count": 8,
   "id": "24778d0c",
   "metadata": {},
   "outputs": [
    {
     "data": {
      "text/plain": [
       "5"
      ]
     },
     "execution_count": 8,
     "metadata": {},
     "output_type": "execute_result"
    }
   ],
   "source": [
    "len(ln[\"BioProject\"].unique())"
   ]
  },
  {
   "cell_type": "code",
   "execution_count": 5,
   "id": "bb14bd95",
   "metadata": {},
   "outputs": [],
   "source": [
    "cold = load_clean_data(\"../../data/rawtpm_bptreat_noPEG.tsv\",\"Cold\")"
   ]
  },
  {
   "cell_type": "code",
   "execution_count": 7,
   "id": "7a212884",
   "metadata": {},
   "outputs": [],
   "source": [
    "ln = load_clean_data(\"../../data/rawtpm_bptreat_noPEG.tsv\",\"Low_Nitrogen\")"
   ]
  },
  {
   "cell_type": "code",
   "execution_count": null,
   "id": "f54a0d21",
   "metadata": {},
   "outputs": [],
   "source": []
  }
 ],
 "metadata": {
  "kernelspec": {
   "display_name": "Python 3 (ipykernel)",
   "language": "python",
   "name": "python3"
  },
  "language_info": {
   "codemirror_mode": {
    "name": "ipython",
    "version": 3
   },
   "file_extension": ".py",
   "mimetype": "text/x-python",
   "name": "python",
   "nbconvert_exporter": "python",
   "pygments_lexer": "ipython3",
   "version": "3.8.10"
  }
 },
 "nbformat": 4,
 "nbformat_minor": 5
}
