{
 "cells": [
  {
   "cell_type": "markdown",
   "id": "9b1121e8",
   "metadata": {},
   "source": [
    "Purpose: Develop code for the random forest for peripheral stress response: a binary classifier where class 0 = a single stress and class 1 = all other stressors (no control data).<br>\n",
    "Author: Anna Pardo<br>\n",
    "Date initiated: August 16, 2023"
   ]
  },
  {
   "cell_type": "code",
   "execution_count": 104,
   "id": "f20f1dca",
   "metadata": {},
   "outputs": [],
   "source": [
    "# import modules\n",
    "import pandas as pd\n",
    "import matplotlib.pyplot as plt\n",
    "import random\n",
    "from itertools import takewhile"
   ]
  },
  {
   "cell_type": "code",
   "execution_count": 2,
   "id": "29769f02",
   "metadata": {},
   "outputs": [],
   "source": [
    "# main code that needs to be worked out: data loading & cleaning function\n",
    "def load_clean_data(path_to_tpm,single_stress):\n",
    "    \"\"\"\n",
    "    Args:\n",
    "        path_to_tpm = full path to file containing raw TPM, columns for Sample, BioProject, & Treatment\n",
    "        single_stress = the stressor that will be class 0\n",
    "    \"\"\"\n",
    "    # load the TPM data\n",
    "    raw_tpm = pd.read_csv(path_to_tpm,sep=\"\\t\",header=\"infer\")\n",
    "    # replace DroughtRepeat with Drought\n",
    "    raw_tpm[\"Treatment\"].mask(raw_tpm[\"Treatment\"]==\"DroughtRepeat\",\"Drought\",inplace=True)\n",
    "    # drop control samples\n",
    "    raw_tpm = raw_tpm[raw_tpm[\"Treatment\"]!=\"Control\"]\n",
    "    # labeling: set single_stress to 0 and any stress to 1\n",
    "    proxy = []\n",
    "    for i in range(len(raw_tpm.index)):\n",
    "        if raw_tpm.iloc[i,raw_tpm.columns.get_loc(\"Treatment\")] == single_stress:\n",
    "            proxy.append(0)\n",
    "        else:\n",
    "            proxy.append(1)\n",
    "    raw_tpm[\"Label\"] = proxy\n",
    "    # return the dataframe\n",
    "    return raw_tpm"
   ]
  },
  {
   "cell_type": "code",
   "execution_count": 3,
   "id": "2f9425bc",
   "metadata": {},
   "outputs": [],
   "source": [
    "tpm = load_clean_data(\"../../data/rawtpm_bptreat_noPEG.tsv\",single_stress=\"Heat\")"
   ]
  },
  {
   "cell_type": "code",
   "execution_count": 8,
   "id": "ea9fadda",
   "metadata": {},
   "outputs": [
    {
     "data": {
      "text/html": [
       "<div>\n",
       "<style scoped>\n",
       "    .dataframe tbody tr th:only-of-type {\n",
       "        vertical-align: middle;\n",
       "    }\n",
       "\n",
       "    .dataframe tbody tr th {\n",
       "        vertical-align: top;\n",
       "    }\n",
       "\n",
       "    .dataframe thead th {\n",
       "        text-align: right;\n",
       "    }\n",
       "</style>\n",
       "<table border=\"1\" class=\"dataframe\">\n",
       "  <thead>\n",
       "    <tr style=\"text-align: right;\">\n",
       "      <th></th>\n",
       "      <th>Sample</th>\n",
       "      <th>BioProject</th>\n",
       "      <th>Treatment</th>\n",
       "      <th>Zm00001eb000010</th>\n",
       "      <th>Zm00001eb000020</th>\n",
       "      <th>Zm00001eb000050</th>\n",
       "      <th>Zm00001eb000060</th>\n",
       "      <th>Zm00001eb000070</th>\n",
       "      <th>Zm00001eb000080</th>\n",
       "      <th>Zm00001eb000100</th>\n",
       "      <th>...</th>\n",
       "      <th>Zm00001eb442820</th>\n",
       "      <th>Zm00001eb442840</th>\n",
       "      <th>Zm00001eb442850</th>\n",
       "      <th>Zm00001eb442870</th>\n",
       "      <th>Zm00001eb442890</th>\n",
       "      <th>Zm00001eb442910</th>\n",
       "      <th>Zm00001eb442960</th>\n",
       "      <th>Zm00001eb442980</th>\n",
       "      <th>Zm00001eb443030</th>\n",
       "      <th>Label</th>\n",
       "    </tr>\n",
       "  </thead>\n",
       "  <tbody>\n",
       "    <tr>\n",
       "      <th>0</th>\n",
       "      <td>SRR11933261</td>\n",
       "      <td>PRJNA637522</td>\n",
       "      <td>Drought</td>\n",
       "      <td>12.553818</td>\n",
       "      <td>2.321077</td>\n",
       "      <td>0.042520</td>\n",
       "      <td>12.932676</td>\n",
       "      <td>5.253755</td>\n",
       "      <td>11.105837</td>\n",
       "      <td>0.409268</td>\n",
       "      <td>...</td>\n",
       "      <td>0.000000</td>\n",
       "      <td>0.0</td>\n",
       "      <td>0.000000</td>\n",
       "      <td>0.0</td>\n",
       "      <td>0.309501</td>\n",
       "      <td>0.0</td>\n",
       "      <td>0.000000</td>\n",
       "      <td>0.0</td>\n",
       "      <td>0.000000</td>\n",
       "      <td>1</td>\n",
       "    </tr>\n",
       "    <tr>\n",
       "      <th>1</th>\n",
       "      <td>SRR11933272</td>\n",
       "      <td>PRJNA637522</td>\n",
       "      <td>Drought</td>\n",
       "      <td>16.255838</td>\n",
       "      <td>3.110372</td>\n",
       "      <td>0.405226</td>\n",
       "      <td>7.214039</td>\n",
       "      <td>1.902461</td>\n",
       "      <td>2.346186</td>\n",
       "      <td>0.170305</td>\n",
       "      <td>...</td>\n",
       "      <td>0.127878</td>\n",
       "      <td>0.0</td>\n",
       "      <td>0.000000</td>\n",
       "      <td>0.0</td>\n",
       "      <td>6.703281</td>\n",
       "      <td>0.0</td>\n",
       "      <td>0.000000</td>\n",
       "      <td>0.0</td>\n",
       "      <td>0.000000</td>\n",
       "      <td>1</td>\n",
       "    </tr>\n",
       "    <tr>\n",
       "      <th>2</th>\n",
       "      <td>SRR11933250</td>\n",
       "      <td>PRJNA637522</td>\n",
       "      <td>Drought</td>\n",
       "      <td>9.028815</td>\n",
       "      <td>2.984479</td>\n",
       "      <td>0.000000</td>\n",
       "      <td>3.092442</td>\n",
       "      <td>2.586555</td>\n",
       "      <td>16.186141</td>\n",
       "      <td>0.000000</td>\n",
       "      <td>...</td>\n",
       "      <td>0.000000</td>\n",
       "      <td>0.0</td>\n",
       "      <td>0.000000</td>\n",
       "      <td>0.0</td>\n",
       "      <td>0.417565</td>\n",
       "      <td>0.0</td>\n",
       "      <td>0.254123</td>\n",
       "      <td>0.0</td>\n",
       "      <td>1.213349</td>\n",
       "      <td>1</td>\n",
       "    </tr>\n",
       "    <tr>\n",
       "      <th>4</th>\n",
       "      <td>SRR11933040</td>\n",
       "      <td>PRJNA637522</td>\n",
       "      <td>Drought</td>\n",
       "      <td>10.371251</td>\n",
       "      <td>2.799099</td>\n",
       "      <td>0.000000</td>\n",
       "      <td>1.280629</td>\n",
       "      <td>3.771234</td>\n",
       "      <td>19.717683</td>\n",
       "      <td>0.143764</td>\n",
       "      <td>...</td>\n",
       "      <td>0.012158</td>\n",
       "      <td>0.0</td>\n",
       "      <td>0.000000</td>\n",
       "      <td>0.0</td>\n",
       "      <td>9.625225</td>\n",
       "      <td>0.0</td>\n",
       "      <td>0.000000</td>\n",
       "      <td>0.0</td>\n",
       "      <td>2.352959</td>\n",
       "      <td>1</td>\n",
       "    </tr>\n",
       "    <tr>\n",
       "      <th>5</th>\n",
       "      <td>SRR11932822</td>\n",
       "      <td>PRJNA637522</td>\n",
       "      <td>Drought</td>\n",
       "      <td>37.430009</td>\n",
       "      <td>27.508819</td>\n",
       "      <td>0.000000</td>\n",
       "      <td>29.510498</td>\n",
       "      <td>7.005587</td>\n",
       "      <td>0.367545</td>\n",
       "      <td>0.314919</td>\n",
       "      <td>...</td>\n",
       "      <td>0.000000</td>\n",
       "      <td>0.0</td>\n",
       "      <td>0.287114</td>\n",
       "      <td>0.0</td>\n",
       "      <td>0.000000</td>\n",
       "      <td>0.0</td>\n",
       "      <td>0.000000</td>\n",
       "      <td>0.0</td>\n",
       "      <td>1.604105</td>\n",
       "      <td>1</td>\n",
       "    </tr>\n",
       "  </tbody>\n",
       "</table>\n",
       "<p>5 rows × 39008 columns</p>\n",
       "</div>"
      ],
      "text/plain": [
       "        Sample   BioProject Treatment  Zm00001eb000010  Zm00001eb000020  \\\n",
       "0  SRR11933261  PRJNA637522   Drought        12.553818         2.321077   \n",
       "1  SRR11933272  PRJNA637522   Drought        16.255838         3.110372   \n",
       "2  SRR11933250  PRJNA637522   Drought         9.028815         2.984479   \n",
       "4  SRR11933040  PRJNA637522   Drought        10.371251         2.799099   \n",
       "5  SRR11932822  PRJNA637522   Drought        37.430009        27.508819   \n",
       "\n",
       "   Zm00001eb000050  Zm00001eb000060  Zm00001eb000070  Zm00001eb000080  \\\n",
       "0         0.042520        12.932676         5.253755        11.105837   \n",
       "1         0.405226         7.214039         1.902461         2.346186   \n",
       "2         0.000000         3.092442         2.586555        16.186141   \n",
       "4         0.000000         1.280629         3.771234        19.717683   \n",
       "5         0.000000        29.510498         7.005587         0.367545   \n",
       "\n",
       "   Zm00001eb000100  ...  Zm00001eb442820  Zm00001eb442840  Zm00001eb442850  \\\n",
       "0         0.409268  ...         0.000000              0.0         0.000000   \n",
       "1         0.170305  ...         0.127878              0.0         0.000000   \n",
       "2         0.000000  ...         0.000000              0.0         0.000000   \n",
       "4         0.143764  ...         0.012158              0.0         0.000000   \n",
       "5         0.314919  ...         0.000000              0.0         0.287114   \n",
       "\n",
       "   Zm00001eb442870  Zm00001eb442890  Zm00001eb442910  Zm00001eb442960  \\\n",
       "0              0.0         0.309501              0.0         0.000000   \n",
       "1              0.0         6.703281              0.0         0.000000   \n",
       "2              0.0         0.417565              0.0         0.254123   \n",
       "4              0.0         9.625225              0.0         0.000000   \n",
       "5              0.0         0.000000              0.0         0.000000   \n",
       "\n",
       "   Zm00001eb442980  Zm00001eb443030  Label  \n",
       "0              0.0         0.000000      1  \n",
       "1              0.0         0.000000      1  \n",
       "2              0.0         1.213349      1  \n",
       "4              0.0         2.352959      1  \n",
       "5              0.0         1.604105      1  \n",
       "\n",
       "[5 rows x 39008 columns]"
      ]
     },
     "execution_count": 8,
     "metadata": {},
     "output_type": "execute_result"
    }
   ],
   "source": [
    "tpm.head()"
   ]
  },
  {
   "cell_type": "code",
   "execution_count": 9,
   "id": "df3f5133",
   "metadata": {},
   "outputs": [],
   "source": [
    "# for each stressor: plot the number of samples in each BioProject, with labels\n",
    "## write a function to do so\n",
    "def nsamp_bioprojects(stressor,tpmdf):\n",
    "    # subset to the specified stressor\n",
    "    df = tpmdf[tpmdf[\"Treatment\"]==stressor]\n",
    "    bp = df[\"BioProject\"].unique()\n",
    "    nsamp = []\n",
    "    for b in bp:\n",
    "        d = df[df[\"BioProject\"]==b]\n",
    "        nsamp.append(len(d[\"Sample\"].unique()))\n",
    "    plotdf = pd.DataFrame(list(zip(bp,nsamp)),columns=[\"BioProject\",\"N_samples\"])\n",
    "    # plot horizontal barplot\n",
    "    plt.barh(plotdf[\"BioProject\"],plotdf[\"N_samples\"])\n",
    "    plt.title(stressor)"
   ]
  },
  {
   "cell_type": "code",
   "execution_count": 12,
   "id": "b0adec19",
   "metadata": {},
   "outputs": [
    {
     "data": {
      "image/png": "[encoded data removed]",
      "text/plain": [
       "<Figure size 432x288 with 1 Axes>"
      ]
     },
     "metadata": {
      "needs_background": "light"
     },
     "output_type": "display_data"
    }
   ],
   "source": [
    "nsamp_bioprojects(\"Heat\",tpm)"
   ]
  },
  {
   "cell_type": "code",
   "execution_count": 13,
   "id": "fbdb9301",
   "metadata": {},
   "outputs": [
    {
     "data": {
      "image/png": "[encoded data removed]",
      "text/plain": [
       "<Figure size 432x288 with 1 Axes>"
      ]
     },
     "metadata": {
      "needs_background": "light"
     },
     "output_type": "display_data"
    }
   ],
   "source": [
    "nsamp_bioprojects(\"Cold\",tpm)"
   ]
  },
  {
   "cell_type": "code",
   "execution_count": 14,
   "id": "9423c0d9",
   "metadata": {},
   "outputs": [
    {
     "data": {
      "image/png": "[encoded data removed]",
      "text/plain": [
       "<Figure size 432x288 with 1 Axes>"
      ]
     },
     "metadata": {
      "needs_background": "light"
     },
     "output_type": "display_data"
    }
   ],
   "source": [
    "nsamp_bioprojects(\"Drought\",tpm)"
   ]
  },
  {
   "cell_type": "code",
   "execution_count": 15,
   "id": "3716f9a9",
   "metadata": {},
   "outputs": [
    {
     "data": {
      "image/png": "[encoded data removed]",
      "text/plain": [
       "<Figure size 432x288 with 1 Axes>"
      ]
     },
     "metadata": {
      "needs_background": "light"
     },
     "output_type": "display_data"
    }
   ],
   "source": [
    "nsamp_bioprojects(\"Flooding\",tpm)"
   ]
  },
  {
   "cell_type": "code",
   "execution_count": 16,
   "id": "14d35f66",
   "metadata": {},
   "outputs": [
    {
     "data": {
      "image/png": "[encoded data removed]",
      "text/plain": [
       "<Figure size 432x288 with 1 Axes>"
      ]
     },
     "metadata": {
      "needs_background": "light"
     },
     "output_type": "display_data"
    }
   ],
   "source": [
    "nsamp_bioprojects(\"Salt\",tpm)"
   ]
  },
  {
   "cell_type": "code",
   "execution_count": 17,
   "id": "2e4fa277",
   "metadata": {},
   "outputs": [
    {
     "data": {
      "image/png": "[encoded data removed]",
      "text/plain": [
       "<Figure size 432x288 with 1 Axes>"
      ]
     },
     "metadata": {
      "needs_background": "light"
     },
     "output_type": "display_data"
    }
   ],
   "source": [
    "nsamp_bioprojects(\"Low_Nitrogen\",tpm)"
   ]
  },
  {
   "cell_type": "code",
   "execution_count": 37,
   "id": "cab27b2d",
   "metadata": {},
   "outputs": [],
   "source": [
    "# make similar plots for percentage instead of number of samples\n",
    "def percent_bioprojects(stressor,tpmdf):\n",
    "    # subset to the specified stressor\n",
    "    df = tpmdf[tpmdf[\"Treatment\"]==stressor]\n",
    "    bp = df[\"BioProject\"].unique()\n",
    "    nsamp = []\n",
    "    for b in bp:\n",
    "        d = df[df[\"BioProject\"]==b]\n",
    "        nsamp.append(len(d[\"Sample\"].unique()))\n",
    "    # calculate percentages\n",
    "    pct = [(s/sum(nsamp))*100 for s in nsamp]\n",
    "    # make plot dataframe\n",
    "    plotdf = pd.DataFrame(list(zip(bp,nsamp,pct)),columns=[\"BioProject\",\"N_samples\",\"Percentage\"])\n",
    "    # plot horizontal barplot\n",
    "    plt.barh(plotdf[\"BioProject\"],plotdf[\"Percentage\"])\n",
    "    plt.title(stressor)\n",
    "    return plotdf"
   ]
  },
  {
   "cell_type": "code",
   "execution_count": 20,
   "id": "2c1e035c",
   "metadata": {},
   "outputs": [
    {
     "data": {
      "image/png": "[encoded data removed]",
      "text/plain": [
       "<Figure size 432x288 with 1 Axes>"
      ]
     },
     "metadata": {
      "needs_background": "light"
     },
     "output_type": "display_data"
    }
   ],
   "source": [
    "percent_bioprojects(\"Heat\",tpm)"
   ]
  },
  {
   "cell_type": "code",
   "execution_count": 21,
   "id": "c21f8505",
   "metadata": {},
   "outputs": [
    {
     "data": {
      "image/png": "[encoded data removed]",
      "text/plain": [
       "<Figure size 432x288 with 1 Axes>"
      ]
     },
     "metadata": {
      "needs_background": "light"
     },
     "output_type": "display_data"
    }
   ],
   "source": [
    "percent_bioprojects(\"Cold\",tpm)"
   ]
  },
  {
   "cell_type": "code",
   "execution_count": 22,
   "id": "856c7478",
   "metadata": {},
   "outputs": [
    {
     "data": {
      "image/png": "[encoded data removed]",
      "text/plain": [
       "<Figure size 432x288 with 1 Axes>"
      ]
     },
     "metadata": {
      "needs_background": "light"
     },
     "output_type": "display_data"
    }
   ],
   "source": [
    "percent_bioprojects(\"Drought\",tpm)"
   ]
  },
  {
   "cell_type": "code",
   "execution_count": 23,
   "id": "3dd267f7",
   "metadata": {},
   "outputs": [
    {
     "data": {
      "image/png": "[encoded data removed]",
      "text/plain": [
       "<Figure size 432x288 with 1 Axes>"
      ]
     },
     "metadata": {
      "needs_background": "light"
     },
     "output_type": "display_data"
    }
   ],
   "source": [
    "percent_bioprojects(\"Salt\",tpm)"
   ]
  },
  {
   "cell_type": "code",
   "execution_count": 40,
   "id": "74e605de",
   "metadata": {},
   "outputs": [
    {
     "data": {
      "image/png": "[encoded data removed]",
      "text/plain": [
       "<Figure size 432x288 with 1 Axes>"
      ]
     },
     "metadata": {
      "needs_background": "light"
     },
     "output_type": "display_data"
    }
   ],
   "source": [
    "lnbp = percent_bioprojects(\"Low_Nitrogen\",tpm)"
   ]
  },
  {
   "cell_type": "code",
   "execution_count": 38,
   "id": "af042b2b",
   "metadata": {},
   "outputs": [
    {
     "data": {
      "image/png": "[encoded data removed]",
      "text/plain": [
       "<Figure size 432x288 with 1 Axes>"
      ]
     },
     "metadata": {
      "needs_background": "light"
     },
     "output_type": "display_data"
    }
   ],
   "source": [
    "fbp = percent_bioprojects(\"Flooding\",tpm)"
   ]
  },
  {
   "cell_type": "code",
   "execution_count": 41,
   "id": "407ffd8a",
   "metadata": {},
   "outputs": [
    {
     "data": {
      "text/html": [
       "<div>\n",
       "<style scoped>\n",
       "    .dataframe tbody tr th:only-of-type {\n",
       "        vertical-align: middle;\n",
       "    }\n",
       "\n",
       "    .dataframe tbody tr th {\n",
       "        vertical-align: top;\n",
       "    }\n",
       "\n",
       "    .dataframe thead th {\n",
       "        text-align: right;\n",
       "    }\n",
       "</style>\n",
       "<table border=\"1\" class=\"dataframe\">\n",
       "  <thead>\n",
       "    <tr style=\"text-align: right;\">\n",
       "      <th></th>\n",
       "      <th>BioProject</th>\n",
       "      <th>N_samples</th>\n",
       "      <th>Percentage</th>\n",
       "    </tr>\n",
       "  </thead>\n",
       "  <tbody>\n",
       "    <tr>\n",
       "      <th>0</th>\n",
       "      <td>PRJNA420600</td>\n",
       "      <td>6</td>\n",
       "      <td>7.894737</td>\n",
       "    </tr>\n",
       "    <tr>\n",
       "      <th>1</th>\n",
       "      <td>PRJNA436973</td>\n",
       "      <td>4</td>\n",
       "      <td>5.263158</td>\n",
       "    </tr>\n",
       "    <tr>\n",
       "      <th>2</th>\n",
       "      <td>PRJNA304223</td>\n",
       "      <td>8</td>\n",
       "      <td>10.526316</td>\n",
       "    </tr>\n",
       "    <tr>\n",
       "      <th>3</th>\n",
       "      <td>PRJNA587226</td>\n",
       "      <td>3</td>\n",
       "      <td>3.947368</td>\n",
       "    </tr>\n",
       "    <tr>\n",
       "      <th>4</th>\n",
       "      <td>Brandon_Webster</td>\n",
       "      <td>55</td>\n",
       "      <td>72.368421</td>\n",
       "    </tr>\n",
       "  </tbody>\n",
       "</table>\n",
       "</div>"
      ],
      "text/plain": [
       "        BioProject  N_samples  Percentage\n",
       "0      PRJNA420600          6    7.894737\n",
       "1      PRJNA436973          4    5.263158\n",
       "2      PRJNA304223          8   10.526316\n",
       "3      PRJNA587226          3    3.947368\n",
       "4  Brandon_Webster         55   72.368421"
      ]
     },
     "execution_count": 41,
     "metadata": {},
     "output_type": "execute_result"
    }
   ],
   "source": [
    "lnbp"
   ]
  },
  {
   "cell_type": "code",
   "execution_count": 42,
   "id": "de6bffe6",
   "metadata": {},
   "outputs": [],
   "source": [
    "upperp = 23\n",
    "lowerp = 17"
   ]
  },
  {
   "cell_type": "code",
   "execution_count": 44,
   "id": "734dd983",
   "metadata": {},
   "outputs": [],
   "source": [
    "rbp = random.choice(list(lnbp[\"BioProject\"]))"
   ]
  },
  {
   "cell_type": "code",
   "execution_count": 49,
   "id": "309305bf",
   "metadata": {},
   "outputs": [],
   "source": [
    "p = float(lnbp.loc[lnbp[\"BioProject\"]==rbp,\"Percentage\"])"
   ]
  },
  {
   "cell_type": "code",
   "execution_count": 50,
   "id": "fcc4aea7",
   "metadata": {},
   "outputs": [
    {
     "data": {
      "text/plain": [
       "float"
      ]
     },
     "execution_count": 50,
     "metadata": {},
     "output_type": "execute_result"
    }
   ],
   "source": [
    "type(p)"
   ]
  },
  {
   "cell_type": "code",
   "execution_count": 51,
   "id": "86717bea",
   "metadata": {},
   "outputs": [
    {
     "data": {
      "text/plain": [
       "3.9473684210526314"
      ]
     },
     "execution_count": 51,
     "metadata": {},
     "output_type": "execute_result"
    }
   ],
   "source": [
    "p"
   ]
  },
  {
   "cell_type": "code",
   "execution_count": 52,
   "id": "9f010c05",
   "metadata": {},
   "outputs": [],
   "source": [
    "bplist = []\n",
    "if upperp>p>lowerp:\n",
    "    print(\"correct percentage\")\n",
    "elif p>upperp:\n",
    "    print(\"not correct for any usage\")\n",
    "else:\n",
    "    bplist.append(rbp)"
   ]
  },
  {
   "cell_type": "code",
   "execution_count": 53,
   "id": "2910eb89",
   "metadata": {},
   "outputs": [
    {
     "data": {
      "text/plain": [
       "['PRJNA304223', 'PRJNA436973', 'PRJNA420600', 'Brandon_Webster', 'PRJNA587226']"
      ]
     },
     "execution_count": 53,
     "metadata": {},
     "output_type": "execute_result"
    }
   ],
   "source": [
    "random.sample(list(lnbp[\"BioProject\"]),len(list(lnbp[\"BioProject\"])))"
   ]
  },
  {
   "cell_type": "markdown",
   "id": "e9bfb5c0",
   "metadata": {},
   "source": [
    "Here are the BioProjects I will use as the test sets for each stressor: (should be approx. 20-35% of samples)"
   ]
  },
  {
   "cell_type": "code",
   "execution_count": 26,
   "id": "0f72590c",
   "metadata": {},
   "outputs": [],
   "source": [
    "# make dict\n",
    "bptest = {\"Flooding\":\"PRJNA606824\",\"Low_Nitrogen\":\"PRJNA420600,PRJNA304223\",\"Salt\":\"PRJNA414300\",\n",
    "          \"Drought\":\"PRJNA906711,PRJNA291919\",\"Cold\":\"PRJNA611589,PRJNA877073,PRJNA759701,PRJNA244661\",\n",
    "         \"Heat\":\"PRJNA520822\"}"
   ]
  },
  {
   "cell_type": "code",
   "execution_count": 27,
   "id": "d5dc94c1",
   "metadata": {},
   "outputs": [],
   "source": [
    "# stressor list\n",
    "s = [\"Drought\",\"Heat\",\"Salt\",\"Cold\",\"Flooding\",\"Low_Nitrogen\"]"
   ]
  },
  {
   "cell_type": "code",
   "execution_count": 28,
   "id": "f32a62ff",
   "metadata": {},
   "outputs": [],
   "source": [
    "# make output file of BioProjects\n",
    "with open(\"../../data/peripheral_stress_bioprojects_testing.txt\",\"w+\") as outfile:\n",
    "    for i in s:\n",
    "        outfile.write(bptest[i]+\"\\n\")"
   ]
  },
  {
   "cell_type": "code",
   "execution_count": 55,
   "id": "20668e2f",
   "metadata": {},
   "outputs": [
    {
     "data": {
      "text/plain": [
       "['A', 'B', 'C', 'D']"
      ]
     },
     "execution_count": 55,
     "metadata": {},
     "output_type": "execute_result"
    }
   ],
   "source": [
    "l = [\"A\",\"B\"]\n",
    "d = [\"C\",\"D\"]\n",
    "l+d"
   ]
  },
  {
   "cell_type": "code",
   "execution_count": 109,
   "id": "686b288f",
   "metadata": {},
   "outputs": [],
   "source": [
    "# write a function for the train test split\n",
    "def split_prep_peripheral(c0_bpstr,dataframe,balance=\"Up\"):\n",
    "    \"\"\"\n",
    "    Args:\n",
    "        c0_bpstr = string containing BioProject(s) (delimited with commas if more than one) to hold out for testing for class 0\n",
    "        dataframe = log TPM dataframe with Sample, Label, BioProject, Treatment columns (or Sample as index)\n",
    "        balance = str: \"none\", \"Up\" (downsampling will be done before splitting, outside of this function)\n",
    "    \"\"\"\n",
    "    \n",
    "    # in case Sample isn't already a column, reset the index and rename the column to Sample\n",
    "    if \"Sample\" not in dataframe.columns:\n",
    "        dataframe = dataframe.reset_index().rename(columns={\"index\":\"Sample\"})\n",
    "    # parse the BioProject string for class 0 test set\n",
    "    if \",\" in c0_bpstr:\n",
    "        c0bp = c0_bpstr.split(\",\")\n",
    "    else:\n",
    "        c0bp = [c0_bpstr]\n",
    "    # find what percentage of total samples for class 0 these BioProjects contain\n",
    "    bpsamp = dataframe[dataframe[\"BioProject\"].isin(c0bp)]\n",
    "    if len(bpsamp[\"Treatment\"].unique())>1:\n",
    "        bpsamp = bpsamp[bpsamp[\"Label\"]==0]\n",
    "    nsamp_test = len(bpsamp[\"Sample\"].unique())\n",
    "    nsamp_all = len(dataframe[dataframe[\"Label\"]==0][\"Sample\"].unique())\n",
    "    percent = nsamp_test/nsamp_all\n",
    "    # how many samples in class 1 comprise this percentage of class 1, +/- 5%?\n",
    "    class1 = dataframe[dataframe[\"Label\"]==1]\n",
    "    upperp = percent + 0.02\n",
    "    lowerp = percent - 0.02\n",
    "    print(upperp)\n",
    "    print(lowerp)\n",
    "    # these are our upper and lower bounds of acceptable sample numbers\n",
    "    \n",
    "    # for class 1, set up a dataframe of numbers of samples in each BioProject\n",
    "    bp = []\n",
    "    nsamp = []\n",
    "    pct = []\n",
    "    for b in list(class1[\"BioProject\"].unique()):\n",
    "        bp.append(b)\n",
    "        df = class1[class1[\"BioProject\"]==b]\n",
    "        nsamp.append(len(df[\"Sample\"].unique()))\n",
    "        pct.append(len(df[\"Sample\"].unique())/len(class1[\"Sample\"].unique()))\n",
    "    nsbp = pd.DataFrame(list(zip(bp,nsamp,pct)),columns=[\"BioProject\",\"N_samples\",\"Percentage\"])\n",
    "    \n",
    "    # pick BioProjects for the testing set, the sum of whose samples fall within the acceptable bounds\n",
    "    inlist = random.sample(list(nsbp[\"BioProject\"]),len(list(nsbp[\"BioProject\"])))\n",
    "    bpfortest = []\n",
    "    provisionalbp = []\n",
    "    provisionalpct = []\n",
    "    toohigh = []\n",
    "    for b in inlist:\n",
    "        p = float(nsbp.loc[nsbp[\"BioProject\"]==b,\"Percentage\"])\n",
    "        if len(provisionalbp)==0:\n",
    "            print(len(provisionalbp))\n",
    "            if upperp>p>lowerp:\n",
    "                bpfortest.append(b)\n",
    "                break\n",
    "            elif p<lowerp:\n",
    "                provisionalbp.append(b)\n",
    "                provisionalpct.append(p)\n",
    "            elif p>upperp:\n",
    "                toohigh.append(b)\n",
    "        else:\n",
    "            print(sum(provisionalpct))\n",
    "            if upperp>sum(provisionalpct)+p>lowerp:\n",
    "                provisionalbp.append(b)\n",
    "                bpfortest = provisionalbp\n",
    "                break\n",
    "            elif sum(provisionalpct)+p<lowerp:\n",
    "                provisionalbp.append(b)\n",
    "                provisionalpct.append(p)\n",
    "            elif p>upperp:\n",
    "                toohigh.append(b)\n",
    "    #print(bpfortest)\n",
    "                \n",
    "    # for the future: find what actual percent of the class 1 data the testing BioProjects comprise\n",
    "    tc1 = class1[class1[\"BioProject\"].isin(bpfortest)]\n",
    "    n = len(tc1[\"Sample\"].unique())\n",
    "    pc1 = (n/len(class1[\"Sample\"].unique()))*100\n",
    "    # also save the percentage of the class 0 BioProjects\n",
    "    pc0 = percent*100\n",
    "    \n",
    "    # combine an omnibus list of the BioProjects comprising the test set for both classes\n",
    "    alltestbp = bpfortest+c0bp\n",
    "    \n",
    "    # split test from train data\n",
    "    test = dataframe[dataframe[\"BioProject\"].isin(alltestbp)]\n",
    "    # pull out training data\n",
    "    train = dataframe[~dataframe[\"Sample\"].isin(test[\"Sample\"])]\n",
    "    # for both sets, make Sample the index again\n",
    "    test = test.set_index(\"Sample\")\n",
    "    train = train.set_index(\"Sample\")\n",
    "    # drop BioProject and Treatment columns from both sets\n",
    "    test = test.drop([\"BioProject\",\"Treatment\"],axis=1)\n",
    "    train = train.drop([\"BioProject\",\"Treatment\"],axis=1)\n",
    "    # generate X_train, X_test, y_train, and y_test\n",
    "    ## where X = gene expression values and y = class labels\n",
    "    train_X = train.drop(\"Label\",axis=1)\n",
    "    y_train = train[\"Label\"]\n",
    "    test_X = test.drop(\"Label\",axis=1)\n",
    "    y_test = test[\"Label\"]\n",
    "    # if upsampling: do the upsampling using SMOTE\n",
    "    if balance==\"Up\":\n",
    "        sm = SMOTE(random_state=42)\n",
    "        train_X, y_train = sm.fit_resample(train_X,y_train)\n",
    "    # for X_train and X_test: scale data to a z-score\n",
    "    scalar = StandardScaler()\n",
    "    X_train = scalar.fit_transform(train_X)\n",
    "    X_test = scalar.fit_transform(test_X)\n",
    "    # return training and test data as well as percentages (for saving with the hyperparameters later)\n",
    "    return X_train, y_train, X_test, y_test, pc0, pc1"
   ]
  },
  {
   "cell_type": "code",
   "execution_count": 57,
   "id": "0cc4cbb6",
   "metadata": {},
   "outputs": [],
   "source": [
    "def pre_split_transform(raw_tpm,balanced,downsample=False):\n",
    "    \"\"\"\n",
    "    Args:\n",
    "        raw_tpm = dataframe containing raw TPM values, columns for Sample, BioProject, Treatment, Label\n",
    "        balanced = Boolean variable, True or False (result of check_if_balanced())\n",
    "        downsample = Boolean variable, True or False, default False (set manually outside function)\n",
    "    \"\"\"\n",
    "    # if data have treatment column, drop it\n",
    "    #if \"Treatment\" in raw_tpm.columns:\n",
    "    #    raw_tpm = raw_tpm.drop(\"Treatment\",axis=1)\n",
    "    # temporarily, set index to Sample and drop BioProject, Label, & Treatment columns\n",
    "    blt = raw_tpm[[\"Sample\",\"BioProject\",\"Treatment\",\"Label\"]]\n",
    "    tpmi = raw_tpm.set_index(\"Sample\").drop([\"BioProject\",\"Treatment\",\"Label\"],axis=1)\n",
    "    # remove zero-variance genes\n",
    "    vttpm = variance_threshold_selector(tpmi)\n",
    "    # log-transform TPM\n",
    "    vttpm_log = vttpm.apply(lambda x: np.log2(x+1))\n",
    "    # downsample data if needed\n",
    "    if balanced!=True:\n",
    "        if downsample==True:\n",
    "            # add back labels\n",
    "            vttpm_log = blt[[\"Sample\",\"Label\"]].merge(vttpm_log.reset_index().rename(columns={\"index\":\"Sample\"}))\n",
    "            # set Sample as index\n",
    "            vttpm_log = vttpm_log.set_index(\"Sample\")\n",
    "            # downsample the data\n",
    "            vttpm_log = downsample(vttpm_log)\n",
    "    # add treatment, labels, and BioProject back in, set Sample as the index again\n",
    "    labeled = blt.merge(vttpm_log.reset_index().rename(columns={\"index\":\"Sample\"}))\n",
    "    labeled.set_index(\"Sample\",inplace=True)\n",
    "    # drop rows containing NaN values\n",
    "    labeled = labeled.dropna(axis=0)\n",
    "    # return dataframe\n",
    "    return labeled"
   ]
  },
  {
   "cell_type": "code",
   "execution_count": 58,
   "id": "034eae6e",
   "metadata": {},
   "outputs": [],
   "source": [
    "def variance_threshold_selector(data):\n",
    "    selector = VarianceThreshold()\n",
    "    selector.fit(data)\n",
    "    return data[data.columns[selector.get_support(indices=True)]]\n",
    "\n",
    "def check_if_balanced(labeled_tpm):\n",
    "    \"\"\"\n",
    "    Args:\n",
    "        labeled_tpm = raw TPM with columns for Sample, BioProject, Label, Treatment\n",
    "    \"\"\"\n",
    "    if labeled_tpm[\"Label\"].value_counts()[0] == labeled_tpm[\"Label\"].value_counts()[1]:\n",
    "        return True\n",
    "    else:\n",
    "        return False\n",
    "\n",
    "def downsample(dataframe):\n",
    "    \"\"\"\n",
    "    Args:\n",
    "        dataframe = a log TPM dataframe with a Label column and Sample set as the index\n",
    "    \"\"\"\n",
    "    # generate a variable of value counts\n",
    "    vc = dataframe[\"Label\"].value_counts()\n",
    "\n",
    "    # subset data to only samples labeled 1\n",
    "    ones_only = dataframe[dataframe[\"Label\"]==1]\n",
    "\n",
    "    # downsample from the subsetted dataframe\n",
    "    ds = ones_only.sample(n=vc[1],random_state=42)\n",
    "\n",
    "    # subset original data to control samples\n",
    "    zeroes = dataframe[dataframe[\"Label\"]==0]\n",
    "\n",
    "    # concatenate controls and downsampled stress samples\n",
    "    downsampled = pd.concat([ds,zeroes])\n",
    "    # return dataframe\n",
    "    return downsampled"
   ]
  },
  {
   "cell_type": "code",
   "execution_count": 59,
   "id": "4a69de97",
   "metadata": {},
   "outputs": [
    {
     "data": {
      "text/html": [
       "<div>\n",
       "<style scoped>\n",
       "    .dataframe tbody tr th:only-of-type {\n",
       "        vertical-align: middle;\n",
       "    }\n",
       "\n",
       "    .dataframe tbody tr th {\n",
       "        vertical-align: top;\n",
       "    }\n",
       "\n",
       "    .dataframe thead th {\n",
       "        text-align: right;\n",
       "    }\n",
       "</style>\n",
       "<table border=\"1\" class=\"dataframe\">\n",
       "  <thead>\n",
       "    <tr style=\"text-align: right;\">\n",
       "      <th></th>\n",
       "      <th>Sample</th>\n",
       "      <th>BioProject</th>\n",
       "      <th>Treatment</th>\n",
       "      <th>Zm00001eb000010</th>\n",
       "      <th>Zm00001eb000020</th>\n",
       "      <th>Zm00001eb000050</th>\n",
       "      <th>Zm00001eb000060</th>\n",
       "      <th>Zm00001eb000070</th>\n",
       "      <th>Zm00001eb000080</th>\n",
       "      <th>Zm00001eb000100</th>\n",
       "      <th>...</th>\n",
       "      <th>Zm00001eb442820</th>\n",
       "      <th>Zm00001eb442840</th>\n",
       "      <th>Zm00001eb442850</th>\n",
       "      <th>Zm00001eb442870</th>\n",
       "      <th>Zm00001eb442890</th>\n",
       "      <th>Zm00001eb442910</th>\n",
       "      <th>Zm00001eb442960</th>\n",
       "      <th>Zm00001eb442980</th>\n",
       "      <th>Zm00001eb443030</th>\n",
       "      <th>Label</th>\n",
       "    </tr>\n",
       "  </thead>\n",
       "  <tbody>\n",
       "    <tr>\n",
       "      <th>0</th>\n",
       "      <td>SRR11933261</td>\n",
       "      <td>PRJNA637522</td>\n",
       "      <td>Drought</td>\n",
       "      <td>12.553818</td>\n",
       "      <td>2.321077</td>\n",
       "      <td>0.042520</td>\n",
       "      <td>12.932676</td>\n",
       "      <td>5.253755</td>\n",
       "      <td>11.105837</td>\n",
       "      <td>0.409268</td>\n",
       "      <td>...</td>\n",
       "      <td>0.000000</td>\n",
       "      <td>0.0</td>\n",
       "      <td>0.000000</td>\n",
       "      <td>0.0</td>\n",
       "      <td>0.309501</td>\n",
       "      <td>0.0</td>\n",
       "      <td>0.000000</td>\n",
       "      <td>0.0</td>\n",
       "      <td>0.000000</td>\n",
       "      <td>1</td>\n",
       "    </tr>\n",
       "    <tr>\n",
       "      <th>1</th>\n",
       "      <td>SRR11933272</td>\n",
       "      <td>PRJNA637522</td>\n",
       "      <td>Drought</td>\n",
       "      <td>16.255838</td>\n",
       "      <td>3.110372</td>\n",
       "      <td>0.405226</td>\n",
       "      <td>7.214039</td>\n",
       "      <td>1.902461</td>\n",
       "      <td>2.346186</td>\n",
       "      <td>0.170305</td>\n",
       "      <td>...</td>\n",
       "      <td>0.127878</td>\n",
       "      <td>0.0</td>\n",
       "      <td>0.000000</td>\n",
       "      <td>0.0</td>\n",
       "      <td>6.703281</td>\n",
       "      <td>0.0</td>\n",
       "      <td>0.000000</td>\n",
       "      <td>0.0</td>\n",
       "      <td>0.000000</td>\n",
       "      <td>1</td>\n",
       "    </tr>\n",
       "    <tr>\n",
       "      <th>2</th>\n",
       "      <td>SRR11933250</td>\n",
       "      <td>PRJNA637522</td>\n",
       "      <td>Drought</td>\n",
       "      <td>9.028815</td>\n",
       "      <td>2.984479</td>\n",
       "      <td>0.000000</td>\n",
       "      <td>3.092442</td>\n",
       "      <td>2.586555</td>\n",
       "      <td>16.186141</td>\n",
       "      <td>0.000000</td>\n",
       "      <td>...</td>\n",
       "      <td>0.000000</td>\n",
       "      <td>0.0</td>\n",
       "      <td>0.000000</td>\n",
       "      <td>0.0</td>\n",
       "      <td>0.417565</td>\n",
       "      <td>0.0</td>\n",
       "      <td>0.254123</td>\n",
       "      <td>0.0</td>\n",
       "      <td>1.213349</td>\n",
       "      <td>1</td>\n",
       "    </tr>\n",
       "    <tr>\n",
       "      <th>4</th>\n",
       "      <td>SRR11933040</td>\n",
       "      <td>PRJNA637522</td>\n",
       "      <td>Drought</td>\n",
       "      <td>10.371251</td>\n",
       "      <td>2.799099</td>\n",
       "      <td>0.000000</td>\n",
       "      <td>1.280629</td>\n",
       "      <td>3.771234</td>\n",
       "      <td>19.717683</td>\n",
       "      <td>0.143764</td>\n",
       "      <td>...</td>\n",
       "      <td>0.012158</td>\n",
       "      <td>0.0</td>\n",
       "      <td>0.000000</td>\n",
       "      <td>0.0</td>\n",
       "      <td>9.625225</td>\n",
       "      <td>0.0</td>\n",
       "      <td>0.000000</td>\n",
       "      <td>0.0</td>\n",
       "      <td>2.352959</td>\n",
       "      <td>1</td>\n",
       "    </tr>\n",
       "    <tr>\n",
       "      <th>5</th>\n",
       "      <td>SRR11932822</td>\n",
       "      <td>PRJNA637522</td>\n",
       "      <td>Drought</td>\n",
       "      <td>37.430009</td>\n",
       "      <td>27.508819</td>\n",
       "      <td>0.000000</td>\n",
       "      <td>29.510498</td>\n",
       "      <td>7.005587</td>\n",
       "      <td>0.367545</td>\n",
       "      <td>0.314919</td>\n",
       "      <td>...</td>\n",
       "      <td>0.000000</td>\n",
       "      <td>0.0</td>\n",
       "      <td>0.287114</td>\n",
       "      <td>0.0</td>\n",
       "      <td>0.000000</td>\n",
       "      <td>0.0</td>\n",
       "      <td>0.000000</td>\n",
       "      <td>0.0</td>\n",
       "      <td>1.604105</td>\n",
       "      <td>1</td>\n",
       "    </tr>\n",
       "  </tbody>\n",
       "</table>\n",
       "<p>5 rows × 39008 columns</p>\n",
       "</div>"
      ],
      "text/plain": [
       "        Sample   BioProject Treatment  Zm00001eb000010  Zm00001eb000020  \\\n",
       "0  SRR11933261  PRJNA637522   Drought        12.553818         2.321077   \n",
       "1  SRR11933272  PRJNA637522   Drought        16.255838         3.110372   \n",
       "2  SRR11933250  PRJNA637522   Drought         9.028815         2.984479   \n",
       "4  SRR11933040  PRJNA637522   Drought        10.371251         2.799099   \n",
       "5  SRR11932822  PRJNA637522   Drought        37.430009        27.508819   \n",
       "\n",
       "   Zm00001eb000050  Zm00001eb000060  Zm00001eb000070  Zm00001eb000080  \\\n",
       "0         0.042520        12.932676         5.253755        11.105837   \n",
       "1         0.405226         7.214039         1.902461         2.346186   \n",
       "2         0.000000         3.092442         2.586555        16.186141   \n",
       "4         0.000000         1.280629         3.771234        19.717683   \n",
       "5         0.000000        29.510498         7.005587         0.367545   \n",
       "\n",
       "   Zm00001eb000100  ...  Zm00001eb442820  Zm00001eb442840  Zm00001eb442850  \\\n",
       "0         0.409268  ...         0.000000              0.0         0.000000   \n",
       "1         0.170305  ...         0.127878              0.0         0.000000   \n",
       "2         0.000000  ...         0.000000              0.0         0.000000   \n",
       "4         0.143764  ...         0.012158              0.0         0.000000   \n",
       "5         0.314919  ...         0.000000              0.0         0.287114   \n",
       "\n",
       "   Zm00001eb442870  Zm00001eb442890  Zm00001eb442910  Zm00001eb442960  \\\n",
       "0              0.0         0.309501              0.0         0.000000   \n",
       "1              0.0         6.703281              0.0         0.000000   \n",
       "2              0.0         0.417565              0.0         0.254123   \n",
       "4              0.0         9.625225              0.0         0.000000   \n",
       "5              0.0         0.000000              0.0         0.000000   \n",
       "\n",
       "   Zm00001eb442980  Zm00001eb443030  Label  \n",
       "0              0.0         0.000000      1  \n",
       "1              0.0         0.000000      1  \n",
       "2              0.0         1.213349      1  \n",
       "4              0.0         2.352959      1  \n",
       "5              0.0         1.604105      1  \n",
       "\n",
       "[5 rows x 39008 columns]"
      ]
     },
     "execution_count": 59,
     "metadata": {},
     "output_type": "execute_result"
    }
   ],
   "source": [
    "tpm.head()"
   ]
  },
  {
   "cell_type": "code",
   "execution_count": 60,
   "id": "a59c5ff3",
   "metadata": {},
   "outputs": [],
   "source": [
    "sampling = \"Up\"\n",
    "bal = check_if_balanced(tpm)\n",
    "if sampling == \"Down\":\n",
    "    ds = True\n",
    "    us = \"none\"\n",
    "elif sampling == \"Up\":\n",
    "    ds = False\n",
    "    us = \"Up\"\n",
    "else:\n",
    "    ds = False\n",
    "    us = \"none\""
   ]
  },
  {
   "cell_type": "code",
   "execution_count": 64,
   "id": "b69ae9ef",
   "metadata": {},
   "outputs": [],
   "source": [
    "import os\n",
    "import argparse\n",
    "import numpy as np\n",
    "import pandas as pd\n",
    "import random\n",
    "import json\n",
    "import matplotlib.pyplot as plt\n",
    "from sklearn.ensemble import RandomForestClassifier\n",
    "from sklearn.metrics import f1_score, accuracy_score, precision_score, recall_score\n",
    "from sklearn.metrics import roc_curve, roc_auc_score\n",
    "from sklearn.metrics import confusion_matrix\n",
    "from sklearn.model_selection import RandomizedSearchCV\n",
    "from imblearn.over_sampling import SMOTE\n",
    "from sklearn.feature_selection import VarianceThreshold\n",
    "from sklearn.preprocessing import normalize\n",
    "from sklearn.model_selection import cross_val_score\n",
    "from sklearn.model_selection import ShuffleSplit\n",
    "from sklearn.preprocessing import StandardScaler"
   ]
  },
  {
   "cell_type": "code",
   "execution_count": 65,
   "id": "b6cc244e",
   "metadata": {},
   "outputs": [],
   "source": [
    "log_tpm = pre_split_transform(tpm,bal,ds)"
   ]
  },
  {
   "cell_type": "code",
   "execution_count": 110,
   "id": "8f0584b8",
   "metadata": {},
   "outputs": [
    {
     "name": "stdout",
     "output_type": "stream",
     "text": [
      "0.233903743315508\n",
      "0.19390374331550803\n",
      "0\n",
      "0.006085192697768763\n",
      "0.012170385395537525\n",
      "0.018255578093306288\n",
      "0.02231237322515213\n",
      "0.02231237322515213\n",
      "0.12981744421906694\n",
      "0.15415821501014199\n",
      "0.15720081135902636\n",
      "0.16937119675456389\n",
      "0.17748478701825557\n",
      "0.18356997971602435\n",
      "0.18559837728194728\n",
      "0.18559837728194728\n",
      "0.19168356997971603\n"
     ]
    }
   ],
   "source": [
    "X_train, y_train, X_test, y_test, pc0, pc1 = split_prep_peripheral(bptest[\"Heat\"],log_tpm,us)"
   ]
  },
  {
   "cell_type": "code",
   "execution_count": 111,
   "id": "1cd6d817",
   "metadata": {},
   "outputs": [
    {
     "data": {
      "text/plain": [
       "21.390374331550802"
      ]
     },
     "execution_count": 111,
     "metadata": {},
     "output_type": "execute_result"
    }
   ],
   "source": [
    "pc0"
   ]
  },
  {
   "cell_type": "code",
   "execution_count": 112,
   "id": "475eb202",
   "metadata": {},
   "outputs": [
    {
     "data": {
      "text/plain": [
       "20.99391480730223"
      ]
     },
     "execution_count": 112,
     "metadata": {},
     "output_type": "execute_result"
    }
   ],
   "source": [
    "pc1"
   ]
  },
  {
   "cell_type": "code",
   "execution_count": 84,
   "id": "13bdfbe8",
   "metadata": {},
   "outputs": [],
   "source": [
    "provisionalbp = ['PRJNA291919', 'PRJNA689935', 'PRJNA210356', 'PRJNA877073', 'PRJNA290180', 'PRJNA414300', 'PRJNA759701', 'PRJNA686250', 'PRJNA747925', 'PRJNA913846', 'PRJNA606824', 'PRJNA291064', 'PRJNA339768', 'PRJNA379712', 'PRJNA267717', 'PRJNA576545', 'PRJNA172724', 'PRJNA794297', 'PRJNA611589', 'PRJNA587226', 'PRJNA300830', 'PRJNA420600', 'Brandon_Webster', 'PRJNA436973', 'PRJNA378714', 'PRJNA244661', 'PRJNA906711', 'PRJNA687609', 'PRJNA647980', 'PRJNA545969', 'PRJNA304223']"
   ]
  },
  {
   "cell_type": "code",
   "execution_count": 91,
   "id": "c2236f3c",
   "metadata": {},
   "outputs": [],
   "source": [
    "ptpm = log_tpm[log_tpm[\"BioProject\"].isin(provisionalbp)]\n",
    "ptpm = ptpm[ptpm[\"Treatment\"]!=\"Heat\"]"
   ]
  },
  {
   "cell_type": "code",
   "execution_count": 92,
   "id": "47e2297c",
   "metadata": {},
   "outputs": [
    {
     "data": {
      "text/plain": [
       "441"
      ]
     },
     "execution_count": 92,
     "metadata": {},
     "output_type": "execute_result"
    }
   ],
   "source": [
    "len(ptpm.index)"
   ]
  },
  {
   "cell_type": "code",
   "execution_count": 89,
   "id": "3549a6d6",
   "metadata": {},
   "outputs": [],
   "source": [
    "c1 = log_tpm[log_tpm[\"Label\"]==1]"
   ]
  },
  {
   "cell_type": "code",
   "execution_count": 93,
   "id": "03c38792",
   "metadata": {},
   "outputs": [
    {
     "data": {
      "text/plain": [
       "0.44726166328600403"
      ]
     },
     "execution_count": 93,
     "metadata": {},
     "output_type": "execute_result"
    }
   ],
   "source": [
    "len(ptpm.index)/len(c1.index)"
   ]
  },
  {
   "cell_type": "code",
   "execution_count": null,
   "id": "71a54053",
   "metadata": {},
   "outputs": [],
   "source": []
  }
 ],
 "metadata": {
  "kernelspec": {
   "display_name": "Python 3 (ipykernel)",
   "language": "python",
   "name": "python3"
  },
  "language_info": {
   "codemirror_mode": {
    "name": "ipython",
    "version": 3
   },
   "file_extension": ".py",
   "mimetype": "text/x-python",
   "name": "python",
   "nbconvert_exporter": "python",
   "pygments_lexer": "ipython3",
   "version": "3.8.10"
  }
 },
 "nbformat": 4,
 "nbformat_minor": 5
}
