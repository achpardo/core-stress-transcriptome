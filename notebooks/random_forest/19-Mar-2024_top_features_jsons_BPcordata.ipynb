{
 "cells": [
  {
   "cell_type": "markdown",
   "id": "b97a4e41",
   "metadata": {},
   "source": [
    "Purpose: For each stressor model in each dataset (photosynthetic tissues only/\"leaf\" and all tissues/\"all\"), create a JSON file containing the top numbers of features as listed below:\n",
    "- 50\n",
    "- 100\n",
    "- 250\n",
    "- 500\n",
    "- 1000\n",
    "- 1500\n",
    "- 2000\n",
    "- 2500\n",
    "- 3000\n",
    "- 4000\n",
    "- 5000\n",
    "- 6000\n",
    "- 7000\n",
    "- 8000\n",
    "- 10000\n",
    "- 15000\n",
    "<br>\n",
    "\n",
    "Author: Anna Pardo<br>\n",
    "Date initiated: Mar. 19, 2024"
   ]
  },
  {
   "cell_type": "code",
   "execution_count": 3,
   "id": "a0e26e16",
   "metadata": {},
   "outputs": [],
   "source": [
    "import pandas as pd\n",
    "import os\n",
    "import json"
   ]
  },
  {
   "cell_type": "code",
   "execution_count": 1,
   "id": "40824cbc",
   "metadata": {},
   "outputs": [],
   "source": [
    "# make a list of the top feature numbers\n",
    "tfn = [50,100,250,500,1000,1500,2000,2500,3000,4000,5000,6000,7000,8000,10000,15000]"
   ]
  },
  {
   "cell_type": "code",
   "execution_count": 2,
   "id": "1d551a1d",
   "metadata": {},
   "outputs": [],
   "source": [
    "# set top-level directories\n",
    "psynd = \"../../data/RF_outputs_bpcor_psyn/\"\n",
    "alld = \"../../data/06-Mar-2024_RF_BPcor_allsamp/\""
   ]
  },
  {
   "cell_type": "code",
   "execution_count": 8,
   "id": "e66c34d2",
   "metadata": {},
   "outputs": [],
   "source": [
    "# set output directory\n",
    "outdir = \"../../data/ifs_jsons/\""
   ]
  },
  {
   "cell_type": "code",
   "execution_count": 11,
   "id": "941c5fea",
   "metadata": {},
   "outputs": [],
   "source": [
    "for subd in os.listdir(psynd):\n",
    "    path = os.path.join(psynd,subd)\n",
    "    s = subd.split(\"T\")[0]\n",
    "    for f in os.listdir(path):\n",
    "        if f.endswith(\"_sorted.tsv\"):\n",
    "            fi = pd.read_csv(os.path.join(path,f),sep=\"\\t\",header=\"infer\")\n",
    "            # subset to each of the thresholds and build dictionary\n",
    "            threshdict = {}\n",
    "            for t in tfn:\n",
    "                df = fi.head(n=t)\n",
    "                threshdict[t] = list(df[\"GeneID\"])\n",
    "            # save dict as JSON\n",
    "            with open(os.path.join(outdir,s+\"_Feature_Thresholds_Leaf.json\"),\"w+\") as outfile:\n",
    "                json.dump(threshdict,outfile,indent=4)"
   ]
  },
  {
   "cell_type": "code",
   "execution_count": 12,
   "id": "07f67214",
   "metadata": {},
   "outputs": [],
   "source": [
    "for subd in os.listdir(alld):\n",
    "    path = os.path.join(alld,subd)\n",
    "    s = subd.split(\"T\")[0]\n",
    "    for f in os.listdir(path):\n",
    "        if f.endswith(\"_sorted.tsv\"):\n",
    "            fi = pd.read_csv(os.path.join(path,f),sep=\"\\t\",header=\"infer\")\n",
    "            # subset to each of the thresholds and build dictionary\n",
    "            threshdict = {}\n",
    "            for t in tfn:\n",
    "                df = fi.head(n=t)\n",
    "                threshdict[t] = list(df[\"GeneID\"])\n",
    "            # save dict as JSON\n",
    "            with open(os.path.join(outdir,s+\"_Feature_Thresholds_AllSamp.json\"),\"w+\") as outfile:\n",
    "                json.dump(threshdict,outfile,indent=4)"
   ]
  },
  {
   "cell_type": "code",
   "execution_count": null,
   "id": "3ed31eb1",
   "metadata": {},
   "outputs": [],
   "source": []
  }
 ],
 "metadata": {
  "kernelspec": {
   "display_name": "Python 3 (ipykernel)",
   "language": "python",
   "name": "python3"
  },
  "language_info": {
   "codemirror_mode": {
    "name": "ipython",
    "version": 3
   },
   "file_extension": ".py",
   "mimetype": "text/x-python",
   "name": "python",
   "nbconvert_exporter": "python",
   "pygments_lexer": "ipython3",
   "version": "3.8.10"
  }
 },
 "nbformat": 4,
 "nbformat_minor": 5
}
