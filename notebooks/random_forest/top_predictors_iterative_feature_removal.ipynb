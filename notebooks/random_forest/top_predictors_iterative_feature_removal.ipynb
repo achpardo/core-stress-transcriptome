{
 "cells": [
  {
   "cell_type": "markdown",
   "id": "00280906",
   "metadata": {},
   "source": [
    "Purpose: Set a threshold for extraction of top predictors via iterative feature removal and re-running of random forest (genes-as-features) for each stressor. Following this, extract top predictors using determined set sizes and find overlap.<br>\n",
    "Author: Anna Pardo<br>\n",
    "Date initiated: August 10, 2023"
   ]
  },
  {
   "cell_type": "code",
   "execution_count": 1,
   "id": "2f8e634e",
   "metadata": {},
   "outputs": [],
   "source": [
    "# load modules\n",
    "import pandas as pd\n",
    "import statistics\n",
    "import scipy.stats as stats\n",
    "import matplotlib.pyplot as plt\n",
    "import os\n",
    "from sklearn.ensemble import RandomForestClassifier\n",
    "import numpy as np\n",
    "from sklearn.metrics import classification_report, accuracy_score\n",
    "from sklearn.metrics import roc_curve, roc_auc_score\n",
    "from sklearn.metrics import confusion_matrix\n",
    "from imblearn.over_sampling import SMOTE\n",
    "from sklearn.feature_selection import VarianceThreshold\n",
    "from sklearn.preprocessing import normalize\n",
    "from sklearn.model_selection import cross_val_score\n",
    "from sklearn.model_selection import ShuffleSplit\n",
    "from sklearn.preprocessing import StandardScaler\n",
    "import json\n",
    "from sklearn.metrics import f1_score"
   ]
  },
  {
   "cell_type": "code",
   "execution_count": 5,
   "id": "7f2d18a3",
   "metadata": {},
   "outputs": [],
   "source": [
    "def load_clean_data(path_to_tpm):\n",
    "    \"\"\"\n",
    "    Args:\n",
    "        path_to_tpm = full path to file containing raw TPM, columns for Sample, BioProject, & Treatment\n",
    "        single_stress = a single stressor to which the data must be subsetted, or \"none\" (default)\n",
    "    \"\"\"\n",
    "    # load the TPM data\n",
    "    raw_tpm = pd.read_csv(path_to_tpm,sep=\"\\t\",header=\"infer\")\n",
    "    # replace DroughtRepeat with Drought\n",
    "    raw_tpm[\"Treatment\"].mask(raw_tpm[\"Treatment\"]==\"DroughtRepeat\",\"Drought\",inplace=True)\n",
    "    # labeling: set Control to 0 and stressors to 1-6\n",
    "    proxy = []\n",
    "    for i in range(len(raw_tpm.index)):\n",
    "        if raw_tpm.iloc[i,raw_tpm.columns.get_loc(\"Treatment\")] == \"Control\":\n",
    "            proxy.append(0)\n",
    "        else:\n",
    "            proxy.append(1)\n",
    "    raw_tpm[\"Label\"] = proxy\n",
    "    # return the dataframe\n",
    "    return raw_tpm"
   ]
  },
  {
   "cell_type": "code",
   "execution_count": 7,
   "id": "154a109e",
   "metadata": {},
   "outputs": [],
   "source": [
    "def variance_threshold_selector(data):\n",
    "    selector = VarianceThreshold()\n",
    "    selector.fit(data)\n",
    "    return data[data.columns[selector.get_support(indices=True)]]"
   ]
  },
  {
   "cell_type": "code",
   "execution_count": 8,
   "id": "b99712d0",
   "metadata": {},
   "outputs": [],
   "source": [
    "def downsample(dataframe):\n",
    "    \"\"\"\n",
    "    Args:\n",
    "        dataframe = a log TPM dataframe with a Label column and Sample set as the index\n",
    "    \"\"\"\n",
    "    # generate a variable of value counts\n",
    "    vc = dataframe[\"Label\"].value_counts()\n",
    "\n",
    "    # subset data to only samples labeled 1\n",
    "    ones_only = dataframe[dataframe[\"Label\"]==1]\n",
    "\n",
    "    # downsample from the subsetted dataframe\n",
    "    ds = ones_only.sample(n=vc[1],random_state=42)\n",
    "\n",
    "    # subset original data to control samples\n",
    "    zeroes = dataframe[dataframe[\"Label\"]==0]\n",
    "\n",
    "    # concatenate controls and downsampled stress samples\n",
    "    downsampled = pd.concat([ds,zeroes])\n",
    "    # return dataframe\n",
    "    return downsampled"
   ]
  },
  {
   "cell_type": "code",
   "execution_count": 9,
   "id": "8ad65c48",
   "metadata": {},
   "outputs": [],
   "source": [
    "def pre_split_transform(raw_tpm,balanced,downsample=False):\n",
    "    \"\"\"\n",
    "    Args:\n",
    "        raw_tpm = dataframe containing raw TPM values, columns for Sample, BioProject, Treatment, Label\n",
    "        balanced = Boolean variable, True or False (result of check_if_balanced())\n",
    "        downsample = Boolean variable, True or False, default False (set manually outside function)\n",
    "    \"\"\"\n",
    "    # if data have treatment column, drop it\n",
    "    #if \"Treatment\" in raw_tpm.columns:\n",
    "    #    raw_tpm = raw_tpm.drop(\"Treatment\",axis=1)\n",
    "    # temporarily, set index to Sample and drop BioProject, Label, & Treatment columns\n",
    "    blt = raw_tpm[[\"Sample\",\"BioProject\",\"Treatment\",\"Label\"]]\n",
    "    tpmi = raw_tpm.set_index(\"Sample\").drop([\"BioProject\",\"Treatment\",\"Label\"],axis=1)\n",
    "    # remove zero-variance genes\n",
    "    vttpm = variance_threshold_selector(tpmi)\n",
    "    # log-transform TPM\n",
    "    vttpm_log = vttpm.apply(lambda x: np.log2(x+1))\n",
    "    # downsample data if needed\n",
    "    if balanced!=True:\n",
    "        if downsample==True:\n",
    "            # add back labels\n",
    "            vttpm_log = blt[[\"Sample\",\"Label\"]].merge(vttpm_log.reset_index().rename(columns={\"index\":\"Sample\"}))\n",
    "            # set Sample as index\n",
    "            vttpm_log = vttpm_log.set_index(\"Sample\")\n",
    "            # downsample the data\n",
    "            vttpm_log = downsample(vttpm_log)\n",
    "    # add treatment, labels, and BioProject back in, set Sample as the index again\n",
    "    labeled = blt.merge(vttpm_log.reset_index().rename(columns={\"index\":\"Sample\"}))\n",
    "    labeled.set_index(\"Sample\",inplace=True)\n",
    "    # drop rows containing NaN values\n",
    "    labeled = labeled.dropna(axis=0)\n",
    "    # return dataframe\n",
    "    return labeled"
   ]
  },
  {
   "cell_type": "code",
   "execution_count": 12,
   "id": "547914e2",
   "metadata": {},
   "outputs": [],
   "source": [
    "def split_prep_stressor(stressor,dataframe,balance=\"Up\"):\n",
    "    \"\"\"\n",
    "    Args:\n",
    "        stressor = stressor to hold out for testing (all BioProjects)\n",
    "        dataframe = log TPM dataframe with Sample, Label, BioProject, Treatment columns (or Sample as index)\n",
    "        balance = str: \"none\",\"up\" (downsampling will be done before splitting, outside of this function)\n",
    "    \"\"\"\n",
    "    # in case Sample isn't already a column, reset the index and rename the column to Sample\n",
    "    if \"Sample\" not in dataframe.columns:\n",
    "        dataframe = dataframe.reset_index().rename(columns={\"index\":\"Sample\"})\n",
    "    # generate list of unique BioProjects containing the test stressor\n",
    "    sbp = dataframe[dataframe[\"Treatment\"]==stressor][\"BioProject\"].unique()\n",
    "    # split test from train data\n",
    "    test = dataframe[dataframe[\"BioProject\"].isin(sbp)]\n",
    "    test = test[test[\"Treatment\"].isin([stressor,\"Control\"])]\n",
    "    # pull out training data\n",
    "    train = dataframe[~dataframe[\"Sample\"].isin(test[\"Sample\"])]\n",
    "    # for both sets, make Sample the index again\n",
    "    test = test.set_index(\"Sample\")\n",
    "    train = train.set_index(\"Sample\")\n",
    "    # drop BioProject and Treatment columns from both sets\n",
    "    test = test.drop([\"BioProject\",\"Treatment\"],axis=1)\n",
    "    train = train.drop([\"BioProject\",\"Treatment\"],axis=1)\n",
    "    # generate X_train, X_test, y_train, and y_test\n",
    "    ## where X = gene expression values and y = class labels\n",
    "    train_X = train.drop(\"Label\",axis=1)\n",
    "    y_train = train[\"Label\"]\n",
    "    test_X = test.drop(\"Label\",axis=1)\n",
    "    y_test = test[\"Label\"]\n",
    "    # if upsampling: do the upsampling using SMOTE\n",
    "    if balance==\"Up\":\n",
    "        sm = SMOTE(random_state=42)\n",
    "        train_X, y_train = sm.fit_resample(train_X,y_train)\n",
    "    # for X_train and X_test: scale data to a z-score\n",
    "    scalar = StandardScaler()\n",
    "    X_train = scalar.fit_transform(train_X)\n",
    "    X_test = scalar.fit_transform(test_X)\n",
    "    # return training and test data\n",
    "    return X_train, y_train, X_test, y_test"
   ]
  },
  {
   "cell_type": "code",
   "execution_count": 23,
   "id": "a82052d2",
   "metadata": {},
   "outputs": [],
   "source": [
    "# write a function to do the iterative stepwise feature removal and return a dataframe of the accuracy, F1 for each class,\n",
    "## and number of top features included\n",
    "def rf_iterative(stressor,tpmdf,fidf,max_important_features,stepsize,hypdict):\n",
    "    # subset the feature importance dataframe to the top n features, where n=max_important_features (int)\n",
    "    topmax = fidf.head(n=max_important_features)\n",
    "    \n",
    "    # initiate classifier\n",
    "    rfc = RandomForestClassifier(bootstrap=hypdict[\"bootstrap\"],\n",
    "                                ccp_alpha=hypdict[\"ccp_alpha\"],\n",
    "                                class_weight=hypdict[\"class_weight\"],\n",
    "                                criterion=hypdict[\"criterion\"],\n",
    "                                max_depth=hypdict[\"max_depth\"],\n",
    "                                max_features=hypdict[\"max_features\"],\n",
    "                                max_leaf_nodes=hypdict[\"max_leaf_nodes\"],\n",
    "                                max_samples=hypdict[\"max_samples\"],\n",
    "                                min_impurity_decrease=hypdict[\"min_impurity_decrease\"],\n",
    "                                min_samples_leaf=hypdict[\"min_samples_leaf\"],\n",
    "                                min_samples_split=hypdict[\"min_samples_split\"],\n",
    "                                min_weight_fraction_leaf=hypdict[\"min_weight_fraction_leaf\"],\n",
    "                                n_estimators=hypdict[\"n_estimators\"],\n",
    "                                n_jobs=hypdict[\"n_jobs\"],\n",
    "                                oob_score=hypdict[\"oob_score\"],\n",
    "                                random_state=hypdict[\"random_state\"],\n",
    "                                verbose=hypdict[\"verbose\"],\n",
    "                                warm_start=hypdict[\"warm_start\"])\n",
    "    \n",
    "    # run the random forest iteratively, saving the scores each time\n",
    "    setsizes = []\n",
    "    accuracy = []\n",
    "    f1_class0 = []\n",
    "    f1_class1 = []\n",
    "    for i in range(stepsize,max_important_features,stepsize):\n",
    "        # append set size to list\n",
    "        setsizes.append(max_important_features-i)\n",
    "        # pull out the i least important genes\n",
    "        leastgenes = list(topmax.tail(n=i)[\"GeneID\"])\n",
    "        # drop these genes from the TPM dataframe (not yet transformed)\n",
    "        subtpm = tpmdf.drop(leastgenes,axis=1)\n",
    "        # transform the data\n",
    "        transtpm = pre_split_transform(subtpm,False,False)\n",
    "        # split the train and test sets\n",
    "        X_train, y_train, X_test, y_test = split_prep_stressor(stressor,transtpm,\"Up\")\n",
    "        # fit model on training data\n",
    "        rfc.fit(X_train,y_train)\n",
    "        # make predictions on test set\n",
    "        y_pred = rfc.predict(X_test)\n",
    "        # generate scores and save into lists\n",
    "        accuracy.append(accuracy_score(y_test,y_pred))\n",
    "        f1 = list(f1_score(y_test,y_pred,average=None))\n",
    "        f1_class0.append(f1[0])\n",
    "        f1_class1.append(f1[1])\n",
    "    \n",
    "    # stick lists together into a dataframe\n",
    "    setsize_scores = pd.DataFrame(list(zip(setsizes,accuracy,f1_class0,f1_class1)),columns=[\"Set Size\",\"Accuracy\",\"F1 Control\",\n",
    "                                                                                           \"F1 Stressed\"])\n",
    "    return setsize_scores"
   ]
  },
  {
   "cell_type": "code",
   "execution_count": 21,
   "id": "c88671ab",
   "metadata": {},
   "outputs": [
    {
     "data": {
      "text/plain": [
       "['bootstrap',\n",
       " 'ccp_alpha',\n",
       " 'class_weight',\n",
       " 'criterion',\n",
       " 'max_depth',\n",
       " 'max_features',\n",
       " 'max_leaf_nodes',\n",
       " 'max_samples',\n",
       " 'min_impurity_decrease',\n",
       " 'min_samples_leaf',\n",
       " 'min_samples_split',\n",
       " 'min_weight_fraction_leaf',\n",
       " 'n_estimators',\n",
       " 'n_jobs',\n",
       " 'oob_score',\n",
       " 'random_state',\n",
       " 'verbose',\n",
       " 'warm_start']"
      ]
     },
     "execution_count": 21,
     "metadata": {},
     "output_type": "execute_result"
    }
   ],
   "source": [
    "list(coldhyp.keys())"
   ]
  },
  {
   "cell_type": "code",
   "execution_count": 4,
   "id": "5e7dc034",
   "metadata": {},
   "outputs": [],
   "source": [
    "# start with the model for cold\n",
    "# load model hyperparameters\n",
    "coldhyp = json.load(open(\"../../data/rf_outputs/upsample_13-Jul-2023/ColdTest_fixedscript_Up_output/ColdTest_fixedscript_Up_Hyperparameters.json\"))"
   ]
  },
  {
   "cell_type": "code",
   "execution_count": 6,
   "id": "cb5c2552",
   "metadata": {},
   "outputs": [],
   "source": [
    "# load TPM\n",
    "tpm = load_clean_data(\"../../data/rawtpm_bptreat_noPEG.tsv\")"
   ]
  },
  {
   "cell_type": "code",
   "execution_count": 10,
   "id": "9de77d6d",
   "metadata": {},
   "outputs": [],
   "source": [
    "transformed = pre_split_transform(tpm,False,False)"
   ]
  },
  {
   "cell_type": "code",
   "execution_count": 13,
   "id": "904c58e0",
   "metadata": {},
   "outputs": [],
   "source": [
    "X_train, y_train, X_test, y_test = split_prep_stressor(\"Cold\",transformed,\"Up\")"
   ]
  },
  {
   "cell_type": "code",
   "execution_count": 16,
   "id": "2d66dd39",
   "metadata": {},
   "outputs": [],
   "source": [
    "# load feature importance from cold model\n",
    "fi = pd.read_csv(\"../../data/rf_outputs/upsample_13-Jul-2023/ColdTest_fixedscript_Up_output/ColdTest_fixedscript_Up_Feature_Importances_sorted.tsv\",\n",
    "                sep=\"\\t\",header=\"infer\")"
   ]
  },
  {
   "cell_type": "code",
   "execution_count": null,
   "id": "1f233ed7",
   "metadata": {},
   "outputs": [],
   "source": [
    "cold_sets_scores = rf_iterative(\"Cold\",tpm,fi,5000,50,coldhyp)"
   ]
  },
  {
   "cell_type": "code",
   "execution_count": 1,
   "id": "67477d2b",
   "metadata": {},
   "outputs": [],
   "source": [
    "# make txt files of the hyperparameters & feature importances, in the same order as the txt file of stressors\n",
    "stressorlist = [\"Drought\",\"Heat\",\"Salt\",\"Cold\",\"Flooding\",\"Low_Nitrogen\"]"
   ]
  },
  {
   "cell_type": "code",
   "execution_count": 3,
   "id": "a5c0c01e",
   "metadata": {},
   "outputs": [],
   "source": [
    "directory = \"/mnt/research/VanBuren_Lab/02_users/Anna_Haber/core-stress-transcriptome/01_data/core_stress_random_forest/upsample_13-Jul-2023/\""
   ]
  },
  {
   "cell_type": "code",
   "execution_count": 5,
   "id": "754b602d",
   "metadata": {},
   "outputs": [],
   "source": [
    "hyperlist = []\n",
    "filist = []\n",
    "for s in stressorlist:\n",
    "    newdir = directory+s+\"Test_fixedscript_Up_output/\"\n",
    "    filist.append(newdir+s+\"Test_fixedscript_Up_Feature_Importances_sorted.tsv\")\n",
    "    hyperlist.append(newdir+s+\"Test_fixedscript_Up_Hyperparameters.json\")"
   ]
  },
  {
   "cell_type": "code",
   "execution_count": 6,
   "id": "a2e57da1",
   "metadata": {},
   "outputs": [
    {
     "data": {
      "text/plain": [
       "['/mnt/research/VanBuren_Lab/02_users/Anna_Haber/core-stress-transcriptome/01_data/core_stress_random_forest/upsample_13-Jul-2023/DroughtTest_fixedscript_Up_output/DroughtTest_fixedscript_Up_Hyperparameters.json',\n",
       " '/mnt/research/VanBuren_Lab/02_users/Anna_Haber/core-stress-transcriptome/01_data/core_stress_random_forest/upsample_13-Jul-2023/HeatTest_fixedscript_Up_output/HeatTest_fixedscript_Up_Hyperparameters.json',\n",
       " '/mnt/research/VanBuren_Lab/02_users/Anna_Haber/core-stress-transcriptome/01_data/core_stress_random_forest/upsample_13-Jul-2023/SaltTest_fixedscript_Up_output/SaltTest_fixedscript_Up_Hyperparameters.json',\n",
       " '/mnt/research/VanBuren_Lab/02_users/Anna_Haber/core-stress-transcriptome/01_data/core_stress_random_forest/upsample_13-Jul-2023/ColdTest_fixedscript_Up_output/ColdTest_fixedscript_Up_Hyperparameters.json',\n",
       " '/mnt/research/VanBuren_Lab/02_users/Anna_Haber/core-stress-transcriptome/01_data/core_stress_random_forest/upsample_13-Jul-2023/FloodingTest_fixedscript_Up_output/FloodingTest_fixedscript_Up_Hyperparameters.json',\n",
       " '/mnt/research/VanBuren_Lab/02_users/Anna_Haber/core-stress-transcriptome/01_data/core_stress_random_forest/upsample_13-Jul-2023/Low_NitrogenTest_fixedscript_Up_output/Low_NitrogenTest_fixedscript_Up_Hyperparameters.json']"
      ]
     },
     "execution_count": 6,
     "metadata": {},
     "output_type": "execute_result"
    }
   ],
   "source": [
    "hyperlist"
   ]
  },
  {
   "cell_type": "code",
   "execution_count": 7,
   "id": "ce2bae38",
   "metadata": {},
   "outputs": [],
   "source": [
    "with open(\"../../data/hyperparameters_files_list.txt\",\"w+\") as outfile:\n",
    "    for i in hyperlist:\n",
    "        outfile.write(i+\"\\n\")"
   ]
  },
  {
   "cell_type": "code",
   "execution_count": 8,
   "id": "2fcb09b0",
   "metadata": {},
   "outputs": [],
   "source": [
    "with open(\"../../data/feature_importance_files_list.txt\",\"w+\") as outfile:\n",
    "    for i in filist:\n",
    "        outfile.write(i+\"\\n\")"
   ]
  },
  {
   "cell_type": "code",
   "execution_count": 2,
   "id": "0a63634d",
   "metadata": {},
   "outputs": [],
   "source": [
    "# load in results files from running on HPCC\n",
    "flood = pd.read_csv(\"../../data/Flooding_setsize_scores.tsv\",sep=\"\\t\",header=\"infer\")\n",
    "ln = pd.read_csv(\"../../data/Low_Nitrogen_setsize_scores.tsv\",sep=\"\\t\",header=\"infer\")"
   ]
  },
  {
   "cell_type": "code",
   "execution_count": 3,
   "id": "05399377",
   "metadata": {},
   "outputs": [
    {
     "data": {
      "text/html": [
       "<div>\n",
       "<style scoped>\n",
       "    .dataframe tbody tr th:only-of-type {\n",
       "        vertical-align: middle;\n",
       "    }\n",
       "\n",
       "    .dataframe tbody tr th {\n",
       "        vertical-align: top;\n",
       "    }\n",
       "\n",
       "    .dataframe thead th {\n",
       "        text-align: right;\n",
       "    }\n",
       "</style>\n",
       "<table border=\"1\" class=\"dataframe\">\n",
       "  <thead>\n",
       "    <tr style=\"text-align: right;\">\n",
       "      <th></th>\n",
       "      <th>Set Size</th>\n",
       "      <th>Accuracy</th>\n",
       "      <th>F1 Control</th>\n",
       "      <th>F1 Stressed</th>\n",
       "    </tr>\n",
       "  </thead>\n",
       "  <tbody>\n",
       "    <tr>\n",
       "      <th>0</th>\n",
       "      <td>4950</td>\n",
       "      <td>0.304348</td>\n",
       "      <td>0.494118</td>\n",
       "      <td>0.0</td>\n",
       "    </tr>\n",
       "    <tr>\n",
       "      <th>1</th>\n",
       "      <td>4900</td>\n",
       "      <td>0.304348</td>\n",
       "      <td>0.512195</td>\n",
       "      <td>0.0</td>\n",
       "    </tr>\n",
       "    <tr>\n",
       "      <th>2</th>\n",
       "      <td>4850</td>\n",
       "      <td>0.304348</td>\n",
       "      <td>0.512195</td>\n",
       "      <td>0.0</td>\n",
       "    </tr>\n",
       "    <tr>\n",
       "      <th>3</th>\n",
       "      <td>4800</td>\n",
       "      <td>0.304348</td>\n",
       "      <td>0.500000</td>\n",
       "      <td>0.0</td>\n",
       "    </tr>\n",
       "    <tr>\n",
       "      <th>4</th>\n",
       "      <td>4750</td>\n",
       "      <td>0.304348</td>\n",
       "      <td>0.488372</td>\n",
       "      <td>0.0</td>\n",
       "    </tr>\n",
       "  </tbody>\n",
       "</table>\n",
       "</div>"
      ],
      "text/plain": [
       "   Set Size  Accuracy  F1 Control  F1 Stressed\n",
       "0      4950  0.304348    0.494118          0.0\n",
       "1      4900  0.304348    0.512195          0.0\n",
       "2      4850  0.304348    0.512195          0.0\n",
       "3      4800  0.304348    0.500000          0.0\n",
       "4      4750  0.304348    0.488372          0.0"
      ]
     },
     "execution_count": 3,
     "metadata": {},
     "output_type": "execute_result"
    }
   ],
   "source": [
    "flood.head()"
   ]
  },
  {
   "cell_type": "code",
   "execution_count": 7,
   "id": "2208ce90",
   "metadata": {},
   "outputs": [
    {
     "data": {
      "text/plain": [
       "[<matplotlib.lines.Line2D at 0x7f3180ab6df0>]"
      ]
     },
     "execution_count": 7,
     "metadata": {},
     "output_type": "execute_result"
    },
    {
     "data": {
      "image/png": "[encoded data removed]",
      "text/plain": [
       "<Figure size 432x288 with 1 Axes>"
      ]
     },
     "metadata": {
      "needs_background": "light"
     },
     "output_type": "display_data"
    }
   ],
   "source": [
    "# plot accuracy by set size (I hope this is right...)\n",
    "plt.plot(ln[\"Set Size\"],ln[\"Accuracy\"])"
   ]
  },
  {
   "cell_type": "code",
   "execution_count": 8,
   "id": "b52d9b4f",
   "metadata": {},
   "outputs": [
    {
     "data": {
      "text/plain": [
       "0.4630872483221476"
      ]
     },
     "execution_count": 8,
     "metadata": {},
     "output_type": "execute_result"
    }
   ],
   "source": [
    "max(ln[\"Accuracy\"])"
   ]
  },
  {
   "cell_type": "code",
   "execution_count": 9,
   "id": "dfe2b674",
   "metadata": {},
   "outputs": [
    {
     "data": {
      "text/html": [
       "<div>\n",
       "<style scoped>\n",
       "    .dataframe tbody tr th:only-of-type {\n",
       "        vertical-align: middle;\n",
       "    }\n",
       "\n",
       "    .dataframe tbody tr th {\n",
       "        vertical-align: top;\n",
       "    }\n",
       "\n",
       "    .dataframe thead th {\n",
       "        text-align: right;\n",
       "    }\n",
       "</style>\n",
       "<table border=\"1\" class=\"dataframe\">\n",
       "  <thead>\n",
       "    <tr style=\"text-align: right;\">\n",
       "      <th></th>\n",
       "      <th>Set Size</th>\n",
       "      <th>Accuracy</th>\n",
       "      <th>F1 Control</th>\n",
       "      <th>F1 Stressed</th>\n",
       "    </tr>\n",
       "  </thead>\n",
       "  <tbody>\n",
       "    <tr>\n",
       "      <th>28</th>\n",
       "      <td>3550</td>\n",
       "      <td>0.463087</td>\n",
       "      <td>0.693467</td>\n",
       "      <td>0.0</td>\n",
       "    </tr>\n",
       "    <tr>\n",
       "      <th>64</th>\n",
       "      <td>1750</td>\n",
       "      <td>0.463087</td>\n",
       "      <td>0.693467</td>\n",
       "      <td>0.0</td>\n",
       "    </tr>\n",
       "    <tr>\n",
       "      <th>93</th>\n",
       "      <td>300</td>\n",
       "      <td>0.463087</td>\n",
       "      <td>0.690000</td>\n",
       "      <td>0.0</td>\n",
       "    </tr>\n",
       "  </tbody>\n",
       "</table>\n",
       "</div>"
      ],
      "text/plain": [
       "    Set Size  Accuracy  F1 Control  F1 Stressed\n",
       "28      3550  0.463087    0.693467          0.0\n",
       "64      1750  0.463087    0.693467          0.0\n",
       "93       300  0.463087    0.690000          0.0"
      ]
     },
     "execution_count": 9,
     "metadata": {},
     "output_type": "execute_result"
    }
   ],
   "source": [
    "ln[ln[\"Accuracy\"]==max(ln[\"Accuracy\"])]"
   ]
  },
  {
   "cell_type": "code",
   "execution_count": null,
   "id": "c123427a",
   "metadata": {},
   "outputs": [],
   "source": []
  }
 ],
 "metadata": {
  "kernelspec": {
   "display_name": "Python 3 (ipykernel)",
   "language": "python",
   "name": "python3"
  },
  "language_info": {
   "codemirror_mode": {
    "name": "ipython",
    "version": 3
   },
   "file_extension": ".py",
   "mimetype": "text/x-python",
   "name": "python",
   "nbconvert_exporter": "python",
   "pygments_lexer": "ipython3",
   "version": "3.8.10"
  }
 },
 "nbformat": 4,
 "nbformat_minor": 5
}
