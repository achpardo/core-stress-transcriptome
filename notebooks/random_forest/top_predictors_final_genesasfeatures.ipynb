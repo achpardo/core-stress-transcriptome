{
 "cells": [
  {
   "cell_type": "markdown",
   "id": "fe7698fb",
   "metadata": {},
   "source": [
    "Purpose: To extract top predictors from random forest genes-as-features models by top percentage (try 10, 15, and 20 and see how they differ) of feature importance.<br>\n",
    "Author: Anna Pardo<br>\n",
    "Date initiated: Aug. 21, 2023"
   ]
  },
  {
   "cell_type": "code",
   "execution_count": 1,
   "id": "cf72c96f",
   "metadata": {},
   "outputs": [],
   "source": [
    "# load modules\n",
    "import pandas as pd\n",
    "import matplotlib.pyplot as plt\n",
    "import os"
   ]
  },
  {
   "cell_type": "code",
   "execution_count": 2,
   "id": "08c64db6",
   "metadata": {},
   "outputs": [],
   "source": [
    "# load feature importance files\n",
    "## set directory\n",
    "directory = \"../../data/rf_outputs/upsample_13-Jul-2023/\""
   ]
  },
  {
   "cell_type": "code",
   "execution_count": 3,
   "id": "9912a863",
   "metadata": {},
   "outputs": [],
   "source": [
    "# make dictionary of FI dataframes\n",
    "fid = {}\n",
    "for subd in os.listdir(directory):\n",
    "    s = subd.split(\"T\")[0]\n",
    "    for f in os.listdir(directory+subd):\n",
    "        if f.endswith(\"_sorted.tsv\"):\n",
    "            fid[s] = pd.read_csv(directory+subd+\"/\"+f,sep=\"\\t\",header=\"infer\")"
   ]
  },
  {
   "cell_type": "code",
   "execution_count": 4,
   "id": "243506f1",
   "metadata": {},
   "outputs": [
    {
     "data": {
      "text/html": [
       "<div>\n",
       "<style scoped>\n",
       "    .dataframe tbody tr th:only-of-type {\n",
       "        vertical-align: middle;\n",
       "    }\n",
       "\n",
       "    .dataframe tbody tr th {\n",
       "        vertical-align: top;\n",
       "    }\n",
       "\n",
       "    .dataframe thead th {\n",
       "        text-align: right;\n",
       "    }\n",
       "</style>\n",
       "<table border=\"1\" class=\"dataframe\">\n",
       "  <thead>\n",
       "    <tr style=\"text-align: right;\">\n",
       "      <th></th>\n",
       "      <th>GeneID</th>\n",
       "      <th>Feature_Importance</th>\n",
       "    </tr>\n",
       "  </thead>\n",
       "  <tbody>\n",
       "    <tr>\n",
       "      <th>0</th>\n",
       "      <td>Zm00001eb285170</td>\n",
       "      <td>0.004001</td>\n",
       "    </tr>\n",
       "    <tr>\n",
       "      <th>1</th>\n",
       "      <td>Zm00001eb281500</td>\n",
       "      <td>0.003495</td>\n",
       "    </tr>\n",
       "    <tr>\n",
       "      <th>2</th>\n",
       "      <td>Zm00001eb330160</td>\n",
       "      <td>0.003475</td>\n",
       "    </tr>\n",
       "    <tr>\n",
       "      <th>3</th>\n",
       "      <td>Zm00001eb159030</td>\n",
       "      <td>0.002896</td>\n",
       "    </tr>\n",
       "    <tr>\n",
       "      <th>4</th>\n",
       "      <td>Zm00001eb411460</td>\n",
       "      <td>0.002646</td>\n",
       "    </tr>\n",
       "  </tbody>\n",
       "</table>\n",
       "</div>"
      ],
      "text/plain": [
       "            GeneID  Feature_Importance\n",
       "0  Zm00001eb285170            0.004001\n",
       "1  Zm00001eb281500            0.003495\n",
       "2  Zm00001eb330160            0.003475\n",
       "3  Zm00001eb159030            0.002896\n",
       "4  Zm00001eb411460            0.002646"
      ]
     },
     "execution_count": 4,
     "metadata": {},
     "output_type": "execute_result"
    }
   ],
   "source": [
    "fid[\"Cold\"].head()"
   ]
  },
  {
   "cell_type": "code",
   "execution_count": 5,
   "id": "697840e9",
   "metadata": {},
   "outputs": [
    {
     "data": {
      "text/plain": [
       "(array([3.8985e+04, 5.0000e+00, 0.0000e+00, 3.0000e+00, 0.0000e+00,\n",
       "        0.0000e+00, 1.0000e+00, 0.0000e+00, 0.0000e+00, 1.0000e+00]),\n",
       " array([0.        , 0.00872102, 0.01744204, 0.02616306, 0.03488407,\n",
       "        0.04360509, 0.05232611, 0.06104713, 0.06976815, 0.07848917,\n",
       "        0.08721018]),\n",
       " <BarContainer object of 10 artists>)"
      ]
     },
     "execution_count": 5,
     "metadata": {},
     "output_type": "execute_result"
    },
    {
     "data": {
      "image/png": "[encoded data removed]",
      "text/plain": [
       "<Figure size 432x288 with 1 Axes>"
      ]
     },
     "metadata": {
      "needs_background": "light"
     },
     "output_type": "display_data"
    }
   ],
   "source": [
    "# plot histograms of feature importance for each stressor\n",
    "plt.hist(fid[\"Heat\"][\"Feature_Importance\"])"
   ]
  },
  {
   "cell_type": "code",
   "execution_count": 6,
   "id": "63c93d0a",
   "metadata": {},
   "outputs": [],
   "source": [
    "# pull out top 10% of feature importances for each df and see how much overlap there is\n",
    "top10dict = {}\n",
    "for k in fid:\n",
    "    df = fid[k]\n",
    "    threshold = df[\"Feature_Importance\"].quantile(q=0.9)\n",
    "    top10dict[k] = df[df[\"Feature_Importance\"]>=threshold]"
   ]
  },
  {
   "cell_type": "code",
   "execution_count": 7,
   "id": "bb744d20",
   "metadata": {},
   "outputs": [
    {
     "name": "stdout",
     "output_type": "stream",
     "text": [
      "Flooding\n",
      "3900\n",
      "Low_Nitrogen\n",
      "3900\n",
      "Heat\n",
      "3900\n",
      "Drought\n",
      "3900\n",
      "Cold\n",
      "3900\n",
      "Salt\n",
      "3900\n"
     ]
    }
   ],
   "source": [
    "for k in top10dict:\n",
    "    print(k)\n",
    "    print(len(top10dict[k].index))"
   ]
  },
  {
   "cell_type": "code",
   "execution_count": 8,
   "id": "650e5992",
   "metadata": {},
   "outputs": [],
   "source": [
    "# get the set intersection and see what percent of total genes that represents\n",
    "setstop10 = {}\n",
    "for k in top10dict:\n",
    "    setstop10[k] = set(list(top10dict[k][\"GeneID\"]))"
   ]
  },
  {
   "cell_type": "code",
   "execution_count": 9,
   "id": "435d8bdf",
   "metadata": {},
   "outputs": [],
   "source": [
    "# make list of sets for intersecting & uniting\n",
    "setslist = [setstop10[\"Cold\"],setstop10[\"Heat\"],setstop10[\"Flooding\"],setstop10[\"Low_Nitrogen\"],setstop10[\"Drought\"],\n",
    "           setstop10[\"Salt\"]]"
   ]
  },
  {
   "cell_type": "code",
   "execution_count": 10,
   "id": "eed00644",
   "metadata": {},
   "outputs": [],
   "source": [
    "totalgenes = set.union(*setslist)"
   ]
  },
  {
   "cell_type": "code",
   "execution_count": 11,
   "id": "323d5f7e",
   "metadata": {},
   "outputs": [],
   "source": [
    "coregenes = set.intersection(*setslist)"
   ]
  },
  {
   "cell_type": "code",
   "execution_count": 12,
   "id": "932a74be",
   "metadata": {},
   "outputs": [
    {
     "data": {
      "text/plain": [
       "120"
      ]
     },
     "execution_count": 12,
     "metadata": {},
     "output_type": "execute_result"
    }
   ],
   "source": [
    "len(coregenes)"
   ]
  },
  {
   "cell_type": "code",
   "execution_count": 13,
   "id": "380bb2ce",
   "metadata": {},
   "outputs": [
    {
     "data": {
      "text/plain": [
       "13070"
      ]
     },
     "execution_count": 13,
     "metadata": {},
     "output_type": "execute_result"
    }
   ],
   "source": [
    "len(totalgenes)"
   ]
  },
  {
   "cell_type": "code",
   "execution_count": 14,
   "id": "d3c76eb6",
   "metadata": {},
   "outputs": [
    {
     "data": {
      "text/plain": [
       "0.009181331293037491"
      ]
     },
     "execution_count": 14,
     "metadata": {},
     "output_type": "execute_result"
    }
   ],
   "source": [
    "len(coregenes)/len(totalgenes)"
   ]
  },
  {
   "cell_type": "code",
   "execution_count": 15,
   "id": "cabf219f",
   "metadata": {},
   "outputs": [],
   "source": [
    "# repeat with top 15% and 20%\n",
    "def topX(fi_dict,X):\n",
    "    quant = (100-X)/100\n",
    "    topXdict = {}\n",
    "    for k in fid:\n",
    "        df = fid[k]\n",
    "        threshold = df[\"Feature_Importance\"].quantile(q=quant)\n",
    "        topXdict[k] = df[df[\"Feature_Importance\"]>=threshold]\n",
    "        \n",
    "    setstopX = {}\n",
    "    for k in topXdict:\n",
    "        setstopX[k] = set(list(topXdict[k][\"GeneID\"]))\n",
    "        \n",
    "    setslist = [setstopX[\"Cold\"],setstopX[\"Heat\"],setstopX[\"Flooding\"],setstopX[\"Low_Nitrogen\"],setstopX[\"Drought\"],\n",
    "               setstopX[\"Salt\"]]\n",
    "    \n",
    "    totalgenes = set.union(*setslist)\n",
    "    coregenes = set.intersection(*setslist)\n",
    "    \n",
    "    print((len(coregenes)/len(totalgenes))*100)\n",
    "    \n",
    "    return totalgenes, coregenes"
   ]
  },
  {
   "cell_type": "code",
   "execution_count": 16,
   "id": "2a21342a",
   "metadata": {},
   "outputs": [
    {
     "name": "stdout",
     "output_type": "stream",
     "text": [
      "1.276243093922652\n"
     ]
    }
   ],
   "source": [
    "tg15, cg15 = topX(fid,15)"
   ]
  },
  {
   "cell_type": "code",
   "execution_count": 17,
   "id": "cbc1601b",
   "metadata": {},
   "outputs": [
    {
     "name": "stdout",
     "output_type": "stream",
     "text": [
      "1.7958454322090687\n"
     ]
    }
   ],
   "source": [
    "tg20, cg20 = topX(fid,20)"
   ]
  },
  {
   "cell_type": "code",
   "execution_count": 18,
   "id": "46bcb814",
   "metadata": {},
   "outputs": [
    {
     "data": {
      "text/plain": [
       "402"
      ]
     },
     "execution_count": 18,
     "metadata": {},
     "output_type": "execute_result"
    }
   ],
   "source": [
    "len(cg20)"
   ]
  },
  {
   "cell_type": "code",
   "execution_count": 19,
   "id": "de8559d7",
   "metadata": {},
   "outputs": [
    {
     "data": {
      "text/plain": [
       "22385"
      ]
     },
     "execution_count": 19,
     "metadata": {},
     "output_type": "execute_result"
    }
   ],
   "source": [
    "len(tg20)"
   ]
  },
  {
   "cell_type": "code",
   "execution_count": 20,
   "id": "b0ec6f1c",
   "metadata": {},
   "outputs": [
    {
     "data": {
      "text/plain": [
       "231"
      ]
     },
     "execution_count": 20,
     "metadata": {},
     "output_type": "execute_result"
    }
   ],
   "source": [
    "len(cg15)"
   ]
  },
  {
   "cell_type": "code",
   "execution_count": 21,
   "id": "98d7d4e0",
   "metadata": {},
   "outputs": [
    {
     "name": "stdout",
     "output_type": "stream",
     "text": [
      "2.248840803709428\n"
     ]
    }
   ],
   "source": [
    "tg25, cg25 = topX(fid,25)"
   ]
  },
  {
   "cell_type": "code",
   "execution_count": 22,
   "id": "9ba1c019",
   "metadata": {},
   "outputs": [
    {
     "data": {
      "text/plain": [
       "582"
      ]
     },
     "execution_count": 22,
     "metadata": {},
     "output_type": "execute_result"
    }
   ],
   "source": [
    "len(cg25)"
   ]
  },
  {
   "cell_type": "code",
   "execution_count": 23,
   "id": "ce07c0cb",
   "metadata": {},
   "outputs": [],
   "source": [
    "# load the core stress genes that came from set operations\n",
    "cgup = pd.read_csv(\"../../data/core_upgenes_fromsets.txt\",sep=\"\\t\",header=None)\n",
    "cgdown = pd.read_csv(\"../../data/core_downgenes_fromsets.txt\",sep=\"\\t\",header=None)"
   ]
  },
  {
   "cell_type": "code",
   "execution_count": 24,
   "id": "5e4e57a7",
   "metadata": {},
   "outputs": [
    {
     "data": {
      "text/html": [
       "<div>\n",
       "<style scoped>\n",
       "    .dataframe tbody tr th:only-of-type {\n",
       "        vertical-align: middle;\n",
       "    }\n",
       "\n",
       "    .dataframe tbody tr th {\n",
       "        vertical-align: top;\n",
       "    }\n",
       "\n",
       "    .dataframe thead th {\n",
       "        text-align: right;\n",
       "    }\n",
       "</style>\n",
       "<table border=\"1\" class=\"dataframe\">\n",
       "  <thead>\n",
       "    <tr style=\"text-align: right;\">\n",
       "      <th></th>\n",
       "      <th>0</th>\n",
       "    </tr>\n",
       "  </thead>\n",
       "  <tbody>\n",
       "    <tr>\n",
       "      <th>0</th>\n",
       "      <td>Zm00001eb021040</td>\n",
       "    </tr>\n",
       "    <tr>\n",
       "      <th>1</th>\n",
       "      <td>Zm00001eb364390</td>\n",
       "    </tr>\n",
       "    <tr>\n",
       "      <th>2</th>\n",
       "      <td>Zm00001eb096490</td>\n",
       "    </tr>\n",
       "    <tr>\n",
       "      <th>3</th>\n",
       "      <td>Zm00001eb148000</td>\n",
       "    </tr>\n",
       "    <tr>\n",
       "      <th>4</th>\n",
       "      <td>Zm00001eb395440</td>\n",
       "    </tr>\n",
       "  </tbody>\n",
       "</table>\n",
       "</div>"
      ],
      "text/plain": [
       "                 0\n",
       "0  Zm00001eb021040\n",
       "1  Zm00001eb364390\n",
       "2  Zm00001eb096490\n",
       "3  Zm00001eb148000\n",
       "4  Zm00001eb395440"
      ]
     },
     "execution_count": 24,
     "metadata": {},
     "output_type": "execute_result"
    }
   ],
   "source": [
    "cgup.head()"
   ]
  },
  {
   "cell_type": "code",
   "execution_count": 25,
   "id": "8b630597",
   "metadata": {},
   "outputs": [
    {
     "data": {
      "text/plain": [
       "391"
      ]
     },
     "execution_count": 25,
     "metadata": {},
     "output_type": "execute_result"
    }
   ],
   "source": [
    "len(cgup.index)"
   ]
  },
  {
   "cell_type": "code",
   "execution_count": 26,
   "id": "4b27c7e8",
   "metadata": {},
   "outputs": [
    {
     "data": {
      "text/plain": [
       "152"
      ]
     },
     "execution_count": 26,
     "metadata": {},
     "output_type": "execute_result"
    }
   ],
   "source": [
    "len(cgdown.index)"
   ]
  },
  {
   "cell_type": "code",
   "execution_count": 27,
   "id": "22d57b31",
   "metadata": {},
   "outputs": [],
   "source": [
    "cgu = set(list(cgup[0]))\n",
    "cgd = set(list(cgdown[0]))"
   ]
  },
  {
   "cell_type": "code",
   "execution_count": 30,
   "id": "1901e15f",
   "metadata": {},
   "outputs": [
    {
     "data": {
      "text/plain": [
       "537"
      ]
     },
     "execution_count": 30,
     "metadata": {},
     "output_type": "execute_result"
    }
   ],
   "source": [
    "len(cgu.union(cgd))"
   ]
  },
  {
   "cell_type": "code",
   "execution_count": 29,
   "id": "0074ad0f",
   "metadata": {},
   "outputs": [
    {
     "data": {
      "text/plain": [
       "543"
      ]
     },
     "execution_count": 29,
     "metadata": {},
     "output_type": "execute_result"
    }
   ],
   "source": [
    "len(cgu)+len(cgd)"
   ]
  },
  {
   "cell_type": "code",
   "execution_count": 31,
   "id": "e2935991",
   "metadata": {},
   "outputs": [],
   "source": [
    "setcg = cgu.union(cgd)"
   ]
  },
  {
   "cell_type": "code",
   "execution_count": 32,
   "id": "e93be50a",
   "metadata": {},
   "outputs": [
    {
     "data": {
      "text/plain": [
       "45"
      ]
     },
     "execution_count": 32,
     "metadata": {},
     "output_type": "execute_result"
    }
   ],
   "source": [
    "# select the top 20% as the cutoff and check how much intersection there is between the sets from the two methods\n",
    "len(setcg.intersection(cg20))"
   ]
  },
  {
   "cell_type": "code",
   "execution_count": 33,
   "id": "9ad1cfb1",
   "metadata": {},
   "outputs": [
    {
     "data": {
      "text/plain": [
       "22385"
      ]
     },
     "execution_count": 33,
     "metadata": {},
     "output_type": "execute_result"
    }
   ],
   "source": [
    "len(tg20)"
   ]
  },
  {
   "cell_type": "code",
   "execution_count": 34,
   "id": "fb5cc770",
   "metadata": {},
   "outputs": [
    {
     "data": {
      "text/plain": [
       "402"
      ]
     },
     "execution_count": 34,
     "metadata": {},
     "output_type": "execute_result"
    }
   ],
   "source": [
    "len(cg20)"
   ]
  },
  {
   "cell_type": "code",
   "execution_count": 35,
   "id": "8a609a17",
   "metadata": {},
   "outputs": [
    {
     "data": {
      "text/plain": [
       "894"
      ]
     },
     "execution_count": 35,
     "metadata": {},
     "output_type": "execute_result"
    }
   ],
   "source": [
    "len(cg20.union(setcg))"
   ]
  },
  {
   "cell_type": "code",
   "execution_count": 37,
   "id": "e3493109",
   "metadata": {},
   "outputs": [],
   "source": [
    "# save some gene lists\n",
    "with open(\"../../data/union_core_stress_genes.txt\",\"w+\") as outfile:\n",
    "    for i in cg20.union(setcg):\n",
    "        outfile.write(i+\"\\n\")"
   ]
  },
  {
   "cell_type": "code",
   "execution_count": 38,
   "id": "0467db96",
   "metadata": {},
   "outputs": [],
   "source": [
    "with open(\"../../data/core_genes_from_rf.txt\",\"w+\") as outfile:\n",
    "    for i in cg20:\n",
    "        outfile.write(i+\"\\n\")"
   ]
  },
  {
   "cell_type": "code",
   "execution_count": null,
   "id": "f97fb942",
   "metadata": {},
   "outputs": [],
   "source": []
  }
 ],
 "metadata": {
  "kernelspec": {
   "display_name": "Python 3 (ipykernel)",
   "language": "python",
   "name": "python3"
  },
  "language_info": {
   "codemirror_mode": {
    "name": "ipython",
    "version": 3
   },
   "file_extension": ".py",
   "mimetype": "text/x-python",
   "name": "python",
   "nbconvert_exporter": "python",
   "pygments_lexer": "ipython3",
   "version": "3.8.10"
  }
 },
 "nbformat": 4,
 "nbformat_minor": 5
}
