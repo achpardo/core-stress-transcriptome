{
 "cells": [
  {
   "cell_type": "markdown",
   "id": "f499f3ab",
   "metadata": {},
   "source": [
    "Purpose: Pull out top predictors (genes) from random forest results.<br>\n",
    "Author: Anna Pardo<br>\n",
    "Date initiated: July 3, 2023"
   ]
  },
  {
   "cell_type": "code",
   "execution_count": 26,
   "id": "f83f8cb9",
   "metadata": {},
   "outputs": [],
   "source": [
    "# load modules\n",
    "import pandas as pd\n",
    "import statistics\n",
    "import scipy.stats as stats\n",
    "import matplotlib.pyplot as plt"
   ]
  },
  {
   "cell_type": "code",
   "execution_count": 2,
   "id": "52b2a203",
   "metadata": {},
   "outputs": [],
   "source": [
    "# load data: feature importances\n",
    "cfi = pd.read_csv(\"../../data/rf_outputs/ColdTest_Up_Feature_Importances_sorted.tsv\",sep=\"\\t\",header=\"infer\")\n",
    "dfi = pd.read_csv(\"../../data/rf_outputs/DroughtTest_Up_Feature_Importances_sorted.tsv\",sep=\"\\t\",header=\"infer\")\n",
    "ffi = pd.read_csv(\"../../data/rf_outputs/FloodingTest_Up_Feature_Importances_sorted.tsv\",sep=\"\\t\",header=\"infer\")\n",
    "hfi = pd.read_csv(\"../../data/rf_outputs/HeatTest_Up_Feature_Importances_sorted.tsv\",sep=\"\\t\",header=\"infer\")\n",
    "sfi = pd.read_csv(\"../../data/rf_outputs/SaltTest_Up_Feature_Importances_sorted.tsv\",sep=\"\\t\",header=\"infer\")"
   ]
  },
  {
   "cell_type": "code",
   "execution_count": 3,
   "id": "6d1af9b5",
   "metadata": {},
   "outputs": [
    {
     "data": {
      "text/html": [
       "<div>\n",
       "<style scoped>\n",
       "    .dataframe tbody tr th:only-of-type {\n",
       "        vertical-align: middle;\n",
       "    }\n",
       "\n",
       "    .dataframe tbody tr th {\n",
       "        vertical-align: top;\n",
       "    }\n",
       "\n",
       "    .dataframe thead th {\n",
       "        text-align: right;\n",
       "    }\n",
       "</style>\n",
       "<table border=\"1\" class=\"dataframe\">\n",
       "  <thead>\n",
       "    <tr style=\"text-align: right;\">\n",
       "      <th></th>\n",
       "      <th>GeneID</th>\n",
       "      <th>Control</th>\n",
       "      <th>Stressed</th>\n",
       "      <th>log2FoldChange</th>\n",
       "      <th>FoldChange</th>\n",
       "    </tr>\n",
       "  </thead>\n",
       "  <tbody>\n",
       "    <tr>\n",
       "      <th>0</th>\n",
       "      <td>Zm00001eb000010</td>\n",
       "      <td>8.727933</td>\n",
       "      <td>9.924736</td>\n",
       "      <td>0.167393</td>\n",
       "      <td>1.123028</td>\n",
       "    </tr>\n",
       "    <tr>\n",
       "      <th>1</th>\n",
       "      <td>Zm00001eb000020</td>\n",
       "      <td>28.632358</td>\n",
       "      <td>21.016712</td>\n",
       "      <td>-0.428574</td>\n",
       "      <td>0.742996</td>\n",
       "    </tr>\n",
       "    <tr>\n",
       "      <th>2</th>\n",
       "      <td>Zm00001eb000050</td>\n",
       "      <td>0.268449</td>\n",
       "      <td>0.380455</td>\n",
       "      <td>0.122079</td>\n",
       "      <td>1.088302</td>\n",
       "    </tr>\n",
       "    <tr>\n",
       "      <th>3</th>\n",
       "      <td>Zm00001eb000060</td>\n",
       "      <td>14.146914</td>\n",
       "      <td>13.191133</td>\n",
       "      <td>-0.094034</td>\n",
       "      <td>0.936899</td>\n",
       "    </tr>\n",
       "    <tr>\n",
       "      <th>4</th>\n",
       "      <td>Zm00001eb000070</td>\n",
       "      <td>1.579068</td>\n",
       "      <td>2.501370</td>\n",
       "      <td>0.441070</td>\n",
       "      <td>1.357611</td>\n",
       "    </tr>\n",
       "  </tbody>\n",
       "</table>\n",
       "</div>"
      ],
      "text/plain": [
       "            GeneID    Control   Stressed  log2FoldChange  FoldChange\n",
       "0  Zm00001eb000010   8.727933   9.924736        0.167393    1.123028\n",
       "1  Zm00001eb000020  28.632358  21.016712       -0.428574    0.742996\n",
       "2  Zm00001eb000050   0.268449   0.380455        0.122079    1.088302\n",
       "3  Zm00001eb000060  14.146914  13.191133       -0.094034    0.936899\n",
       "4  Zm00001eb000070   1.579068   2.501370        0.441070    1.357611"
      ]
     },
     "execution_count": 3,
     "metadata": {},
     "output_type": "execute_result"
    }
   ],
   "source": [
    "# load data: log fold change for stressed vs. control overall\n",
    "lfc = pd.read_csv(\"../../data/log2FoldChange_allStress_meanTPM.tsv\",sep=\"\\t\",header=\"infer\")\n",
    "lfc.head()"
   ]
  },
  {
   "cell_type": "markdown",
   "id": "16d61250",
   "metadata": {},
   "source": [
    "Overall strategy: iterate through different cutoff sizes (top 100 predictors, etc.) and test for enrichment in highly \"DE\" (high absolute value log fold change) genes"
   ]
  },
  {
   "cell_type": "code",
   "execution_count": 4,
   "id": "13549061",
   "metadata": {},
   "outputs": [],
   "source": [
    "# To figure out the method, try with the top 50 genes for cold as the test data (cfi)\n",
    "## pull out the top 50 genes given that the feature importance dataframes are sorted in descending order\n",
    "\n",
    "top50 = cfi.head(n=50)"
   ]
  },
  {
   "cell_type": "code",
   "execution_count": 8,
   "id": "02dad664",
   "metadata": {},
   "outputs": [
    {
     "data": {
      "text/html": [
       "<div>\n",
       "<style scoped>\n",
       "    .dataframe tbody tr th:only-of-type {\n",
       "        vertical-align: middle;\n",
       "    }\n",
       "\n",
       "    .dataframe tbody tr th {\n",
       "        vertical-align: top;\n",
       "    }\n",
       "\n",
       "    .dataframe thead th {\n",
       "        text-align: right;\n",
       "    }\n",
       "</style>\n",
       "<table border=\"1\" class=\"dataframe\">\n",
       "  <thead>\n",
       "    <tr style=\"text-align: right;\">\n",
       "      <th></th>\n",
       "      <th>GeneID</th>\n",
       "      <th>Feature_Importance</th>\n",
       "    </tr>\n",
       "  </thead>\n",
       "  <tbody>\n",
       "    <tr>\n",
       "      <th>0</th>\n",
       "      <td>Zm00001eb330160</td>\n",
       "      <td>0.002918</td>\n",
       "    </tr>\n",
       "    <tr>\n",
       "      <th>1</th>\n",
       "      <td>Zm00001eb419870</td>\n",
       "      <td>0.002859</td>\n",
       "    </tr>\n",
       "    <tr>\n",
       "      <th>2</th>\n",
       "      <td>Zm00001eb397600</td>\n",
       "      <td>0.002799</td>\n",
       "    </tr>\n",
       "    <tr>\n",
       "      <th>3</th>\n",
       "      <td>Zm00001eb388760</td>\n",
       "      <td>0.002546</td>\n",
       "    </tr>\n",
       "    <tr>\n",
       "      <th>4</th>\n",
       "      <td>Zm00001eb351790</td>\n",
       "      <td>0.002522</td>\n",
       "    </tr>\n",
       "  </tbody>\n",
       "</table>\n",
       "</div>"
      ],
      "text/plain": [
       "            GeneID  Feature_Importance\n",
       "0  Zm00001eb330160            0.002918\n",
       "1  Zm00001eb419870            0.002859\n",
       "2  Zm00001eb397600            0.002799\n",
       "3  Zm00001eb388760            0.002546\n",
       "4  Zm00001eb351790            0.002522"
      ]
     },
     "execution_count": 8,
     "metadata": {},
     "output_type": "execute_result"
    }
   ],
   "source": [
    "cfi.head()"
   ]
  },
  {
   "cell_type": "code",
   "execution_count": 5,
   "id": "0d741a33",
   "metadata": {},
   "outputs": [
    {
     "data": {
      "text/html": [
       "<div>\n",
       "<style scoped>\n",
       "    .dataframe tbody tr th:only-of-type {\n",
       "        vertical-align: middle;\n",
       "    }\n",
       "\n",
       "    .dataframe tbody tr th {\n",
       "        vertical-align: top;\n",
       "    }\n",
       "\n",
       "    .dataframe thead th {\n",
       "        text-align: right;\n",
       "    }\n",
       "</style>\n",
       "<table border=\"1\" class=\"dataframe\">\n",
       "  <thead>\n",
       "    <tr style=\"text-align: right;\">\n",
       "      <th></th>\n",
       "      <th>GeneID</th>\n",
       "      <th>Control</th>\n",
       "      <th>Stressed</th>\n",
       "      <th>log2FoldChange</th>\n",
       "      <th>FoldChange</th>\n",
       "      <th>absLFC</th>\n",
       "    </tr>\n",
       "  </thead>\n",
       "  <tbody>\n",
       "    <tr>\n",
       "      <th>0</th>\n",
       "      <td>Zm00001eb000010</td>\n",
       "      <td>8.727933</td>\n",
       "      <td>9.924736</td>\n",
       "      <td>0.167393</td>\n",
       "      <td>1.123028</td>\n",
       "      <td>0.167393</td>\n",
       "    </tr>\n",
       "    <tr>\n",
       "      <th>1</th>\n",
       "      <td>Zm00001eb000020</td>\n",
       "      <td>28.632358</td>\n",
       "      <td>21.016712</td>\n",
       "      <td>-0.428574</td>\n",
       "      <td>0.742996</td>\n",
       "      <td>0.428574</td>\n",
       "    </tr>\n",
       "    <tr>\n",
       "      <th>2</th>\n",
       "      <td>Zm00001eb000050</td>\n",
       "      <td>0.268449</td>\n",
       "      <td>0.380455</td>\n",
       "      <td>0.122079</td>\n",
       "      <td>1.088302</td>\n",
       "      <td>0.122079</td>\n",
       "    </tr>\n",
       "    <tr>\n",
       "      <th>3</th>\n",
       "      <td>Zm00001eb000060</td>\n",
       "      <td>14.146914</td>\n",
       "      <td>13.191133</td>\n",
       "      <td>-0.094034</td>\n",
       "      <td>0.936899</td>\n",
       "      <td>0.094034</td>\n",
       "    </tr>\n",
       "    <tr>\n",
       "      <th>4</th>\n",
       "      <td>Zm00001eb000070</td>\n",
       "      <td>1.579068</td>\n",
       "      <td>2.501370</td>\n",
       "      <td>0.441070</td>\n",
       "      <td>1.357611</td>\n",
       "      <td>0.441070</td>\n",
       "    </tr>\n",
       "  </tbody>\n",
       "</table>\n",
       "</div>"
      ],
      "text/plain": [
       "            GeneID    Control   Stressed  log2FoldChange  FoldChange    absLFC\n",
       "0  Zm00001eb000010   8.727933   9.924736        0.167393    1.123028  0.167393\n",
       "1  Zm00001eb000020  28.632358  21.016712       -0.428574    0.742996  0.428574\n",
       "2  Zm00001eb000050   0.268449   0.380455        0.122079    1.088302  0.122079\n",
       "3  Zm00001eb000060  14.146914  13.191133       -0.094034    0.936899  0.094034\n",
       "4  Zm00001eb000070   1.579068   2.501370        0.441070    1.357611  0.441070"
      ]
     },
     "execution_count": 5,
     "metadata": {},
     "output_type": "execute_result"
    }
   ],
   "source": [
    "# calculate absolute value in the log fold change data\n",
    "lfc[\"absLFC\"] = abs(lfc[\"log2FoldChange\"])\n",
    "lfc.head()"
   ]
  },
  {
   "cell_type": "markdown",
   "id": "9617a449",
   "metadata": {},
   "source": [
    "In order to set up for Fisher's exact test, I need to decide what is the cutoff for a \"high\" log fold change."
   ]
  },
  {
   "cell_type": "code",
   "execution_count": 6,
   "id": "7aaf369c",
   "metadata": {},
   "outputs": [
    {
     "name": "stdout",
     "output_type": "stream",
     "text": [
      "maximum absolute value log fold change:  3.61572986597464\n",
      "minimum absolute value log fold change:  0.0\n",
      "mean absolute value log fold change:  0.19287408281692117\n",
      "median absolute value log fold change:  0.12040564789173219\n"
     ]
    }
   ],
   "source": [
    "# get summary statistics about absolute value of log fold change, overall\n",
    "print(\"maximum absolute value log fold change: \",max(lfc[\"absLFC\"]))\n",
    "print(\"minimum absolute value log fold change: \",min(lfc[\"absLFC\"]))\n",
    "print(\"mean absolute value log fold change: \",sum(lfc[\"absLFC\"])/len(lfc[\"absLFC\"]))\n",
    "print(\"median absolute value log fold change: \",statistics.median(lfc[\"absLFC\"]))"
   ]
  },
  {
   "cell_type": "code",
   "execution_count": 7,
   "id": "c60f156a",
   "metadata": {},
   "outputs": [
    {
     "data": {
      "text/plain": [
       "0.99    1.183755\n",
       "Name: absLFC, dtype: float64"
      ]
     },
     "execution_count": 7,
     "metadata": {},
     "output_type": "execute_result"
    }
   ],
   "source": [
    "# get quartiles\n",
    "lfc[\"absLFC\"].quantile([0.99])"
   ]
  },
  {
   "cell_type": "markdown",
   "id": "8f1adc0c",
   "metadata": {},
   "source": [
    "I will define \"high log change\" as the 99th percentile of absolute value log fold change or above (translates to a log fold change value of 1.183755). This constitutes 1% of genes, or about 390."
   ]
  },
  {
   "cell_type": "code",
   "execution_count": 8,
   "id": "38588fc7",
   "metadata": {},
   "outputs": [],
   "source": [
    "# set high log fold change cutoff value\n",
    "hl = 1.183755"
   ]
  },
  {
   "cell_type": "code",
   "execution_count": 9,
   "id": "c67ccbbc",
   "metadata": {},
   "outputs": [
    {
     "data": {
      "text/html": [
       "<div>\n",
       "<style scoped>\n",
       "    .dataframe tbody tr th:only-of-type {\n",
       "        vertical-align: middle;\n",
       "    }\n",
       "\n",
       "    .dataframe tbody tr th {\n",
       "        vertical-align: top;\n",
       "    }\n",
       "\n",
       "    .dataframe thead th {\n",
       "        text-align: right;\n",
       "    }\n",
       "</style>\n",
       "<table border=\"1\" class=\"dataframe\">\n",
       "  <thead>\n",
       "    <tr style=\"text-align: right;\">\n",
       "      <th></th>\n",
       "      <th>GeneID</th>\n",
       "      <th>Control</th>\n",
       "      <th>Stressed</th>\n",
       "      <th>log2FoldChange</th>\n",
       "      <th>FoldChange</th>\n",
       "      <th>absLFC</th>\n",
       "      <th>LFC_High_Low</th>\n",
       "    </tr>\n",
       "  </thead>\n",
       "  <tbody>\n",
       "    <tr>\n",
       "      <th>0</th>\n",
       "      <td>Zm00001eb000010</td>\n",
       "      <td>8.727933</td>\n",
       "      <td>9.924736</td>\n",
       "      <td>0.167393</td>\n",
       "      <td>1.123028</td>\n",
       "      <td>0.167393</td>\n",
       "      <td>Low</td>\n",
       "    </tr>\n",
       "    <tr>\n",
       "      <th>1</th>\n",
       "      <td>Zm00001eb000020</td>\n",
       "      <td>28.632358</td>\n",
       "      <td>21.016712</td>\n",
       "      <td>-0.428574</td>\n",
       "      <td>0.742996</td>\n",
       "      <td>0.428574</td>\n",
       "      <td>Low</td>\n",
       "    </tr>\n",
       "    <tr>\n",
       "      <th>2</th>\n",
       "      <td>Zm00001eb000050</td>\n",
       "      <td>0.268449</td>\n",
       "      <td>0.380455</td>\n",
       "      <td>0.122079</td>\n",
       "      <td>1.088302</td>\n",
       "      <td>0.122079</td>\n",
       "      <td>Low</td>\n",
       "    </tr>\n",
       "    <tr>\n",
       "      <th>3</th>\n",
       "      <td>Zm00001eb000060</td>\n",
       "      <td>14.146914</td>\n",
       "      <td>13.191133</td>\n",
       "      <td>-0.094034</td>\n",
       "      <td>0.936899</td>\n",
       "      <td>0.094034</td>\n",
       "      <td>Low</td>\n",
       "    </tr>\n",
       "    <tr>\n",
       "      <th>4</th>\n",
       "      <td>Zm00001eb000070</td>\n",
       "      <td>1.579068</td>\n",
       "      <td>2.501370</td>\n",
       "      <td>0.441070</td>\n",
       "      <td>1.357611</td>\n",
       "      <td>0.441070</td>\n",
       "      <td>Low</td>\n",
       "    </tr>\n",
       "  </tbody>\n",
       "</table>\n",
       "</div>"
      ],
      "text/plain": [
       "            GeneID    Control   Stressed  log2FoldChange  FoldChange  \\\n",
       "0  Zm00001eb000010   8.727933   9.924736        0.167393    1.123028   \n",
       "1  Zm00001eb000020  28.632358  21.016712       -0.428574    0.742996   \n",
       "2  Zm00001eb000050   0.268449   0.380455        0.122079    1.088302   \n",
       "3  Zm00001eb000060  14.146914  13.191133       -0.094034    0.936899   \n",
       "4  Zm00001eb000070   1.579068   2.501370        0.441070    1.357611   \n",
       "\n",
       "     absLFC LFC_High_Low  \n",
       "0  0.167393          Low  \n",
       "1  0.428574          Low  \n",
       "2  0.122079          Low  \n",
       "3  0.094034          Low  \n",
       "4  0.441070          Low  "
      ]
     },
     "execution_count": 9,
     "metadata": {},
     "output_type": "execute_result"
    }
   ],
   "source": [
    "# set up a variable to indicate whether LFC is high or low\n",
    "lfchl = []\n",
    "for i in list(lfc[\"absLFC\"]):\n",
    "    if i >= hl:\n",
    "        lfchl.append(\"High\")\n",
    "    else:\n",
    "        lfchl.append(\"Low\")\n",
    "lfc[\"LFC_High_Low\"] = lfchl\n",
    "lfc.head()"
   ]
  },
  {
   "cell_type": "code",
   "execution_count": 10,
   "id": "3ba15140",
   "metadata": {},
   "outputs": [
    {
     "data": {
      "text/html": [
       "<div>\n",
       "<style scoped>\n",
       "    .dataframe tbody tr th:only-of-type {\n",
       "        vertical-align: middle;\n",
       "    }\n",
       "\n",
       "    .dataframe tbody tr th {\n",
       "        vertical-align: top;\n",
       "    }\n",
       "\n",
       "    .dataframe thead th {\n",
       "        text-align: right;\n",
       "    }\n",
       "</style>\n",
       "<table border=\"1\" class=\"dataframe\">\n",
       "  <thead>\n",
       "    <tr style=\"text-align: right;\">\n",
       "      <th></th>\n",
       "      <th>GeneID</th>\n",
       "      <th>Feature_Importance</th>\n",
       "      <th>absLFC</th>\n",
       "      <th>LFC_High_Low</th>\n",
       "    </tr>\n",
       "  </thead>\n",
       "  <tbody>\n",
       "    <tr>\n",
       "      <th>0</th>\n",
       "      <td>Zm00001eb330160</td>\n",
       "      <td>0.002918</td>\n",
       "      <td>1.370069</td>\n",
       "      <td>High</td>\n",
       "    </tr>\n",
       "    <tr>\n",
       "      <th>1</th>\n",
       "      <td>Zm00001eb419870</td>\n",
       "      <td>0.002859</td>\n",
       "      <td>2.371348</td>\n",
       "      <td>High</td>\n",
       "    </tr>\n",
       "    <tr>\n",
       "      <th>2</th>\n",
       "      <td>Zm00001eb397600</td>\n",
       "      <td>0.002799</td>\n",
       "      <td>2.433645</td>\n",
       "      <td>High</td>\n",
       "    </tr>\n",
       "    <tr>\n",
       "      <th>3</th>\n",
       "      <td>Zm00001eb388760</td>\n",
       "      <td>0.002546</td>\n",
       "      <td>0.668850</td>\n",
       "      <td>Low</td>\n",
       "    </tr>\n",
       "    <tr>\n",
       "      <th>4</th>\n",
       "      <td>Zm00001eb351790</td>\n",
       "      <td>0.002522</td>\n",
       "      <td>3.076620</td>\n",
       "      <td>High</td>\n",
       "    </tr>\n",
       "  </tbody>\n",
       "</table>\n",
       "</div>"
      ],
      "text/plain": [
       "            GeneID  Feature_Importance    absLFC LFC_High_Low\n",
       "0  Zm00001eb330160            0.002918  1.370069         High\n",
       "1  Zm00001eb419870            0.002859  2.371348         High\n",
       "2  Zm00001eb397600            0.002799  2.433645         High\n",
       "3  Zm00001eb388760            0.002546  0.668850          Low\n",
       "4  Zm00001eb351790            0.002522  3.076620         High"
      ]
     },
     "execution_count": 10,
     "metadata": {},
     "output_type": "execute_result"
    }
   ],
   "source": [
    "# merge lfc with feature importance data\n",
    "cfi_lfc = cfi.merge(lfc[[\"GeneID\",\"absLFC\",\"LFC_High_Low\"]])\n",
    "cfi_lfc.head()"
   ]
  },
  {
   "cell_type": "code",
   "execution_count": 11,
   "id": "27751227",
   "metadata": {},
   "outputs": [
    {
     "data": {
      "text/html": [
       "<div>\n",
       "<style scoped>\n",
       "    .dataframe tbody tr th:only-of-type {\n",
       "        vertical-align: middle;\n",
       "    }\n",
       "\n",
       "    .dataframe tbody tr th {\n",
       "        vertical-align: top;\n",
       "    }\n",
       "\n",
       "    .dataframe thead th {\n",
       "        text-align: right;\n",
       "    }\n",
       "</style>\n",
       "<table border=\"1\" class=\"dataframe\">\n",
       "  <thead>\n",
       "    <tr style=\"text-align: right;\">\n",
       "      <th></th>\n",
       "      <th>GeneID</th>\n",
       "      <th>Feature_Importance</th>\n",
       "      <th>absLFC</th>\n",
       "      <th>LFC_High_Low</th>\n",
       "      <th>TopBottom</th>\n",
       "    </tr>\n",
       "  </thead>\n",
       "  <tbody>\n",
       "    <tr>\n",
       "      <th>0</th>\n",
       "      <td>Zm00001eb330160</td>\n",
       "      <td>0.002918</td>\n",
       "      <td>1.370069</td>\n",
       "      <td>High</td>\n",
       "      <td>Top</td>\n",
       "    </tr>\n",
       "    <tr>\n",
       "      <th>1</th>\n",
       "      <td>Zm00001eb419870</td>\n",
       "      <td>0.002859</td>\n",
       "      <td>2.371348</td>\n",
       "      <td>High</td>\n",
       "      <td>Top</td>\n",
       "    </tr>\n",
       "    <tr>\n",
       "      <th>2</th>\n",
       "      <td>Zm00001eb397600</td>\n",
       "      <td>0.002799</td>\n",
       "      <td>2.433645</td>\n",
       "      <td>High</td>\n",
       "      <td>Top</td>\n",
       "    </tr>\n",
       "    <tr>\n",
       "      <th>3</th>\n",
       "      <td>Zm00001eb388760</td>\n",
       "      <td>0.002546</td>\n",
       "      <td>0.668850</td>\n",
       "      <td>Low</td>\n",
       "      <td>Top</td>\n",
       "    </tr>\n",
       "    <tr>\n",
       "      <th>4</th>\n",
       "      <td>Zm00001eb351790</td>\n",
       "      <td>0.002522</td>\n",
       "      <td>3.076620</td>\n",
       "      <td>High</td>\n",
       "      <td>Top</td>\n",
       "    </tr>\n",
       "  </tbody>\n",
       "</table>\n",
       "</div>"
      ],
      "text/plain": [
       "            GeneID  Feature_Importance    absLFC LFC_High_Low TopBottom\n",
       "0  Zm00001eb330160            0.002918  1.370069         High       Top\n",
       "1  Zm00001eb419870            0.002859  2.371348         High       Top\n",
       "2  Zm00001eb397600            0.002799  2.433645         High       Top\n",
       "3  Zm00001eb388760            0.002546  0.668850          Low       Top\n",
       "4  Zm00001eb351790            0.002522  3.076620         High       Top"
      ]
     },
     "execution_count": 11,
     "metadata": {},
     "output_type": "execute_result"
    }
   ],
   "source": [
    "# set up a variable saying whether each gene is in the top set or not\n",
    "topset = []\n",
    "for i in cfi_lfc[\"GeneID\"]:\n",
    "    if i in list(top50[\"GeneID\"]):\n",
    "        topset.append(\"Top\")\n",
    "    else:\n",
    "        topset.append(\"Bottom\")\n",
    "cfi_lfc[\"TopBottom\"] = topset\n",
    "cfi_lfc.head()"
   ]
  },
  {
   "cell_type": "code",
   "execution_count": 12,
   "id": "aae0c8d5",
   "metadata": {},
   "outputs": [
    {
     "data": {
      "text/html": [
       "<div>\n",
       "<style scoped>\n",
       "    .dataframe tbody tr th:only-of-type {\n",
       "        vertical-align: middle;\n",
       "    }\n",
       "\n",
       "    .dataframe tbody tr th {\n",
       "        vertical-align: top;\n",
       "    }\n",
       "\n",
       "    .dataframe thead th {\n",
       "        text-align: right;\n",
       "    }\n",
       "</style>\n",
       "<table border=\"1\" class=\"dataframe\">\n",
       "  <thead>\n",
       "    <tr style=\"text-align: right;\">\n",
       "      <th>TopBottom</th>\n",
       "      <th>Bottom</th>\n",
       "      <th>Top</th>\n",
       "    </tr>\n",
       "    <tr>\n",
       "      <th>LFC_High_Low</th>\n",
       "      <th></th>\n",
       "      <th></th>\n",
       "    </tr>\n",
       "  </thead>\n",
       "  <tbody>\n",
       "    <tr>\n",
       "      <th>High</th>\n",
       "      <td>356</td>\n",
       "      <td>35</td>\n",
       "    </tr>\n",
       "    <tr>\n",
       "      <th>Low</th>\n",
       "      <td>38589</td>\n",
       "      <td>15</td>\n",
       "    </tr>\n",
       "  </tbody>\n",
       "</table>\n",
       "</div>"
      ],
      "text/plain": [
       "TopBottom     Bottom  Top\n",
       "LFC_High_Low             \n",
       "High             356   35\n",
       "Low            38589   15"
      ]
     },
     "execution_count": 12,
     "metadata": {},
     "output_type": "execute_result"
    }
   ],
   "source": [
    "# set up the table for Fisher's exact test\n",
    "data = pd.crosstab(index=cfi_lfc[\"LFC_High_Low\"],columns=cfi_lfc[\"TopBottom\"])\n",
    "data"
   ]
  },
  {
   "cell_type": "code",
   "execution_count": 13,
   "id": "19acf744",
   "metadata": {},
   "outputs": [],
   "source": [
    "# run Fisher's exact test\n",
    "odd_ratio, p_value = stats.fisher_exact(data)"
   ]
  },
  {
   "cell_type": "code",
   "execution_count": 14,
   "id": "4a3d7707",
   "metadata": {},
   "outputs": [
    {
     "name": "stdout",
     "output_type": "stream",
     "text": [
      "odd ratio is : 0.003953754400772981\n",
      "p_value is : 4.575943459720068e-59\n"
     ]
    }
   ],
   "source": [
    "print('odd ratio is : ' + str(odd_ratio))\n",
    "print('p_value is : ' + str(p_value))"
   ]
  },
  {
   "cell_type": "markdown",
   "id": "a0040a98",
   "metadata": {},
   "source": [
    "In the above example, the p-value is less than 0.05, indicating that the top 50 genes are significantly enriched in high log fold change under all stressors.<br><br>\n",
    "While this is a good example to show how the code will work, the question remains: what log fold change data should be used? Should it be for all stressors combined, or for each individual stressor? And should we use fold change or log fold change?<br><br>\n",
    "If we use fold change (TN-ratio), it will be consistent with the set operations methods used elsewhere in this project. Is that a good thing, or will it confound methods that are supposed to be independent and redundant?"
   ]
  },
  {
   "cell_type": "code",
   "execution_count": 6,
   "id": "07dcd934",
   "metadata": {},
   "outputs": [],
   "source": [
    "# stepwise by 50 in terms of set size, plot percent overlap among stressors vs. number of overlapping genes\n",
    "## fold change cutoff: less than 0.5 or greater than 2\n",
    "## use fold change for individual stressors\n",
    "\n",
    "# load fold change dataframes for individual stressors\n",
    "cfc = pd.read_csv(\"../../data/log2FoldChange_Cold_meanTPM.tsv\",sep=\"\\t\",header=\"infer\")\n",
    "dfc = pd.read_csv(\"../../data/log2FoldChange_Drought_meanTPM.tsv\",sep=\"\\t\",header=\"infer\")\n",
    "ffc = pd.read_csv(\"../../data/log2FoldChange_Flooding_meanTPM.tsv\",sep=\"\\t\",header=\"infer\")\n",
    "hfc = pd.read_csv(\"../../data/log2FoldChange_Heat_meanTPM.tsv\",sep=\"\\t\",header=\"infer\")\n",
    "sfc = pd.read_csv(\"../../data/log2FoldChange_Salt_meanTPM.tsv\",sep=\"\\t\",header=\"infer\")"
   ]
  },
  {
   "cell_type": "code",
   "execution_count": 7,
   "id": "7550741f",
   "metadata": {},
   "outputs": [
    {
     "data": {
      "text/html": [
       "<div>\n",
       "<style scoped>\n",
       "    .dataframe tbody tr th:only-of-type {\n",
       "        vertical-align: middle;\n",
       "    }\n",
       "\n",
       "    .dataframe tbody tr th {\n",
       "        vertical-align: top;\n",
       "    }\n",
       "\n",
       "    .dataframe thead th {\n",
       "        text-align: right;\n",
       "    }\n",
       "</style>\n",
       "<table border=\"1\" class=\"dataframe\">\n",
       "  <thead>\n",
       "    <tr style=\"text-align: right;\">\n",
       "      <th></th>\n",
       "      <th>GeneID</th>\n",
       "      <th>Cold</th>\n",
       "      <th>Control</th>\n",
       "      <th>log2FoldChange</th>\n",
       "      <th>FoldChange</th>\n",
       "    </tr>\n",
       "  </thead>\n",
       "  <tbody>\n",
       "    <tr>\n",
       "      <th>0</th>\n",
       "      <td>Zm00001eb000010</td>\n",
       "      <td>7.903734</td>\n",
       "      <td>10.680200</td>\n",
       "      <td>-0.391583</td>\n",
       "      <td>0.762293</td>\n",
       "    </tr>\n",
       "    <tr>\n",
       "      <th>1</th>\n",
       "      <td>Zm00001eb000020</td>\n",
       "      <td>70.170136</td>\n",
       "      <td>65.105633</td>\n",
       "      <td>0.106499</td>\n",
       "      <td>1.076612</td>\n",
       "    </tr>\n",
       "    <tr>\n",
       "      <th>2</th>\n",
       "      <td>Zm00001eb000050</td>\n",
       "      <td>0.268680</td>\n",
       "      <td>0.305239</td>\n",
       "      <td>-0.040985</td>\n",
       "      <td>0.971991</td>\n",
       "    </tr>\n",
       "    <tr>\n",
       "      <th>3</th>\n",
       "      <td>Zm00001eb000060</td>\n",
       "      <td>18.077522</td>\n",
       "      <td>22.476354</td>\n",
       "      <td>-0.299335</td>\n",
       "      <td>0.812627</td>\n",
       "    </tr>\n",
       "    <tr>\n",
       "      <th>4</th>\n",
       "      <td>Zm00001eb000070</td>\n",
       "      <td>0.293699</td>\n",
       "      <td>0.373775</td>\n",
       "      <td>-0.086644</td>\n",
       "      <td>0.941711</td>\n",
       "    </tr>\n",
       "  </tbody>\n",
       "</table>\n",
       "</div>"
      ],
      "text/plain": [
       "            GeneID       Cold    Control  log2FoldChange  FoldChange\n",
       "0  Zm00001eb000010   7.903734  10.680200       -0.391583    0.762293\n",
       "1  Zm00001eb000020  70.170136  65.105633        0.106499    1.076612\n",
       "2  Zm00001eb000050   0.268680   0.305239       -0.040985    0.971991\n",
       "3  Zm00001eb000060  18.077522  22.476354       -0.299335    0.812627\n",
       "4  Zm00001eb000070   0.293699   0.373775       -0.086644    0.941711"
      ]
     },
     "execution_count": 7,
     "metadata": {},
     "output_type": "execute_result"
    }
   ],
   "source": [
    "cfc.head()"
   ]
  },
  {
   "cell_type": "code",
   "execution_count": 31,
   "id": "2459a98d",
   "metadata": {},
   "outputs": [
    {
     "data": {
      "text/plain": [
       "2"
      ]
     },
     "execution_count": 31,
     "metadata": {},
     "output_type": "execute_result"
    }
   ],
   "source": [
    "10-2**3"
   ]
  },
  {
   "cell_type": "code",
   "execution_count": 52,
   "id": "7a6d7bb3",
   "metadata": {},
   "outputs": [],
   "source": [
    "# make function for calculating number of overlaps expected by random chance\n",
    "def random_chance_overlaps(n,g,x):\n",
    "    \"\"\"\n",
    "    Args:\n",
    "        n = number of top features selected (i.e. 50, 100, ...)\n",
    "        g = number of genes (union of all selected sets)\n",
    "        x = number of sets (e.g. number of stressors)\n",
    "    \"\"\"\n",
    "    a = 1/g\n",
    "    c = a**x\n",
    "    d = 1-c\n",
    "    rco = n*d\n",
    "    return rco"
   ]
  },
  {
   "cell_type": "code",
   "execution_count": 44,
   "id": "ad310626",
   "metadata": {},
   "outputs": [],
   "source": [
    "# actually don't need to use the fold change right now\n",
    "# write a function to pull out the overlap and percent overlap for the top X genes\n",
    "def get_overlap(n,dfdict):\n",
    "    # make a list of sets of the top n predictors\n",
    "    topn = []\n",
    "    for k in dfdict:\n",
    "        df = dfdict[k].head(n=n)\n",
    "        topn.append(set(list(df[\"GeneID\"])))\n",
    "    # find how many top predictor genes overlap among all stressors\n",
    "    n_overlap = len(set.intersection(*topn))\n",
    "    # find percent overlap\n",
    "    p_overlap = (n_overlap/len(set.union(*topn)))*100\n",
    "    # return the variables\n",
    "    return n_overlap, p_overlap, len(set.union(*topn))"
   ]
  },
  {
   "cell_type": "code",
   "execution_count": 22,
   "id": "cc0c030f",
   "metadata": {},
   "outputs": [],
   "source": [
    "# make dictionary of feature importance dataframes\n",
    "allfi = {\"Cold\":cfi,\"Drought\":dfi,\"Flooding\":ffi,\"Heat\":hfi,\"Salt\":sfi}"
   ]
  },
  {
   "cell_type": "code",
   "execution_count": 53,
   "id": "886df943",
   "metadata": {},
   "outputs": [
    {
     "data": {
      "text/html": [
       "<div>\n",
       "<style scoped>\n",
       "    .dataframe tbody tr th:only-of-type {\n",
       "        vertical-align: middle;\n",
       "    }\n",
       "\n",
       "    .dataframe tbody tr th {\n",
       "        vertical-align: top;\n",
       "    }\n",
       "\n",
       "    .dataframe thead th {\n",
       "        text-align: right;\n",
       "    }\n",
       "</style>\n",
       "<table border=\"1\" class=\"dataframe\">\n",
       "  <thead>\n",
       "    <tr style=\"text-align: right;\">\n",
       "      <th></th>\n",
       "      <th>Set Size</th>\n",
       "      <th>N_Overlap</th>\n",
       "      <th>Percent_Overlap</th>\n",
       "      <th>N_RC_Overlap</th>\n",
       "      <th>Percent_RC_Overlap</th>\n",
       "    </tr>\n",
       "  </thead>\n",
       "  <tbody>\n",
       "    <tr>\n",
       "      <th>0</th>\n",
       "      <td>50</td>\n",
       "      <td>1</td>\n",
       "      <td>0.662252</td>\n",
       "      <td>50.0</td>\n",
       "      <td>33.112583</td>\n",
       "    </tr>\n",
       "    <tr>\n",
       "      <th>1</th>\n",
       "      <td>100</td>\n",
       "      <td>1</td>\n",
       "      <td>0.363636</td>\n",
       "      <td>100.0</td>\n",
       "      <td>36.363636</td>\n",
       "    </tr>\n",
       "    <tr>\n",
       "      <th>2</th>\n",
       "      <td>150</td>\n",
       "      <td>4</td>\n",
       "      <td>1.025641</td>\n",
       "      <td>150.0</td>\n",
       "      <td>38.461538</td>\n",
       "    </tr>\n",
       "    <tr>\n",
       "      <th>3</th>\n",
       "      <td>200</td>\n",
       "      <td>7</td>\n",
       "      <td>1.343570</td>\n",
       "      <td>200.0</td>\n",
       "      <td>38.387716</td>\n",
       "    </tr>\n",
       "    <tr>\n",
       "      <th>4</th>\n",
       "      <td>250</td>\n",
       "      <td>11</td>\n",
       "      <td>1.726845</td>\n",
       "      <td>250.0</td>\n",
       "      <td>39.246468</td>\n",
       "    </tr>\n",
       "  </tbody>\n",
       "</table>\n",
       "</div>"
      ],
      "text/plain": [
       "   Set Size  N_Overlap  Percent_Overlap  N_RC_Overlap  Percent_RC_Overlap\n",
       "0        50          1         0.662252          50.0           33.112583\n",
       "1       100          1         0.363636         100.0           36.363636\n",
       "2       150          4         1.025641         150.0           38.461538\n",
       "3       200          7         1.343570         200.0           38.387716\n",
       "4       250         11         1.726845         250.0           39.246468"
      ]
     },
     "execution_count": 53,
     "metadata": {},
     "output_type": "execute_result"
    }
   ],
   "source": [
    "# iterate through set sizes from 50-1000 with a step size of 50\n",
    "## save the number and percent of overlaps and the set size in a dataframe\n",
    "n_overlap_list = []\n",
    "p_overlap_list = []\n",
    "rc_noverlap_list = []\n",
    "rc_poverlap_list = []\n",
    "setsize_list = []\n",
    "for i in range(50,1050,50):\n",
    "    setsize_list.append(i)\n",
    "    no, po, usize = get_overlap(i,allfi)\n",
    "    n_overlap_list.append(no)\n",
    "    p_overlap_list.append(po)\n",
    "    n_rco = random_chance_overlaps(n=i,g=len(allfi[\"Cold\"].index),x=len(allfi.keys()))\n",
    "    rc_noverlap_list.append(n_rco)\n",
    "    rc_poverlap_list.append((n_rco/usize)*100)\n",
    "iterdf = pd.DataFrame(list(zip(setsize_list,n_overlap_list,p_overlap_list,rc_noverlap_list,rc_poverlap_list)),\n",
    "                      columns=[\"Set Size\",\"N_Overlap\",\"Percent_Overlap\",\"N_RC_Overlap\",\"Percent_RC_Overlap\"])\n",
    "iterdf.head()"
   ]
  },
  {
   "cell_type": "code",
   "execution_count": 54,
   "id": "13cf0b5e",
   "metadata": {},
   "outputs": [
    {
     "data": {
      "text/html": [
       "<div>\n",
       "<style scoped>\n",
       "    .dataframe tbody tr th:only-of-type {\n",
       "        vertical-align: middle;\n",
       "    }\n",
       "\n",
       "    .dataframe tbody tr th {\n",
       "        vertical-align: top;\n",
       "    }\n",
       "\n",
       "    .dataframe thead th {\n",
       "        text-align: right;\n",
       "    }\n",
       "</style>\n",
       "<table border=\"1\" class=\"dataframe\">\n",
       "  <thead>\n",
       "    <tr style=\"text-align: right;\">\n",
       "      <th></th>\n",
       "      <th>Set Size</th>\n",
       "      <th>N_Overlap</th>\n",
       "      <th>Percent_Overlap</th>\n",
       "      <th>N_RC_Overlap</th>\n",
       "      <th>Percent_RC_Overlap</th>\n",
       "    </tr>\n",
       "  </thead>\n",
       "  <tbody>\n",
       "    <tr>\n",
       "      <th>15</th>\n",
       "      <td>800</td>\n",
       "      <td>54</td>\n",
       "      <td>2.706767</td>\n",
       "      <td>800.0</td>\n",
       "      <td>40.100251</td>\n",
       "    </tr>\n",
       "    <tr>\n",
       "      <th>16</th>\n",
       "      <td>850</td>\n",
       "      <td>62</td>\n",
       "      <td>2.905342</td>\n",
       "      <td>850.0</td>\n",
       "      <td>39.831303</td>\n",
       "    </tr>\n",
       "    <tr>\n",
       "      <th>17</th>\n",
       "      <td>900</td>\n",
       "      <td>65</td>\n",
       "      <td>2.860915</td>\n",
       "      <td>900.0</td>\n",
       "      <td>39.612676</td>\n",
       "    </tr>\n",
       "    <tr>\n",
       "      <th>18</th>\n",
       "      <td>950</td>\n",
       "      <td>66</td>\n",
       "      <td>2.727273</td>\n",
       "      <td>950.0</td>\n",
       "      <td>39.256198</td>\n",
       "    </tr>\n",
       "    <tr>\n",
       "      <th>19</th>\n",
       "      <td>1000</td>\n",
       "      <td>68</td>\n",
       "      <td>2.659366</td>\n",
       "      <td>1000.0</td>\n",
       "      <td>39.108330</td>\n",
       "    </tr>\n",
       "  </tbody>\n",
       "</table>\n",
       "</div>"
      ],
      "text/plain": [
       "    Set Size  N_Overlap  Percent_Overlap  N_RC_Overlap  Percent_RC_Overlap\n",
       "15       800         54         2.706767         800.0           40.100251\n",
       "16       850         62         2.905342         850.0           39.831303\n",
       "17       900         65         2.860915         900.0           39.612676\n",
       "18       950         66         2.727273         950.0           39.256198\n",
       "19      1000         68         2.659366        1000.0           39.108330"
      ]
     },
     "execution_count": 54,
     "metadata": {},
     "output_type": "execute_result"
    }
   ],
   "source": [
    "iterdf.tail()"
   ]
  },
  {
   "cell_type": "code",
   "execution_count": 49,
   "id": "932d8c4d",
   "metadata": {},
   "outputs": [
    {
     "data": {
      "text/plain": [
       "38995"
      ]
     },
     "execution_count": 49,
     "metadata": {},
     "output_type": "execute_result"
    }
   ],
   "source": [
    "g = len(allfi[\"Cold\"].index)\n",
    "g"
   ]
  },
  {
   "cell_type": "code",
   "execution_count": 57,
   "id": "251e7147",
   "metadata": {},
   "outputs": [
    {
     "data": {
      "text/plain": [
       "1.1090608543536326e-23"
      ]
     },
     "execution_count": 57,
     "metadata": {},
     "output_type": "execute_result"
    }
   ],
   "source": [
    "(1/g)**5"
   ]
  },
  {
   "cell_type": "code",
   "execution_count": 58,
   "id": "8c581732",
   "metadata": {},
   "outputs": [
    {
     "data": {
      "text/plain": [
       "0.006411078343377357"
      ]
     },
     "execution_count": 58,
     "metadata": {},
     "output_type": "execute_result"
    }
   ],
   "source": [
    "(50*(1/38995))*5"
   ]
  },
  {
   "cell_type": "code",
   "execution_count": 60,
   "id": "9beed797",
   "metadata": {},
   "outputs": [
    {
     "data": {
      "text/plain": [
       "7.038721385343672e-228"
      ]
     },
     "execution_count": 60,
     "metadata": {},
     "output_type": "execute_result"
    }
   ],
   "source": [
    "((1/38995)**50)*(50*5)"
   ]
  },
  {
   "cell_type": "code",
   "execution_count": 36,
   "id": "d14cf4ae",
   "metadata": {},
   "outputs": [
    {
     "data": {
      "text/plain": [
       "Text(0.5, 1.0, 'Set sizes 50-1000, step size 50')"
      ]
     },
     "execution_count": 36,
     "metadata": {},
     "output_type": "execute_result"
    },
    {
     "data": {
      "image/png": "[encoded data removed]",
      "text/plain": [
       "<Figure size 432x288 with 1 Axes>"
      ]
     },
     "metadata": {
      "needs_background": "light"
     },
     "output_type": "display_data"
    }
   ],
   "source": [
    "# plot number of overlapping genes vs. percent of genes that overlapped\n",
    "plt.plot(iterdf[\"N_Overlap\"],iterdf[\"Percent_Overlap\"])\n",
    "plt.xlabel(\"Number of overlapping genes\")\n",
    "plt.ylabel(\"Percent of genes overlapping between stressors\")\n",
    "plt.title(\"Set sizes 50-1000, step size 50\")"
   ]
  },
  {
   "cell_type": "code",
   "execution_count": null,
   "id": "3e18bf5f",
   "metadata": {},
   "outputs": [],
   "source": []
  }
 ],
 "metadata": {
  "kernelspec": {
   "display_name": "Python 3 (ipykernel)",
   "language": "python",
   "name": "python3"
  },
  "language_info": {
   "codemirror_mode": {
    "name": "ipython",
    "version": 3
   },
   "file_extension": ".py",
   "mimetype": "text/x-python",
   "name": "python",
   "nbconvert_exporter": "python",
   "pygments_lexer": "ipython3",
   "version": "3.8.10"
  }
 },
 "nbformat": 4,
 "nbformat_minor": 5
}
