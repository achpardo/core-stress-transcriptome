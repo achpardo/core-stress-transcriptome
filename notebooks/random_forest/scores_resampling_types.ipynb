{
 "cells": [
  {
   "cell_type": "markdown",
   "id": "5b1f8bde",
   "metadata": {},
   "source": [
    "Purpose: Visualize accuracy, F1, & AUC for each stressor with different types of resampling (options: no resampling, control-stressed balancing only, control-stressed balancing after balancing among stressors).<br>\n",
    "Author: Anna Pardo<br>\n",
    "Date initiated: August 1, 2023"
   ]
  },
  {
   "cell_type": "code",
   "execution_count": 23,
   "id": "327c2ab1",
   "metadata": {},
   "outputs": [],
   "source": [
    "# import modules\n",
    "import json\n",
    "import pandas as pd\n",
    "import matplotlib.pyplot as plt\n",
    "import os\n",
    "import seaborn as sns"
   ]
  },
  {
   "cell_type": "code",
   "execution_count": 2,
   "id": "3a213ae7",
   "metadata": {},
   "outputs": [],
   "source": [
    "# set directories\n",
    "dirnr = \"../../data/rf_outputs/\"\n",
    "dircs = dirnr+\"upsample_13-Jul-2023/\"\n",
    "dircsbs = dirnr+\"all_stress_balance_13-Jul-2023/\""
   ]
  },
  {
   "cell_type": "code",
   "execution_count": 6,
   "id": "c09afdaf",
   "metadata": {},
   "outputs": [],
   "source": [
    "# make a dictionary of the directories\n",
    "dirdict = {\"no_resampling\":dirnr,\"ctrl_stress\":dircs,\"among_stress\":dircsbs}"
   ]
  },
  {
   "cell_type": "code",
   "execution_count": 15,
   "id": "c5befdfc",
   "metadata": {},
   "outputs": [],
   "source": [
    "# generate a dictionary of dictionaries of dictionaries\n",
    "masterdict = {}\n",
    "for k in dirdict.keys():\n",
    "    d = dirdict[k]\n",
    "    masterdict[k] = {}\n",
    "    if d == dirnr:\n",
    "        for f in os.listdir(d):\n",
    "            if f.endswith(\"_scores.json\"):\n",
    "                s = f.strip().split(\"Test\")[0]\n",
    "                masterdict[k][s] = json.load(open(d+f))\n",
    "    else:\n",
    "        # iterate through subdirectories\n",
    "        for subd in os.listdir(d):\n",
    "            for f in os.listdir(d+subd):\n",
    "                if f.endswith(\"_scores.json\"):\n",
    "                    s = f.strip().split(\"Test\")[0]\n",
    "                    masterdict[k][s] = json.load(open(d+subd+\"/\"+f))"
   ]
  },
  {
   "cell_type": "code",
   "execution_count": 19,
   "id": "f1f067cc",
   "metadata": {},
   "outputs": [
    {
     "data": {
      "text/plain": [
       "{'no_resampling': {'Cold': {'Accuracy': 0.5316455696202531,\n",
       "   'F1_class_0': 0.24489795918367346,\n",
       "   'F1_class_1': 0.6605504587155964,\n",
       "   'Precision_class_0': 0.8,\n",
       "   'Precision_class_1': 0.5034965034965035,\n",
       "   'Recall_class_0': 0.14457831325301204,\n",
       "   'Recall_class_1': 0.96,\n",
       "   'AUC': 0.6110932619366354},\n",
       "  'Low_Nitrogen': {'Accuracy': 0.5637583892617449,\n",
       "   'F1_class_0': 0.453781512605042,\n",
       "   'F1_class_1': 0.6368715083798883,\n",
       "   'Precision_class_0': 0.5869565217391305,\n",
       "   'Precision_class_1': 0.5533980582524272,\n",
       "   'Recall_class_0': 0.3698630136986301,\n",
       "   'Recall_class_1': 0.75,\n",
       "   'AUC': 0.5901225666906994},\n",
       "  'Flooding': {'Accuracy': 0.6811594202898551,\n",
       "   'F1_class_0': 0.35294117647058826,\n",
       "   'F1_class_1': 0.7884615384615384,\n",
       "   'Precision_class_0': 0.46153846153846156,\n",
       "   'Precision_class_1': 0.7321428571428571,\n",
       "   'Recall_class_0': 0.2857142857142857,\n",
       "   'Recall_class_1': 0.8541666666666666,\n",
       "   'AUC': 0.6577380952380952},\n",
       "  'Salt': {'Accuracy': 0.8571428571428571,\n",
       "   'F1_class_0': 0.8260869565217391,\n",
       "   'F1_class_1': 0.8787878787878788,\n",
       "   'Precision_class_0': 1.0,\n",
       "   'Precision_class_1': 0.7837837837837838,\n",
       "   'Recall_class_0': 0.7037037037037037,\n",
       "   'Recall_class_1': 1.0,\n",
       "   'AUC': 0.9680715197956578},\n",
       "  'Heat': {'Accuracy': 0.43828715365239296,\n",
       "   'F1_class_0': 0.18315018315018317,\n",
       "   'F1_class_1': 0.5719769673704415,\n",
       "   'Precision_class_0': 0.3968253968253968,\n",
       "   'Precision_class_1': 0.44610778443113774,\n",
       "   'Recall_class_0': 0.11904761904761904,\n",
       "   'Recall_class_1': 0.7967914438502673,\n",
       "   'AUC': 0.5391774891774891},\n",
       "  'Drought': {'Accuracy': 0.7497456765005086,\n",
       "   'F1_class_0': 0.6107594936708861,\n",
       "   'F1_class_1': 0.815592203898051,\n",
       "   'Precision_class_0': 0.7568627450980392,\n",
       "   'Precision_class_1': 0.7472527472527473,\n",
       "   'Recall_class_0': 0.5119363395225465,\n",
       "   'Recall_class_1': 0.8976897689768977,\n",
       "   'AUC': 0.8306808134394341}},\n",
       " 'ctrl_stress': {'Flooding': {'Accuracy': 0.5942028985507246,\n",
       "   'F1_class_0': 0.3,\n",
       "   'F1_class_1': 0.7142857142857142,\n",
       "   'Precision_class_0': 0.3157894736842105,\n",
       "   'Precision_class_1': 0.7,\n",
       "   'Recall_class_0': 0.2857142857142857,\n",
       "   'Recall_class_1': 0.7291666666666666,\n",
       "   'AUC': 0.4851190476190476,\n",
       "   'Data Balanced': False,\n",
       "   'Sampling': 'Up'},\n",
       "  'Low_Nitrogen': {'Accuracy': 0.5436241610738255,\n",
       "   'F1_class_0': 0.5211267605633804,\n",
       "   'F1_class_1': 0.5641025641025641,\n",
       "   'Precision_class_0': 0.5362318840579711,\n",
       "   'Precision_class_1': 0.55,\n",
       "   'Recall_class_0': 0.5068493150684932,\n",
       "   'Recall_class_1': 0.5789473684210527,\n",
       "   'AUC': 0.6137346791636626,\n",
       "   'Data Balanced': False,\n",
       "   'Sampling': 'Up'},\n",
       "  'Heat': {'Accuracy': 0.5869017632241813,\n",
       "   'F1_class_0': 0.5614973262032086,\n",
       "   'F1_class_1': 0.6095238095238095,\n",
       "   'Precision_class_0': 0.6402439024390244,\n",
       "   'Precision_class_1': 0.5493562231759657,\n",
       "   'Recall_class_0': 0.5,\n",
       "   'Recall_class_1': 0.6844919786096256,\n",
       "   'AUC': 0.6314871403106698,\n",
       "   'Data Balanced': False,\n",
       "   'Sampling': 'Up'},\n",
       "  'Drought': {'Accuracy': 0.8097660223804679,\n",
       "   'F1_class_0': 0.7653701380175658,\n",
       "   'F1_class_1': 0.8400342172797263,\n",
       "   'Precision_class_0': 0.7261904761904762,\n",
       "   'Precision_class_1': 0.872113676731794,\n",
       "   'Recall_class_0': 0.8090185676392573,\n",
       "   'Recall_class_1': 0.8102310231023102,\n",
       "   'AUC': 0.8459218600905184,\n",
       "   'Data Balanced': False,\n",
       "   'Sampling': 'Up'},\n",
       "  'Cold': {'Accuracy': 0.6476793248945147,\n",
       "   'F1_class_0': 0.5956416464891041,\n",
       "   'F1_class_1': 0.6878504672897195,\n",
       "   'Precision_class_0': 0.75,\n",
       "   'Precision_class_1': 0.5935483870967742,\n",
       "   'Recall_class_0': 0.4939759036144578,\n",
       "   'Recall_class_1': 0.8177777777777778,\n",
       "   'AUC': 0.6702186523873271,\n",
       "   'Data Balanced': False,\n",
       "   'Sampling': 'Up'},\n",
       "  'Salt': {'Accuracy': 0.8392857142857143,\n",
       "   'F1_class_0': 0.8,\n",
       "   'F1_class_1': 0.8656716417910448,\n",
       "   'Precision_class_0': 1.0,\n",
       "   'Precision_class_1': 0.7631578947368421,\n",
       "   'Recall_class_0': 0.6666666666666666,\n",
       "   'Recall_class_1': 1.0,\n",
       "   'AUC': 0.9655172413793104,\n",
       "   'Data Balanced': False,\n",
       "   'Sampling': 'Up'}},\n",
       " 'among_stress': {'Low_Nitrogen': {'Accuracy': 0.5906040268456376,\n",
       "   'F1_class_0': 0.6163522012578616,\n",
       "   'F1_class_1': 0.5611510791366907,\n",
       "   'Precision_class_0': 0.5697674418604651,\n",
       "   'Precision_class_1': 0.6190476190476191,\n",
       "   'Recall_class_0': 0.6712328767123288,\n",
       "   'Recall_class_1': 0.5131578947368421,\n",
       "   'AUC': 0.6166186012977649,\n",
       "   'Sampling': 'median'},\n",
       "  'Drought': {'Accuracy': 0.7269035532994924,\n",
       "   'F1_class_0': 0.5816485225505444,\n",
       "   'F1_class_1': 0.7972871137905049,\n",
       "   'Precision_class_0': 0.7030075187969925,\n",
       "   'Precision_class_1': 0.7357440890125174,\n",
       "   'Recall_class_0': 0.4960212201591512,\n",
       "   'Recall_class_1': 0.8700657894736842,\n",
       "   'AUC': 0.8058490681278794,\n",
       "   'Sampling': 'median'},\n",
       "  'Heat': {'Accuracy': 0.4609571788413098,\n",
       "   'F1_class_0': 0.06140350877192982,\n",
       "   'F1_class_1': 0.6219081272084805,\n",
       "   'Precision_class_0': 0.3888888888888889,\n",
       "   'Precision_class_1': 0.46437994722955145,\n",
       "   'Recall_class_0': 0.03333333333333333,\n",
       "   'Recall_class_1': 0.9411764705882353,\n",
       "   'AUC': 0.4146422205245735,\n",
       "   'Sampling': 'median'},\n",
       "  'Salt': {'Accuracy': 0.8571428571428571,\n",
       "   'F1_class_0': 0.84,\n",
       "   'F1_class_1': 0.8709677419354839,\n",
       "   'Precision_class_0': 0.9130434782608695,\n",
       "   'Precision_class_1': 0.8181818181818182,\n",
       "   'Recall_class_0': 0.7777777777777778,\n",
       "   'Recall_class_1': 0.9310344827586207,\n",
       "   'AUC': 0.9297573435504469,\n",
       "   'Sampling': 'median'},\n",
       "  'Flooding': {'Accuracy': 0.6811594202898551,\n",
       "   'F1_class_0': 0.5416666666666666,\n",
       "   'F1_class_1': 0.7555555555555556,\n",
       "   'Precision_class_0': 0.48148148148148145,\n",
       "   'Precision_class_1': 0.8095238095238095,\n",
       "   'Recall_class_0': 0.6190476190476191,\n",
       "   'Recall_class_1': 0.7083333333333334,\n",
       "   'AUC': 0.6760912698412699,\n",
       "   'Sampling': 'median'},\n",
       "  'Cold': {'Accuracy': 0.5611814345991561,\n",
       "   'F1_class_0': 0.4876847290640394,\n",
       "   'F1_class_1': 0.6162361623616237,\n",
       "   'Precision_class_0': 0.6305732484076433,\n",
       "   'Precision_class_1': 0.526813880126183,\n",
       "   'Recall_class_0': 0.39759036144578314,\n",
       "   'Recall_class_1': 0.7422222222222222,\n",
       "   'AUC': 0.6095136099955376,\n",
       "   'Sampling': 'median'}}}"
      ]
     },
     "execution_count": 19,
     "metadata": {},
     "output_type": "execute_result"
    }
   ],
   "source": [
    "masterdict"
   ]
  },
  {
   "cell_type": "code",
   "execution_count": 20,
   "id": "7d121726",
   "metadata": {},
   "outputs": [],
   "source": [
    "# generate a dataframe with columns for: each type of score; treatment/test set; resampling type\n",
    "res = []\n",
    "test = []\n",
    "acc = []\n",
    "f10 = []\n",
    "f11 = []\n",
    "p0 = []\n",
    "p1 = []\n",
    "r0 = []\n",
    "r1 = []\n",
    "auc = []\n",
    "for r in masterdict.keys():\n",
    "    for t in masterdict[r].keys():\n",
    "        res.append(r)\n",
    "        test.append(t)\n",
    "        d = masterdict[r][t]\n",
    "        acc.append(d[\"Accuracy\"])\n",
    "        f10.append(d[\"F1_class_0\"])\n",
    "        f11.append(d[\"F1_class_1\"])\n",
    "        p0.append(d[\"Precision_class_0\"])\n",
    "        p1.append(d[\"Precision_class_1\"])\n",
    "        r0.append(d[\"Recall_class_0\"])\n",
    "        r1.append(d[\"Recall_class_1\"])\n",
    "        auc.append(d[\"AUC\"])"
   ]
  },
  {
   "cell_type": "code",
   "execution_count": 22,
   "id": "491a418c",
   "metadata": {},
   "outputs": [],
   "source": [
    "scores = pd.DataFrame(list(zip(res,test,acc,f10,f11,p0,p1,r0,r1,auc)),columns=[\"Resampling_Type\",\"Test_Set\",\"Accuracy\",\"F1_Control\",\n",
    "                                                                     \"F1_Stressed\",\"Precision_Control\",\"Precision_Stressed\",\n",
    "                                                                     \"Recall_Control\",\"Recall_Stressed\",\"AUC\"])"
   ]
  },
  {
   "cell_type": "code",
   "execution_count": 31,
   "id": "b3ca7b2c",
   "metadata": {},
   "outputs": [
    {
     "data": {
      "text/html": [
       "<div>\n",
       "<style scoped>\n",
       "    .dataframe tbody tr th:only-of-type {\n",
       "        vertical-align: middle;\n",
       "    }\n",
       "\n",
       "    .dataframe tbody tr th {\n",
       "        vertical-align: top;\n",
       "    }\n",
       "\n",
       "    .dataframe thead th {\n",
       "        text-align: right;\n",
       "    }\n",
       "</style>\n",
       "<table border=\"1\" class=\"dataframe\">\n",
       "  <thead>\n",
       "    <tr style=\"text-align: right;\">\n",
       "      <th></th>\n",
       "      <th>Resampling_Type</th>\n",
       "      <th>Test_Set</th>\n",
       "      <th>Accuracy</th>\n",
       "      <th>F1_Control</th>\n",
       "      <th>F1_Stressed</th>\n",
       "      <th>Precision_Control</th>\n",
       "      <th>Precision_Stressed</th>\n",
       "      <th>Recall_Control</th>\n",
       "      <th>Recall_Stressed</th>\n",
       "      <th>AUC</th>\n",
       "    </tr>\n",
       "  </thead>\n",
       "  <tbody>\n",
       "    <tr>\n",
       "      <th>0</th>\n",
       "      <td>no_resampling</td>\n",
       "      <td>Cold</td>\n",
       "      <td>0.531646</td>\n",
       "      <td>0.244898</td>\n",
       "      <td>0.660550</td>\n",
       "      <td>0.800000</td>\n",
       "      <td>0.503497</td>\n",
       "      <td>0.144578</td>\n",
       "      <td>0.960000</td>\n",
       "      <td>0.611093</td>\n",
       "    </tr>\n",
       "    <tr>\n",
       "      <th>1</th>\n",
       "      <td>no_resampling</td>\n",
       "      <td>Low_Nitrogen</td>\n",
       "      <td>0.563758</td>\n",
       "      <td>0.453782</td>\n",
       "      <td>0.636872</td>\n",
       "      <td>0.586957</td>\n",
       "      <td>0.553398</td>\n",
       "      <td>0.369863</td>\n",
       "      <td>0.750000</td>\n",
       "      <td>0.590123</td>\n",
       "    </tr>\n",
       "    <tr>\n",
       "      <th>2</th>\n",
       "      <td>no_resampling</td>\n",
       "      <td>Flooding</td>\n",
       "      <td>0.681159</td>\n",
       "      <td>0.352941</td>\n",
       "      <td>0.788462</td>\n",
       "      <td>0.461538</td>\n",
       "      <td>0.732143</td>\n",
       "      <td>0.285714</td>\n",
       "      <td>0.854167</td>\n",
       "      <td>0.657738</td>\n",
       "    </tr>\n",
       "    <tr>\n",
       "      <th>3</th>\n",
       "      <td>no_resampling</td>\n",
       "      <td>Salt</td>\n",
       "      <td>0.857143</td>\n",
       "      <td>0.826087</td>\n",
       "      <td>0.878788</td>\n",
       "      <td>1.000000</td>\n",
       "      <td>0.783784</td>\n",
       "      <td>0.703704</td>\n",
       "      <td>1.000000</td>\n",
       "      <td>0.968072</td>\n",
       "    </tr>\n",
       "    <tr>\n",
       "      <th>4</th>\n",
       "      <td>no_resampling</td>\n",
       "      <td>Heat</td>\n",
       "      <td>0.438287</td>\n",
       "      <td>0.183150</td>\n",
       "      <td>0.571977</td>\n",
       "      <td>0.396825</td>\n",
       "      <td>0.446108</td>\n",
       "      <td>0.119048</td>\n",
       "      <td>0.796791</td>\n",
       "      <td>0.539177</td>\n",
       "    </tr>\n",
       "  </tbody>\n",
       "</table>\n",
       "</div>"
      ],
      "text/plain": [
       "  Resampling_Type      Test_Set  Accuracy  F1_Control  F1_Stressed  \\\n",
       "0   no_resampling          Cold  0.531646    0.244898     0.660550   \n",
       "1   no_resampling  Low_Nitrogen  0.563758    0.453782     0.636872   \n",
       "2   no_resampling      Flooding  0.681159    0.352941     0.788462   \n",
       "3   no_resampling          Salt  0.857143    0.826087     0.878788   \n",
       "4   no_resampling          Heat  0.438287    0.183150     0.571977   \n",
       "\n",
       "   Precision_Control  Precision_Stressed  Recall_Control  Recall_Stressed  \\\n",
       "0           0.800000            0.503497        0.144578         0.960000   \n",
       "1           0.586957            0.553398        0.369863         0.750000   \n",
       "2           0.461538            0.732143        0.285714         0.854167   \n",
       "3           1.000000            0.783784        0.703704         1.000000   \n",
       "4           0.396825            0.446108        0.119048         0.796791   \n",
       "\n",
       "        AUC  \n",
       "0  0.611093  \n",
       "1  0.590123  \n",
       "2  0.657738  \n",
       "3  0.968072  \n",
       "4  0.539177  "
      ]
     },
     "execution_count": 31,
     "metadata": {},
     "output_type": "execute_result"
    }
   ],
   "source": [
    "scores.head()"
   ]
  },
  {
   "cell_type": "code",
   "execution_count": 32,
   "id": "3734371e",
   "metadata": {},
   "outputs": [],
   "source": [
    "# calculate mean F1 (control & stressed) across treatments for each resampling type\n",
    "cmean = []\n",
    "smean = []\n",
    "for r in scores[\"Resampling_Type\"].unique():\n",
    "    df = scores[scores[\"Resampling_Type\"]==r]\n",
    "    for i in range(0,6):\n",
    "        cmean.append(sum(df[\"F1_Control\"])/len(df[\"F1_Control\"]))\n",
    "        smean.append(sum(df[\"F1_Stressed\"])/len(df[\"F1_Stressed\"]))\n"
   ]
  },
  {
   "cell_type": "code",
   "execution_count": 35,
   "id": "f6a90ecd",
   "metadata": {},
   "outputs": [
    {
     "data": {
      "text/html": [
       "<div>\n",
       "<style scoped>\n",
       "    .dataframe tbody tr th:only-of-type {\n",
       "        vertical-align: middle;\n",
       "    }\n",
       "\n",
       "    .dataframe tbody tr th {\n",
       "        vertical-align: top;\n",
       "    }\n",
       "\n",
       "    .dataframe thead th {\n",
       "        text-align: right;\n",
       "    }\n",
       "</style>\n",
       "<table border=\"1\" class=\"dataframe\">\n",
       "  <thead>\n",
       "    <tr style=\"text-align: right;\">\n",
       "      <th></th>\n",
       "      <th>Resampling_Type</th>\n",
       "      <th>Test_Set</th>\n",
       "      <th>Accuracy</th>\n",
       "      <th>F1_Control</th>\n",
       "      <th>F1_Stressed</th>\n",
       "      <th>Precision_Control</th>\n",
       "      <th>Precision_Stressed</th>\n",
       "      <th>Recall_Control</th>\n",
       "      <th>Recall_Stressed</th>\n",
       "      <th>AUC</th>\n",
       "      <th>F1_Control_mean</th>\n",
       "      <th>F1_Stressed_mean</th>\n",
       "    </tr>\n",
       "  </thead>\n",
       "  <tbody>\n",
       "    <tr>\n",
       "      <th>0</th>\n",
       "      <td>no_resampling</td>\n",
       "      <td>Cold</td>\n",
       "      <td>0.531646</td>\n",
       "      <td>0.244898</td>\n",
       "      <td>0.660550</td>\n",
       "      <td>0.800000</td>\n",
       "      <td>0.503497</td>\n",
       "      <td>0.144578</td>\n",
       "      <td>0.960000</td>\n",
       "      <td>0.611093</td>\n",
       "      <td>0.44527</td>\n",
       "      <td>0.725373</td>\n",
       "    </tr>\n",
       "    <tr>\n",
       "      <th>1</th>\n",
       "      <td>no_resampling</td>\n",
       "      <td>Low_Nitrogen</td>\n",
       "      <td>0.563758</td>\n",
       "      <td>0.453782</td>\n",
       "      <td>0.636872</td>\n",
       "      <td>0.586957</td>\n",
       "      <td>0.553398</td>\n",
       "      <td>0.369863</td>\n",
       "      <td>0.750000</td>\n",
       "      <td>0.590123</td>\n",
       "      <td>0.44527</td>\n",
       "      <td>0.725373</td>\n",
       "    </tr>\n",
       "    <tr>\n",
       "      <th>2</th>\n",
       "      <td>no_resampling</td>\n",
       "      <td>Flooding</td>\n",
       "      <td>0.681159</td>\n",
       "      <td>0.352941</td>\n",
       "      <td>0.788462</td>\n",
       "      <td>0.461538</td>\n",
       "      <td>0.732143</td>\n",
       "      <td>0.285714</td>\n",
       "      <td>0.854167</td>\n",
       "      <td>0.657738</td>\n",
       "      <td>0.44527</td>\n",
       "      <td>0.725373</td>\n",
       "    </tr>\n",
       "    <tr>\n",
       "      <th>3</th>\n",
       "      <td>no_resampling</td>\n",
       "      <td>Salt</td>\n",
       "      <td>0.857143</td>\n",
       "      <td>0.826087</td>\n",
       "      <td>0.878788</td>\n",
       "      <td>1.000000</td>\n",
       "      <td>0.783784</td>\n",
       "      <td>0.703704</td>\n",
       "      <td>1.000000</td>\n",
       "      <td>0.968072</td>\n",
       "      <td>0.44527</td>\n",
       "      <td>0.725373</td>\n",
       "    </tr>\n",
       "    <tr>\n",
       "      <th>4</th>\n",
       "      <td>no_resampling</td>\n",
       "      <td>Heat</td>\n",
       "      <td>0.438287</td>\n",
       "      <td>0.183150</td>\n",
       "      <td>0.571977</td>\n",
       "      <td>0.396825</td>\n",
       "      <td>0.446108</td>\n",
       "      <td>0.119048</td>\n",
       "      <td>0.796791</td>\n",
       "      <td>0.539177</td>\n",
       "      <td>0.44527</td>\n",
       "      <td>0.725373</td>\n",
       "    </tr>\n",
       "  </tbody>\n",
       "</table>\n",
       "</div>"
      ],
      "text/plain": [
       "  Resampling_Type      Test_Set  Accuracy  F1_Control  F1_Stressed  \\\n",
       "0   no_resampling          Cold  0.531646    0.244898     0.660550   \n",
       "1   no_resampling  Low_Nitrogen  0.563758    0.453782     0.636872   \n",
       "2   no_resampling      Flooding  0.681159    0.352941     0.788462   \n",
       "3   no_resampling          Salt  0.857143    0.826087     0.878788   \n",
       "4   no_resampling          Heat  0.438287    0.183150     0.571977   \n",
       "\n",
       "   Precision_Control  Precision_Stressed  Recall_Control  Recall_Stressed  \\\n",
       "0           0.800000            0.503497        0.144578         0.960000   \n",
       "1           0.586957            0.553398        0.369863         0.750000   \n",
       "2           0.461538            0.732143        0.285714         0.854167   \n",
       "3           1.000000            0.783784        0.703704         1.000000   \n",
       "4           0.396825            0.446108        0.119048         0.796791   \n",
       "\n",
       "        AUC  F1_Control_mean  F1_Stressed_mean  \n",
       "0  0.611093          0.44527          0.725373  \n",
       "1  0.590123          0.44527          0.725373  \n",
       "2  0.657738          0.44527          0.725373  \n",
       "3  0.968072          0.44527          0.725373  \n",
       "4  0.539177          0.44527          0.725373  "
      ]
     },
     "execution_count": 35,
     "metadata": {},
     "output_type": "execute_result"
    }
   ],
   "source": [
    "scores[\"F1_Control_mean\"] = cmean\n",
    "scores[\"F1_Stressed_mean\"] = smean\n",
    "scores.head()"
   ]
  },
  {
   "cell_type": "code",
   "execution_count": 25,
   "id": "935e1af0",
   "metadata": {},
   "outputs": [
    {
     "data": {
      "text/plain": [
       "Text(0.5, 1.0, 'Accuracy')"
      ]
     },
     "execution_count": 25,
     "metadata": {},
     "output_type": "execute_result"
    },
    {
     "data": {
      "image/png": "[encoded data removed]",
      "text/plain": [
       "<Figure size 469.125x360 with 1 Axes>"
      ]
     },
     "metadata": {
      "needs_background": "light"
     },
     "output_type": "display_data"
    }
   ],
   "source": [
    "# make grouped bar plot of accuracy\n",
    "sns.catplot(data=scores,kind=\"bar\",x=\"Test_Set\",y=\"Accuracy\",hue=\"Resampling_Type\")\n",
    "plt.title(\"Accuracy\")"
   ]
  },
  {
   "cell_type": "code",
   "execution_count": 26,
   "id": "07fdb34d",
   "metadata": {},
   "outputs": [
    {
     "data": {
      "text/plain": [
       "Text(0.5, 1.0, 'AUC Score')"
      ]
     },
     "execution_count": 26,
     "metadata": {},
     "output_type": "execute_result"
    },
    {
     "data": {
      "image/png": "[encoded data removed]",
      "text/plain": [
       "<Figure size 469.125x360 with 1 Axes>"
      ]
     },
     "metadata": {
      "needs_background": "light"
     },
     "output_type": "display_data"
    }
   ],
   "source": [
    "# make grouped bar plot of AUC\n",
    "sns.catplot(data=scores,kind=\"bar\",x=\"Test_Set\",y=\"AUC\",hue=\"Resampling_Type\")\n",
    "plt.title(\"AUC Score\")"
   ]
  },
  {
   "cell_type": "code",
   "execution_count": 36,
   "id": "bb2734fc",
   "metadata": {},
   "outputs": [
    {
     "data": {
      "text/plain": [
       "Text(0.5, 1.0, 'F1 of Control Predictions')"
      ]
     },
     "execution_count": 36,
     "metadata": {},
     "output_type": "execute_result"
    },
    {
     "data": {
      "image/png": "[encoded data removed]",
      "text/plain": [
       "<Figure size 469.125x360 with 1 Axes>"
      ]
     },
     "metadata": {
      "needs_background": "light"
     },
     "output_type": "display_data"
    }
   ],
   "source": [
    "# make grouped bar plot of F1 for control samples\n",
    "sns.catplot(data=scores,kind=\"bar\",x=\"Test_Set\",y=\"F1_Control\",hue=\"Resampling_Type\")\n",
    "sns.lineplot(data=scores,x=\"Test_Set\",y=\"F1_Control_mean\",hue=\"Resampling_Type\")\n",
    "plt.title(\"F1 of Control Predictions\")"
   ]
  },
  {
   "cell_type": "code",
   "execution_count": 37,
   "id": "ef95ed27",
   "metadata": {},
   "outputs": [
    {
     "data": {
      "text/plain": [
       "Text(0.5, 1.0, 'F1 of Stressed Predictions')"
      ]
     },
     "execution_count": 37,
     "metadata": {},
     "output_type": "execute_result"
    },
    {
     "data": {
      "image/png": "[encoded data removed]",
      "text/plain": [
       "<Figure size 469.125x360 with 1 Axes>"
      ]
     },
     "metadata": {
      "needs_background": "light"
     },
     "output_type": "display_data"
    }
   ],
   "source": [
    "# make grouped bar plot of F1 for stressed samples\n",
    "sns.catplot(data=scores,kind=\"bar\",x=\"Test_Set\",y=\"F1_Stressed\",hue=\"Resampling_Type\")\n",
    "sns.lineplot(data=scores,x=\"Test_Set\",y=\"F1_Stressed_mean\",hue=\"Resampling_Type\")\n",
    "plt.title(\"F1 of Stressed Predictions\")"
   ]
  },
  {
   "cell_type": "code",
   "execution_count": 29,
   "id": "2f0d4403",
   "metadata": {},
   "outputs": [
    {
     "data": {
      "text/plain": [
       "Text(0.5, 1.0, 'Precision of Control Predictions')"
      ]
     },
     "execution_count": 29,
     "metadata": {},
     "output_type": "execute_result"
    },
    {
     "data": {
      "image/png": "[encoded data removed]",
      "text/plain": [
       "<Figure size 469.125x360 with 1 Axes>"
      ]
     },
     "metadata": {
      "needs_background": "light"
     },
     "output_type": "display_data"
    }
   ],
   "source": [
    "# make grouped bar plot of precision for control samples\n",
    "sns.catplot(data=scores,kind=\"bar\",x=\"Test_Set\",y=\"Precision_Control\",hue=\"Resampling_Type\")\n",
    "plt.title(\"Precision of Control Predictions\")"
   ]
  },
  {
   "cell_type": "code",
   "execution_count": 30,
   "id": "e9d57ca1",
   "metadata": {},
   "outputs": [
    {
     "data": {
      "text/plain": [
       "Text(0.5, 1.0, 'Precision of Stressed Predictions')"
      ]
     },
     "execution_count": 30,
     "metadata": {},
     "output_type": "execute_result"
    },
    {
     "data": {
      "image/png": "[encoded data removed]",
      "text/plain": [
       "<Figure size 469.125x360 with 1 Axes>"
      ]
     },
     "metadata": {
      "needs_background": "light"
     },
     "output_type": "display_data"
    }
   ],
   "source": [
    "# make grouped bar plot of precision for stressed samples\n",
    "sns.catplot(data=scores,kind=\"bar\",x=\"Test_Set\",y=\"Precision_Stressed\",hue=\"Resampling_Type\")\n",
    "plt.title(\"Precision of Stressed Predictions\")"
   ]
  },
  {
   "cell_type": "code",
   "execution_count": null,
   "id": "ad46f621",
   "metadata": {},
   "outputs": [],
   "source": []
  }
 ],
 "metadata": {
  "kernelspec": {
   "display_name": "Python 3 (ipykernel)",
   "language": "python",
   "name": "python3"
  },
  "language_info": {
   "codemirror_mode": {
    "name": "ipython",
    "version": 3
   },
   "file_extension": ".py",
   "mimetype": "text/x-python",
   "name": "python",
   "nbconvert_exporter": "python",
   "pygments_lexer": "ipython3",
   "version": "3.8.10"
  }
 },
 "nbformat": 4,
 "nbformat_minor": 5
}
