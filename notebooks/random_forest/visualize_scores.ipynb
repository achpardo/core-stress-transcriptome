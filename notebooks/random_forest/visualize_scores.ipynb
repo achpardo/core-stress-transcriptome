{
 "cells": [
  {
   "cell_type": "markdown",
   "id": "923652e3",
   "metadata": {},
   "source": [
    "Purpose: Visualize accuracy scores for models tested on each stressor.<br>\n",
    "Author: Anna Pardo<br>\n",
    "Date initiated: July 3, 2023"
   ]
  },
  {
   "cell_type": "code",
   "execution_count": 1,
   "id": "53f1a0dc",
   "metadata": {},
   "outputs": [],
   "source": [
    "# import modules\n",
    "import json\n",
    "import pandas as pd\n",
    "import matplotlib.pyplot as plt"
   ]
  },
  {
   "cell_type": "code",
   "execution_count": 5,
   "id": "eabc686f",
   "metadata": {},
   "outputs": [],
   "source": [
    "# load in json files with scores\n",
    "cs = json.load(open(\"../../data/rf_outputs/ColdTest_Up_scores.json\"))\n",
    "ds = json.load(open(\"../../data/rf_outputs/DroughtTest_Up_scores.json\"))\n",
    "hs = json.load(open(\"../../data/rf_outputs/HeatTest_Up_scores.json\"))\n",
    "ss = json.load(open(\"../../data/rf_outputs/SaltTest_Up_scores.json\"))\n",
    "fs = json.load(open(\"../../data/rf_outputs/FloodingTest_Up_scores.json\"))"
   ]
  },
  {
   "cell_type": "code",
   "execution_count": 6,
   "id": "057f3006",
   "metadata": {},
   "outputs": [
    {
     "data": {
      "text/plain": [
       "{'Accuracy': 0.6811594202898551,\n",
       " 'F1_class_0': 0.35294117647058826,\n",
       " 'F1_class_1': 0.7884615384615384,\n",
       " 'Precision_class_0': 0.46153846153846156,\n",
       " 'Precision_class_1': 0.7321428571428571,\n",
       " 'Recall_class_0': 0.2857142857142857,\n",
       " 'Recall_class_1': 0.8541666666666666,\n",
       " 'AUC': 0.6577380952380952}"
      ]
     },
     "execution_count": 6,
     "metadata": {},
     "output_type": "execute_result"
    }
   ],
   "source": [
    "# look at one of the dictionaries\n",
    "fs"
   ]
  },
  {
   "cell_type": "code",
   "execution_count": 7,
   "id": "29ba1600",
   "metadata": {},
   "outputs": [],
   "source": [
    "# put the dictionaries in a list\n",
    "dlist = [cs,ds,hs,ss,fs]"
   ]
  },
  {
   "cell_type": "code",
   "execution_count": 8,
   "id": "96c0cb0a",
   "metadata": {},
   "outputs": [],
   "source": [
    "# make a list (same order as the dict list) of treatments\n",
    "tlist = [\"Cold\",\"Drought\",\"Heat\",\"Salt\",\"Flooding\"]"
   ]
  },
  {
   "cell_type": "code",
   "execution_count": 9,
   "id": "e9013460",
   "metadata": {},
   "outputs": [
    {
     "data": {
      "text/html": [
       "<div>\n",
       "<style scoped>\n",
       "    .dataframe tbody tr th:only-of-type {\n",
       "        vertical-align: middle;\n",
       "    }\n",
       "\n",
       "    .dataframe tbody tr th {\n",
       "        vertical-align: top;\n",
       "    }\n",
       "\n",
       "    .dataframe thead th {\n",
       "        text-align: right;\n",
       "    }\n",
       "</style>\n",
       "<table border=\"1\" class=\"dataframe\">\n",
       "  <thead>\n",
       "    <tr style=\"text-align: right;\">\n",
       "      <th></th>\n",
       "      <th>Test Set</th>\n",
       "      <th>Accuracy</th>\n",
       "    </tr>\n",
       "  </thead>\n",
       "  <tbody>\n",
       "    <tr>\n",
       "      <th>0</th>\n",
       "      <td>Cold</td>\n",
       "      <td>0.531646</td>\n",
       "    </tr>\n",
       "    <tr>\n",
       "      <th>1</th>\n",
       "      <td>Drought</td>\n",
       "      <td>0.749746</td>\n",
       "    </tr>\n",
       "    <tr>\n",
       "      <th>2</th>\n",
       "      <td>Heat</td>\n",
       "      <td>0.438287</td>\n",
       "    </tr>\n",
       "    <tr>\n",
       "      <th>3</th>\n",
       "      <td>Salt</td>\n",
       "      <td>0.857143</td>\n",
       "    </tr>\n",
       "    <tr>\n",
       "      <th>4</th>\n",
       "      <td>Flooding</td>\n",
       "      <td>0.681159</td>\n",
       "    </tr>\n",
       "  </tbody>\n",
       "</table>\n",
       "</div>"
      ],
      "text/plain": [
       "   Test Set  Accuracy\n",
       "0      Cold  0.531646\n",
       "1   Drought  0.749746\n",
       "2      Heat  0.438287\n",
       "3      Salt  0.857143\n",
       "4  Flooding  0.681159"
      ]
     },
     "execution_count": 9,
     "metadata": {},
     "output_type": "execute_result"
    }
   ],
   "source": [
    "# for each dict, pull out accuracy score and put it in a list, then make a dataframe with the treatment list\n",
    "alist = []\n",
    "for d in dlist:\n",
    "    alist.append(d.get(\"Accuracy\"))\n",
    "accdf = pd.DataFrame(list(zip(tlist,alist)),columns=[\"Test Set\",\"Accuracy\"])\n",
    "accdf"
   ]
  },
  {
   "cell_type": "code",
   "execution_count": 10,
   "id": "191eac08",
   "metadata": {},
   "outputs": [
    {
     "data": {
      "text/plain": [
       "0.6515961354411733"
      ]
     },
     "execution_count": 10,
     "metadata": {},
     "output_type": "execute_result"
    }
   ],
   "source": [
    "# calculate the mean accuracy\n",
    "macc = sum(accdf[\"Accuracy\"])/len(accdf.index)\n",
    "macc"
   ]
  },
  {
   "cell_type": "code",
   "execution_count": 14,
   "id": "275dbce8",
   "metadata": {},
   "outputs": [
    {
     "data": {
      "text/html": [
       "<div>\n",
       "<style scoped>\n",
       "    .dataframe tbody tr th:only-of-type {\n",
       "        vertical-align: middle;\n",
       "    }\n",
       "\n",
       "    .dataframe tbody tr th {\n",
       "        vertical-align: top;\n",
       "    }\n",
       "\n",
       "    .dataframe thead th {\n",
       "        text-align: right;\n",
       "    }\n",
       "</style>\n",
       "<table border=\"1\" class=\"dataframe\">\n",
       "  <thead>\n",
       "    <tr style=\"text-align: right;\">\n",
       "      <th></th>\n",
       "      <th>Test Set</th>\n",
       "      <th>Accuracy</th>\n",
       "      <th>Mean Accuracy</th>\n",
       "    </tr>\n",
       "  </thead>\n",
       "  <tbody>\n",
       "    <tr>\n",
       "      <th>0</th>\n",
       "      <td>Cold</td>\n",
       "      <td>0.531646</td>\n",
       "      <td>0.651596</td>\n",
       "    </tr>\n",
       "    <tr>\n",
       "      <th>1</th>\n",
       "      <td>Drought</td>\n",
       "      <td>0.749746</td>\n",
       "      <td>0.651596</td>\n",
       "    </tr>\n",
       "    <tr>\n",
       "      <th>2</th>\n",
       "      <td>Heat</td>\n",
       "      <td>0.438287</td>\n",
       "      <td>0.651596</td>\n",
       "    </tr>\n",
       "    <tr>\n",
       "      <th>3</th>\n",
       "      <td>Salt</td>\n",
       "      <td>0.857143</td>\n",
       "      <td>0.651596</td>\n",
       "    </tr>\n",
       "    <tr>\n",
       "      <th>4</th>\n",
       "      <td>Flooding</td>\n",
       "      <td>0.681159</td>\n",
       "      <td>0.651596</td>\n",
       "    </tr>\n",
       "  </tbody>\n",
       "</table>\n",
       "</div>"
      ],
      "text/plain": [
       "   Test Set  Accuracy  Mean Accuracy\n",
       "0      Cold  0.531646       0.651596\n",
       "1   Drought  0.749746       0.651596\n",
       "2      Heat  0.438287       0.651596\n",
       "3      Salt  0.857143       0.651596\n",
       "4  Flooding  0.681159       0.651596"
      ]
     },
     "execution_count": 14,
     "metadata": {},
     "output_type": "execute_result"
    }
   ],
   "source": [
    "# add mean accuracy as a column to the dataframe\n",
    "accdf[\"Mean Accuracy\"] = macc\n",
    "accdf"
   ]
  },
  {
   "cell_type": "code",
   "execution_count": 31,
   "id": "73e8f461",
   "metadata": {},
   "outputs": [
    {
     "data": {
      "image/png": "[encoded data removed]",
      "text/plain": [
       "<Figure size 432x288 with 1 Axes>"
      ]
     },
     "metadata": {
      "needs_background": "light"
     },
     "output_type": "display_data"
    }
   ],
   "source": [
    "# plot the data\n",
    "plt.bar(accdf[\"Test Set\"],accdf[\"Accuracy\"],alpha=0.75)\n",
    "plt.plot(accdf[\"Mean Accuracy\"],color=\"red\")\n",
    "plt.xlabel(\"Test Set\",fontsize=14)\n",
    "plt.ylabel(\"Prediction Accuracy\",fontsize=14)\n",
    "plt.title(\"Prediction accuracy when testing on each stressor\",fontsize=16)\n",
    "plt.savefig(\"../../figures/rf_results/accuracy-per-stressor.pdf\")"
   ]
  },
  {
   "cell_type": "code",
   "execution_count": null,
   "id": "3a6f6b83",
   "metadata": {},
   "outputs": [],
   "source": []
  }
 ],
 "metadata": {
  "kernelspec": {
   "display_name": "Python 3 (ipykernel)",
   "language": "python",
   "name": "python3"
  },
  "language_info": {
   "codemirror_mode": {
    "name": "ipython",
    "version": 3
   },
   "file_extension": ".py",
   "mimetype": "text/x-python",
   "name": "python",
   "nbconvert_exporter": "python",
   "pygments_lexer": "ipython3",
   "version": "3.8.10"
  }
 },
 "nbformat": 4,
 "nbformat_minor": 5
}
