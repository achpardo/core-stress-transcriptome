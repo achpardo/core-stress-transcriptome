{
 "cells": [
  {
   "cell_type": "markdown",
   "id": "79b0deb3",
   "metadata": {},
   "source": [
    "Purpose: Run hierarchical clustering of treatments from log2 TPM data corrected for BioProject using pyComBat (both the full dataset & photosynthetic tissues only).<br>\n",
    "Author: Anna Pardo<br>\n",
    "Date initiated: Feb. 29, 2024"
   ]
  },
  {
   "cell_type": "code",
   "execution_count": 1,
   "id": "2e472226",
   "metadata": {},
   "outputs": [],
   "source": [
    "# import modules\n",
    "import numpy as np\n",
    "import pandas as pd\n",
    "import matplotlib.pyplot as plt\n",
    "import seaborn as sns\n",
    "from sklearn.decomposition import PCA\n",
    "from scipy.cluster.hierarchy import dendrogram, linkage\n",
    "import statistics"
   ]
  },
  {
   "cell_type": "code",
   "execution_count": 2,
   "id": "8fd2e29e",
   "metadata": {},
   "outputs": [],
   "source": [
    "# load corrected TPM matrices\n",
    "bpcor_all_tpm = pd.read_csv(\"../../data/BPcombat_logTPM_forRF_1-Mar-2024.tsv\",sep=\"\\t\",header=\"infer\")"
   ]
  },
  {
   "cell_type": "code",
   "execution_count": 3,
   "id": "83136ce1",
   "metadata": {},
   "outputs": [],
   "source": [
    "bpcor_psyn_tpm = pd.read_csv(\"../../data/BPcombat_logTPM_psyn_tissues_forRF_1-Mar-2024.tsv\",sep=\"\\t\",header=\"infer\")"
   ]
  },
  {
   "cell_type": "code",
   "execution_count": 4,
   "id": "78433731",
   "metadata": {},
   "outputs": [
    {
     "data": {
      "text/html": [
       "<div>\n",
       "<style scoped>\n",
       "    .dataframe tbody tr th:only-of-type {\n",
       "        vertical-align: middle;\n",
       "    }\n",
       "\n",
       "    .dataframe tbody tr th {\n",
       "        vertical-align: top;\n",
       "    }\n",
       "\n",
       "    .dataframe thead th {\n",
       "        text-align: right;\n",
       "    }\n",
       "</style>\n",
       "<table border=\"1\" class=\"dataframe\">\n",
       "  <thead>\n",
       "    <tr style=\"text-align: right;\">\n",
       "      <th></th>\n",
       "      <th>Sample</th>\n",
       "      <th>Zm00001eb000010</th>\n",
       "      <th>Zm00001eb000020</th>\n",
       "      <th>Zm00001eb000050</th>\n",
       "      <th>Zm00001eb000060</th>\n",
       "      <th>Zm00001eb000070</th>\n",
       "      <th>Zm00001eb000080</th>\n",
       "      <th>Zm00001eb000100</th>\n",
       "      <th>Zm00001eb000110</th>\n",
       "      <th>Zm00001eb000120</th>\n",
       "      <th>...</th>\n",
       "      <th>Zm00001eb442840</th>\n",
       "      <th>Zm00001eb442850</th>\n",
       "      <th>Zm00001eb442870</th>\n",
       "      <th>Zm00001eb442890</th>\n",
       "      <th>Zm00001eb442910</th>\n",
       "      <th>Zm00001eb442960</th>\n",
       "      <th>Zm00001eb442980</th>\n",
       "      <th>Zm00001eb443030</th>\n",
       "      <th>Treatment</th>\n",
       "      <th>BioProject</th>\n",
       "    </tr>\n",
       "  </thead>\n",
       "  <tbody>\n",
       "    <tr>\n",
       "      <th>0</th>\n",
       "      <td>SRR11933261</td>\n",
       "      <td>3.676968</td>\n",
       "      <td>1.425305</td>\n",
       "      <td>0.019366</td>\n",
       "      <td>3.454238</td>\n",
       "      <td>2.464770</td>\n",
       "      <td>3.181359</td>\n",
       "      <td>0.480547</td>\n",
       "      <td>-0.043836</td>\n",
       "      <td>1.148040</td>\n",
       "      <td>...</td>\n",
       "      <td>0.004322</td>\n",
       "      <td>-0.000069</td>\n",
       "      <td>-0.025771</td>\n",
       "      <td>0.197944</td>\n",
       "      <td>-0.006917</td>\n",
       "      <td>0.030309</td>\n",
       "      <td>-0.000506</td>\n",
       "      <td>0.127112</td>\n",
       "      <td>Drought</td>\n",
       "      <td>PRJNA637522</td>\n",
       "    </tr>\n",
       "    <tr>\n",
       "      <th>1</th>\n",
       "      <td>SRR11933272</td>\n",
       "      <td>4.041835</td>\n",
       "      <td>1.692175</td>\n",
       "      <td>0.546391</td>\n",
       "      <td>2.778114</td>\n",
       "      <td>1.452964</td>\n",
       "      <td>1.410374</td>\n",
       "      <td>0.260699</td>\n",
       "      <td>-0.043836</td>\n",
       "      <td>1.765632</td>\n",
       "      <td>...</td>\n",
       "      <td>0.004322</td>\n",
       "      <td>-0.000069</td>\n",
       "      <td>-0.025771</td>\n",
       "      <td>2.373048</td>\n",
       "      <td>-0.006917</td>\n",
       "      <td>0.030309</td>\n",
       "      <td>-0.000506</td>\n",
       "      <td>0.127112</td>\n",
       "      <td>Drought</td>\n",
       "      <td>PRJNA637522</td>\n",
       "    </tr>\n",
       "    <tr>\n",
       "      <th>2</th>\n",
       "      <td>SRR11933250</td>\n",
       "      <td>3.221863</td>\n",
       "      <td>1.653241</td>\n",
       "      <td>-0.054140</td>\n",
       "      <td>1.886622</td>\n",
       "      <td>1.731918</td>\n",
       "      <td>3.663976</td>\n",
       "      <td>0.074623</td>\n",
       "      <td>-0.043836</td>\n",
       "      <td>1.594690</td>\n",
       "      <td>...</td>\n",
       "      <td>0.004322</td>\n",
       "      <td>-0.000069</td>\n",
       "      <td>-0.025771</td>\n",
       "      <td>0.295277</td>\n",
       "      <td>-0.006917</td>\n",
       "      <td>0.303918</td>\n",
       "      <td>-0.000506</td>\n",
       "      <td>1.162604</td>\n",
       "      <td>Drought</td>\n",
       "      <td>PRJNA637522</td>\n",
       "    </tr>\n",
       "    <tr>\n",
       "      <th>3</th>\n",
       "      <td>SRR11933029</td>\n",
       "      <td>3.091750</td>\n",
       "      <td>1.449443</td>\n",
       "      <td>-0.054140</td>\n",
       "      <td>1.367097</td>\n",
       "      <td>1.463797</td>\n",
       "      <td>3.913553</td>\n",
       "      <td>0.074623</td>\n",
       "      <td>-0.043836</td>\n",
       "      <td>1.446212</td>\n",
       "      <td>...</td>\n",
       "      <td>0.004322</td>\n",
       "      <td>-0.000069</td>\n",
       "      <td>-0.025771</td>\n",
       "      <td>-0.133042</td>\n",
       "      <td>-0.006917</td>\n",
       "      <td>0.030309</td>\n",
       "      <td>-0.000506</td>\n",
       "      <td>1.251770</td>\n",
       "      <td>Control</td>\n",
       "      <td>PRJNA637522</td>\n",
       "    </tr>\n",
       "    <tr>\n",
       "      <th>4</th>\n",
       "      <td>SRR11933040</td>\n",
       "      <td>3.411677</td>\n",
       "      <td>1.593612</td>\n",
       "      <td>-0.054140</td>\n",
       "      <td>1.138459</td>\n",
       "      <td>2.108122</td>\n",
       "      <td>3.921366</td>\n",
       "      <td>0.233557</td>\n",
       "      <td>-0.043836</td>\n",
       "      <td>1.758469</td>\n",
       "      <td>...</td>\n",
       "      <td>0.004322</td>\n",
       "      <td>-0.000069</td>\n",
       "      <td>-0.025771</td>\n",
       "      <td>2.767788</td>\n",
       "      <td>-0.006917</td>\n",
       "      <td>0.030309</td>\n",
       "      <td>-0.000506</td>\n",
       "      <td>1.703918</td>\n",
       "      <td>Drought</td>\n",
       "      <td>PRJNA637522</td>\n",
       "    </tr>\n",
       "  </tbody>\n",
       "</table>\n",
       "<p>5 rows × 38933 columns</p>\n",
       "</div>"
      ],
      "text/plain": [
       "        Sample  Zm00001eb000010  Zm00001eb000020  Zm00001eb000050  \\\n",
       "0  SRR11933261         3.676968         1.425305         0.019366   \n",
       "1  SRR11933272         4.041835         1.692175         0.546391   \n",
       "2  SRR11933250         3.221863         1.653241        -0.054140   \n",
       "3  SRR11933029         3.091750         1.449443        -0.054140   \n",
       "4  SRR11933040         3.411677         1.593612        -0.054140   \n",
       "\n",
       "   Zm00001eb000060  Zm00001eb000070  Zm00001eb000080  Zm00001eb000100  \\\n",
       "0         3.454238         2.464770         3.181359         0.480547   \n",
       "1         2.778114         1.452964         1.410374         0.260699   \n",
       "2         1.886622         1.731918         3.663976         0.074623   \n",
       "3         1.367097         1.463797         3.913553         0.074623   \n",
       "4         1.138459         2.108122         3.921366         0.233557   \n",
       "\n",
       "   Zm00001eb000110  Zm00001eb000120  ...  Zm00001eb442840  Zm00001eb442850  \\\n",
       "0        -0.043836         1.148040  ...         0.004322        -0.000069   \n",
       "1        -0.043836         1.765632  ...         0.004322        -0.000069   \n",
       "2        -0.043836         1.594690  ...         0.004322        -0.000069   \n",
       "3        -0.043836         1.446212  ...         0.004322        -0.000069   \n",
       "4        -0.043836         1.758469  ...         0.004322        -0.000069   \n",
       "\n",
       "   Zm00001eb442870  Zm00001eb442890  Zm00001eb442910  Zm00001eb442960  \\\n",
       "0        -0.025771         0.197944        -0.006917         0.030309   \n",
       "1        -0.025771         2.373048        -0.006917         0.030309   \n",
       "2        -0.025771         0.295277        -0.006917         0.303918   \n",
       "3        -0.025771        -0.133042        -0.006917         0.030309   \n",
       "4        -0.025771         2.767788        -0.006917         0.030309   \n",
       "\n",
       "   Zm00001eb442980  Zm00001eb443030  Treatment   BioProject  \n",
       "0        -0.000506         0.127112    Drought  PRJNA637522  \n",
       "1        -0.000506         0.127112    Drought  PRJNA637522  \n",
       "2        -0.000506         1.162604    Drought  PRJNA637522  \n",
       "3        -0.000506         1.251770    Control  PRJNA637522  \n",
       "4        -0.000506         1.703918    Drought  PRJNA637522  \n",
       "\n",
       "[5 rows x 38933 columns]"
      ]
     },
     "execution_count": 4,
     "metadata": {},
     "output_type": "execute_result"
    }
   ],
   "source": [
    "bpcor_psyn_tpm.head()"
   ]
  },
  {
   "cell_type": "code",
   "execution_count": 9,
   "id": "407ebf3e",
   "metadata": {},
   "outputs": [],
   "source": [
    "# rename DroughtRepeat to Drought\n",
    "bpcor_psyn_tpm[\"Treatment\"].mask(bpcor_psyn_tpm[\"Treatment\"]==\"DroughtRepeat\",\"Drought\",inplace=True)\n",
    "bpcor_all_tpm[\"Treatment\"].mask(bpcor_all_tpm[\"Treatment\"]==\"DroughtRepeat\",\"Drought\",inplace=True)"
   ]
  },
  {
   "cell_type": "code",
   "execution_count": 6,
   "id": "cbda269a",
   "metadata": {},
   "outputs": [],
   "source": [
    "# group by treatment and calculate the mean\n",
    "hcd = bpcor_psyn_tpm.groupby(by=\"Treatment\",axis=0).mean()"
   ]
  },
  {
   "cell_type": "code",
   "execution_count": 7,
   "id": "7922e3af",
   "metadata": {},
   "outputs": [],
   "source": [
    "# run hierarchical clustering\n",
    "h = linkage(hcd,\"ward\")"
   ]
  },
  {
   "cell_type": "code",
   "execution_count": 8,
   "id": "e97161af",
   "metadata": {},
   "outputs": [
    {
     "data": {
      "image/png": "[encoded data removed]",
      "text/plain": [
       "<Figure size 720x720 with 1 Axes>"
      ]
     },
     "metadata": {
      "needs_background": "light"
     },
     "output_type": "display_data"
    }
   ],
   "source": [
    "# plot dendrogram: photosynthetic tissues\n",
    "plt.figure(figsize=(10,10))\n",
    "dendrogram(h,labels=hcd.index)\n",
    "plt.title(\"Hierarchical Clustering of Mean BioProject-Corrected logTPM (photosynthetic tissues only) per Treatment\",fontsize=14)\n",
    "#plt.savefig(\"../../figures/PCA/hclust_treatments_mean.pdf\")\n",
    "plt.show()"
   ]
  },
  {
   "cell_type": "code",
   "execution_count": 10,
   "id": "49f99bf9",
   "metadata": {},
   "outputs": [],
   "source": [
    "# group by treatment and calculate the mean: all samples\n",
    "hcd = bpcor_all_tpm.groupby(by=\"Treatment\",axis=0).mean()"
   ]
  },
  {
   "cell_type": "code",
   "execution_count": 11,
   "id": "cea6f5e6",
   "metadata": {},
   "outputs": [],
   "source": [
    "# run hierarchical clustering\n",
    "h = linkage(hcd,\"ward\")"
   ]
  },
  {
   "cell_type": "code",
   "execution_count": 12,
   "id": "0afe5560",
   "metadata": {},
   "outputs": [
    {
     "data": {
      "image/png": "[encoded data removed]",
      "text/plain": [
       "<Figure size 720x720 with 1 Axes>"
      ]
     },
     "metadata": {
      "needs_background": "light"
     },
     "output_type": "display_data"
    }
   ],
   "source": [
    "# plot dendrogram: all corrected data\n",
    "plt.figure(figsize=(10,10))\n",
    "dendrogram(h,labels=hcd.index)\n",
    "plt.title(\"Hierarchical Clustering of Mean BioProject-Corrected logTPM (all samples) per Treatment\",fontsize=14)\n",
    "plt.show()"
   ]
  },
  {
   "cell_type": "code",
   "execution_count": null,
   "id": "a1ebb8f2",
   "metadata": {},
   "outputs": [],
   "source": []
  }
 ],
 "metadata": {
  "kernelspec": {
   "display_name": "Python 3 (ipykernel)",
   "language": "python",
   "name": "python3"
  },
  "language_info": {
   "codemirror_mode": {
    "name": "ipython",
    "version": 3
   },
   "file_extension": ".py",
   "mimetype": "text/x-python",
   "name": "python",
   "nbconvert_exporter": "python",
   "pygments_lexer": "ipython3",
   "version": "3.8.10"
  }
 },
 "nbformat": 4,
 "nbformat_minor": 5
}
