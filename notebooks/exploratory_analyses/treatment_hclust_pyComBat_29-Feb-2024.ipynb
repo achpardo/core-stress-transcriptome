{
 "cells": [
  {
   "cell_type": "markdown",
   "id": "79b0deb3",
   "metadata": {},
   "source": [
    "Purpose: Run hierarchical clustering of treatments from log2 TPM data corrected for BioProject using pyComBat (both the full dataset & photosynthetic tissues only).<br>\n",
    "Author: Anna Pardo<br>\n",
    "Date initiated: Feb. 29, 2024"
   ]
  },
  {
   "cell_type": "code",
   "execution_count": 1,
   "id": "2e472226",
   "metadata": {},
   "outputs": [],
   "source": [
    "# import modules\n",
    "import numpy as np\n",
    "import pandas as pd\n",
    "import matplotlib.pyplot as plt\n",
    "import seaborn as sns\n",
    "from sklearn.decomposition import PCA\n",
    "from scipy.cluster.hierarchy import dendrogram, linkage\n",
    "import statistics"
   ]
  },
  {
   "cell_type": "code",
   "execution_count": null,
   "id": "8fd2e29e",
   "metadata": {},
   "outputs": [],
   "source": [
    "# load corrected TPM matrices\n",
    "bpcor_all_tpm = "
   ]
  }
 ],
 "metadata": {
  "kernelspec": {
   "display_name": "Python 3 (ipykernel)",
   "language": "python",
   "name": "python3"
  },
  "language_info": {
   "codemirror_mode": {
    "name": "ipython",
    "version": 3
   },
   "file_extension": ".py",
   "mimetype": "text/x-python",
   "name": "python",
   "nbconvert_exporter": "python",
   "pygments_lexer": "ipython3",
   "version": "3.8.10"
  }
 },
 "nbformat": 4,
 "nbformat_minor": 5
}
