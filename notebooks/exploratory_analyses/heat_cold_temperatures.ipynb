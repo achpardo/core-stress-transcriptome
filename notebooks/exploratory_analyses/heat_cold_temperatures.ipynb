{
 "cells": [
  {
   "cell_type": "markdown",
   "id": "99f7b27c",
   "metadata": {},
   "source": [
    "Purpose: find out the range/histogram, etc. of temperatures studied as heat, cold, and control in the dataset. (Also, incidentally, find out number of genotypes studied.)<br>\n",
    "Author: Anna Pardo<br>\n",
    "Date initiated: Sept. 25, 2023"
   ]
  },
  {
   "cell_type": "code",
   "execution_count": 47,
   "id": "22a4ab57",
   "metadata": {},
   "outputs": [],
   "source": [
    "# load modules\n",
    "import pandas as pd\n",
    "import matplotlib.pyplot as plt\n",
    "import matplotlib.patches as mpatches"
   ]
  },
  {
   "cell_type": "code",
   "execution_count": 2,
   "id": "c1a8a4c8",
   "metadata": {},
   "outputs": [
    {
     "data": {
      "text/html": [
       "<div>\n",
       "<style scoped>\n",
       "    .dataframe tbody tr th:only-of-type {\n",
       "        vertical-align: middle;\n",
       "    }\n",
       "\n",
       "    .dataframe tbody tr th {\n",
       "        vertical-align: top;\n",
       "    }\n",
       "\n",
       "    .dataframe thead th {\n",
       "        text-align: right;\n",
       "    }\n",
       "</style>\n",
       "<table border=\"1\" class=\"dataframe\">\n",
       "  <thead>\n",
       "    <tr style=\"text-align: right;\">\n",
       "      <th></th>\n",
       "      <th>BioProject</th>\n",
       "      <th>Sample</th>\n",
       "      <th>sample_name</th>\n",
       "      <th>Replicate_num</th>\n",
       "      <th>Genotype</th>\n",
       "      <th>Technology</th>\n",
       "      <th>Library_layout</th>\n",
       "      <th>Treatment</th>\n",
       "      <th>Duration_hours</th>\n",
       "      <th>Time_after_treatment</th>\n",
       "      <th>...</th>\n",
       "      <th>Developmental_stage</th>\n",
       "      <th>Tissue</th>\n",
       "      <th>Day_length_hours</th>\n",
       "      <th>Day_temp_C</th>\n",
       "      <th>Night_temp_C</th>\n",
       "      <th>Relative humidity (%)</th>\n",
       "      <th>Light (umol/m2/s)</th>\n",
       "      <th>Growth Env.</th>\n",
       "      <th>Media</th>\n",
       "      <th>Notes</th>\n",
       "    </tr>\n",
       "  </thead>\n",
       "  <tbody>\n",
       "    <tr>\n",
       "      <th>0</th>\n",
       "      <td>PRJNA637522</td>\n",
       "      <td>SRR11933261</td>\n",
       "      <td>238_WS2</td>\n",
       "      <td>NaN</td>\n",
       "      <td>238</td>\n",
       "      <td>Illumina HiSeq 2500</td>\n",
       "      <td>PAIRED</td>\n",
       "      <td>Drought</td>\n",
       "      <td>312.0</td>\n",
       "      <td>13 days</td>\n",
       "      <td>...</td>\n",
       "      <td>V3</td>\n",
       "      <td>Leaf</td>\n",
       "      <td>16.0</td>\n",
       "      <td>25.0</td>\n",
       "      <td>NaN</td>\n",
       "      <td>NaN</td>\n",
       "      <td>NaN</td>\n",
       "      <td>Greenhouse</td>\n",
       "      <td>NaN</td>\n",
       "      <td>NaN</td>\n",
       "    </tr>\n",
       "    <tr>\n",
       "      <th>1</th>\n",
       "      <td>PRJNA637522</td>\n",
       "      <td>SRR11933272</td>\n",
       "      <td>238_WS1</td>\n",
       "      <td>NaN</td>\n",
       "      <td>238</td>\n",
       "      <td>Illumina HiSeq 2500</td>\n",
       "      <td>PAIRED</td>\n",
       "      <td>Drought</td>\n",
       "      <td>216.0</td>\n",
       "      <td>9 days</td>\n",
       "      <td>...</td>\n",
       "      <td>V3</td>\n",
       "      <td>Leaf</td>\n",
       "      <td>16.0</td>\n",
       "      <td>25.0</td>\n",
       "      <td>NaN</td>\n",
       "      <td>NaN</td>\n",
       "      <td>NaN</td>\n",
       "      <td>Greenhouse</td>\n",
       "      <td>NaN</td>\n",
       "      <td>NaN</td>\n",
       "    </tr>\n",
       "    <tr>\n",
       "      <th>2</th>\n",
       "      <td>PRJNA637522</td>\n",
       "      <td>SRR11933250</td>\n",
       "      <td>268_WS1</td>\n",
       "      <td>NaN</td>\n",
       "      <td>268</td>\n",
       "      <td>Illumina HiSeq 2500</td>\n",
       "      <td>PAIRED</td>\n",
       "      <td>Drought</td>\n",
       "      <td>216.0</td>\n",
       "      <td>9 days</td>\n",
       "      <td>...</td>\n",
       "      <td>V3</td>\n",
       "      <td>Leaf</td>\n",
       "      <td>16.0</td>\n",
       "      <td>25.0</td>\n",
       "      <td>NaN</td>\n",
       "      <td>NaN</td>\n",
       "      <td>NaN</td>\n",
       "      <td>Greenhouse</td>\n",
       "      <td>NaN</td>\n",
       "      <td>NaN</td>\n",
       "    </tr>\n",
       "    <tr>\n",
       "      <th>3</th>\n",
       "      <td>PRJNA637522</td>\n",
       "      <td>SRR11933029</td>\n",
       "      <td>268_WW</td>\n",
       "      <td>NaN</td>\n",
       "      <td>268</td>\n",
       "      <td>Illumina HiSeq 2500</td>\n",
       "      <td>PAIRED</td>\n",
       "      <td>Control</td>\n",
       "      <td>216.0</td>\n",
       "      <td>9 days</td>\n",
       "      <td>...</td>\n",
       "      <td>V3</td>\n",
       "      <td>Leaf</td>\n",
       "      <td>16.0</td>\n",
       "      <td>25.0</td>\n",
       "      <td>NaN</td>\n",
       "      <td>NaN</td>\n",
       "      <td>NaN</td>\n",
       "      <td>Greenhouse</td>\n",
       "      <td>NaN</td>\n",
       "      <td>NaN</td>\n",
       "    </tr>\n",
       "    <tr>\n",
       "      <th>4</th>\n",
       "      <td>PRJNA637522</td>\n",
       "      <td>SRR11933040</td>\n",
       "      <td>268_WS2</td>\n",
       "      <td>NaN</td>\n",
       "      <td>268</td>\n",
       "      <td>Illumina HiSeq 2500</td>\n",
       "      <td>PAIRED</td>\n",
       "      <td>Drought</td>\n",
       "      <td>312.0</td>\n",
       "      <td>13 days</td>\n",
       "      <td>...</td>\n",
       "      <td>V3</td>\n",
       "      <td>Leaf</td>\n",
       "      <td>16.0</td>\n",
       "      <td>25.0</td>\n",
       "      <td>NaN</td>\n",
       "      <td>NaN</td>\n",
       "      <td>NaN</td>\n",
       "      <td>Greenhouse</td>\n",
       "      <td>NaN</td>\n",
       "      <td>NaN</td>\n",
       "    </tr>\n",
       "  </tbody>\n",
       "</table>\n",
       "<p>5 rows × 22 columns</p>\n",
       "</div>"
      ],
      "text/plain": [
       "    BioProject       Sample sample_name  Replicate_num Genotype  \\\n",
       "0  PRJNA637522  SRR11933261     238_WS2            NaN      238   \n",
       "1  PRJNA637522  SRR11933272     238_WS1            NaN      238   \n",
       "2  PRJNA637522  SRR11933250     268_WS1            NaN      268   \n",
       "3  PRJNA637522  SRR11933029      268_WW            NaN      268   \n",
       "4  PRJNA637522  SRR11933040     268_WS2            NaN      268   \n",
       "\n",
       "            Technology Library_layout Treatment  Duration_hours  \\\n",
       "0  Illumina HiSeq 2500         PAIRED   Drought           312.0   \n",
       "1  Illumina HiSeq 2500         PAIRED   Drought           216.0   \n",
       "2  Illumina HiSeq 2500         PAIRED   Drought           216.0   \n",
       "3  Illumina HiSeq 2500         PAIRED   Control           216.0   \n",
       "4  Illumina HiSeq 2500         PAIRED   Drought           312.0   \n",
       "\n",
       "  Time_after_treatment  ...  Developmental_stage Tissue Day_length_hours  \\\n",
       "0              13 days  ...                   V3   Leaf             16.0   \n",
       "1               9 days  ...                   V3   Leaf             16.0   \n",
       "2               9 days  ...                   V3   Leaf             16.0   \n",
       "3               9 days  ...                   V3   Leaf             16.0   \n",
       "4              13 days  ...                   V3   Leaf             16.0   \n",
       "\n",
       "  Day_temp_C  Night_temp_C  Relative humidity (%)  Light (umol/m2/s)  \\\n",
       "0       25.0           NaN                    NaN                NaN   \n",
       "1       25.0           NaN                    NaN                NaN   \n",
       "2       25.0           NaN                    NaN                NaN   \n",
       "3       25.0           NaN                    NaN                NaN   \n",
       "4       25.0           NaN                    NaN                NaN   \n",
       "\n",
       "  Growth Env. Media Notes  \n",
       "0  Greenhouse   NaN   NaN  \n",
       "1  Greenhouse   NaN   NaN  \n",
       "2  Greenhouse   NaN   NaN  \n",
       "3  Greenhouse   NaN   NaN  \n",
       "4  Greenhouse   NaN   NaN  \n",
       "\n",
       "[5 rows x 22 columns]"
      ]
     },
     "execution_count": 2,
     "metadata": {},
     "output_type": "execute_result"
    }
   ],
   "source": [
    "# load metadata about samples\n",
    "md = pd.read_csv(\"../../data/srr_numbers_with_metadata_12-May-2023.csv\",sep=\",\",header=\"infer\")\n",
    "md.head()"
   ]
  },
  {
   "cell_type": "code",
   "execution_count": 3,
   "id": "bd249cee",
   "metadata": {},
   "outputs": [
    {
     "data": {
      "text/plain": [
       "328"
      ]
     },
     "execution_count": 3,
     "metadata": {},
     "output_type": "execute_result"
    }
   ],
   "source": [
    "# first order of business: how many genotypes are there?\n",
    "len(md[\"Genotype\"].unique())"
   ]
  },
  {
   "cell_type": "code",
   "execution_count": 4,
   "id": "2c47369f",
   "metadata": {},
   "outputs": [
    {
     "data": {
      "text/plain": [
       "50.0"
      ]
     },
     "execution_count": 4,
     "metadata": {},
     "output_type": "execute_result"
    }
   ],
   "source": [
    "max(md[\"Day_temp_C\"])"
   ]
  },
  {
   "cell_type": "code",
   "execution_count": 3,
   "id": "073600b0",
   "metadata": {},
   "outputs": [],
   "source": [
    "# subset to heat, cold, and control (all experiments)\n",
    "mdh = md[md[\"Treatment\"]==\"Heat\"]\n",
    "mdcold = md[md[\"Treatment\"]==\"Cold\"]\n",
    "mdcont = md[md[\"Treatment\"]==\"Control\"]"
   ]
  },
  {
   "cell_type": "code",
   "execution_count": 6,
   "id": "637aa468",
   "metadata": {},
   "outputs": [],
   "source": [
    "# find min, max, and mean temperatures\n",
    "## write a function\n",
    "def temp_summary(df):\n",
    "    # first drop NAs from Day_temp_C column\n",
    "    df = df.dropna(subset=[\"Day_temp_C\"])\n",
    "    # calculate summary stats\n",
    "    maxtemp = max(df[\"Day_temp_C\"])\n",
    "    mintemp = min(df[\"Day_temp_C\"])\n",
    "    meantemp = sum(df[\"Day_temp_C\"])/len(df[\"Day_temp_C\"])\n",
    "    return maxtemp,mintemp,meantemp"
   ]
  },
  {
   "cell_type": "code",
   "execution_count": 7,
   "id": "ca61dc10",
   "metadata": {},
   "outputs": [
    {
     "name": "stdout",
     "output_type": "stream",
     "text": [
      "Maximum heat stress temperature: 50.0\n",
      "Minimum heat stress temperature: 32.0\n",
      "Mean heat stress temperature: 38.160427807486634\n"
     ]
    }
   ],
   "source": [
    "hmax,hmin,hmean = temp_summary(mdh)\n",
    "print(\"Maximum heat stress temperature:\",hmax)\n",
    "print(\"Minimum heat stress temperature:\",hmin)\n",
    "print(\"Mean heat stress temperature:\",hmean)"
   ]
  },
  {
   "cell_type": "code",
   "execution_count": 8,
   "id": "f6000673",
   "metadata": {},
   "outputs": [
    {
     "name": "stdout",
     "output_type": "stream",
     "text": [
      "Maximum cold stress temperature: 20.0\n",
      "Minimum cold stress temperature: 5.0\n",
      "Mean cold stress temperature: 6.956204379562044\n"
     ]
    }
   ],
   "source": [
    "comax,comin,comean = temp_summary(mdcold)\n",
    "print(\"Maximum cold stress temperature:\",comax)\n",
    "print(\"Minimum cold stress temperature:\",comin)\n",
    "print(\"Mean cold stress temperature:\",comean)"
   ]
  },
  {
   "cell_type": "code",
   "execution_count": 9,
   "id": "5f2cc1f2",
   "metadata": {},
   "outputs": [
    {
     "name": "stdout",
     "output_type": "stream",
     "text": [
      "Maximum control temperature: 31.0\n",
      "Minimum control temperature: 22.0\n",
      "Mean control temperature: 26.872013651877133\n"
     ]
    }
   ],
   "source": [
    "ctmax,ctmin,ctmean = temp_summary(mdcont)\n",
    "print(\"Maximum control temperature:\",ctmax)\n",
    "print(\"Minimum control temperature:\",ctmin)\n",
    "print(\"Mean control temperature:\",ctmean)"
   ]
  },
  {
   "cell_type": "code",
   "execution_count": 19,
   "id": "4929bc66",
   "metadata": {},
   "outputs": [
    {
     "data": {
      "text/plain": [
       "Text(0.5, 1.0, 'Histogram of day temperature (C) for control samples')"
      ]
     },
     "execution_count": 19,
     "metadata": {},
     "output_type": "execute_result"
    },
    {
     "data": {
      "image/png": "[encoded data removed]",
      "text/plain": [
       "<Figure size 432x288 with 1 Axes>"
      ]
     },
     "metadata": {
      "needs_background": "light"
     },
     "output_type": "display_data"
    }
   ],
   "source": [
    "# plot histograms of day temperatures for the three conditions\n",
    "## start with control\n",
    "plt.hist(mdcont[\"Day_temp_C\"],bins=[0,5,10,15,20,25,30,35])\n",
    "plt.title(\"Histogram of day temperature (C) for control samples\")"
   ]
  },
  {
   "cell_type": "code",
   "execution_count": 11,
   "id": "62520edc",
   "metadata": {},
   "outputs": [
    {
     "data": {
      "text/plain": [
       "Text(0.5, 1.0, 'Histogram of day temperature (C) in heat samples')"
      ]
     },
     "execution_count": 11,
     "metadata": {},
     "output_type": "execute_result"
    },
    {
     "data": {
      "image/png": "[encoded data removed]",
      "text/plain": [
       "<Figure size 432x288 with 1 Axes>"
      ]
     },
     "metadata": {
      "needs_background": "light"
     },
     "output_type": "display_data"
    }
   ],
   "source": [
    "plt.hist(mdh[\"Day_temp_C\"])\n",
    "plt.title(\"Histogram of day temperature (C) in heat samples\")"
   ]
  },
  {
   "cell_type": "code",
   "execution_count": 12,
   "id": "311b501a",
   "metadata": {},
   "outputs": [
    {
     "data": {
      "text/plain": [
       "Text(0.5, 1.0, 'Histogram of day temperature (C) in cold samples')"
      ]
     },
     "execution_count": 12,
     "metadata": {},
     "output_type": "execute_result"
    },
    {
     "data": {
      "image/png": "[encoded data removed]",
      "text/plain": [
       "<Figure size 432x288 with 1 Axes>"
      ]
     },
     "metadata": {
      "needs_background": "light"
     },
     "output_type": "display_data"
    }
   ],
   "source": [
    "plt.hist(mdcold[\"Day_temp_C\"])\n",
    "plt.title(\"Histogram of day temperature (C) in cold samples\")"
   ]
  },
  {
   "cell_type": "code",
   "execution_count": 33,
   "id": "e124817b",
   "metadata": {},
   "outputs": [
    {
     "data": {
      "text/plain": [
       "Text(0, 0.5, 'Frequency')"
      ]
     },
     "execution_count": 33,
     "metadata": {},
     "output_type": "execute_result"
    },
    {
     "data": {
      "image/png": "[encoded data removed]",
      "text/plain": [
       "<Figure size 432x720 with 1 Axes>"
      ]
     },
     "metadata": {
      "needs_background": "light"
     },
     "output_type": "display_data"
    }
   ],
   "source": [
    "fig,ax=plt.subplots(figsize=(6,10))\n",
    "plt.hist(mdcold[\"Day_temp_C\"],bins=list(range(0,55,1)))\n",
    "plt.hist(mdh[\"Day_temp_C\"],color=\"orange\",bins=list(range(0,55,1)))\n",
    "plt.hist(mdcont[\"Day_temp_C\"],color=\"g\",bins=list(range(0,55,1)))\n",
    "plt.title(\"Histogram of Day Temperature in Treatments\",fontsize=16)\n",
    "plt.xlabel(\"Temperature (C)\",fontsize=14)\n",
    "plt.ylabel(\"Frequency\",fontsize=14)\n",
    "#plt.savefig(\"../../figures/temperatures_histogram.svg\",bbox_inches=\"tight\")"
   ]
  },
  {
   "cell_type": "code",
   "execution_count": 32,
   "id": "f6e06f20",
   "metadata": {},
   "outputs": [
    {
     "data": {
      "text/plain": [
       "[<matplotlib.lines.Line2D at 0x7f2f1b0b7040>]"
      ]
     },
     "execution_count": 32,
     "metadata": {},
     "output_type": "execute_result"
    },
    {
     "data": {
      "image/png": "[encoded data removed]",
      "text/plain": [
       "<Figure size 432x720 with 2 Axes>"
      ]
     },
     "metadata": {
      "needs_background": "light"
     },
     "output_type": "display_data"
    }
   ],
   "source": [
    "fig, (ax1, ax2) = plt.subplots(2, 1, sharex=True, figsize=(6,10))\n",
    "fig.subplots_adjust(hspace=0.05)\n",
    "\n",
    "ax1.hist(mdcont[\"Day_temp_C\"],color=\"g\",bins=list(range(0,55,1)))\n",
    "ax2.hist(mdcont[\"Day_temp_C\"],color=\"g\",bins=list(range(0,55,1)))\n",
    "\n",
    "ax1.hist(mdcold[\"Day_temp_C\"],color=\"b\",bins=list(range(0,55,1)))\n",
    "ax2.hist(mdcold[\"Day_temp_C\"],color=\"b\",bins=list(range(0,55,1)))\n",
    "\n",
    "ax1.hist(mdh[\"Day_temp_C\"],color=\"orange\",bins=list(range(0,55,1)))\n",
    "ax2.hist(mdh[\"Day_temp_C\"],color=\"orange\",bins=list(range(0,55,1)))\n",
    "\n",
    "# zoom-in / limit the view to different portions of the data\n",
    "ax1.set_ylim(95, 305)  # outliers only\n",
    "ax2.set_ylim(0, 62)  # most of the data\n",
    "\n",
    "# hide the spines between ax and ax2\n",
    "ax1.spines.bottom.set_visible(False)\n",
    "ax2.spines.top.set_visible(False)\n",
    "ax1.xaxis.tick_top()\n",
    "ax1.tick_params(labeltop=False)  # don't put tick labels at the top\n",
    "ax2.xaxis.tick_bottom()\n",
    "\n",
    "# Now, let's turn towards the cut-out slanted lines.\n",
    "# We create line objects in axes coordinates, in which (0,0), (0,1),\n",
    "# (1,0), and (1,1) are the four corners of the axes.\n",
    "# The slanted lines themselves are markers at those locations, such that the\n",
    "# lines keep their angle and position, independent of the axes size or scale\n",
    "# Finally, we need to disable clipping.\n",
    "\n",
    "d = .5  # proportion of vertical to horizontal extent of the slanted line\n",
    "kwargs = dict(marker=[(-1, -d), (1, d)], markersize=12,\n",
    "              linestyle=\"none\", color='k', mec='k', mew=1, clip_on=False)\n",
    "ax1.plot([0, 1], [0, 0], transform=ax1.transAxes, **kwargs)\n",
    "ax2.plot([0, 1], [1, 1], transform=ax2.transAxes, **kwargs)"
   ]
  },
  {
   "cell_type": "code",
   "execution_count": 46,
   "id": "07d15ce3",
   "metadata": {},
   "outputs": [
    {
     "data": {
      "text/plain": [
       "<matplotlib.lines.Line2D at 0x7f2f192ea250>"
      ]
     },
     "execution_count": 46,
     "metadata": {},
     "output_type": "execute_result"
    },
    {
     "data": {
      "image/png": "[encoded data removed]",
      "text/plain": [
       "<Figure size 432x720 with 3 Axes>"
      ]
     },
     "metadata": {
      "needs_background": "light"
     },
     "output_type": "display_data"
    }
   ],
   "source": [
    "# set up 3 histograms with shared X axes & independent Y axes\n",
    "fig,(ax1,ax2,ax3) = plt.subplots(3,1,figsize=(6,10))\n",
    "\n",
    "ax1.hist(mdcold[\"Day_temp_C\"],color=\"b\",bins=list(range(0,55,1)))\n",
    "ax2.hist(mdcont[\"Day_temp_C\"],color=\"g\",bins=list(range(0,55,1)))\n",
    "ax3.hist(mdh[\"Day_temp_C\"],color=\"orange\",bins=list(range(0,55,1)))\n",
    "\n",
    "# plot max line for cold, min and max for control, min line for heat\n",
    "ax1.axvline(x=21,color=\"gray\")\n",
    "ax2.axvline(x=22,color=\"gray\")\n",
    "ax2.axvline(x=32,color=\"gray\")\n",
    "ax3.axvline(x=32,color=\"gray\")\n",
    "\n",
    "# plot legend\n"
   ]
  },
  {
   "cell_type": "code",
   "execution_count": null,
   "id": "ff8e0319",
   "metadata": {},
   "outputs": [],
   "source": []
  }
 ],
 "metadata": {
  "kernelspec": {
   "display_name": "Python 3 (ipykernel)",
   "language": "python",
   "name": "python3"
  },
  "language_info": {
   "codemirror_mode": {
    "name": "ipython",
    "version": 3
   },
   "file_extension": ".py",
   "mimetype": "text/x-python",
   "name": "python",
   "nbconvert_exporter": "python",
   "pygments_lexer": "ipython3",
   "version": "3.8.10"
  }
 },
 "nbformat": 4,
 "nbformat_minor": 5
}
