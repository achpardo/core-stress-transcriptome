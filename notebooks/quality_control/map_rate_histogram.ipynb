{
 "cells": [
  {
   "cell_type": "markdown",
   "id": "d0b112f0",
   "metadata": {},
   "source": [
    "Purpose: Make a histogram of mapping rates for the core stress samples that were downloaded from SRA.<br>\n",
    "Author: Anna Pardo<br>\n",
    "Date initiated: May 16, 2023"
   ]
  },
  {
   "cell_type": "code",
   "execution_count": 1,
   "id": "429c590d",
   "metadata": {},
   "outputs": [],
   "source": [
    "# import modules\n",
    "import numpy as np\n",
    "import pandas as pd\n",
    "import matplotlib.pyplot as plt\n",
    "import seaborn as sns"
   ]
  },
  {
   "cell_type": "code",
   "execution_count": 2,
   "id": "eaf2654f",
   "metadata": {},
   "outputs": [
    {
     "data": {
      "text/html": [
       "<div>\n",
       "<style scoped>\n",
       "    .dataframe tbody tr th:only-of-type {\n",
       "        vertical-align: middle;\n",
       "    }\n",
       "\n",
       "    .dataframe tbody tr th {\n",
       "        vertical-align: top;\n",
       "    }\n",
       "\n",
       "    .dataframe thead th {\n",
       "        text-align: right;\n",
       "    }\n",
       "</style>\n",
       "<table border=\"1\" class=\"dataframe\">\n",
       "  <thead>\n",
       "    <tr style=\"text-align: right;\">\n",
       "      <th></th>\n",
       "      <th>File</th>\n",
       "      <th>Sample</th>\n",
       "      <th>Percent_Mapped</th>\n",
       "    </tr>\n",
       "  </thead>\n",
       "  <tbody>\n",
       "    <tr>\n",
       "      <th>0</th>\n",
       "      <td>/mnt/scratch/haberan2/Core_Stress_Response/01_...</td>\n",
       "      <td>SRR8857799</td>\n",
       "      <td>86.555924</td>\n",
       "    </tr>\n",
       "    <tr>\n",
       "      <th>1</th>\n",
       "      <td>/mnt/scratch/haberan2/Core_Stress_Response/01_...</td>\n",
       "      <td>SRR8857793</td>\n",
       "      <td>86.877209</td>\n",
       "    </tr>\n",
       "    <tr>\n",
       "      <th>2</th>\n",
       "      <td>/mnt/scratch/haberan2/Core_Stress_Response/01_...</td>\n",
       "      <td>SRR15241108</td>\n",
       "      <td>87.659877</td>\n",
       "    </tr>\n",
       "    <tr>\n",
       "      <th>3</th>\n",
       "      <td>/mnt/scratch/haberan2/Core_Stress_Response/01_...</td>\n",
       "      <td>SRR15241156</td>\n",
       "      <td>89.027615</td>\n",
       "    </tr>\n",
       "    <tr>\n",
       "      <th>4</th>\n",
       "      <td>/mnt/scratch/haberan2/Core_Stress_Response/01_...</td>\n",
       "      <td>SRR8857749</td>\n",
       "      <td>84.932979</td>\n",
       "    </tr>\n",
       "  </tbody>\n",
       "</table>\n",
       "</div>"
      ],
      "text/plain": [
       "                                                File       Sample  \\\n",
       "0  /mnt/scratch/haberan2/Core_Stress_Response/01_...   SRR8857799   \n",
       "1  /mnt/scratch/haberan2/Core_Stress_Response/01_...   SRR8857793   \n",
       "2  /mnt/scratch/haberan2/Core_Stress_Response/01_...  SRR15241108   \n",
       "3  /mnt/scratch/haberan2/Core_Stress_Response/01_...  SRR15241156   \n",
       "4  /mnt/scratch/haberan2/Core_Stress_Response/01_...   SRR8857749   \n",
       "\n",
       "   Percent_Mapped  \n",
       "0       86.555924  \n",
       "1       86.877209  \n",
       "2       87.659877  \n",
       "3       89.027615  \n",
       "4       84.932979  "
      ]
     },
     "execution_count": 2,
     "metadata": {},
     "output_type": "execute_result"
    }
   ],
   "source": [
    "# load in mapping rate data\n",
    "maprates = pd.read_csv(\"../../data/master_tximport_table.csv\",sep=\",\",header=\"infer\")\n",
    "maprates.head()"
   ]
  },
  {
   "cell_type": "code",
   "execution_count": 16,
   "id": "3cfd07b9",
   "metadata": {},
   "outputs": [
    {
     "data": {
      "image/png": "[encoded data removed]",
      "text/plain": [
       "<Figure size 720x432 with 1 Axes>"
      ]
     },
     "metadata": {
      "needs_background": "light"
     },
     "output_type": "display_data"
    }
   ],
   "source": [
    "# generate the histogram\n",
    "plt.subplots(figsize=(10,6))\n",
    "plt.hist(maprates[\"Percent_Mapped\"],bins=100)\n",
    "plt.title(\"Histogram of mapping rates for SRA samples\",fontsize=20)\n",
    "plt.xlabel(\"Mapping rate (%)\",fontsize=15)\n",
    "plt.ylabel(\"Frequency\",fontsize=15)\n",
    "plt.savefig(\"../../figures/SRA_map_rates_histogram.pdf\")"
   ]
  },
  {
   "cell_type": "code",
   "execution_count": null,
   "id": "f8172ebe",
   "metadata": {},
   "outputs": [],
   "source": []
  }
 ],
 "metadata": {
  "kernelspec": {
   "display_name": "Python 3 (ipykernel)",
   "language": "python",
   "name": "python3"
  },
  "language_info": {
   "codemirror_mode": {
    "name": "ipython",
    "version": 3
   },
   "file_extension": ".py",
   "mimetype": "text/x-python",
   "name": "python",
   "nbconvert_exporter": "python",
   "pygments_lexer": "ipython3",
   "version": "3.8.10"
  }
 },
 "nbformat": 4,
 "nbformat_minor": 5
}
